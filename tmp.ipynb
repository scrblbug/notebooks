{
 "cells": [
  {
   "cell_type": "code",
   "execution_count": 1,
   "metadata": {},
   "outputs": [],
   "source": [
    "class Solution:\n",
    "    def longestPalindrome(self, s: str) -> str:\n",
    "        # insert border characters so that you can check strings of even number of chars\n",
    "        border = '$'\n",
    "        s = [c for a, b in zip([border] * len(s), s) for c in (a, b)] + [border]\n",
    "        N = len(s)\n",
    "\n",
    "        # radius of max palindrome \n",
    "        rad = [0] * N\n",
    "\n",
    "        # 現在考慮すべき右端を含む回文の中心と半径\n",
    "        c, r = 0, 0\n",
    "\n",
    "        # 現在見つかっている最長の回文の中心と半径\n",
    "        maxi, maxr = 1, 0\n",
    "\n",
    "        # 現在の中心を i としてループ開始\n",
    "        for i in range(N):\n",
    "            # 現在の中心の鏡点\n",
    "            mc = 2 * c - i\n",
    "\n",
    "            # 現在の中心から確認可能な回文の半径\n",
    "            k = min(rad[mc], max(0, c + r - i))\n",
    "\n",
    "            # 回文を広げる\n",
    "            while i+k+1 < N and i-k-1 >= 0 and s[i+k+1] == s[i-k-1]:\n",
    "                k += 1\n",
    "\n",
    "            rad[i] = k\n",
    "            if k > maxr:\n",
    "                maxi, maxr = i, k\n",
    "\n",
    "            if i + k > r:\n",
    "                c, r = i, k\n",
    "\n",
    "        return ''.join(c for c in s[maxi-maxr:maxi+maxr+1] if c != border)\n"
   ]
  },
  {
   "cell_type": "code",
   "execution_count": 16,
   "metadata": {},
   "outputs": [],
   "source": [
    "from random import randint\n",
    "s1000 = ''.join(['0', '1', '2'][randint(0, 2)] for _ in range(1000))\n",
    "s10000 = ''.join(['0', '1', '2'][randint(0, 2)] for _ in range(10000))\n",
    "s100000 = ''.join(['0', '1', '2'][randint(0, 2)] for _ in range(100000))"
   ]
  },
  {
   "cell_type": "code",
   "execution_count": 20,
   "metadata": {},
   "outputs": [],
   "source": [
    "%timeit\n",
    "sol = Solution()\n",
    "res = sol.longestPalindrome(s1000)"
   ]
  },
  {
   "cell_type": "code",
   "execution_count": 21,
   "metadata": {},
   "outputs": [],
   "source": [
    "%timeit\n",
    "sol = Solution()\n",
    "res = sol.longestPalindrome(s10000)"
   ]
  },
  {
   "cell_type": "code",
   "execution_count": 22,
   "metadata": {},
   "outputs": [],
   "source": [
    "%timeit\n",
    "sol = Solution()\n",
    "res = sol.longestPalindrome(s100000)"
   ]
  },
  {
   "cell_type": "code",
   "execution_count": 23,
   "metadata": {},
   "outputs": [
    {
     "data": {
      "text/plain": [
       "'220022011010110220022'"
      ]
     },
     "execution_count": 23,
     "metadata": {},
     "output_type": "execute_result"
    }
   ],
   "source": [
    "res"
   ]
  },
  {
   "cell_type": "code",
   "execution_count": null,
   "metadata": {},
   "outputs": [],
   "source": []
  }
 ],
 "metadata": {
  "interpreter": {
   "hash": "9f9ba7b161bccba771f540edba679ac98f5aec5d74a22b4e92851bab405cc1b6"
  },
  "kernelspec": {
   "display_name": "Python 3.9.1 64-bit",
   "language": "python",
   "name": "python3"
  },
  "language_info": {
   "codemirror_mode": {
    "name": "ipython",
    "version": 3
   },
   "file_extension": ".py",
   "mimetype": "text/x-python",
   "name": "python",
   "nbconvert_exporter": "python",
   "pygments_lexer": "ipython3",
   "version": "3.9.1"
  },
  "orig_nbformat": 4
 },
 "nbformat": 4,
 "nbformat_minor": 2
}
