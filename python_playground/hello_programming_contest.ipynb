{
 "cells": [
  {
   "cell_type": "markdown",
   "source": [
    "# はじめに"
   ],
   "metadata": {}
  },
  {
   "cell_type": "markdown",
   "source": [
    "このノートブックは、Pythonを用いて競技プログラミングとやらを始めてみようという、酔狂な人々向けに書かれている。\r\n",
    "\r\n",
    "前提条件として、Pythonの知識は全く必要ない。が、できればPythonの実行環境と何らかのコードエディターを、手元に用意しておきたい。\r\n",
    "\r\n",
    "2021年10月現在では、コードエディターにはVSCODEを推奨しておく。\r\n",
    "\r\n",
    "近年は、オンラインで書いたコードを実行するサービスなども存在しているので、それを利用するのも悪くないだろう。が、個人的には手元にも実行環境を整備しておくことをオススメする。\r\n",
    "\r\n",
    "前提知識は一切ないことを前提としているので、多少冗長な説明も多くなると思うが、あらかじめご了承いただきたい。\r\n",
    "\r\n",
    "また、本文中には余談や注釈へのリンクが張られていることがある。それらには、役に立つことや、役に立たないことがいろいろと書いてあるが、無理に読む必要はない。あとから興味・疑問ができた時に眺めてもらえばいいだろう。"
   ],
   "metadata": {}
  },
  {
   "cell_type": "markdown",
   "source": [
    "## 入力・出力について"
   ],
   "metadata": {}
  },
  {
   "cell_type": "markdown",
   "source": [
    "### 競技プログラミング的 Hello, World してみる"
   ],
   "metadata": {}
  },
  {
   "cell_type": "markdown",
   "source": [
    "早速だが、次のコードを打ち込み、実行してもらいたい。"
   ],
   "metadata": {}
  },
  {
   "cell_type": "code",
   "execution_count": 2,
   "source": [
    "print(\"Hello, World!\")"
   ],
   "outputs": [
    {
     "output_type": "stream",
     "name": "stdout",
     "text": [
      "Hello, World!\n"
     ]
    }
   ],
   "metadata": {}
  },
  {
   "cell_type": "markdown",
   "source": [
    "どんなプログラミング言語の入門書でも、なぜか最初に行うことになっている Hello, World である。これを実行すると、画面に ```Hello, World``` と表示される。\r\n",
    "\r\n",
    "[余談：Hello, World! について](./hello_protramming_contest_columns.ipynb#helloworld)"
   ],
   "metadata": {}
  },
  {
   "cell_type": "markdown",
   "source": [
    "これを堅苦しく書くと、```print()``` は、```()``` の中の内容を標準出力へと出力する、という言い方になる。"
   ],
   "metadata": {}
  },
  {
   "cell_type": "markdown",
   "source": [
    "ところで、競技プログラミングにおいては、一般的に標準入力から問題の内容を受け取り、標準出力へと回答するものが多い。\r\n",
    "\r\n",
    "上記の ```print()``` によって回答をすることは出来るわけだが、では問題はどのように受け取るのか。それを行うのが、```input()``` である。\r\n",
    "\r\n",
    "次のコードを実行してみてもらいたい。なにやら怪しげなことが書いてあるが、詳細は次の章で説明する。\r\n",
    "\r\n",
    "さて、実行すると、途中で一旦実行が停止し、入力を受け付ける状態になる。そこで、（なんでもいいのだが）ここでは ```Hello, World!``` と入力し、```Enter``` キーを押す。"
   ],
   "metadata": {}
  },
  {
   "cell_type": "code",
   "execution_count": 4,
   "source": [
    "inp = input()\r\n",
    "print(inp)"
   ],
   "outputs": [
    {
     "output_type": "stream",
     "name": "stdout",
     "text": [
      "Hello, World!\n"
     ]
    }
   ],
   "metadata": {}
  },
  {
   "cell_type": "markdown",
   "source": [
    "```input()``` は、標準入力から一行読み込むために使用される。上のコードの動作を詳細に書くと、以下のようになる。\r\n",
    "\r\n",
    "1. 変数 ```inp``` に、```input()``` によって読み込んだ標準入力の内容一行分を代入する。\r\n",
    "2. ```print(inp)``` によって、```inp``` の内容を標準出力へと出力する。\r\n",
    "\r\n",
    "つまり、なんのことはない、読み込んだ内容をそのまま出力するというわけだ。"
   ],
   "metadata": {}
  },
  {
   "cell_type": "markdown",
   "source": [
    "ただ、競技プログラミングでは、標準入力から問題内容を読み込み、なにやら計算・処理を行い、標準出力へと回答することになる。この入口と出口の部分が、上記のコードだと言える。\r\n",
    "\r\n",
    "つまり、大げさに言えば、上の二行のコードを理解できれば、競技プログラミングへ参加する準備はほぼ整ったも同然である。\r\n",
    "\r\n",
    "[参考：標準入出力とは](./hello_programming_contest_columns.ipynb#stdinout)"
   ],
   "metadata": {}
  },
  {
   "cell_type": "markdown",
   "source": [
    "## 関数・変数・型・演算子"
   ],
   "metadata": {}
  },
  {
   "cell_type": "code",
   "execution_count": null,
   "source": [
    "inp = input()\r\n",
    "print(inp)"
   ],
   "outputs": [
    {
     "output_type": "stream",
     "name": "stdout",
     "text": [
      "Hello, World!\n"
     ]
    }
   ],
   "metadata": {}
  },
  {
   "cell_type": "markdown",
   "source": [
    "さて、上記のコードを眺めつつ、プログラミングにおいてもっとも基本的な概念をいくつか学んでいくことにしよう。それらを理解できれば、冗談ではなく、競技プログラミングのごく基本的な問題に回答することも出来るようになる。"
   ],
   "metadata": {}
  },
  {
   "cell_type": "markdown",
   "source": [
    "### 関数"
   ],
   "metadata": {}
  },
  {
   "cell_type": "markdown",
   "source": [
    "いきなり関数ってなんでガンス？と思った方もいるかもしれないが、上記コードにおける ```input()``` や ```print(inp)``` が関数である。\r\n",
    "\r\n",
    "関数は、次のような書き方で使用される。\r\n",
    "\r\n",
    "```関数名(引数1, 引数2, ...)```\r\n",
    "\r\n",
    "ちなみに、引数は湯桶読みで「ひきすう」と読む。引数は、```input()``` のように無くても場合もあるし、たくさん取る場合もある。\r\n",
    "\r\n",
    "この文書では、関数名を書く場合は原則として ```()``` をつけて書くことにする。ついていない場合は、後に説明する「引数としての関数」を取り扱う場合か、もしくは書き忘れである。\r\n",
    "\r\n",
    "典型的な関数は、受け取った引数をもとになんらかの処理を行い、結果を返すようになっている。この返ってくる結果を、「戻り値」とか「返り値」などと呼ぶ。\r\n",
    "\r\n",
    "では、上記コードに登場する関数を順番に見てみよう。"
   ],
   "metadata": {}
  },
  {
   "cell_type": "markdown",
   "source": [
    "#### input()"
   ],
   "metadata": {}
  },
  {
   "cell_type": "markdown",
   "source": [
    "```input()``` は、前述の通り標準入力から入力を一行受け取るための関数だ。引数は無くてもいいが、何かを一つだけ引数に取ることも出来る。その場合、引数の内容を表示（標準入力へ出力）した後、標準入力を受け取ることになる。\r\n",
    "\r\n",
    "競技プログラミングでは、引数を渡すことはほぼ無いと思われるが、一般的なプログラムではよく使う。例えば、身長と体重を順番にキーボードから入力してもらいたい時に、\r\n",
    "\r\n",
    "```\r\n",
    "height = int(input(\"身長を入力してください：\"))\r\n",
    "weight = int(input(\"体重を入力してください：\"))\r\n",
    "```\r\n",
    "\r\n",
    "などといったように書く。ここでは雰囲気だけ分かってもらえればいい。\r\n",
    "\r\n",
    "さて、```input()``` は、（あれば引数の文字列を表示してから）標準入力から一行読み込みを行う。そして、読み込んだ内容を、戻り値として返す。戻り値の内容は```文字列```（詳細は後述）となっている。\r\n",
    "\r\n",
    "二行以上の入力を受け取る場合には、単純に ```input()``` を複数回使用することになる。"
   ],
   "metadata": {}
  },
  {
   "cell_type": "markdown",
   "source": [
    "#### print()"
   ],
   "metadata": {}
  },
  {
   "cell_type": "markdown",
   "source": [
    "print() は、引数の内容を標準出力へと出力する関数だ。引数は、0 個以上いくつでも取ることが出来る。複数の引数を取った場合は、標準では半角スペース区切りで値を並べて出力する。また、引数の内容を出力し終えた後、改行を行う。\r\n",
    "\r\n",
    "次の例を確認してもらいたい。詳細は後述するが、 ```\"``` で囲まれているものはひとつひとつが```文字列```として取り扱われる。"
   ],
   "metadata": {}
  },
  {
   "cell_type": "code",
   "execution_count": 5,
   "source": [
    "print(\"H\", \"e\", \"l\", \"l\", \"o\", \",\")\r\n",
    "print()\r\n",
    "print(\"W\", \"o\", \"r\", \"l\", \"d\")"
   ],
   "outputs": [
    {
     "output_type": "stream",
     "name": "stdout",
     "text": [
      "H e l l o ,\n",
      "\n",
      "W o r l d\n"
     ]
    }
   ],
   "metadata": {}
  },
  {
   "cell_type": "markdown",
   "source": [
    "2行目、```print()``` では空白行が出力されており、他の行では各引数が空白区切りで出力されているのが分かると思う。\r\n",
    "\r\n",
    "なお、```print()``` は戻り値を返さない（正確には ```None``` を返す）関数である。\r\n",
    "\r\n",
    "[余談：関数の副作用とは](./hello_programming_contest_columns.ipynb#sideeffect)"
   ],
   "metadata": {}
  },
  {
   "cell_type": "markdown",
   "source": [
    "### 変数と型と演算子"
   ],
   "metadata": {}
  },
  {
   "cell_type": "markdown",
   "source": [
    "さて、いよいよ「変数」の話をしよう。変な数、ではない。\r\n",
    "\r\n",
    "数学で変数というと、x だとか y だとか、そういったものを思い浮かべるだろう。基本的には、プログラミングにおける変数も、似たようなものであるが、冷静に考えると割と違う。\r\n",
    "\r\n",
    "プログラミングにおいて、変数は、一般的には、様々な値を保存しておくための箱のようなもの、という説明がされる。\r\n",
    "\r\n",
    "様々な値……とは、具体的にどのようなものだろうか。Python では、扱うことの出来る様々な種類の値があるが、ここでは、とりあえず次のようにしておく。\r\n",
    "\r\n",
    "1. 数値\r\n",
    "2. 文字列\r\n",
    "3. その他\r\n",
    "\r\n",
    "この種類のことを、「型」と呼ぶ。他の型については、必要になった時に順次説明していくようにするので、安心してほしい。\r\n",
    "\r\n",
    "よって、まず数値型と文字列型、およびそれぞれに用いることの出来る演算子について軽く説明をした後、変数の使い方について説明をすることにする。少しややこしいが、ついてきてもらいたい。"
   ],
   "metadata": {}
  },
  {
   "cell_type": "markdown",
   "source": [
    "#### 数値型"
   ],
   "metadata": {}
  },
  {
   "cell_type": "markdown",
   "source": [],
   "metadata": {}
  }
 ],
 "metadata": {
  "orig_nbformat": 4,
  "language_info": {
   "name": "python",
   "version": "3.9.1",
   "mimetype": "text/x-python",
   "codemirror_mode": {
    "name": "ipython",
    "version": 3
   },
   "pygments_lexer": "ipython3",
   "nbconvert_exporter": "python",
   "file_extension": ".py"
  },
  "kernelspec": {
   "name": "python3",
   "display_name": "Python 3.9.1 64-bit"
  },
  "interpreter": {
   "hash": "9f9ba7b161bccba771f540edba679ac98f5aec5d74a22b4e92851bab405cc1b6"
  }
 },
 "nbformat": 4,
 "nbformat_minor": 2
}