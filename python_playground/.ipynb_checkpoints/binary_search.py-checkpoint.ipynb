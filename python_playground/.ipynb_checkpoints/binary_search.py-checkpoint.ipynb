{
 "cells": [
  {
   "cell_type": "markdown",
   "id": "cooperative-acceptance",
   "metadata": {},
   "source": [
    "# 二分探索・三分探索"
   ]
  },
  {
   "cell_type": "markdown",
   "id": "instrumental-machine",
   "metadata": {},
   "source": [
    "# はじめに"
   ]
  },
  {
   "cell_type": "markdown",
   "id": "international-smith",
   "metadata": {},
   "source": [
    "この文書では、にぶたん！こと二分探索の解説を行う。え、そんな呼び方しない……？おかしいな……。\n",
    "\n",
    "二分探索は、特定の値を検索する際に利用できる手法で、検索の計算量を $O(N)$ から $O(log N)$ へと削減できるという、非常に強力なものだ。強力なだけあって利用頻度も高い。ただし、使用するためには、ある条件を満たしている必要がある。\n",
    "\n",
    "二分探索の話が終われば、三分探索の話もする予定としている。どちらも求めたい範囲を縮小していく仕組みとなっており、実装に似たところもあるため、ついでに覚えておくといいだろう。ただ、二分探索に比べると、利用頻度はあまり高くない。こちらもまた、使用時にはある条件を満たしている必要がある。"
   ]
  },
  {
   "cell_type": "markdown",
   "id": "correct-gather",
   "metadata": {},
   "source": [
    "# 二分探索"
   ]
  },
  {
   "cell_type": "markdown",
   "id": "purple-dress",
   "metadata": {},
   "source": [
    "## 二分探索とは"
   ]
  },
  {
   "cell_type": "markdown",
   "id": "intermediate-cleaners",
   "metadata": {},
   "source": [
    "どのように説明を始めるべきか悩んだのだが、二分探索については、極めて抽象的、かつ本質的な話から入ろうと思う。これは、二分探索を使用できる条件とも密接に関わっている。\n",
    "\n",
    "ある連続的に変化する実数 $x$ と、ある二値的な状態 $A$, $B$ が存在するとする。状態は $A$, $B$ の必ずどちらかになるが、どちらになるかは $x$ のみによって定まるとする。また、$x$ を連続的に変化させた場合、ある数値 $t$ を境として、状態 $A$ になるか $B$ になるかが綺麗に分割されるとする。\n",
    "\n",
    "つまり、下図のようになっている。"
   ]
  },
  {
   "attachments": {
    "binary_search01.svg": {
     "image/svg+xml": [
      "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"
     ]
    }
   },
   "cell_type": "markdown",
   "id": "assisted-nicholas",
   "metadata": {},
   "source": [
    "![binary_search01.svg](attachment:binary_search01.svg)"
   ]
  },
  {
   "cell_type": "markdown",
   "id": "selected-lawsuit",
   "metadata": {},
   "source": [
    "二分探索とは、この時の $t$ の値を求める手法である。\n",
    "\n",
    "さて、今 $x$ の探索範囲の最小値と最大値をそれぞれ $left$, $right$ とする。このとき、 $x=left$ の地点では状態が $A$ 、$x=right$ の地点では状態が $B$ となっている。\n",
    "\n",
    "単純な探索においては、$x$ を $left$ から $right$ まで連続的に変化させ、$t$ の場所を探すことになるだろう。いわゆる線形探索だ。\n",
    "\n",
    "二分探索では、少し違った見方をする。\n",
    "今、$t$ は $left$ と $right$ の間にあることになる。そこで、次に $left$ と $right$ の間にある適当な地点 $mid$ の状態を調べてみる。\n",
    "\n",
    "仮に $mid$ の状態が $A$ だった場合、今度は $t$ は $mid$ と $right$ の間にあるはずである。  \n",
    "逆に $mid$ の状態が $B$ だった場合には、$t$ は $mid$ と $left$ の間にあることになる。\n",
    "\n",
    "いずれの場合にしても、$t$ が存在する範囲を小さく絞り込むことができる。この絞り込みの操作を繰り返すことにより、最終的に $t$ の場所を見つけることができる……という寸法である。\n",
    "\n",
    "にぶたん、実に簡単な理屈である。"
   ]
  },
  {
   "cell_type": "markdown",
   "id": "sweet-compact",
   "metadata": {},
   "source": [
    "## 二分探索の実装"
   ]
  },
  {
   "cell_type": "markdown",
   "id": "employed-reporter",
   "metadata": {},
   "source": [
    "とはいえ、上記の内容はあくまでも抽象的な話であって、具体性に欠ける。そこで、実際の実装をどのように行うのかを見ていこう。\n",
    "\n",
    "実装の際は、探索の絞り込みの下限・上限を ```left```, ```right``` として、どんどん小さな範囲に更新していくことになる。  \n",
    "ところで、絞り込んでいく範囲を、どこまで小さくすればいいのだろうか？\n",
    "\n",
    "それを決めるためには、まず、上記の説明でいう $x$ のことを考えなければならない。\n",
    "\n",
    "実際のところ、$x$ は実数でもいいし、整数でもいい。実数の場合は、誤差が許される範囲まで絞り込む必要がある。一方、整数である場合は、$x = N$ の時に状態 $A$、$x = N+1$ の時に状態 $B$ となるような地点があるはずなので、```right - left == 1``` となるところまで絞り込んでやればいい。\n",
    "\n",
    "ここでは、整数であることを前提としておこう。\n",
    "\n",
    "次に、```mid``` について考える。\n",
    "まず ```mid``` をどのように決めるかだが、これは ```right``` と ```left``` の中間地点でいい。すなわち、```mid == (right + left) // 2``` となる。また、```mid``` の地点の状態を確認する必要がある。これは仮に ```check()``` という関数を用意しておく。これが ```False``` なら状態 $A$、```True``` なら状態 $B$ だとしておこう。\n",
    "\n",
    "すると、以下のようなコードを作成できる。"
   ]
  },
  {
   "cell_type": "code",
   "execution_count": null,
   "id": "senior-slope",
   "metadata": {},
   "outputs": [],
   "source": [
    "while right - left > 1:\n",
    "    mid = (right + left) // 2\n",
    "    \n",
    "    if check(mid):  # mid の状態は B\n",
    "        right = mid  # 上限を更新できる\n",
    "    \n",
    "    else:          # mid の状態は A\n",
    "        left = mid  # 下限を更新できる"
   ]
  },
  {
   "cell_type": "markdown",
   "id": "noticed-lesson",
   "metadata": {},
   "source": [
    "この while ループが終了した時、```left``` は状態 A の最大値、```right``` は状態 B の最小値となっていることになる。これらの値から、改めてほしい値を取得できるはずだ。\n"
   ]
  },
  {
   "cell_type": "markdown",
   "id": "underlying-prospect",
   "metadata": {},
   "source": [
    "## 二分探索で失敗しやすいポイント"
   ]
  },
  {
   "cell_type": "markdown",
   "id": "extraordinary-trial",
   "metadata": {},
   "source": [
    "とはいえ、どうも二分探索はバグらせやすいイメージがある。実際に、残念なコードを僕も何回か書いたことがある。\n",
    "\n",
    "そこで、失敗しやすいポイントがいくつかあるので、それを書いておこうと思う。"
   ]
  },
  {
   "cell_type": "markdown",
   "id": "modified-helping",
   "metadata": {},
   "source": [
    "### 求めたい値と条件設定"
   ]
  },
  {
   "cell_type": "code",
   "execution_count": null,
   "id": "bigger-pointer",
   "metadata": {},
   "outputs": [],
   "source": []
  },
  {
   "cell_type": "code",
   "execution_count": null,
   "id": "excellent-helena",
   "metadata": {},
   "outputs": [],
   "source": []
  }
 ],
 "metadata": {
  "kernelspec": {
   "display_name": "Python 3",
   "language": "python",
   "name": "python3"
  },
  "language_info": {
   "codemirror_mode": {
    "name": "ipython",
    "version": 3
   },
   "file_extension": ".py",
   "mimetype": "text/x-python",
   "name": "python",
   "nbconvert_exporter": "python",
   "pygments_lexer": "ipython3",
   "version": "3.9.1"
  },
  "toc": {
   "base_numbering": "0",
   "nav_menu": {},
   "number_sections": true,
   "sideBar": true,
   "skip_h1_title": false,
   "title_cell": "Table of Contents",
   "title_sidebar": "Contents",
   "toc_cell": false,
   "toc_position": {},
   "toc_section_display": true,
   "toc_window_display": true
  }
 },
 "nbformat": 4,
 "nbformat_minor": 5
}
