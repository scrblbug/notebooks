{
 "cells": [
  {
   "cell_type": "markdown",
   "id": "veterinary-reality",
   "metadata": {},
   "source": [
    "# 累積和とその周辺"
   ]
  },
  {
   "cell_type": "markdown",
   "id": "fewer-establishment",
   "metadata": {},
   "source": [
    "# はじめに"
   ]
  },
  {
   "cell_type": "markdown",
   "id": "latest-museum",
   "metadata": {},
   "source": [
    "この文書では、累積和、及びその周辺のアルゴリズム・データ構造について解説を行う。\n",
    "\n",
    "累積和は、その内容自体は非常に簡単なものだが、非常に様々な問題においてあちらこちらに顔を出すので、重要なものでもある。\n",
    "\n",
    "まずは累積和の基本的な考え方、実際の構築の仕方と利用方法から話を始め、ちょうど累積和の逆ともいえる通称「いもす法」、座標圧縮との組み合わせ、二次元累積和などに話を広げていく予定となっている。"
   ]
  },
  {
   "cell_type": "markdown",
   "id": "understanding-canal",
   "metadata": {},
   "source": [
    "# 累積和の基本"
   ]
  },
  {
   "cell_type": "markdown",
   "id": "pressing-smell",
   "metadata": {},
   "source": [
    "## なぜ累積和を使うのか？"
   ]
  },
  {
   "cell_type": "markdown",
   "id": "indonesian-forestry",
   "metadata": {},
   "source": [
    "ある $N$ 個の整数の要素を持つ数列 $A: A_1, A_2, ... , A_N$ があるとする。例えば、具体的には次のようなものだ。"
   ]
  },
  {
   "cell_type": "markdown",
   "id": "simple-debate",
   "metadata": {},
   "source": [
    "$\n",
    "2, -5, 42, 9, -38, 24, 19, -57, 88, 67\n",
    "$"
   ]
  },
  {
   "cell_type": "markdown",
   "id": "designing-understanding",
   "metadata": {},
   "source": [
    "こういった感じの数列中の、連続した一部の合計、つまり連続部分和を求めることを考える。具体的に、```sum_part()``` の形で関数を作成することにしよう。ややこしくならないように、0-indexedの半開放で定義しておく。すなわち、```sum_part(a, b)``` のとき、返ってくる値は部分和 $A_{a-1} + A_{a} + ... + A_{b-2} + A_{b-2}$ とする。\n",
    "\n",
    "また、あらかじめ $A$ はリストとして ```A``` に保存されているものとする。"
   ]
  },
  {
   "cell_type": "code",
   "execution_count": null,
   "id": "hearing-guitar",
   "metadata": {},
   "outputs": [],
   "source": [
    "A = [2, -5, 42, 9, -38, 24, 19, -57, 88, 67]"
   ]
  },
  {
   "cell_type": "markdown",
   "id": "veterinary-preference",
   "metadata": {},
   "source": [
    "さて、単純に要素を足し合わせるだけなので、もちろん次のように書ける。"
   ]
  },
  {
   "cell_type": "code",
   "execution_count": null,
   "id": "suspended-louis",
   "metadata": {},
   "outputs": [],
   "source": [
    "def sum_part(a, b):\n",
    "    return sum(A[a:b])\n",
    "\n",
    "print(sum_part(3, 6))  # = 9 - 38 + 24"
   ]
  },
  {
   "cell_type": "markdown",
   "id": "neither-apple",
   "metadata": {},
   "source": [
    "一回こっきり部分和を計算するだけならば、この方法でなんの問題もない。ただ、何度もおなじ計算を要求されるようなケースでは、関数ごとに計算量が $O(N)$ となるこの方法では、問題がある。\n",
    "\n",
    "例えば、回答として $A_1, A_1+A_2, A_1+A_2+A_3 ... $ を全て求めよ、などと言われた場合はどうだろうか？上記のやり方だと計算量は $O(N^2)$ となり、$N \\le 10^4$ あたりから間に合わなくなってくる。\n",
    "\n",
    "……いや、でも、その場合は前から順番に足していって、その都度答えを出力すればいいだけじゃない？と思ったことだろう。  \n",
    "まさに、それこそが累積和である。"
   ]
  },
  {
   "cell_type": "markdown",
   "id": "mineral-motel",
   "metadata": {},
   "source": [
    "## 累積和を求める"
   ]
  },
  {
   "cell_type": "markdown",
   "id": "exceptional-senator",
   "metadata": {},
   "source": [
    "というわけで、さっそく累積和を使ってみよう。\n",
    "\n",
    "累積和自体は広い概念を指す言葉だが、競技プログラミングにおいて累積和を用いるというとき、多くの場合は、連続部分和を計算するために事前計算を行うことを指す。つまり、最初に次のようなものを計算する。"
   ]
  },
  {
   "cell_type": "markdown",
   "id": "miniature-tutorial",
   "metadata": {},
   "source": [
    "$\n",
    "[0, A_1, A_1+A_2, A_1+A_2+A_3, ... , \\sum_{i=1}^{N}A_i]\n",
    "$"
   ]
  },
  {
   "cell_type": "markdown",
   "id": "collect-tunnel",
   "metadata": {},
   "source": [
    "最初に 0 を入れているのは、後で都合がいいからだ。さっそく計算させてみよう。"
   ]
  },
  {
   "cell_type": "code",
   "execution_count": null,
   "id": "studied-lindsay",
   "metadata": {},
   "outputs": [],
   "source": [
    "N = len(A)\n",
    "cum_sum = [0] * (N+1)  # 累積和を保存していく\n",
    "\n",
    "tmp = 0  # 現在の累積和を管理\n",
    "\n",
    "for i in range(N):\n",
    "    tmp += A[i]\n",
    "    cum_sum[i+1] = tmp\n",
    "\n",
    "print(cum_sum)"
   ]
  },
  {
   "cell_type": "markdown",
   "id": "increased-contemporary",
   "metadata": {},
   "source": [
    "ちなみに、実は Python には累積和を自動的に求めてくれる ```itertools``` ライブラリの関数 ```accumulate``` が存在している。使用するためには、もちろんインポートする必要がある。\n",
    "\n",
    "```itertools.accumulate``` は、キーワード引数 ```func``` で行う計算を柔軟に変更したり、```initial``` で初期値を設定したりもできる便利な関数だ。さっきの例なら、こう書ける。"
   ]
  },
  {
   "cell_type": "code",
   "execution_count": null,
   "id": "practical-wagon",
   "metadata": {},
   "outputs": [],
   "source": [
    "from itertools import accumulate\n",
    "N = len(A)\n",
    "cum_sum = accumulate(A, initial=0)\n",
    "print(cum_sum)\n",
    "print(list(cum_sum))"
   ]
  },
  {
   "cell_type": "markdown",
   "id": "massive-behavior",
   "metadata": {},
   "source": [
    "見ての通り返ってくるのはイテレータなので、添字を利用するならリストに変換する必要がある。\n",
    "\n",
    "こちらを使用するほうが便利なのだが、個人的には自分で書くことが多い。"
   ]
  },
  {
   "cell_type": "markdown",
   "id": "accessory-telling",
   "metadata": {},
   "source": [
    "さて、いずれにせよ、こうして得られた数列がなぜ便利なのかというと、連続部分和を素早く計算できるからだ。\n",
    "\n",
    "例えば、$A_3+A_4+A_5$ を計算したいとする。これは、$A_1+A_2+A_3+A_4+A_5$ から、$A_1+A_2$ を引いたものに等しくなる。この計算を一般化することにより、あらゆる連続部分和を、二つの部分和の差から簡単に計算できるようになる。\n",
    "\n",
    "というわけで、最初に書いた ```sum_part()``` を書き直してみよう。"
   ]
  },
  {
   "cell_type": "code",
   "execution_count": null,
   "id": "infectious-appliance",
   "metadata": {},
   "outputs": [],
   "source": [
    "csum_A = [0] * (N+1)\n",
    "tmp = 0\n",
    "for i in range(N):\n",
    "    tmp += A[i]\n",
    "    csum_A[i+1] = tmp\n",
    "\n",
    "def sum_part(a, b):\n",
    "    return csum_A[b] - csum_A[a]\n",
    "\n",
    "sum_part(3, 6)"
   ]
  },
  {
   "cell_type": "markdown",
   "id": "square-project",
   "metadata": {},
   "source": [
    "これで、事前準備 $O(N)$ により、連続部分和を $O(1)$ で計算できるようになったのが分かると思う。"
   ]
  },
  {
   "cell_type": "markdown",
   "id": "casual-milwaukee",
   "metadata": {},
   "source": [
    "# いもす法"
   ]
  },
  {
   "cell_type": "markdown",
   "id": "unable-engineering",
   "metadata": {},
   "source": [
    "## いもす法とは"
   ]
  },
  {
   "cell_type": "markdown",
   "id": "tamil-minister",
   "metadata": {},
   "source": [
    "いもす法とは、ある一次元以上の空間における範囲操作を差分のみで簡便にあらわしていく手法で、累積和とは微分・積分のような関係に近い（と、個人的には思っている）。\n",
    "\n",
    "その利点は、範囲に対する操作を $O(1)$ で行える点だが、その情報の取り出しには $O(N)$ を要する。\n",
    "\n",
    "つまり、操作のクエリが大量にあり、最終的な状態を一回答えればいいような問題に有効な手法といえる。\n"
   ]
  },
  {
   "cell_type": "markdown",
   "id": "hollow-desperate",
   "metadata": {},
   "source": [
    "いささか抽象的な説明だったが、少し具体的な例を考えてみよう。  \n",
    "ある駐車場があり、各車の入庫と出庫の時刻が記録されているとする。駐車場が混雑していた、仮に10台以上が駐車していた時間はどれくらいの長さになるのかを知りたいとしたとき、どのようにすればいいだろうか？ただし、出庫時刻には車は駐車していないものとする。"
   ]
  },
  {
   "cell_type": "markdown",
   "id": "iraqi-brook",
   "metadata": {},
   "source": [
    "まずは、敢えて単純な解き方から考えてみる。\n",
    "\n",
    "時間軸を取るので、ひとまず ```parking``` というリストを作成することにしよう。```parking[t]``` は、時刻 $t$ に駐車場に止まっている車の台数とする。\n",
    "\n",
    "各車ごとに入出庫の時間は分かっている。それぞれを $T_1, T_2$ とする。出庫の時刻にはいなくなっているので、$T_1$ ～ $T_2-1$ の時刻に対し、駐車場に止まっている台数に 1 を加えることになる。コードに起こすと、次のような感じだろうか。"
   ]
  },
  {
   "cell_type": "code",
   "execution_count": null,
   "id": "elder-elder",
   "metadata": {},
   "outputs": [],
   "source": [
    "for t in range(t1, t2):\n",
    "    parking[t] += 1"
   ]
  },
  {
   "cell_type": "markdown",
   "id": "announced-islam",
   "metadata": {},
   "source": [
    "このコードの場合、問題となるのは、車 1台の情報を処理するのに $O(max(t))$ かかってしまうことだ。車の台数が少なければ問題ないが、多くなってくると間に合わなくなってしまう。\n",
    "\n",
    "よって、解き方を変える必要がある。\n",
    "\n",
    "ところで、我々が現実に時間軸に沿って駐車台数を確認していくときはどうするだろうか？いちいち毎時刻ごとに車を数え直したりはしないだろう（もちろん、時々は確認するだろうが）。  \n",
    "その代わりに、さっき 3台駐車していたところに、2台入庫してきて、1台出庫したから現在は 4台……のように管理するのではないだろうか。つまり、以下のような感じである。\n",
    "\n",
    "- 時刻 $a$ に 2台入庫\n",
    "- 時刻 $b$ に 1台出庫\n",
    "- 時刻 $c$ に 3台入庫し、1台出庫\n",
    "- 以下同様"
   ]
  },
  {
   "cell_type": "markdown",
   "id": "romance-dance",
   "metadata": {},
   "source": [
    "つまり、駐車台数の変化のみに注目するという訳である。\n",
    "\n",
    "この手法の利点は、車 1台につき「入庫情報」と「出庫情報」のみ書き換えればいいため、$O(1)$ で処理ができるという点にある。\n",
    "\n",
    "ところが、実際に時刻 $T$ における台数を確認するためには、差分情報を元に累積和を計算する必要がある。従って、$O(N)$ の計算量が必要となるわけだ。"
   ]
  },
  {
   "cell_type": "markdown",
   "id": "approximate-moscow",
   "metadata": {},
   "source": [
    "## いもす法の実装"
   ]
  },
  {
   "cell_type": "markdown",
   "id": "armed-present",
   "metadata": {},
   "source": [
    "いもす法については、抽象的な説明が難しいので、具体的な問題を解きつつ、実装を見ていくことにする。"
   ]
  },
  {
   "cell_type": "markdown",
   "id": "concerned-attitude",
   "metadata": {},
   "source": [
    "---\n",
    "**問題**  \n",
    "駐車場に、ある日のべ $N$ 台の車の出入りがあった。それぞれの車の入庫時刻と出庫時刻が与えられる。駐車場に $P$台以上の車が駐車していた時間を求めなさい。\n",
    "\n",
    "ただし、開始時点での駐車台数は $0$ 台とし、入庫と出庫に掛かる時間については無視するものとする。\n",
    "\n",
    "**入力:**\n",
    "$\n",
    "N P\\\\\n",
    "B_1 E_1\\\\\n",
    "B_2 E_2\\\\\n",
    "...\\\\\n",
    "B_N E_N\\\\\n",
    "$\n",
    "$B_i, E_i$ は $i$台目の車の入庫時刻と出庫時刻である。また、入力は全て整数で行われる。\n",
    "\n",
    "**制約**\n",
    "$\n",
    "1 \\le N \\le 10^6\\\\\n",
    "1 \\le B_i \\le 10^6\\\\\n",
    "1 \\le E_i \\le 10^6\\\\\n",
    "$\n",
    "各 $i$ $(1 \\le i \\le N)$ において $B_i \\le E_i$\n",
    "\n",
    "---"
   ]
  },
  {
   "cell_type": "markdown",
   "id": "accompanied-thompson",
   "metadata": {},
   "source": [
    "この問題を、いもす法を用いて順番に解いていくことを考えてみる。\n",
    "\n",
    "まずは入力の受け取りから。"
   ]
  },
  {
   "cell_type": "code",
   "execution_count": null,
   "id": "structural-gather",
   "metadata": {},
   "outputs": [],
   "source": [
    "N, P  = map(int, input().split())\n",
    "car_dat = [list(map(int, input().split())) for _ in range(N)]"
   ]
  },
  {
   "cell_type": "markdown",
   "id": "southeast-advocate",
   "metadata": {},
   "source": [
    "いもす法のために、 ```parking_diff``` というリストを作成しよう。```parking_diff[t]``` は、時刻 $t$ における駐車台数の変化とする。もちろん初期値は全て 0 である。長さは、制約一杯とっておくことにする。"
   ]
  },
  {
   "cell_type": "code",
   "execution_count": null,
   "id": "eight-flashing",
   "metadata": {},
   "outputs": [],
   "source": [
    "parking_diff = [0] * (10**6 + 1)"
   ]
  },
  {
   "cell_type": "markdown",
   "id": "combined-variety",
   "metadata": {},
   "source": [
    "では、順に差分を記録していこう。各入庫時刻と出庫時刻に、駐車場内の車の台数は 1台増えたり減ったりする。"
   ]
  },
  {
   "cell_type": "code",
   "execution_count": null,
   "id": "frank-plumbing",
   "metadata": {},
   "outputs": [],
   "source": [
    "for b, e in car_dat:\n",
    "    parking_diff[b] += 1\n",
    "    parking_diff[e] -= 1"
   ]
  },
  {
   "cell_type": "markdown",
   "id": "sustained-demonstration",
   "metadata": {},
   "source": [
    "差分の記録が終わったら、それを元に実際の台数を構築していく。つまりは累積和である。"
   ]
  },
  {
   "cell_type": "code",
   "execution_count": null,
   "id": "wired-forest",
   "metadata": {},
   "outputs": [],
   "source": [
    "p_now = 0  # 現在の駐車台数\n",
    "parking_num = [0] * (10**6 + 1)\n",
    "for i, diff in enumerate(parking_diff):\n",
    "    p_now += diff\n",
    "    parking_num[i] = p_now"
   ]
  },
  {
   "cell_type": "markdown",
   "id": "immune-scratch",
   "metadata": {},
   "source": [
    "これで、各時刻における駐車台数が分かった。改めて、$P$ 台以上あった時間を求めていこう。"
   ]
  },
  {
   "cell_type": "code",
   "execution_count": null,
   "id": "ahead-basics",
   "metadata": {},
   "outputs": [],
   "source": [
    "answer = 0\n",
    "for num in parking_num:\n",
    "    if num >= P:\n",
    "        answer += 1"
   ]
  },
  {
   "cell_type": "markdown",
   "id": "critical-avatar",
   "metadata": {},
   "source": [
    "以上をまとめると、"
   ]
  },
  {
   "cell_type": "code",
   "execution_count": 5,
   "id": "joined-spirit",
   "metadata": {},
   "outputs": [
    {
     "name": "stdout",
     "output_type": "stream",
     "text": [
      "5 2\n",
      "0 5\n",
      "2 8\n",
      "7 9\n",
      "12 15\n",
      "14 18\n",
      "5\n"
     ]
    }
   ],
   "source": [
    "# 入力の受け取り\n",
    "N, P  = map(int, input().split())\n",
    "car_dat = [list(map(int, input().split())) for _ in range(N)]\n",
    "\n",
    "\n",
    "# 差分の記録（いもす法）\n",
    "parking_diff = [0] * (10**6 + 1)\n",
    "\n",
    "for b, e in car_dat:\n",
    "    parking_diff[b] += 1\n",
    "    parking_diff[e] -= 1\n",
    "\n",
    "# 実際の駐車台数を求める\n",
    "p_now = 0  # 現在の駐車台数\n",
    "parking_num = [0] * (10**6 + 1)\n",
    "for i, diff in enumerate(parking_diff):\n",
    "    p_now += diff\n",
    "    parking_num[i] = p_now\n",
    "\n",
    "# P 台以上の時間を求める\n",
    "answer = 0\n",
    "for num in parking_num:\n",
    "    if num >= P:\n",
    "        answer += 1\n",
    "\n",
    "# 回答を出力\n",
    "print(answer)"
   ]
  },
  {
   "cell_type": "markdown",
   "id": "secondary-tuning",
   "metadata": {},
   "source": [
    "## いもす法＋座標圧縮"
   ]
  },
  {
   "cell_type": "markdown",
   "id": "structured-helping",
   "metadata": {},
   "source": [
    "ところで、先程の問題では $1 \\le B_i \\le 10^6, 1 \\le E_i \\le 10^6$ という制約だった。つまり、時刻の上限は $10^6$ だったわけだが、この制約がもっと大きなケースがある。例えば、$1 \\le B_i \\le 10^9, 1 \\le E_i \\le 10^9$ のような感じである。\n",
    "\n",
    "すると、最初のリスト構築と、最後の情報取り出しの時点で計算量が過大になってしまい、破綻することになってしまう。\n",
    "\n",
    "こういうときには、座標圧縮と組み合わせてやると良い。"
   ]
  },
  {
   "cell_type": "markdown",
   "id": "loaded-browser",
   "metadata": {},
   "source": [
    "まずは、記録されている時刻を確認し、ソートしてやるところから始める。"
   ]
  },
  {
   "cell_type": "code",
   "execution_count": null,
   "id": "nervous-avatar",
   "metadata": {},
   "outputs": [],
   "source": [
    "N, P = map(int, input().split())\n",
    "car_dat = [list(map(int, input().split())) for _ in range(N)]\n",
    "\n",
    "# 記録されている時刻を確認する\n",
    "time_set = set()  # 重複を無くすため、set() を用いる\n",
    "\n",
    "for b, e in car_dat:\n",
    "    time_set.add(b)\n",
    "    time_set.add(e)\n",
    "\n",
    "# リストに変換してソートしておく\n",
    "time_set = list(time_set)\n",
    "time_set.sort()"
   ]
  },
  {
   "cell_type": "markdown",
   "id": "desperate-comedy",
   "metadata": {},
   "source": [
    "これで、```time_set``` 内に使用されている全ての時刻が昇順で記録され、各時刻は ```time_set[i]``` と、インデックス ```i``` により呼び出すことができる様になる。次に、各時刻からインデックス、つまりその時刻が何番目の時刻なのかを求められるようにしておく。"
   ]
  },
  {
   "cell_type": "code",
   "execution_count": 11,
   "id": "unique-durham",
   "metadata": {},
   "outputs": [],
   "source": [
    "time_to_index = dict()  # 辞書を使用する\n",
    "for i, t in enumerate(time_set):\n",
    "    time_to_index[t] = i"
   ]
  },
  {
   "cell_type": "markdown",
   "id": "diverse-affair",
   "metadata": {},
   "source": [
    "これらの情報を利用して、（記録が行われていない場所を無視して）記録が行われる場所のみを処理するようにする手法が、座標圧縮である。ただし、今回のように情報を全て先読みできる場合にのみ使用できる。\n",
    "\n",
    "では、改めて圧縮後のインデックスを用いて、いもす法を行っていく。"
   ]
  },
  {
   "cell_type": "code",
   "execution_count": 12,
   "id": "artistic-invite",
   "metadata": {},
   "outputs": [],
   "source": [
    "parking_diff = [0] * len(time_set)  # 用いられている時刻の数だけ準備する\n",
    "\n",
    "for b, e in car_dat:\n",
    "    # 圧縮後の座標に変換し、差分を記録する\n",
    "    b = time_to_index[b]\n",
    "    e = time_to_index[e]\n",
    "    \n",
    "    parking_diff[b] += 1\n",
    "    parking_diff[e] -= 1\n",
    "\n",
    "# 同様に、圧縮後の座標を用いて車の台数を求める\n",
    "p_num = 0\n",
    "parking_num = [0] * len(time_set)\n",
    "for i, d in enumerate(parking_diff):\n",
    "    p_num += d\n",
    "    parking_num[i] = p_num"
   ]
  },
  {
   "cell_type": "markdown",
   "id": "personal-consultancy",
   "metadata": {},
   "source": [
    "これで、**各時刻に何台車がある状態に変化したのか**が分かるようになった。改めて答えを求めていく。"
   ]
  },
  {
   "cell_type": "code",
   "execution_count": 17,
   "id": "spread-gabriel",
   "metadata": {},
   "outputs": [],
   "source": [
    "answer = 0\n",
    "\n",
    "# 隣り合う二つの時刻ごとに確認していく\n",
    "for i in range(len(parking_num) - 1):\n",
    "\n",
    "    # ある時刻にP 台以上停まっていたら、\n",
    "    # 次の時刻までの時間を答えに加算する\n",
    "    if parking_num[i] >= P:\n",
    "\n",
    "        start_time = time_set[i]\n",
    "        end_time = time_set[i+1]\n",
    "    \n",
    "        answer += end_time - start_time"
   ]
  },
  {
   "cell_type": "markdown",
   "id": "olympic-greenhouse",
   "metadata": {},
   "source": [
    "座標圧縮をしない場合と異なり、それなりに丁寧に処理を行う必要があるので、注意してほしい。"
   ]
  },
  {
   "cell_type": "markdown",
   "id": "prepared-fruit",
   "metadata": {},
   "source": [
    "# 二次元累積和"
   ]
  },
  {
   "cell_type": "markdown",
   "id": "confused-posting",
   "metadata": {},
   "source": [
    "累積和を二次元上で計算することもできる。次の例を見てもらいたい。"
   ]
  },
  {
   "cell_type": "code",
   "execution_count": 24,
   "id": "heated-replica",
   "metadata": {},
   "outputs": [
    {
     "name": "stdout",
     "output_type": "stream",
     "text": [
      "[[0, 0, 0, 0, 0], [0, 1, 3, 6, 10], [0, 6, 14, 24, 36], [0, 15, 33, 54, 78]]\n"
     ]
    }
   ],
   "source": [
    "L = [\n",
    "    [1, 2, 3, 4],\n",
    "    [5, 6, 7, 8],\n",
    "    [9, 10, 11, 12]\n",
    "]\n",
    "\n",
    "# 最初の行を [0, 0, 0, 0, 0] にしておく\n",
    "csum_l = [[0] * (len(L[0]) + 1)]\n",
    "\n",
    "for row in L:\n",
    "    tmp = 0  # 対象の行のみの累積和\n",
    "    csum_row = [0] * (len(L[0]) + 1)  # これから構築される二次元累積和の行\n",
    "\n",
    "    for i, element in enumerate(row, start=1):\n",
    "        tmp += element\n",
    "        \n",
    "        # 行の累積和に、手前の行の値を足しつつ保存していく\n",
    "        csum_row[i] = tmp + csum_l[-1][i]\n",
    "    \n",
    "    # 行が完成したら、二次元累積和に追加\n",
    "    csum_l.append(csum_row)\n",
    "\n",
    "print(csum_l)"
   ]
  },
  {
   "cell_type": "markdown",
   "id": "wired-privacy",
   "metadata": {},
   "source": []
  }
 ],
 "metadata": {
  "kernelspec": {
   "display_name": "Python 3",
   "language": "python",
   "name": "python3"
  },
  "language_info": {
   "codemirror_mode": {
    "name": "ipython",
    "version": 3
   },
   "file_extension": ".py",
   "mimetype": "text/x-python",
   "name": "python",
   "nbconvert_exporter": "python",
   "pygments_lexer": "ipython3",
   "version": "3.9.1"
  },
  "toc": {
   "base_numbering": 1,
   "nav_menu": {},
   "number_sections": true,
   "sideBar": true,
   "skip_h1_title": false,
   "title_cell": "Table of Contents",
   "title_sidebar": "Contents",
   "toc_cell": false,
   "toc_position": {},
   "toc_section_display": true,
   "toc_window_display": true
  }
 },
 "nbformat": 4,
 "nbformat_minor": 5
}
