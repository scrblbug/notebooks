{
 "cells": [
  {
   "cell_type": "markdown",
   "id": "veterinary-reality",
   "metadata": {},
   "source": [
    "# 累積和とその周辺"
   ]
  },
  {
   "cell_type": "markdown",
   "id": "fewer-establishment",
   "metadata": {},
   "source": [
    "# はじめに"
   ]
  },
  {
   "cell_type": "markdown",
   "id": "latest-museum",
   "metadata": {},
   "source": [
    "この文書では、累積和、及びその周辺のアルゴリズム・データ構造について解説を行う。\n",
    "\n",
    "累積和は、その内容自体は非常に簡単なものだが、非常に様々な問題においてあちらこちらに顔を出すので、重要なものでもある。\n",
    "\n",
    "まずは累積和の基本的な考え方、実際の構築の仕方と利用方法から話を始め、ちょうど累積和の逆ともいえる通称「いもす法」、座標圧縮との組み合わせ、二次元累積和などに話を広げていく予定となっている。"
   ]
  },
  {
   "cell_type": "markdown",
   "id": "understanding-canal",
   "metadata": {},
   "source": [
    "# 累積和の基本"
   ]
  },
  {
   "cell_type": "markdown",
   "id": "pressing-smell",
   "metadata": {},
   "source": [
    "## なぜ累積和を使うのか？"
   ]
  },
  {
   "cell_type": "markdown",
   "id": "indonesian-forestry",
   "metadata": {},
   "source": [
    "ある $N$ 個の整数の要素を持つ数列 $A: A_1, A_2, ... , A_N$ があるとする。例えば、具体的には次のようなものだ。"
   ]
  },
  {
   "cell_type": "markdown",
   "id": "simple-debate",
   "metadata": {},
   "source": [
    "$\n",
    "2, -5, 42, 9, -38, 24, 19, -57, 88, 67\n",
    "$"
   ]
  },
  {
   "cell_type": "markdown",
   "id": "designing-understanding",
   "metadata": {},
   "source": [
    "こういった感じの数列中の、連続した一部の合計、つまり連続部分和を求めることを考える。具体的に、```sum_part()``` の形で関数を作成することにしよう。ややこしくならないように、0-indexedの半開放で定義しておく。すなわち、```sum_part(a, b)``` のとき、返ってくる値は部分和 $A_{a-1} + A_{a} + ... + A_{b-2} + A_{b-2}$ とする。\n",
    "\n",
    "また、あらかじめ $A$ はリストとして ```A``` に保存されているものとする。"
   ]
  },
  {
   "cell_type": "code",
   "execution_count": 1,
   "id": "hearing-guitar",
   "metadata": {},
   "outputs": [],
   "source": [
    "A = [2, -5, 42, 9, -38, 24, 19, -57, 88, 67]"
   ]
  },
  {
   "cell_type": "markdown",
   "id": "veterinary-preference",
   "metadata": {},
   "source": [
    "さて、単純に要素を足し合わせるだけなので、もちろん次のように書ける。"
   ]
  },
  {
   "cell_type": "code",
   "execution_count": 2,
   "id": "suspended-louis",
   "metadata": {},
   "outputs": [
    {
     "name": "stdout",
     "output_type": "stream",
     "text": [
      "-5\n"
     ]
    }
   ],
   "source": [
    "def sum_part(a, b):\n",
    "    return sum(A[a:b])\n",
    "\n",
    "print(sum_part(3, 6))  # = 9 - 38 + 24"
   ]
  },
  {
   "cell_type": "markdown",
   "id": "neither-apple",
   "metadata": {},
   "source": [
    "一回こっきり部分和を計算するだけならば、この方法でなんの問題もない。ただ、何度もおなじ計算を要求されるようなケースでは、関数ごとに計算量が $O(N)$ となるこの方法では、問題がある。\n",
    "\n",
    "例えば、回答として $A_1, A_1+A_2, A_1+A_2+A_3 ... $ を全て求めよ、などと言われた場合はどうだろうか？上記のやり方だと計算量は $O(N^2)$ となり、$N \\le 10^4$ あたりから間に合わなくなってくる。\n",
    "\n",
    "……いや、でも、その場合は前から順番に足していって、その都度答えを出力すればいいだけじゃない？と思ったことだろう。  \n",
    "まさに、それこそが累積和である。"
   ]
  },
  {
   "cell_type": "markdown",
   "id": "mineral-motel",
   "metadata": {},
   "source": [
    "## 累積和を求める"
   ]
  },
  {
   "cell_type": "markdown",
   "id": "exceptional-senator",
   "metadata": {},
   "source": [
    "というわけで、さっそく累積和を使ってみよう。\n",
    "\n",
    "累積和自体は広い概念を指す言葉だが、競技プログラミングにおいて累積和を用いるというとき、多くの場合は、連続部分和を計算するために事前計算を行うことを指す。つまり、最初に次のようなものを計算する。"
   ]
  },
  {
   "cell_type": "markdown",
   "id": "miniature-tutorial",
   "metadata": {},
   "source": [
    "$\n",
    "[0, A_1, A_1+A_2, A_1+A_2+A_3, ... , \\sum_{i=1}^{N}A_i]\n",
    "$"
   ]
  },
  {
   "cell_type": "markdown",
   "id": "collect-tunnel",
   "metadata": {},
   "source": [
    "最初に 0 を入れているのは、後で都合がいいからだ。さっそく計算させてみよう。"
   ]
  },
  {
   "cell_type": "code",
   "execution_count": 7,
   "id": "studied-lindsay",
   "metadata": {},
   "outputs": [
    {
     "name": "stdout",
     "output_type": "stream",
     "text": [
      "[0, 2, -3, 39, 48, 10, 34, 53, -4, 84, 151]\n"
     ]
    }
   ],
   "source": [
    "N = len(A)\n",
    "cum_sum = [0] * (N+1)  # 累積和を保存していく\n",
    "\n",
    "tmp = 0  # 現在の累積和を管理\n",
    "\n",
    "for i in range(N):\n",
    "    tmp += A[i]\n",
    "    cum_sum[i+1] = tmp\n",
    "\n",
    "print(cum_sum)"
   ]
  },
  {
   "cell_type": "markdown",
   "id": "increased-contemporary",
   "metadata": {},
   "source": [
    "ちなみに、実は Python には累積和を自動的に求めてくれる ```itertools``` ライブラリの関数 ```accumulate``` が存在している。使用するためには、もちろんインポートする必要がある。\n",
    "\n",
    "```itertools.accumulate``` は、キーワード引数 ```func``` で行う計算を柔軟に変更したり、```initial``` で初期値を設定したりもできる便利な関数だ。さっきの例なら、こう書ける。"
   ]
  },
  {
   "cell_type": "code",
   "execution_count": 6,
   "id": "practical-wagon",
   "metadata": {},
   "outputs": [
    {
     "name": "stdout",
     "output_type": "stream",
     "text": [
      "<itertools.accumulate object at 0x0000018A60D252C0>\n",
      "[0, 2, -3, 39, 48, 10, 34, 53, -4, 84, 151]\n"
     ]
    }
   ],
   "source": [
    "from itertools import accumulate\n",
    "N = len(A)\n",
    "cum_sum = accumulate(A, initial=0)\n",
    "print(cum_sum)\n",
    "print(list(cum_sum))"
   ]
  },
  {
   "cell_type": "markdown",
   "id": "massive-behavior",
   "metadata": {},
   "source": [
    "見ての通り返ってくるのはイテレータなので、添字を利用するならリストに変換する必要がある。\n",
    "\n",
    "こちらを使用するほうが便利なのだが、個人的には自分で書くことが多い。"
   ]
  },
  {
   "cell_type": "markdown",
   "id": "accessory-telling",
   "metadata": {},
   "source": [
    "さて、いずれにせよ、こうして得られた数列がなぜ便利なのかというと、連続部分和を素早く計算できるからだ。\n",
    "\n",
    "例えば、$A_3+A_4+A_5$ を計算したいとする。これは、$A_1+A_2+A_3+A_4+A_5$ から、$A_1+A_2$ を引いたものに等しくなる。この計算を一般化することにより、あらゆる連続部分和を、二つの部分和の差から簡単に計算できるようになる。\n",
    "\n",
    "というわけで、最初に書いた ```sum_part()``` を書き直してみよう。"
   ]
  },
  {
   "cell_type": "code",
   "execution_count": 9,
   "id": "infectious-appliance",
   "metadata": {},
   "outputs": [
    {
     "data": {
      "text/plain": [
       "-5"
      ]
     },
     "execution_count": 9,
     "metadata": {},
     "output_type": "execute_result"
    }
   ],
   "source": [
    "csum_A = [0] * (N+1)\n",
    "tmp = 0\n",
    "for i in range(N):\n",
    "    tmp += A[i]\n",
    "    csum_A[i+1] = tmp\n",
    "\n",
    "def sum_part(a, b):\n",
    "    return csum_A[b] - csum_A[a]\n",
    "\n",
    "sum_part(3, 6)"
   ]
  },
  {
   "cell_type": "markdown",
   "id": "square-project",
   "metadata": {},
   "source": [
    "これで、事前準備 $O(N)$ により、連続部分和を $O(1)$ で計算できるようになったのが分かると思う。"
   ]
  },
  {
   "cell_type": "markdown",
   "id": "casual-milwaukee",
   "metadata": {},
   "source": [
    "# いもす法"
   ]
  },
  {
   "cell_type": "markdown",
   "id": "unable-engineering",
   "metadata": {},
   "source": [
    "## いもす法とは"
   ]
  },
  {
   "cell_type": "markdown",
   "id": "tamil-minister",
   "metadata": {},
   "source": [
    "いもす法とは、ある一次元以上の空間における範囲操作を差分のみで簡便にあらわしていく手法で、累積和とは微分・積分のような関係に近い（と、個人的には思っている）。\n",
    "\n",
    "その利点は、範囲に対する操作を $O(1)$ で行える点だが、その情報の取り出しには $O(N)$ を要する。\n",
    "\n",
    "つまり、操作のクエリが大量にあり、最終的な状態を一回答えればいいような問題に有効な手法といえる。\n"
   ]
  },
  {
   "cell_type": "markdown",
   "id": "hollow-desperate",
   "metadata": {},
   "source": [
    "いささか抽象的な説明だったが、少し具体的な例を考えてみよう。  \n",
    "ある駐車場があり、各車の入庫と出庫の時刻が記録されているとする。駐車場が混雑していた、仮に10台以上が駐車していた時間はどれくらいの長さになるのかを知りたいとしたとき、どのようにすればいいだろうか？ただし、出庫時刻には車は駐車していないものとする。"
   ]
  },
  {
   "cell_type": "markdown",
   "id": "iraqi-brook",
   "metadata": {},
   "source": [
    "まずは、敢えて単純な解き方から考えてみる。\n",
    "\n",
    "時間軸を取るので、ひとまず ```parking``` というリストを作成することにしよう。```parking[t]``` は、時刻 $t$ に駐車場に止まっている車の台数とする。\n",
    "\n",
    "各車ごとに入出庫の時間は分かっている。それぞれを $T_1, T_2$ とする。出庫の時刻にはいなくなっているので、$T_1$ ～ $T_2-1$ の時刻に対し、駐車場に止まっている台数に 1 を加えることになる。コードに起こすと、次のような感じだろうか。"
   ]
  },
  {
   "cell_type": "code",
   "execution_count": null,
   "id": "elder-elder",
   "metadata": {},
   "outputs": [],
   "source": [
    "for t in range(t1, t2):\n",
    "    parking[t] += 1"
   ]
  },
  {
   "cell_type": "markdown",
   "id": "announced-islam",
   "metadata": {},
   "source": [
    "このコードの場合、問題となるのは、車 1台の情報を処理するのに $O(max(t))$ かかってしまうことだ。車の台数が少なければ問題ないが、多くなってくると間に合わなくなってしまう。\n",
    "\n",
    "よって、解き方を変える必要がある。\n",
    "\n",
    "ところで、我々が現実に時間軸に沿って駐車台数を確認していくときはどうするだろうか？いちいち毎時刻ごとに車を数え直したりはしないだろう（もちろん、時々は確認するだろうが）。  \n",
    "その代わりに、さっき 3台駐車していたところに、2台入庫してきて、1台出庫したから現在は 4台……のように管理するのではないだろうか。つまり、以下のような感じである。\n",
    "\n",
    "- 時刻 $a$ に 2台入庫\n",
    "- 時刻 $b$ に 1台出庫\n",
    "- 時刻 $c$ に 3台入庫し、1台出庫\n",
    "- 以下同様"
   ]
  },
  {
   "cell_type": "markdown",
   "id": "romance-dance",
   "metadata": {},
   "source": [
    "つまり、駐車台数の変化のみに注目するという訳である。\n",
    "\n",
    "この手法の利点は、車 1台につき「入庫情報」と「出庫情報」のみ書き換えればいいため、$O(1)$ で処理ができるという点にある。\n",
    "\n",
    "ところが、実際に時刻 $T$ における台数を確認するためには、差分情報を元に累積和を計算する必要がある。従って、$O(N)$ の計算量が必要となるわけだ。"
   ]
  },
  {
   "cell_type": "markdown",
   "id": "approximate-moscow",
   "metadata": {},
   "source": [
    "## いもす法の実装"
   ]
  },
  {
   "cell_type": "markdown",
   "id": "armed-present",
   "metadata": {},
   "source": [
    "いもす法については、抽象的な説明が難しいので、具体的な問題を解きつつ、実装を見ていくことにする。"
   ]
  },
  {
   "cell_type": "markdown",
   "id": "concerned-attitude",
   "metadata": {},
   "source": [
    "---\n",
    "**問題**  \n",
    "駐車場に、ある日のべ $N$ 台の車の出入りがあった。それぞれの車の入庫時刻と出庫時刻が与えられる。駐車場に $P$台以上の車が駐車していた時間を求めなさい。\n",
    "\n",
    "ただし、開始時点での駐車台数は $0$ 台とし、入庫と出庫に掛かる時間については無視するものとする。\n",
    "\n",
    "**入力:**\n",
    "$\n",
    "N P\\\\\n",
    "B_1 E_1\\\\\n",
    "B_2 E_2\\\\\n",
    "...\\\\\n",
    "B_N E_N\\\\\n",
    "$\n",
    "ただし $B_i, E_i$ は $i$台目の車の入庫時刻と出庫時刻である。また、入力は全て整数で行われる。\n",
    "\n",
    "**制約**\n",
    "$\n",
    "1 \\le N \\le 10^6\\\\\n",
    "1 \\le B_i \\le 10^6\\\\\n",
    "1 \\le E_i \\le 10^6\\\\\n",
    "$\n",
    "各 $i$ $(1 \\le i \\le N)$ において $B_i \\le E_i$\n",
    "\n",
    "---"
   ]
  },
  {
   "cell_type": "markdown",
   "id": "accompanied-thompson",
   "metadata": {},
   "source": [
    "この問題を、いもす法を用いて順番に解いていくことを考えてみよう。\n",
    "\n",
    "まずは入力の受け取りから。"
   ]
  },
  {
   "cell_type": "code",
   "execution_count": null,
   "id": "structural-gather",
   "metadata": {},
   "outputs": [],
   "source": [
    "N, P  = map(int, input().split())\n",
    "car_dat = [list(map(int, input().split())) for _ in range(N)]"
   ]
  },
  {
   "cell_type": "markdown",
   "id": "southeast-advocate",
   "metadata": {},
   "source": [
    "いもす法のために、 ```parking_diff``` というリストを作成しよう。```parking_diff[t]``` は、時刻 $t$ における駐車台数の変化とする。もちろん初期値は全て 0 である。長さは、制約一杯とっておくことにする。"
   ]
  },
  {
   "cell_type": "code",
   "execution_count": 1,
   "id": "eight-flashing",
   "metadata": {},
   "outputs": [],
   "source": [
    "parking_diff = [0] * (10**6 + 1)"
   ]
  },
  {
   "cell_type": "markdown",
   "id": "combined-variety",
   "metadata": {},
   "source": []
  }
 ],
 "metadata": {
  "kernelspec": {
   "display_name": "Python 3",
   "language": "python",
   "name": "python3"
  },
  "language_info": {
   "codemirror_mode": {
    "name": "ipython",
    "version": 3
   },
   "file_extension": ".py",
   "mimetype": "text/x-python",
   "name": "python",
   "nbconvert_exporter": "python",
   "pygments_lexer": "ipython3",
   "version": "3.9.1"
  },
  "toc": {
   "base_numbering": 1,
   "nav_menu": {},
   "number_sections": true,
   "sideBar": true,
   "skip_h1_title": false,
   "title_cell": "Table of Contents",
   "title_sidebar": "Contents",
   "toc_cell": false,
   "toc_position": {},
   "toc_section_display": true,
   "toc_window_display": true
  }
 },
 "nbformat": 4,
 "nbformat_minor": 5
}
