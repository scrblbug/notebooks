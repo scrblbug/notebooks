{
 "cells": [
  {
   "cell_type": "markdown",
   "metadata": {},
   "source": [
    "# 余談・補足事項"
   ]
  },
  {
   "cell_type": "markdown",
   "metadata": {},
   "source": [
    "ここには、本文中に含めるほどではない余談や、本文中に含めるには煩雑になりすぎる説明、各種用語の簡易な説明などを含めてある。\n",
    "\n",
    "無駄な豆知識だったり、後日もう少し高度な内容を学習することになった際の基礎的な知識として役立ててもらいたい。"
   ]
  },
  {
   "cell_type": "markdown",
   "metadata": {},
   "source": [
    "## 目次"
   ]
  },
  {
   "cell_type": "markdown",
   "metadata": {},
   "source": [
    "<a id=\"helloworld\"></a>\n",
    "#### Hello, World! について"
   ]
  },
  {
   "cell_type": "markdown",
   "metadata": {},
   "source": [
    "\"Hello, World!\" と出力するのがプログラミングの第一歩とか、誰が決めたの？とか思ってしまうが、おそらく Brian Kernigham （ブライアン・カーニハン）だと言われている。彼が書いた1972年の \"A Tutorial Introduction to the Language B\" の中にその原型があるらしい。\n",
    "\n",
    "もっとも、世界中に広まったきっかけは、そのもう少し後の、1978年に出版された \"The C Programming Language\"（邦題「プログラミング言語C」）だろう。\n",
    "\n",
    "C言語の開発者 Dennis MacAlistair Ritchie （デニス・リッチー）と Brian Kernigham の共著によるこの超有名な本は、2人の頭文字をとって \"K&R\" とも呼称される。\n",
    "\n",
    "厳密には、Hello World はプログラミング学習の第一歩というわけではなく、「あるプログラミング言語がシステム上で正しく動作するかどうかを確認する」第一歩といえる。\n",
    "\n",
    "書かれた内容の解析をし、それを標準出力へと出力する背後には、見た目の内容よりも遥かに多くの内部処理が関わっている。それらが正常に動作しているかどうかを確認する作業というわけだ。"
   ]
  },
  {
   "cell_type": "markdown",
   "metadata": {},
   "source": [
    "<a id=\"stdinout\"></a>\n",
    "#### 標準入出力とは"
   ]
  },
  {
   "cell_type": "markdown",
   "metadata": {},
   "source": [
    "標準入力はキーボードからの入力で、標準出力はモニターへの表示……みたいに説明されることが多い。が、現在言うところの標準入出力は、もう少し抽象的な概念となっている。\n",
    "\n",
    "プログラミングが実行される時、システムにあらかじめ用意された、一般的に使用される入出力は \"3つ\" ある。それらが標準入力、標準出力、標準エラー出力だ。これらをまとめて標準入出力とよび、そして、なにも指定が無い場合、標準入力はキーボードからの入力を受け付け、標準出力と標準エラー出力はモニターへの出力を行う……という仕組みになっている。\n",
    "\n",
    "我々が普段実行エラーなどで怒られている時、画面上にいろいろと内容が出るわけだが、あれは標準出力ではなく、実は標準エラー出力が表示されているのである。\n",
    "\n",
    "さて、ではキーボードや画面の他に、どうやって標準入出力を利用するねん、という話になるわけだが、簡単なところでは、パイプやリダイレクトと呼ばれる機能を用いて行うことが出来る。\n",
    "\n",
    "例えば Windows であれば、\n",
    "\n",
    "```type ./input.txt | python ./main.py > ./output.txt 2> error.log```\n",
    "\n",
    "といった形で利用できる。このコマンドが実行される流れは、以下のようになる。\n",
    "\n",
    "1. まず ```type ./input.txt``` により、現在いるところ（```./``` で表され、カレントディレクトリと呼ばれる）にある input.txt の内容が、標準出力へと出力される。\n",
    "2. その標準出力（```input.txt``` の内容）は、次にある ```|``` によって、```python ./main.py``` へと引き渡される。これをパイプと呼ぶ。\n",
    "3. ```python ./main.py``` によって ```main.py``` が Python として実行される。その際には前述の ```input.txt``` の内容が標準入力に入る。\n",
    "4. ```main.py``` の実行による標準出力は、次にある ```>``` によって、モニターへは表示されず、ファイル ```output.txt``` へ書き込まれる。これをリダイレクトと呼ぶ。\n",
    "5. ```2>``` の指定は、標準エラー出力のリダイレクトを表す。つまり、標準エラー出力があれば、```error.log``` への書き込みを行う。\n",
    "\n",
    "以上のように、標準入出力を利用して、入出力を次々につなげた処理を行うことが出来るというわけだ。\n",
    "\n",
    "ちなみに、Python においては、\n",
    "\n",
    "```print(\"foobar\", file=sys.stderr)```\n",
    "\n",
    "と書くことで標準エラー出力へ出力することが出来る。"
   ]
  },
  {
   "cell_type": "markdown",
   "metadata": {},
   "source": [
    "<a id=\"sideeffect\"></a>\n",
    "#### 関数の副作用とは"
   ]
  },
  {
   "cell_type": "markdown",
   "metadata": {},
   "source": [
    "関数を単純にいうならば、引数を入力として受け取り、戻り値を出力として返すブラックボックスのようなものだと言える。\n",
    "\n",
    "しかし、関数の中には、戻り値を返す以外にほかの影響を及ぼすものがある。そうした他の影響のことを、関数の副作用、と呼ぶ。例えば、print() は標準出力へと出力を行うが、これは副作用である。\n",
    "\n",
    "副作用という用語は、Python にとどまらない、プログラミング全般における広い概念の言葉であり、しばしばその是非そのものが議論されたりもする。副作用を可能な限り廃したプログラミングの手法として、関数的プログラミングがある。"
   ]
  },
  {
   "cell_type": "markdown",
   "metadata": {},
   "source": [
    "<a id=\"argumentsofprint\"></a>\n",
    "#### print() の取れるその他の引数"
   ]
  },
  {
   "cell_type": "markdown",
   "metadata": {},
   "source": [
    "print() は、公式ドキュメントにおいては以下のように紹介されている。\n",
    "\n",
    "```\n",
    "print(*objects, sep=' ', end='\\n', file=sys.stdout, flush=False)\n",
    "```\n",
    "\n",
    "通常は、「標準出力」に対し、渡された複数の値を「半角スペース」区切りで出力した後、「改行」を行うわけであるが、実はこの3つの要素を別のものへと変更することが出来る。それが、名前付き引数で指定できる ```file``` ```sep``` ```end``` である。例えば、次のように書ける。"
   ]
  },
  {
   "cell_type": "code",
   "execution_count": 4,
   "metadata": {},
   "outputs": [
    {
     "name": "stdout",
     "output_type": "stream",
     "text": [
      "1, 2, 3| 4, 5, 6| 7, 8, 9| \n"
     ]
    }
   ],
   "source": [
    "for vals in [[1, 2, 3], [4, 5, 6], [7, 8, 9]]:\n",
    "    print(*vals, sep=', ', end = '| ')\n",
    "print()"
   ]
  },
  {
   "cell_type": "markdown",
   "metadata": {},
   "source": [
    "また、出力先はデフォルトでは標準出力 ```sys.stdout``` だが、あらゆるファイルオブジェクトを引数に取れるようになっている。"
   ]
  },
  {
   "cell_type": "markdown",
   "metadata": {},
   "source": [
    "<a id=\"assignmentexpression\"></a>\n",
    "#### 代入式"
   ]
  },
  {
   "cell_type": "markdown",
   "metadata": {},
   "source": [
    "```var = 0``` のような代入は ```文``` であって ```式``` ではない、つまり値を返さないと書いた。これを確認するもっとも簡単な方法は、```print()``` の引数に入れてやることだ。"
   ]
  },
  {
   "cell_type": "code",
   "execution_count": 4,
   "metadata": {},
   "outputs": [
    {
     "ename": "TypeError",
     "evalue": "'var' is an invalid keyword argument for print()",
     "output_type": "error",
     "traceback": [
      "\u001b[1;31m---------------------------------------------------------------------------\u001b[0m",
      "\u001b[1;31mTypeError\u001b[0m                                 Traceback (most recent call last)",
      "\u001b[1;32m<ipython-input-4-489bb1210d9f>\u001b[0m in \u001b[0;36m<module>\u001b[1;34m\u001b[0m\n\u001b[1;32m----> 1\u001b[1;33m \u001b[0mprint\u001b[0m\u001b[1;33m(\u001b[0m\u001b[0mvar\u001b[0m \u001b[1;33m=\u001b[0m \u001b[1;36m0\u001b[0m\u001b[1;33m)\u001b[0m\u001b[1;33m\u001b[0m\u001b[1;33m\u001b[0m\u001b[0m\n\u001b[0m",
      "\u001b[1;31mTypeError\u001b[0m: 'var' is an invalid keyword argument for print()"
     ]
    }
   ],
   "source": [
    "print(var = 0)"
   ]
  },
  {
   "cell_type": "markdown",
   "metadata": {},
   "source": [
    "このように、```var=0``` は値を返さないため、エラーになってしまう。\n",
    "\n",
    "一方、例えば比較演算子や、関数は値を返す ```式``` なので、ちゃんと実行される。"
   ]
  },
  {
   "cell_type": "code",
   "execution_count": 1,
   "metadata": {},
   "outputs": [
    {
     "name": "stdout",
     "output_type": "stream",
     "text": [
      "Hello\n",
      "None\n"
     ]
    }
   ],
   "source": [
    "print(print('Hello'))"
   ]
  },
  {
   "cell_type": "markdown",
   "metadata": {},
   "source": [
    "上記の例は少し面白く、最初の ```print()``` の引数に ```print('Hello')``` があるため、まずこちらから評価されることになる。結果の一行目に出力されているのは、その副作用である。一方で、```print('Hello')``` の返り値は ```None``` である。よって、最初の ```print()``` により、```None``` が出力されている。"
   ]
  },
  {
   "cell_type": "markdown",
   "metadata": {},
   "source": [
    "さて、実は C/C++ など他の言語では、代入が式として取り扱われるものがある。すなわち、代入演算子の右辺が戻り値として返ってくる仕組みになっている。\n",
    "\n",
    "実はそれと同じことを ```:=``` 通称セイウチ代入子を用いることで、Python 3.8 以降ならできるようになっている。 "
   ]
  },
  {
   "cell_type": "code",
   "execution_count": 7,
   "metadata": {},
   "outputs": [
    {
     "name": "stdout",
     "output_type": "stream",
     "text": [
      "7\n",
      "7\n"
     ]
    }
   ],
   "source": [
    "print(var := 7)\n",
    "print(var)"
   ]
  },
  {
   "cell_type": "markdown",
   "metadata": {},
   "source": [
    "新し目の機能のため、まだそこまで利用が広まっていない＆参考書などにも書かれていないが、ここに参考のために書いておくことにする。"
   ]
  },
  {
   "cell_type": "markdown",
   "metadata": {},
   "source": [
    "<a id=\"whydatatypesneeded\"></a>\n",
    "#### 型とか考える必要あるの？"
   ]
  },
  {
   "cell_type": "markdown",
   "metadata": {},
   "source": [
    "答えとしては、型を考える必要は、ある。それは、ある値に演算を行う際に、型を分かっていないと、意図した演算にならないことがあるためだ。極端な例を出そう。次の足し算 3種類を見てほしい。"
   ]
  },
  {
   "cell_type": "code",
   "execution_count": 1,
   "metadata": {},
   "outputs": [
    {
     "name": "stdout",
     "output_type": "stream",
     "text": [
      "3\n"
     ]
    }
   ],
   "source": [
    "print(1 + 2)"
   ]
  },
  {
   "cell_type": "code",
   "execution_count": 2,
   "metadata": {},
   "outputs": [
    {
     "name": "stdout",
     "output_type": "stream",
     "text": [
      "12\n"
     ]
    }
   ],
   "source": [
    "print(\"1\" + \"2\")"
   ]
  },
  {
   "cell_type": "code",
   "execution_count": 3,
   "metadata": {},
   "outputs": [
    {
     "ename": "TypeError",
     "evalue": "unsupported operand type(s) for +: 'int' and 'str'",
     "output_type": "error",
     "traceback": [
      "\u001b[1;31m---------------------------------------------------------------------------\u001b[0m",
      "\u001b[1;31mTypeError\u001b[0m                                 Traceback (most recent call last)",
      "\u001b[1;32m<ipython-input-3-f5a1f3a83b1d>\u001b[0m in \u001b[0;36m<module>\u001b[1;34m\u001b[0m\n\u001b[1;32m----> 1\u001b[1;33m \u001b[0mprint\u001b[0m\u001b[1;33m(\u001b[0m\u001b[1;36m1\u001b[0m \u001b[1;33m+\u001b[0m \u001b[1;34m\"2\"\u001b[0m\u001b[1;33m)\u001b[0m\u001b[1;33m\u001b[0m\u001b[1;33m\u001b[0m\u001b[0m\n\u001b[0m",
      "\u001b[1;31mTypeError\u001b[0m: unsupported operand type(s) for +: 'int' and 'str'"
     ]
    }
   ],
   "source": [
    "print(1 + \"2\")"
   ]
  },
  {
   "cell_type": "markdown",
   "metadata": {},
   "source": [
    "1.は数値同士の足し算なので、```3``` になる。2.は文字列同士の足し算なので、```\"12\"``` になる。3.は足し算のできない型の組み合わせなので、エラーが出ている。\n",
    "\n",
    "このような挙動を理解するためには、やはり必要最低限の理解は必要なのではないだろうか。"
   ]
  },
  {
   "cell_type": "markdown",
   "metadata": {},
   "source": [
    "もっとも、他にも型を理解しておいたほうがいい理由はいくらでもあるのだが、ここでは述べない。"
   ]
  },
  {
   "cell_type": "markdown",
   "metadata": {},
   "source": [
    "<a id=\"variablenamecases\"></a>\n",
    "#### キャメルケースとスネークケース"
   ]
  },
  {
   "cell_type": "markdown",
   "metadata": {},
   "source": [
    "競技プログラミングではそうでもないのだが、一般的には、変数や関数などに名前をつけるときには、わかりやすくするためそれなりに長めの名前をつけることが多い。\n",
    "\n",
    "長い名前を使うときには、大きく分けて二つの流儀があり、それがキャメルケース (camel case) とスネークケース (snake case) と呼ばれるものだ。例を見てもらうほうが早いだろう。\n",
    "\n",
    "キャメルケースの例：\n",
    "- firstVariable\n",
    "- secondVariable\n",
    "- yetAnotherVariable\n",
    "\n",
    "スネークケースの例：\n",
    "- first_variable\n",
    "- second_variable\n",
    "- yet_another_variable\n",
    "\n",
    "つまり、複数の単語を名前に使用する際、二個目以降の単語の最初を大文字にして続けて書くのがキャメルケース、単語と単語の間に ```_``` を挟んで並べるのがスネークケース、というわけだ。なるほど、それぞれラクダと蛇に似てなくもない。\n",
    "\n",
    "世間的にはややキャメルケースのほうが優勢のように思うが、この文書では、見やすさを重視してスネークケースを使用することにしている。"
   ]
  },
  {
   "cell_type": "markdown",
   "metadata": {},
   "source": [
    "<a id=\"whatareoperators\"></a>\n",
    "#### そもそも演算子って何？"
   ]
  },
  {
   "cell_type": "markdown",
   "metadata": {},
   "source": [
    "演算子 (operator) とは、値や変数など被演算子 (operand) の前、後ろ、間に配置することで、決められた計算・処理を行う記号・文字列のこと。  \n",
    "例えば ```+``` は、その前後の値を加算したものを返す二項演算子である。\n",
    "\n",
    "……などと書くとひどくややこしく聞こえるが、なんのことはない、```a + b``` と書けば、演算子 ```+``` によって ```a``` と ```b``` を足した値になるという意味である。\n",
    "\n",
    "一般的に演算子と聞いて最初に思い浮かべるのは、二項演算子だろう。数値計算に使用する ```+ - * / // %``` は、全て二項演算子、つまり二つの値を元にして、計算した値を返す演算子である。\n",
    "\n",
    "一方、単項演算子と呼ばれるものもある。例えば ```-123``` などと書いたときの、```-``` がそれに当たる。これは、後に続く数値を負にするという意味になる。演算子が前に来るので、前置演算子とも呼ばれる。\n",
    "\n",
    "じゃあ、単項の後置演算子ってあるの？となるが、Python には存在しない（？）。が、他の多くの言語では、ある変数に 1 加える操作を ```var++``` などと書いたりする。```var``` は変数名、```++```は後置演算子である。\n",
    "\n",
    "三項演算子というものあり、Python では ```値1 if 条件式 else 値2``` といった形で使用される。これは、条件式を満たせば ```値1``` を返し、そうでなければ ```値2``` を返す。つまり、```値1 条件式 値2``` の三項に働く演算子が ```if else``` ということになる。 "
   ]
  },
  {
   "cell_type": "markdown",
   "metadata": {},
   "source": [
    "<a id=\"bignumbers\"></a>\n",
    "#### 巨大な整数の扱い"
   ]
  },
  {
   "cell_type": "code",
   "execution_count": 2,
   "metadata": {},
   "outputs": [
    {
     "name": "stdout",
     "output_type": "stream",
     "text": [
      "150130937545296572356771972164254457814047970568738777235893533016064\n"
     ]
    }
   ],
   "source": [
    "print(42 ** 42)"
   ]
  },
  {
   "cell_type": "markdown",
   "metadata": {},
   "source": [
    "上記のコードは 42 の 42 乗を計算したものだが、実は、このように巨大な整数を何も考えず簡単に扱えるプログラミング言語は、あまり無い。現在のプログラミング言語では、一般的にはただ int としたときには 32bit もしくは 64bit で表せる範囲の整数のことを指すからだ。具体的には、\n",
    "\n",
    "- 32bit（符号付き） −2,147,483,648 ～ 2,147,483,647\n",
    "- 64bit（符号付き） -9,223,372,036,854,775,808 〜 9,223,372,036,854,775,807\n",
    "\n",
    "である。そこで、他の言語では長整数型と呼ばれる、特殊な型を用意している場合がほとんどである。\n",
    "\n",
    "逆にいうと、Python でも巨大な整数を扱う時には、内部的には相応の処理を行っている。調子に乗っていると、とんでもない計算時間を使ってしまうことがあるので、注意したい。"
   ]
  },
  {
   "cell_type": "markdown",
   "metadata": {},
   "source": [
    "<a id=\"numbersappendix\"></a>\n",
    "#### 他の数字の表し方、無限大"
   ]
  },
  {
   "cell_type": "markdown",
   "metadata": {},
   "source": [
    "数値を、2進数、8進数、16進数で表すことも出来る。それぞれ数字の前に ```0b```, ```0o```, ```0x``` と付けるだけでいい。"
   ]
  },
  {
   "cell_type": "code",
   "execution_count": 10,
   "metadata": {},
   "outputs": [
    {
     "name": "stdout",
     "output_type": "stream",
     "text": [
      "181 916 52507\n"
     ]
    }
   ],
   "source": [
    "num1 = 0b10110101\n",
    "num2 = 0o1624\n",
    "num3 = 0xCD1B\n",
    "print(num1, num2, num3)"
   ]
  },
  {
   "cell_type": "markdown",
   "metadata": {},
   "source": [
    "指数表記にも対応している。"
   ]
  },
  {
   "cell_type": "code",
   "execution_count": 11,
   "metadata": {},
   "outputs": [
    {
     "name": "stdout",
     "output_type": "stream",
     "text": [
      "1.024\n"
     ]
    }
   ],
   "source": [
    "num = 1024e-3\n",
    "print(num)"
   ]
  },
  {
   "cell_type": "markdown",
   "metadata": {},
   "source": [
    "少し変わった数値としては、無限大を値として持つことも出来る。これはしばしばDPの初期値として使われる便利な値なので、覚えておいてもいいかもしれない。"
   ]
  },
  {
   "cell_type": "code",
   "execution_count": 3,
   "metadata": {},
   "outputs": [
    {
     "name": "stdout",
     "output_type": "stream",
     "text": [
      "inf -inf\n"
     ]
    }
   ],
   "source": [
    "num1 = float('inf')\n",
    "num2 = -float('inf')\n",
    "print(num1, num2)"
   ]
  },
  {
   "cell_type": "markdown",
   "metadata": {},
   "source": [
    "<a id=\"aboutquotations\"></a>\n",
    "#### シングル or ダブルクォーテーション？"
   ]
  },
  {
   "cell_type": "markdown",
   "metadata": {},
   "source": [
    "文字通り、どっちでもいい。他の多くの言語では、ダブルクォーテーションを使用することが多いことを踏まえると、ダブルクォーテーションで慣れておくのがいいかもしれない。\n",
    "\n",
    "……のだが、Python をインストールするときについてくる、標準の対話型インタプリタ IDLE で文字列を評価すると、シングルクォーテーションで値が返ってくる。なので、個人的にはシングルクォーテーションを使用している。この文書中でも、ほぼシングルクォーテーションを使用していく予定だ。"
   ]
  },
  {
   "cell_type": "code",
   "execution_count": null,
   "metadata": {},
   "outputs": [],
   "source": []
  }
 ],
 "metadata": {
  "interpreter": {
   "hash": "9f9ba7b161bccba771f540edba679ac98f5aec5d74a22b4e92851bab405cc1b6"
  },
  "kernelspec": {
   "display_name": "Python 3",
   "language": "python",
   "name": "python3"
  },
  "language_info": {
   "codemirror_mode": {
    "name": "ipython",
    "version": 3
   },
   "file_extension": ".py",
   "mimetype": "text/x-python",
   "name": "python",
   "nbconvert_exporter": "python",
   "pygments_lexer": "ipython3",
   "version": "3.9.1"
  }
 },
 "nbformat": 4,
 "nbformat_minor": 2
}
