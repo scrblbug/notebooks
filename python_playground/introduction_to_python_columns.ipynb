{
 "cells": [
  {
   "cell_type": "markdown",
   "metadata": {},
   "source": [
    "# この文書について"
   ]
  },
  {
   "cell_type": "markdown",
   "metadata": {},
   "source": [
    "ここには、Python 入門編に対応して、その本文中に含めるほどではない余談や、本文中に含めるには煩雑になりすぎる説明、各種用語の簡易な説明などを含めてある。\n",
    "\n",
    "無駄な豆知識だったり、後日もう少し高度な内容を学習することになった際の基礎的な知識として役立ててもらいたい。"
   ]
  },
  {
   "cell_type": "markdown",
   "metadata": {},
   "source": [
    "<a id=\"helloworld\"></a>\n",
    "#### Hello, World! について"
   ]
  },
  {
   "cell_type": "markdown",
   "metadata": {},
   "source": [
    "\"Hello, World!\" と出力するのがプログラミングの第一歩とか、誰が決めたの？とか思ってしまうが、おそらく Brian Kernigham （ブライアン・カーニハン）だと言われている。彼が書いた1972年の \"A Tutorial Introduction to the Language B\" の中にその原型があるらしい。\n",
    "\n",
    "もっとも、世界中に広まったきっかけは、そのもう少し後の、1978年に出版された \"The C Programming Language\"（邦題「プログラミング言語C」）だろう。\n",
    "\n",
    "C言語の開発者 Dennis MacAlistair Ritchie （デニス・リッチー）と Brian Kernigham の共著によるこの超有名な本は、2人の頭文字をとって \"K&R\" とも呼称される。\n",
    "\n",
    "厳密には、Hello World はプログラミング学習の第一歩というわけではなく、「あるプログラミング言語がシステム上で正しく動作するかどうかを確認する」第一歩といえる。\n",
    "\n",
    "書かれた内容の解析をし、それを標準出力へと出力する背後には、見た目の内容よりも遥かに多くの内部処理が関わっている。それらが正常に動作しているかどうかを確認する作業というわけだ。"
   ]
  },
  {
   "cell_type": "markdown",
   "metadata": {},
   "source": [
    "<a id=\"stdinout\"></a>\n",
    "#### 標準入出力とは"
   ]
  },
  {
   "cell_type": "markdown",
   "metadata": {},
   "source": [
    "標準入力はキーボードからの入力で、標準出力はモニターへの表示……みたいに説明されることが多い。が、現在言うところの標準入出力は、もう少し抽象的な概念となっている。\n",
    "\n",
    "プログラミングが実行される時、システムにあらかじめ用意された、一般的に使用される入出力は \"3つ\" ある。それらが標準入力、標準出力、標準エラー出力だ。これらをまとめて標準入出力とよび、そして、なにも指定が無い場合、標準入力はキーボードからの入力を受け付け、標準出力と標準エラー出力はモニターへの出力を行う……という仕組みになっている。\n",
    "\n",
    "我々が普段実行エラーなどで怒られている時、画面上にいろいろと内容が出るわけだが、あれは標準出力ではなく、実は標準エラー出力が表示されているのである。\n",
    "\n",
    "さて、ではキーボードや画面の他に、どうやって標準入出力を利用するねん、という話になるわけだが、簡単なところでは、パイプやリダイレクトと呼ばれる機能を用いて行うことが出来る。\n",
    "\n",
    "例えば Windows であれば、\n",
    "\n",
    "```type ./input.txt | python ./main.py > ./output.txt 2> error.log```\n",
    "\n",
    "といった形で利用できる。このコマンドが実行される流れは、以下のようになる。\n",
    "\n",
    "1. まず ```type ./input.txt``` により、現在いるところ（```./``` で表され、カレントディレクトリと呼ばれる）にある input.txt の内容が、標準出力へと出力される。\n",
    "2. その標準出力（```input.txt``` の内容）は、次にある ```|``` によって、```python ./main.py``` へと引き渡される。これをパイプと呼ぶ。\n",
    "3. ```python ./main.py``` によって ```main.py``` が Python として実行される。その際には前述の ```input.txt``` の内容が標準入力に入る。\n",
    "4. ```main.py``` の実行による標準出力は、次にある ```>``` によって、モニターへは表示されず、ファイル ```output.txt``` へ書き込まれる。これをリダイレクトと呼ぶ。\n",
    "5. ```2>``` の指定は、標準エラー出力のリダイレクトを表す。つまり、標準エラー出力があれば、```error.log``` への書き込みを行う。\n",
    "\n",
    "以上のように、標準入出力を利用して、入出力を次々につなげた処理を行うことが出来るというわけだ。\n",
    "\n",
    "ちなみに、Python においては、\n",
    "\n",
    "```print(\"foobar\", file=sys.stderr)```\n",
    "\n",
    "と書くことで標準エラー出力へ出力することが出来る。"
   ]
  },
  {
   "cell_type": "markdown",
   "metadata": {},
   "source": [
    "<a id=\"sideeffect\"></a>\n",
    "#### 関数の副作用とは"
   ]
  },
  {
   "cell_type": "markdown",
   "metadata": {},
   "source": [
    "関数を単純にいうならば、引数を入力として受け取り、戻り値を出力として返すブラックボックスのようなものだと言える。\n",
    "\n",
    "しかし、関数の中には、戻り値を返す以外にほかの影響を及ぼすものがある。そうした他の影響のことを、関数の副作用、と呼ぶ。例えば、print() は標準出力へと出力を行うが、これは副作用である。\n",
    "\n",
    "副作用という用語は、Python にとどまらない、プログラミング全般における広い概念の言葉であり、しばしばその是非そのものが議論されたりもする。副作用を可能な限り廃したプログラミングの手法として、関数的プログラミングがある。"
   ]
  },
  {
   "cell_type": "markdown",
   "metadata": {},
   "source": [
    "<a id=\"keywordargumentsofprint\"></a>\n",
    "#### print() の取れるキーワード引数"
   ]
  },
  {
   "cell_type": "markdown",
   "metadata": {},
   "source": [
    "print() は、公式ドキュメントにおいては以下のように紹介されている。\n",
    "\n",
    "```\n",
    "print(*objects, sep=' ', end='\\n', file=sys.stdout, flush=False)\n",
    "```\n",
    "\n",
    "通常は、「標準出力」に対し、渡された複数の値を「半角スペース」区切りで出力した後、「改行」を行うわけであるが、実はこの3つの要素を別のものへと変更することが出来る。それが、名前付き引数で指定できる ```file``` ```sep``` ```end``` である。例えば、次のように書ける。"
   ]
  },
  {
   "cell_type": "code",
   "execution_count": 4,
   "metadata": {},
   "outputs": [
    {
     "name": "stdout",
     "output_type": "stream",
     "text": [
      "1, 2, 3| 4, 5, 6| 7, 8, 9| \n"
     ]
    }
   ],
   "source": [
    "for vals in [[1, 2, 3], [4, 5, 6], [7, 8, 9]]:\n",
    "    print(*vals, sep=', ', end = '| ')\n",
    "print()"
   ]
  },
  {
   "cell_type": "markdown",
   "metadata": {},
   "source": [
    "また、出力先はデフォルトでは標準出力 ```sys.stdout``` だが、あらゆるファイルオブジェクトを引数に取れるようになっている。"
   ]
  },
  {
   "cell_type": "markdown",
   "metadata": {},
   "source": [
    "<a id=\"assignmentexpression\"></a>\n",
    "#### 代入は式じゃない？"
   ]
  },
  {
   "cell_type": "markdown",
   "metadata": {},
   "source": [
    "```var = 0``` のような代入は ```文``` であって ```式``` ではない、つまり値を返さないと書いた。これを確認するもっとも簡単な方法は、```print()``` の引数に入れてやることだ。"
   ]
  },
  {
   "cell_type": "code",
   "execution_count": 4,
   "metadata": {},
   "outputs": [
    {
     "ename": "TypeError",
     "evalue": "'var' is an invalid keyword argument for print()",
     "output_type": "error",
     "traceback": [
      "\u001b[1;31m---------------------------------------------------------------------------\u001b[0m",
      "\u001b[1;31mTypeError\u001b[0m                                 Traceback (most recent call last)",
      "\u001b[1;32m<ipython-input-4-489bb1210d9f>\u001b[0m in \u001b[0;36m<module>\u001b[1;34m\u001b[0m\n\u001b[1;32m----> 1\u001b[1;33m \u001b[0mprint\u001b[0m\u001b[1;33m(\u001b[0m\u001b[0mvar\u001b[0m \u001b[1;33m=\u001b[0m \u001b[1;36m0\u001b[0m\u001b[1;33m)\u001b[0m\u001b[1;33m\u001b[0m\u001b[1;33m\u001b[0m\u001b[0m\n\u001b[0m",
      "\u001b[1;31mTypeError\u001b[0m: 'var' is an invalid keyword argument for print()"
     ]
    }
   ],
   "source": [
    "print(var = 0)"
   ]
  },
  {
   "cell_type": "markdown",
   "metadata": {},
   "source": [
    "このように、```var=0``` は値を返さないため、エラーになってしまう。\n",
    "\n",
    "一方、例えば比較演算子や、関数は値を返す ```式``` なので、ちゃんと実行される。"
   ]
  },
  {
   "cell_type": "code",
   "execution_count": 1,
   "metadata": {},
   "outputs": [
    {
     "name": "stdout",
     "output_type": "stream",
     "text": [
      "Hello\n",
      "None\n"
     ]
    }
   ],
   "source": [
    "print(print('Hello'))"
   ]
  },
  {
   "cell_type": "markdown",
   "metadata": {},
   "source": [
    "上記の例は少し面白く、最初の ```print()``` の引数に ```print('Hello')``` があるため、まずこちらから評価されることになる。結果の一行目に出力されているのは、その副作用である。一方で、```print('Hello')``` の返り値は ```None``` である。よって、最初の ```print()``` により、```None``` が出力されている。"
   ]
  },
  {
   "cell_type": "markdown",
   "metadata": {},
   "source": [
    "さて、実は C/C++ など他の言語では、代入が式として取り扱われるものがある。すなわち、代入演算子の右辺が戻り値として返ってくる仕組みになっているものがある。\n",
    "\n",
    "実はそれと同じことを ```:=``` 通称セイウチ代入子を用いることで、Python 3.8 以降ならできるようになっている。 "
   ]
  },
  {
   "cell_type": "code",
   "execution_count": 1,
   "metadata": {},
   "outputs": [
    {
     "name": "stdout",
     "output_type": "stream",
     "text": [
      "7\n",
      "7\n"
     ]
    }
   ],
   "source": [
    "print(var := 7)\n",
    "print(var)"
   ]
  },
  {
   "cell_type": "markdown",
   "metadata": {},
   "source": [
    "新し目の機能のため、まだそこまで利用が広まっていない＆参考書などにも書かれていないが、ここに参考のために書いておくことにする。"
   ]
  },
  {
   "cell_type": "markdown",
   "metadata": {},
   "source": [
    "<a id=\"whydatatypesneeded\"></a>\n",
    "#### 型とか考える必要あるの？"
   ]
  },
  {
   "cell_type": "markdown",
   "metadata": {},
   "source": [
    "答えとしては、型を考える必要は、ある。それは、ある値に演算を行う際に、型を分かっていないと、意図した演算にならないことがあるためだ。極端な例を出そう。次の足し算 3種類を見てほしい。"
   ]
  },
  {
   "cell_type": "code",
   "execution_count": 1,
   "metadata": {},
   "outputs": [
    {
     "name": "stdout",
     "output_type": "stream",
     "text": [
      "3\n"
     ]
    }
   ],
   "source": [
    "print(1 + 2)"
   ]
  },
  {
   "cell_type": "code",
   "execution_count": 2,
   "metadata": {},
   "outputs": [
    {
     "name": "stdout",
     "output_type": "stream",
     "text": [
      "12\n"
     ]
    }
   ],
   "source": [
    "print(\"1\" + \"2\")"
   ]
  },
  {
   "cell_type": "code",
   "execution_count": 3,
   "metadata": {},
   "outputs": [
    {
     "ename": "TypeError",
     "evalue": "unsupported operand type(s) for +: 'int' and 'str'",
     "output_type": "error",
     "traceback": [
      "\u001b[1;31m---------------------------------------------------------------------------\u001b[0m",
      "\u001b[1;31mTypeError\u001b[0m                                 Traceback (most recent call last)",
      "\u001b[1;32m<ipython-input-3-f5a1f3a83b1d>\u001b[0m in \u001b[0;36m<module>\u001b[1;34m\u001b[0m\n\u001b[1;32m----> 1\u001b[1;33m \u001b[0mprint\u001b[0m\u001b[1;33m(\u001b[0m\u001b[1;36m1\u001b[0m \u001b[1;33m+\u001b[0m \u001b[1;34m\"2\"\u001b[0m\u001b[1;33m)\u001b[0m\u001b[1;33m\u001b[0m\u001b[1;33m\u001b[0m\u001b[0m\n\u001b[0m",
      "\u001b[1;31mTypeError\u001b[0m: unsupported operand type(s) for +: 'int' and 'str'"
     ]
    }
   ],
   "source": [
    "print(1 + \"2\")"
   ]
  },
  {
   "cell_type": "markdown",
   "metadata": {},
   "source": [
    "1.は数値同士の足し算なので、```3``` になる。2.は文字列同士の足し算なので、```\"12\"``` になる。3.は足し算のできない型の組み合わせなので、エラーが出ている。\n",
    "\n",
    "このような挙動を理解するためには、やはり必要最低限の理解は必要なのではないだろうか。"
   ]
  },
  {
   "cell_type": "markdown",
   "metadata": {},
   "source": [
    "もっとも、他にも型を理解しておいたほうがいい理由はいくらでもあるのだが、ここでは述べない。"
   ]
  },
  {
   "cell_type": "markdown",
   "metadata": {},
   "source": [
    "<a id=\"variablenamecases\"></a>\n",
    "#### キャメルケースとスネークケース"
   ]
  },
  {
   "cell_type": "markdown",
   "metadata": {},
   "source": [
    "競技プログラミングではそうでもないのだが、一般的には、変数や関数などに名前をつけるときには、わかりやすくするためそれなりに長めの名前をつけることが多い。\n",
    "\n",
    "長い名前を使うときには、大きく分けて二つの流儀があり、それがキャメルケース (camel case) とスネークケース (snake case) と呼ばれるものだ。例を見てもらうほうが早いだろう。\n",
    "\n",
    "キャメルケースの例：\n",
    "- firstVariable\n",
    "- secondVariable\n",
    "- yetAnotherVariable\n",
    "\n",
    "スネークケースの例：\n",
    "- first_variable\n",
    "- second_variable\n",
    "- yet_another_variable\n",
    "\n",
    "つまり、複数の単語を名前に使用する際、二個目以降の単語の最初を大文字にして続けて書くのがキャメルケース、単語と単語の間に ```_``` を挟んで並べるのがスネークケース、というわけだ。なるほど、それぞれラクダと蛇に似てなくもない。\n",
    "\n",
    "世間的にはややキャメルケースのほうが優勢のように思うが、この文書では、見やすさを重視してスネークケースを使用することにしている。"
   ]
  },
  {
   "cell_type": "markdown",
   "metadata": {},
   "source": [
    "<a id=\"whatareoperators\"></a>\n",
    "#### そもそも演算子って何？"
   ]
  },
  {
   "cell_type": "markdown",
   "metadata": {},
   "source": [
    "演算子 (operator) とは、値や変数など被演算子 (operand) の前、後ろ、間に配置することで、決められた計算・処理を行う記号・文字列のこと。  \n",
    "例えば ```+``` は、その前後の値を加算したものを返す二項演算子である。\n",
    "\n",
    "……などと書くとひどくややこしく聞こえるが、なんのことはない、```a + b``` と書けば、演算子 ```+``` によって ```a``` と ```b``` を足した値になるという意味である。\n",
    "\n",
    "一般的に演算子と聞いて最初に思い浮かべるのは、二項演算子だろう。数値計算に使用する ```+ - * / // %``` は、全て二項演算子、つまり二つの値を元にして、計算した値を返す演算子である。\n",
    "\n",
    "一方、単項演算子と呼ばれるものもある。例えば ```-123``` などと書いたときの、```-``` がそれに当たる。これは、後に続く数値を負にするという意味になる。演算子が前に来るので、前置演算子とも呼ばれる。\n",
    "\n",
    "じゃあ、単項の後置演算子ってあるの？となるが、Python には存在しない（？）。が、他の多くの言語では、ある変数に 1 加える操作を ```var++``` などと書いたりする。```var``` は変数名、```++```は後置演算子である。\n",
    "\n",
    "三項演算子というものあり、Python では ```値1 if 条件式 else 値2``` といった形で使用される。これは、条件式を満たせば ```値1``` を返し、そうでなければ ```値2``` を返す。つまり、```値1 条件式 値2``` の三項に働く演算子が ```if else``` ということになる。 "
   ]
  },
  {
   "cell_type": "markdown",
   "metadata": {},
   "source": [
    "<a id=\"bignumbers\"></a>\n",
    "#### 巨大な整数の扱い"
   ]
  },
  {
   "cell_type": "code",
   "execution_count": 2,
   "metadata": {},
   "outputs": [
    {
     "name": "stdout",
     "output_type": "stream",
     "text": [
      "150130937545296572356771972164254457814047970568738777235893533016064\n"
     ]
    }
   ],
   "source": [
    "print(42 ** 42)"
   ]
  },
  {
   "cell_type": "markdown",
   "metadata": {},
   "source": [
    "上記のコードは 42 の 42 乗を計算したものだが、実は、このように巨大な整数を何も考えず簡単に扱えるプログラミング言語は、あまり無い。現在のプログラミング言語では、一般的にはただ int としたときには 32bit もしくは 64bit で表せる範囲の整数のことを指すからだ。具体的には、\n",
    "\n",
    "- 32bit（符号付き） −2,147,483,648 ～ 2,147,483,647\n",
    "- 64bit（符号付き） -9,223,372,036,854,775,808 〜 9,223,372,036,854,775,807\n",
    "\n",
    "である。そこで、他の言語では長整数型と呼ばれる、特殊な型を用意している場合がほとんどである。\n",
    "\n",
    "逆にいうと、Python でも巨大な整数を扱う時には、内部的には相応の処理を行っている。調子に乗っていると、とんでもない計算時間を使ってしまうことがあるので、注意したい。"
   ]
  },
  {
   "cell_type": "markdown",
   "metadata": {},
   "source": [
    "<a id=\"numbersappendix\"></a>\n",
    "#### 他の数字の表し方、無限大"
   ]
  },
  {
   "cell_type": "markdown",
   "metadata": {},
   "source": [
    "数値を、2進数、8進数、16進数で表すことも出来る。それぞれ数字の前に ```0b```, ```0o```, ```0x``` と付けるだけでいい。"
   ]
  },
  {
   "cell_type": "code",
   "execution_count": 10,
   "metadata": {},
   "outputs": [
    {
     "name": "stdout",
     "output_type": "stream",
     "text": [
      "181 916 52507\n"
     ]
    }
   ],
   "source": [
    "num1 = 0b10110101\n",
    "num2 = 0o1624\n",
    "num3 = 0xCD1B\n",
    "print(num1, num2, num3)"
   ]
  },
  {
   "cell_type": "markdown",
   "metadata": {},
   "source": [
    "指数表記にも対応している。"
   ]
  },
  {
   "cell_type": "code",
   "execution_count": 11,
   "metadata": {},
   "outputs": [
    {
     "name": "stdout",
     "output_type": "stream",
     "text": [
      "1.024\n"
     ]
    }
   ],
   "source": [
    "num = 1024e-3\n",
    "print(num)"
   ]
  },
  {
   "cell_type": "markdown",
   "metadata": {},
   "source": [
    "少し変わった数値としては、無限大を値として持つことも出来る。これはしばしばDPの初期値として使われる便利な値なので、覚えておいてもいいかもしれない。"
   ]
  },
  {
   "cell_type": "code",
   "execution_count": 3,
   "metadata": {},
   "outputs": [
    {
     "name": "stdout",
     "output_type": "stream",
     "text": [
      "inf -inf\n"
     ]
    }
   ],
   "source": [
    "num1 = float('inf')\n",
    "num2 = -float('inf')\n",
    "print(num1, num2)"
   ]
  },
  {
   "cell_type": "markdown",
   "metadata": {},
   "source": [
    "<a id=\"aboutquotations\"></a>\n",
    "#### シングル or ダブルクォーテーション？"
   ]
  },
  {
   "cell_type": "markdown",
   "metadata": {},
   "source": [
    "文字通り、どっちでもいい。他の多くの言語では、ダブルクォーテーションを使用することが多いことを踏まえると、ダブルクォーテーションで慣れておくのがいいかもしれない。\n",
    "\n",
    "……のだが、Python をインストールするときについてくる、標準の対話型インタプリタ IDLE で文字列を評価すると、シングルクォーテーションで値が返ってくる。なので、個人的にはシングルクォーテーションを使用することが多い。もっとも、この文書中ではいい加減な具合に混在しているので、ご了承いただきたい。"
   ]
  },
  {
   "cell_type": "markdown",
   "metadata": {},
   "source": [
    "<a id=\"howtomakesureitsnone\"></a>\n",
    "#### 厳密な None 判定は is で行う"
   ]
  },
  {
   "cell_type": "markdown",
   "metadata": {},
   "source": [
    "```is``` 演算子は少し特殊な演算子で、あるオブジェクト二つを比較する際に、内容が同じかどうかではなく、全く同一の識別値をもつオブジェクトなのかどうかを判定する。\n",
    "\n",
    "といっても、```None``` オブジェクトそのものは一つしか無いんだから、変わらないのでは？と思うかも知れない。しかし、実はそこに加えて ```==``` 演算子はクラスを作成する際にカスタマイズ可能（```__eq__()``` で定義可能）だということを加味すると、やや風向きが変わってくる。\n",
    "\n",
    "また、実は ```is``` の方がごく僅かに動作が早いという利点も無くはない。\n",
    "\n",
    "とはいえ、この違いが重要になるような内容は、この文書中には含まれることはないかと思われるので、どちらでもいい。"
   ]
  },
  {
   "cell_type": "markdown",
   "metadata": {},
   "source": [
    "<a id=\"returnvalueofandor\"></a>\n",
    "#### and や or が実際に返す値"
   ]
  },
  {
   "cell_type": "markdown",
   "metadata": {},
   "source": [
    "```and``` や ```or``` でも、論理値以外を使用することが出来る……のはいいとして、"
   ]
  },
  {
   "cell_type": "code",
   "execution_count": 2,
   "metadata": {},
   "outputs": [
    {
     "name": "stdout",
     "output_type": "stream",
     "text": [
      "42\n"
     ]
    }
   ],
   "source": [
    "print(\"\" or 0.0 or 42)"
   ]
  },
  {
   "cell_type": "markdown",
   "metadata": {},
   "source": [
    "と、実際に試してみると少し変な値が返ってきていることに気づく。\n",
    "\n",
    "実は、```and``` や ```or``` が返すのは純粋な論理演算の結果ではない。左から順番に評価していき、結果が確定したところの値そのものを返している。\n",
    "\n",
    "したがって、```and``` の場合は最初の ```Falsy``` な値、もしくは最後の ```Truthy``` な値が返され、```or``` の場合は最初の ```Truthy``` な値、もしくは最後の ```Falsy``` な値が返ってくることになる。"
   ]
  },
  {
   "cell_type": "markdown",
   "metadata": {},
   "source": [
    "<a id=\"0indexedand1indexed\"></a>\n",
    "#### 0-indexedと1-indexed"
   ]
  },
  {
   "cell_type": "markdown",
   "metadata": {},
   "source": [
    "実は世界初の高級言語と言われている Fortran では、添字が 1 から始まる。つまり、1-indexedとなっている。そして、1-indexedを採用している言語は区間指定の終端が含まれる、つまり閉区間となっているものが多い。\n",
    "\n",
    "つまり、C / LISP / Python など 0-indexed と 半開放区間（終端が含まれない指定）の組み合わせの言語と、Fortran / Julia などの 1-indexed と 閉区間の組み合わせの言語の二種類に大きく分けられることになる。\n",
    "\n",
    "人間にとって自然なのは、明らかに 1-indexed ＋ 閉区間 であるだろう。しかし、メモリ上の配列の開始位置を x としたとき、x+0 が最初の値の保存場所、x+1 が次の値の保存場所……となる C 言語系を見ると、なるほどコンピュータにとっては 0-indexed の方が自然に思える。\n",
    "\n",
    "ということは、もともと人の営みから派生してきた数学を取り扱うことが多い言語では、それが採用されやすい一方、コンピュータ科学から生まれてきた言語では、0-indexed ＋ 半開放区間 が採用されやすいのではないか……と個人的に思っている。\n",
    "\n",
    "半開放区間については、おそらく次の開始位置を保持するほうが、前の終了位置を保持するよりも無駄がないという点がひとつ。もうひとつは、区間分割をアルゴリズムとして構築しやすいというのが原因かと思われる。つまり、```[p, q]``` の区間を分割するときに、```[p, x)``` ```[x, q)``` と書けるということで、これはコンピュータ科学の観点からは優しい書き方なのだろう。\n",
    "\n",
    "もちろん、これは全て僕の憶測である。"
   ]
  },
  {
   "cell_type": "markdown",
   "metadata": {},
   "source": [
    "<a id=\"unpackingandchainedassignment\"></a>\n",
    "#### アンパック代入？"
   ]
  },
  {
   "cell_type": "markdown",
   "metadata": {},
   "source": [
    "これって便利ではあるけど、アンパック代入になるの？ただの多重代入の一種じゃないの？とふと疑問に思われた方もいるだろう。"
   ]
  },
  {
   "cell_type": "code",
   "execution_count": 12,
   "metadata": {},
   "outputs": [
    {
     "name": "stdout",
     "output_type": "stream",
     "text": [
      "1 2\n"
     ]
    }
   ],
   "source": [
    "a, b = 1, 2\n",
    "print(a, b)"
   ]
  },
  {
   "cell_type": "markdown",
   "metadata": {},
   "source": [
    "これは、右辺の扱いがタプルになっていたりする。試しにカッコなしのカンマ区切りを評価してみると、"
   ]
  },
  {
   "cell_type": "code",
   "execution_count": 1,
   "metadata": {},
   "outputs": [
    {
     "data": {
      "text/plain": [
       "(1, 2, 3)"
      ]
     },
     "execution_count": 1,
     "metadata": {},
     "output_type": "execute_result"
    }
   ],
   "source": [
    "1, 2, 3"
   ]
  },
  {
   "cell_type": "markdown",
   "metadata": {},
   "source": [
    "タプルが返ってきているのが分かると思う。つまり、この代入はアンパック代入の一種である。"
   ]
  },
  {
   "cell_type": "code",
   "execution_count": 14,
   "metadata": {},
   "outputs": [
    {
     "name": "stdout",
     "output_type": "stream",
     "text": [
      "  3           0 LOAD_CONST               1 ((1, 2, 3))\n",
      "              2 UNPACK_SEQUENCE          3\n",
      "              4 STORE_FAST               0 (a)\n",
      "              6 STORE_FAST               1 (b)\n",
      "              8 STORE_FAST               2 (c)\n",
      "\n",
      "  4          10 LOAD_FAST                0 (a)\n",
      "             12 LOAD_FAST                1 (b)\n",
      "             14 LOAD_FAST                2 (c)\n",
      "             16 BUILD_TUPLE              3\n",
      "             18 RETURN_VALUE\n"
     ]
    }
   ],
   "source": [
    "import dis\n",
    "def func1():\n",
    "    a, b, c = 1, 2, 3\n",
    "    return (a, b, c)\n",
    "dis.dis(func1)"
   ]
  },
  {
   "cell_type": "markdown",
   "metadata": {},
   "source": [
    "実際に内部コードを見てみると、最初に値がタプルとして一度に読み込まれ、アンパックされているのが分かる。"
   ]
  },
  {
   "cell_type": "markdown",
   "metadata": {},
   "source": [
    "余談として、アンパック代入は基本的には数を合わせてやる必要があるが、次のような書き方もある。"
   ]
  },
  {
   "cell_type": "code",
   "execution_count": 15,
   "metadata": {},
   "outputs": [
    {
     "name": "stdout",
     "output_type": "stream",
     "text": [
      "1 2 [3, 4, 5]\n"
     ]
    }
   ],
   "source": [
    "a, b, *c = 1, 2, 3, 4, 5\n",
    "print(a, b, c)"
   ]
  },
  {
   "cell_type": "markdown",
   "metadata": {},
   "source": [
    "```*``` を変数名の前につけることで、残り全部をその変数へリストとして引き渡してやる処理になるわけだ。"
   ]
  },
  {
   "cell_type": "code",
   "execution_count": 4,
   "metadata": {},
   "outputs": [
    {
     "name": "stdout",
     "output_type": "stream",
     "text": [
      "1 2 []\n"
     ]
    }
   ],
   "source": [
    "a, b, *c = 1, 2\n",
    "print(a, b, c)"
   ]
  },
  {
   "cell_type": "markdown",
   "metadata": {},
   "source": [
    "ちなみに、この記法を使用した場合は、中身が存在しない場合は上記のように空リストとして処理されることになる。"
   ]
  },
  {
   "cell_type": "markdown",
   "metadata": {},
   "source": [
    "<a id=\"datacalledlist\"></a>\n",
    "#### リストと呼ばれるもの"
   ]
  },
  {
   "cell_type": "markdown",
   "metadata": {},
   "source": [
    "実は、Python でリストと呼ぶものは、一般的なプログラミング概念におけるリストとは、少し違った概念となっている。Python でのリストは、どちらかというとただの ```配列``` である。ただし、Python には配列、つまり ```array``` の型も用意されていたりするあたりが、少しややこしい。ちなみにPython における ```array``` は、中に保存できる値の型が一種類に制限されたリスト、という言い方ができる。"
   ]
  },
  {
   "cell_type": "markdown",
   "metadata": {},
   "source": [
    "では、一般的な概念のリストとはどのようなものかというと、それは連結リストと呼ばれる概念である。連結リストの一つ一つのノードには、\n",
    "\n",
    "- ノードが持つ値\n",
    "- 次のノードの場所\n",
    "\n",
    "が保存される。つまり、チェーンのようにつながったデータのまとまり、というイメージだ。"
   ]
  },
  {
   "cell_type": "markdown",
   "metadata": {},
   "source": [
    "配列は、メモリ上に（基本的には）連続的に保管されるので、添字によって n 番目のデータを容易に取り出すことが出来る。その代わりに、間にデータを挿入したり、データを削除して間を詰めたりするのが苦手な構造でもある。\n",
    "\n",
    "一方、リストはデータ間の繋がりを持つのみなので、n 番目の要素を素早く取り出すことはできない。しかし、あるデータを削除したり、隣へ他のデータを挿入したりするのは簡単に出来る。また、再帰構造をもつので、再帰でなにかをするのに相性がいい。"
   ]
  },
  {
   "cell_type": "markdown",
   "metadata": {},
   "source": [
    "実は Python にも、この一般的な概念としてのリストが実装されている。それは、```collections.deque``` だ。deque の正体は、双方向連結リストである。双方向連結リストでは、次のノードだけでなく、前のノードの情報も保存されている。これを利用して、両端キューが実装されているというわけだ。"
   ]
  },
  {
   "cell_type": "markdown",
   "metadata": {},
   "source": [
    "<a id=\"trapofslicing\"></a>\n",
    "#### スライスの罠"
   ]
  },
  {
   "cell_type": "markdown",
   "metadata": {},
   "source": [
    "これで引っかかるのは僕くらいかもしれないが、恥を晒しつつ……。\n",
    "\n",
    "スライス記法では、開始位置と終了位置に負数を使用できる。となると、最後から i 個だけ取りたい場合や、最後の i 個を除きたい場合に ```var[-i:]``` やら ```var[:-i]``` と書きたくなるのが人情であり、一見うまく動作する…… **i == 0 の時以外は**。"
   ]
  },
  {
   "cell_type": "code",
   "execution_count": 28,
   "metadata": {},
   "outputs": [
    {
     "name": "stdout",
     "output_type": "stream",
     "text": [
      "var[:-3] - [0, 1, 2, 3, 4, 5, 6]\n",
      "var[:-2] - [0, 1, 2, 3, 4, 5, 6, 7]\n",
      "var[:-1] - [0, 1, 2, 3, 4, 5, 6, 7, 8]\n",
      "var[:0] - []\n"
     ]
    }
   ],
   "source": [
    "var = list(range(10))\n",
    "for i in range(-3, 1):\n",
    "    print(f'var[:{i}] - {var[:i]}')"
   ]
  },
  {
   "cell_type": "code",
   "execution_count": 34,
   "metadata": {},
   "outputs": [
    {
     "name": "stdout",
     "output_type": "stream",
     "text": [
      "var[-3:] - [7, 8, 9]\n",
      "var[-2:] - [8, 9]\n",
      "var[-1:] - [9]\n",
      "var[0:] - [0, 1, 2, 3, 4, 5, 6, 7, 8, 9]\n"
     ]
    }
   ],
   "source": [
    "var = list(range(10))\n",
    "for i in range(-3, 1):\n",
    "    print(f'var[{i}:] - {var[i:]}')"
   ]
  },
  {
   "cell_type": "markdown",
   "metadata": {},
   "source": [
    "こういう時は、```len()``` を利用して書くべきである。サボろうとかしてはいけない。"
   ]
  },
  {
   "cell_type": "code",
   "execution_count": 32,
   "metadata": {},
   "outputs": [
    {
     "name": "stdout",
     "output_type": "stream",
     "text": [
      "var[:len(var)-3] - [0, 1, 2, 3, 4, 5, 6]\n",
      "var[:len(var)-2] - [0, 1, 2, 3, 4, 5, 6, 7]\n",
      "var[:len(var)-1] - [0, 1, 2, 3, 4, 5, 6, 7, 8]\n",
      "var[:len(var)-0] - [0, 1, 2, 3, 4, 5, 6, 7, 8, 9]\n"
     ]
    }
   ],
   "source": [
    "var = list(range(10))\n",
    "for i in range(3, -1, -1):\n",
    "    print(f'var[:len(var)-{i}] - {var[:len(var)-i]}')"
   ]
  },
  {
   "cell_type": "code",
   "execution_count": 33,
   "metadata": {},
   "outputs": [
    {
     "name": "stdout",
     "output_type": "stream",
     "text": [
      "var[len(var)-3:] - [7, 8, 9]\n",
      "var[len(var)-2:] - [8, 9]\n",
      "var[len(var)-1:] - [9]\n",
      "var[len(var)-0:] - []\n"
     ]
    }
   ],
   "source": [
    "var = list(range(10))\n",
    "for i in range(3, -1, -1):\n",
    "    print(f'var[len(var)-{i}:] - {var[len(var)-i:]}')"
   ]
  },
  {
   "cell_type": "markdown",
   "metadata": {},
   "source": [
    "<a id=\"rangeissequence\"></a>\n",
    "#### range() はシーケンス型"
   ]
  },
  {
   "cell_type": "markdown",
   "metadata": {},
   "source": [
    "```range()``` （厳密には range() によって作成される range オブジェクト）は、イテレーターでありながら、シーケンス型の扱いとなっている。\n",
    "\n",
    "……つまり、スライスを適用できる。試しにやってみると、"
   ]
  },
  {
   "cell_type": "code",
   "execution_count": 5,
   "metadata": {},
   "outputs": [
    {
     "name": "stdout",
     "output_type": "stream",
     "text": [
      "range(12, 25, 3)\n",
      "range(21, 6, -1)\n"
     ]
    }
   ],
   "source": [
    "print(range(10, 100)[2:15:3])\n",
    "print(range(3, 25)[18:3:-1])"
   ]
  },
  {
   "cell_type": "markdown",
   "metadata": {},
   "source": [
    "なる……ほど……？確かに合ってる。というわけで、```range()``` はシーケンス型である。それだけ。"
   ]
  },
  {
   "cell_type": "markdown",
   "metadata": {},
   "source": [
    "<a id=\"multipleloopbreakbyforelse\"></a>\n",
    "#### for ～ else による多重ループ脱出"
   ]
  },
  {
   "cell_type": "markdown",
   "metadata": {},
   "source": [
    "慣れていない人が見ると、一見何が起こってるかわからないのが、for ～ else による多重ループ脱出だろう。\n",
    "\n",
    "数値の二次元リスト ```matrix``` 中に、特定の数値 ```target``` があるかどうかを探している……という設定で、次のコードを眺めてほしい。"
   ]
  },
  {
   "cell_type": "code",
   "execution_count": null,
   "metadata": {},
   "outputs": [],
   "source": [
    "for row in matrix:\n",
    "    for element in row:\n",
    "        if element == target:\n",
    "            print('found')\n",
    "            break  # 内側の for を break する\n",
    "    else:          # 内側の for が break されなければ、\n",
    "        continue  # 外側の for を continue する\n",
    "    break  # 内側の for が break されたときだけ実行され、外側を break する"
   ]
  },
  {
   "cell_type": "markdown",
   "metadata": {},
   "source": [
    "このように多重ループ脱出を書くことができる。\n",
    "\n",
    "もちろん、普通にフラグを用いて同じことができるので、好みの問題ではある。ただ、こういう書き方もあるんだなと知っておくと、他の人のコードを見る時に悩まずに済むかもしれない。"
   ]
  },
  {
   "cell_type": "markdown",
   "metadata": {},
   "source": [
    "<a id=\"typesofmethods\"></a>\n",
    "#### メソッドの種類"
   ]
  },
  {
   "cell_type": "markdown",
   "metadata": {},
   "source": [
    "メソッドは、まずクラスのオブジェクトを作成し、そのオブジェクトから呼び出す……といったことを書いたが、実はオブジェクトを作成せず、クラスから直接呼び出すことのできるメソッドというのも存在する。\n",
    "\n",
    "定義上は、オブジェクトから呼び出す形のものを ```インスタンスメソッド``` と呼ぶ。\n",
    "\n",
    "一方、クラスから直接呼び出すものは、その内部動作の定義上 ```クラスメソッド``` と ```スタティックメソッド``` に分かれる。クラスメソッドが、クラスの構造を利用するのに対して、スタティックメソッドはほぼ通常の関数に近い扱いのものとなっている。"
   ]
  },
  {
   "cell_type": "markdown",
   "metadata": {},
   "source": [
    "<a id=\"listofmethods\"></a>\n",
    "#### メソッド一覧"
   ]
  },
  {
   "cell_type": "markdown",
   "metadata": {},
   "source": [
    "メソッドの一覧については、```dir()``` を使用することで確認できる。```list``` で試してみよう。"
   ]
  },
  {
   "cell_type": "code",
   "execution_count": 1,
   "metadata": {},
   "outputs": [
    {
     "name": "stdout",
     "output_type": "stream",
     "text": [
      "['__add__', '__class__', '__class_getitem__', '__contains__', '__delattr__', '__delitem__', '__dir__', '__doc__', '__eq__', '__format__', '__ge__', '__getattribute__', '__getitem__', '__gt__', '__hash__', '__iadd__', '__imul__', '__init__', '__init_subclass__', '__iter__', '__le__', '__len__', '__lt__', '__mul__', '__ne__', '__new__', '__reduce__', '__reduce_ex__', '__repr__', '__reversed__', '__rmul__', '__setattr__', '__setitem__', '__sizeof__', '__str__', '__subclasshook__', 'append', 'clear', 'copy', 'count', 'extend', 'index', 'insert', 'pop', 'remove', 'reverse', 'sort']\n"
     ]
    }
   ],
   "source": [
    "print(dir(list))"
   ]
  },
  {
   "cell_type": "markdown",
   "metadata": {},
   "source": [
    "ずらずらと出てきたが、これらのうち ```__``` というふうにアンダーバーふたつが頭についているものは、原則として内部的に使用するためのもので、外部からの呼び出しは通常は行わない。つまり、我々が普段使うのは、最後の方に出ている 10個程度ということになる。"
   ]
  },
  {
   "cell_type": "markdown",
   "metadata": {},
   "source": [
    "<a id=\"instanceandobject\"></a>\n",
    "#### インスタンスとオブジェクト"
   ]
  },
  {
   "cell_type": "markdown",
   "metadata": {},
   "source": [
    "Python に限定しないプログラミングの世界においては、クラスから作成された具体的なもののことはオブジェクトではなく ```インスタンス``` と呼ぶ。というのも、本来オブジェクトという用語が指すものは、プログラミングにおいて扱うことのできるもの全てを含む、非常に広範な概念であるためだ。\n",
    "\n",
    "世界創造の最初に言葉があるように、最初にオブジェクトと呼ばれる概念がある……と考えてみると分かりやすいかも知れない。\n",
    "\n",
    "もちろん、概念だけあっても仕方がないので、メモリ上にその実体を作成する。プログラミング言語において、一般的に使用される ```オブジェクト``` という用語は、この実体を指す場合が多い。そして、実は言語ごとにどこまでの範囲をオブジェクトと呼ぶかは、結構バラバラである。\n",
    "\n",
    "オブジェクトには様々なものがあるが、そのうちデータ構造と手続きを一体にしておくと便利ということが分かってくる。これが、```クラス``` の概念である。\n",
    "\n",
    "クラスの実体も、データ構造と手続きを併せ持った汎用性のある「雛形」の形でメモリ上に作成される。これを元にして、個々の ```インスタンス``` が作成される。\n",
    "\n",
    "大まかだが、こういった構造になっている。\n",
    "\n",
    "ところで、Python では、それを前面に押し出してはいないものの、すべての値はクラスのインスタンス扱いとなっている。したがって、インスタンス＝オブジェクトという側面が強く、オブジェクトという名前が採用されているのではないだろうか。"
   ]
  },
  {
   "cell_type": "markdown",
   "metadata": {},
   "source": [
    "<a id=\"constructor\"></a>\n",
    "#### 型変換の正体はコンストラクタ"
   ]
  },
  {
   "cell_type": "markdown",
   "metadata": {},
   "source": [
    "```reverse()``` の例では、```list_reverseiterator オブジェクト``` なるものが現れた。これは、```reverse()``` によって作成されたオブジェクトということになる。このように、オブジェクトを作成する関数を ```コンストラクタ``` と呼ぶ。リストを作成する際に角括弧 ```[]``` で囲うが、内部的な動作としては、実はコンストラクタ ```list()``` が呼ばれている。\n",
    "\n",
    "つまり、型変換の関数として紹介した ```list()``` ```tuple()```、あるいは ```int()``` などは、全てコンストラクタということになる。\n",
    "\n",
    "```list()``` や ```tuple()``` はイテラブルを引数によるコンストラクタで、```int()``` は数値や文字列を引数に取るコンストラクタとなっていて、結果的に型を変換できているわけだ。"
   ]
  },
  {
   "cell_type": "markdown",
   "metadata": {},
   "source": [
    "<a id=\"dowhile\"> </a>\n",
    "#### do while"
   ]
  },
  {
   "cell_type": "markdown",
   "metadata": {},
   "source": [
    "Python 以外の他の言語では、```do``` ～ ```while``` というループが用意されているものが多い。通常の ```while``` ループが最初に条件式を判定するのに対して、こちらは最後に条件式を判定する。すなわち、必ず最低 1回は処理が行われる仕組みになっている。\n",
    "\n",
    "Python にはこの構文は採用されていない。なので、同じことをしたいときには最初に 1回処理を実行しておき、次に ```while``` を書いてやる必要がある。\n",
    "\n",
    "必ず行われる処理があるのなら、素直にそのまま実行しろよ、という判断らしい。"
   ]
  },
  {
   "cell_type": "markdown",
   "metadata": {},
   "source": [
    "<a id=\"parametersandarguments\"></a>\n",
    "#### 仮引数と実引数"
   ]
  },
  {
   "cell_type": "markdown",
   "metadata": {},
   "source": [
    "実は引数という用語には二種類あり、関数の定義時に設定する引数のことを仮引数と呼び、関数を実行する際に引き渡す引数のことを実引数と呼ぶ。\n",
    "\n",
    "つまり、"
   ]
  },
  {
   "cell_type": "code",
   "execution_count": 2,
   "metadata": {},
   "outputs": [
    {
     "name": "stdout",
     "output_type": "stream",
     "text": [
      "8\n"
     ]
    }
   ],
   "source": [
    "def sum_up(num1, num2):\n",
    "    return num1 + num2\n",
    "\n",
    "x, y = 2, 6\n",
    "print(sum_up(x, y))"
   ]
  },
  {
   "cell_type": "markdown",
   "metadata": {},
   "source": [
    "などとあるとき、```num1``` ```num2``` は仮引数で、```x``` ```y``` は実引数である。\n",
    "\n",
    "単なる用語ではあるが、よく目にするので知っておくといいかもしれない。"
   ]
  },
  {
   "cell_type": "markdown",
   "metadata": {},
   "source": [
    "<a id=\"mutalbeimmutableandid\"></a>\n",
    "#### ミュータブルとイミュータブルと識別値"
   ]
  },
  {
   "cell_type": "markdown",
   "metadata": {},
   "source": [
    "関数 ```id()``` を用いると、ある変数が格納している識別値と呼ばれる値を確認できる。"
   ]
  },
  {
   "cell_type": "code",
   "execution_count": 10,
   "metadata": {},
   "outputs": [
    {
     "name": "stdout",
     "output_type": "stream",
     "text": [
      "1922128899664\n"
     ]
    }
   ],
   "source": [
    "var1 = 42\n",
    "print(id(var1))"
   ]
  },
  {
   "cell_type": "markdown",
   "metadata": {},
   "source": [
    "Python において変数が実際に保存しているのはこの識別値であって、値そのものを保存しているわけではない。変数 → 識別値 → 実際の値（オブジェクト）という仕組みになっている。\n",
    "\n",
    "さて、タプルとリストを変数に代入する際、どのようになっているかというと……"
   ]
  },
  {
   "cell_type": "code",
   "execution_count": 36,
   "metadata": {},
   "outputs": [
    {
     "name": "stdout",
     "output_type": "stream",
     "text": [
      "1823880965952 1823880965952\n",
      "1823881053760 1823881424832\n"
     ]
    }
   ],
   "source": [
    "immutable1, immutable2 = (1, 2, 3), (1, 2, 3)\n",
    "print(id(immutable1), id(immutable2))\n",
    "mutable1, mutable2 = [1, 2, 3], [1, 2, 3]\n",
    "print(id(mutable1), id(mutable2))"
   ]
  },
  {
   "cell_type": "markdown",
   "metadata": {},
   "source": [
    "上のように、タプルは同じ中身ならば同じ id に、リストは同じ中身でも別の id になった。つまり、その中身と id とが強く結びついているのがイミュータブルと言い換えることもできる。ゆえに、イミュータブルなオブジェクトは id を変更せずにその中身を書き換えることができない。\n",
    "\n",
    "ところが、タプルなら絶対中身を書き換えられないかというと、そういうわけでもない。"
   ]
  },
  {
   "cell_type": "code",
   "execution_count": 1,
   "metadata": {},
   "outputs": [
    {
     "name": "stdout",
     "output_type": "stream",
     "text": [
      "(1, [2, -1], 4)\n"
     ]
    }
   ],
   "source": [
    "changable = (1, [2, 3], 4)\n",
    "changable[1][1] = -1\n",
    "print(changable)"
   ]
  },
  {
   "cell_type": "markdown",
   "metadata": {},
   "source": [
    "このように、中にミュータブルなものを含むタプルは、ミュータブルなものの中身に限定すれば変更できる。これは、厳密にはタプルの中身はそれぞれの要素の識別値を保存しているのであって、リストの中身を書き換えても、その識別値は変更されないためだ。\n",
    "\n",
    "しかし、中にミュータブルなものを含むタプルは、"
   ]
  },
  {
   "cell_type": "code",
   "execution_count": 11,
   "metadata": {},
   "outputs": [
    {
     "name": "stdout",
     "output_type": "stream",
     "text": [
      "2670136541888 2670136542208\n"
     ]
    }
   ],
   "source": [
    "var = [2, 3]\n",
    "im1, im2 = (1, var, 3), (1, var, 3)\n",
    "print(id(im1), id(im2))"
   ]
  },
  {
   "cell_type": "markdown",
   "metadata": {},
   "source": [
    "このように、同じ中身であっても別の識別値が割り振られる。つまり、全体としてはミュータブルな扱いになっている。実際、ハッシュ化が利用できず、辞書のキーなどに使用することはできない。"
   ]
  },
  {
   "cell_type": "markdown",
   "metadata": {},
   "source": [
    "<a id=\"underscoreinnames\"></a>\n",
    "#### 名前の最初や最後にアンダースコア"
   ]
  },
  {
   "cell_type": "markdown",
   "metadata": {},
   "source": [
    "Python、あるいは他の言語にもしばしば見られる文化（？）として、アンダースコア ```_``` が名前の最初に使用されている変数・メソッドは、外部からの参照を前提としていない、内部処理用のものであることを示す。\n",
    "\n",
    "逆に名前の最後にアンダースコアがついているのは、```list_``` や ```dict_``` など、組み込み関数との名前の衝突を避けたい時が多いようだ。害のない適当な文字を足すイメージだろうか。\n",
    "\n",
    "一方、使い捨ての変数を使う時に、名前を ```_``` だけにすることも多い。 例えば、単に N 回繰り返したいだけのとき、```for _ in range(N)``` と書く人が多い。これは、```_``` をあえて使うことで、この変数は実際には利用しない、意味のない名前だということを明示する働きを持っていると言える。"
   ]
  }
 ],
 "metadata": {
  "interpreter": {
   "hash": "9f9ba7b161bccba771f540edba679ac98f5aec5d74a22b4e92851bab405cc1b6"
  },
  "kernelspec": {
   "display_name": "Python 3",
   "language": "python",
   "name": "python3"
  },
  "language_info": {
   "codemirror_mode": {
    "name": "ipython",
    "version": 3
   },
   "file_extension": ".py",
   "mimetype": "text/x-python",
   "name": "python",
   "nbconvert_exporter": "python",
   "pygments_lexer": "ipython3",
   "version": "3.9.1"
  },
  "toc": {
   "base_numbering": 1,
   "nav_menu": {
    "height": "199px",
    "width": "374px"
   },
   "number_sections": true,
   "sideBar": true,
   "skip_h1_title": false,
   "title_cell": "Table of Contents",
   "title_sidebar": "Contents",
   "toc_cell": false,
   "toc_position": {},
   "toc_section_display": true,
   "toc_window_display": false
  }
 },
 "nbformat": 4,
 "nbformat_minor": 2
}
