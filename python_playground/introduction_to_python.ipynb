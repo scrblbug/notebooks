{
 "cells": [
  {
   "cell_type": "markdown",
   "metadata": {
    "toc": true
   },
   "source": [
    "<h1>Table of Contents<span class=\"tocSkip\"></span></h1>\n",
    "<div class=\"toc\"><ul class=\"toc-item\"><li><span><a href=\"#はじめに\" data-toc-modified-id=\"はじめに-1\"><span class=\"toc-item-num\">1&nbsp;&nbsp;</span>はじめに</a></span></li><li><span><a href=\"#この文書の内容について\" data-toc-modified-id=\"この文書の内容について-2\"><span class=\"toc-item-num\">2&nbsp;&nbsp;</span>この文書の内容について</a></span></li><li><span><a href=\"#入力・出力について\" data-toc-modified-id=\"入力・出力について-3\"><span class=\"toc-item-num\">3&nbsp;&nbsp;</span>入力・出力について</a></span><ul class=\"toc-item\"><li><span><a href=\"#競技プログラミング的な-Hello-World-をしてみる\" data-toc-modified-id=\"競技プログラミング的な-Hello-World-をしてみる-3.1\"><span class=\"toc-item-num\">3.1&nbsp;&nbsp;</span>競技プログラミング的な Hello World をしてみる</a></span></li></ul></li><li><span><a href=\"#関数・変数・型\" data-toc-modified-id=\"関数・変数・型-4\"><span class=\"toc-item-num\">4&nbsp;&nbsp;</span>関数・変数・型</a></span><ul class=\"toc-item\"><li><span><a href=\"#関数とは\" data-toc-modified-id=\"関数とは-4.1\"><span class=\"toc-item-num\">4.1&nbsp;&nbsp;</span>関数とは</a></span><ul class=\"toc-item\"><li><span><a href=\"#input()\" data-toc-modified-id=\"input()-4.1.1\"><span class=\"toc-item-num\">4.1.1&nbsp;&nbsp;</span>input()</a></span></li><li><span><a href=\"#print()\" data-toc-modified-id=\"print()-4.1.2\"><span class=\"toc-item-num\">4.1.2&nbsp;&nbsp;</span>print()</a></span></li></ul></li><li><span><a href=\"#変数とは\" data-toc-modified-id=\"変数とは-4.2\"><span class=\"toc-item-num\">4.2&nbsp;&nbsp;</span>変数とは</a></span><ul class=\"toc-item\"><li><span><a href=\"#変数の作成と代入\" data-toc-modified-id=\"変数の作成と代入-4.2.1\"><span class=\"toc-item-num\">4.2.1&nbsp;&nbsp;</span>変数の作成と代入</a></span></li><li><span><a href=\"#評価と式と文\" data-toc-modified-id=\"評価と式と文-4.2.2\"><span class=\"toc-item-num\">4.2.2&nbsp;&nbsp;</span>評価と式と文</a></span></li><li><span><a href=\"#変数の名前について\" data-toc-modified-id=\"変数の名前について-4.2.3\"><span class=\"toc-item-num\">4.2.3&nbsp;&nbsp;</span>変数の名前について</a></span></li><li><span><a href=\"#変数の利用について\" data-toc-modified-id=\"変数の利用について-4.2.4\"><span class=\"toc-item-num\">4.2.4&nbsp;&nbsp;</span>変数の利用について</a></span></li></ul></li><li><span><a href=\"#型とは\" data-toc-modified-id=\"型とは-4.3\"><span class=\"toc-item-num\">4.3&nbsp;&nbsp;</span>型とは</a></span><ul class=\"toc-item\"><li><span><a href=\"#数値型-(int,-float)\" data-toc-modified-id=\"数値型-(int,-float)-4.3.1\"><span class=\"toc-item-num\">4.3.1&nbsp;&nbsp;</span>数値型 (int, float)</a></span><ul class=\"toc-item\"><li><span><a href=\"#var-=-var-+-1-という書き方について\" data-toc-modified-id=\"var-=-var-+-1-という書き方について-4.3.1.1\"><span class=\"toc-item-num\">4.3.1.1&nbsp;&nbsp;</span>var = var + 1 という書き方について</a></span></li><li><span><a href=\"#複合代入演算子\" data-toc-modified-id=\"複合代入演算子-4.3.1.2\"><span class=\"toc-item-num\">4.3.1.2&nbsp;&nbsp;</span>複合代入演算子</a></span></li></ul></li><li><span><a href=\"#文字列型-(str)\" data-toc-modified-id=\"文字列型-(str)-4.3.2\"><span class=\"toc-item-num\">4.3.2&nbsp;&nbsp;</span>文字列型 (str)</a></span><ul class=\"toc-item\"><li><span><a href=\"#エスケープシーケンス\" data-toc-modified-id=\"エスケープシーケンス-4.3.2.1\"><span class=\"toc-item-num\">4.3.2.1&nbsp;&nbsp;</span>エスケープシーケンス</a></span></li></ul></li><li><span><a href=\"#型の変換\" data-toc-modified-id=\"型の変換-4.3.3\"><span class=\"toc-item-num\">4.3.3&nbsp;&nbsp;</span>型の変換</a></span></li><li><span><a href=\"#None\" data-toc-modified-id=\"None-4.3.4\"><span class=\"toc-item-num\">4.3.4&nbsp;&nbsp;</span>None</a></span></li><li><span><a href=\"#型の確認\" data-toc-modified-id=\"型の確認-4.3.5\"><span class=\"toc-item-num\">4.3.5&nbsp;&nbsp;</span>型の確認</a></span></li></ul></li><li><span><a href=\"#練習問題\" data-toc-modified-id=\"練習問題-4.4\"><span class=\"toc-item-num\">4.4&nbsp;&nbsp;</span>練習問題</a></span></li><li><span><a href=\"#アンパック代入-(unpacking-/-multiple-assignment)（一行に複数の値がある場合）\" data-toc-modified-id=\"アンパック代入-(unpacking-/-multiple-assignment)（一行に複数の値がある場合）-4.5\"><span class=\"toc-item-num\">4.5&nbsp;&nbsp;</span>アンパック代入 (unpacking / multiple assignment)（一行に複数の値がある場合）</a></span><ul class=\"toc-item\"><li><span><a href=\"#複数代入、値の入れ替え\" data-toc-modified-id=\"複数代入、値の入れ替え-4.5.1\"><span class=\"toc-item-num\">4.5.1&nbsp;&nbsp;</span>複数代入、値の入れ替え</a></span></li><li><span><a href=\"#連鎖代入-(chained-assignment)\" data-toc-modified-id=\"連鎖代入-(chained-assignment)-4.5.2\"><span class=\"toc-item-num\">4.5.2&nbsp;&nbsp;</span>連鎖代入 (chained assignment)</a></span></li></ul></li></ul></li><li><span><a href=\"#Python-でのコードの書き方\" data-toc-modified-id=\"Python-でのコードの書き方-5\"><span class=\"toc-item-num\">5&nbsp;&nbsp;</span>Python でのコードの書き方</a></span><ul class=\"toc-item\"><li><span><a href=\"#コメント\" data-toc-modified-id=\"コメント-5.1\"><span class=\"toc-item-num\">5.1&nbsp;&nbsp;</span>コメント</a></span></li><li><span><a href=\"#原則\" data-toc-modified-id=\"原則-5.2\"><span class=\"toc-item-num\">5.2&nbsp;&nbsp;</span>原則</a></span></li><li><span><a href=\"#インデントによるブロック表現\" data-toc-modified-id=\"インデントによるブロック表現-5.3\"><span class=\"toc-item-num\">5.3&nbsp;&nbsp;</span>インデントによるブロック表現</a></span></li><li><span><a href=\"#途中での改行\" data-toc-modified-id=\"途中での改行-5.4\"><span class=\"toc-item-num\">5.4&nbsp;&nbsp;</span>途中での改行</a></span></li><li><span><a href=\"#作法（もしくはレギュレーション）\" data-toc-modified-id=\"作法（もしくはレギュレーション）-5.5\"><span class=\"toc-item-num\">5.5&nbsp;&nbsp;</span>作法（もしくはレギュレーション）</a></span><ul class=\"toc-item\"><li><span><a href=\"#インデントの仕方\" data-toc-modified-id=\"インデントの仕方-5.5.1\"><span class=\"toc-item-num\">5.5.1&nbsp;&nbsp;</span>インデントの仕方</a></span></li><li><span><a href=\"#要素間のスペースの入れ方\" data-toc-modified-id=\"要素間のスペースの入れ方-5.5.2\"><span class=\"toc-item-num\">5.5.2&nbsp;&nbsp;</span>要素間のスペースの入れ方</a></span></li></ul></li></ul></li><li><span><a href=\"#条件分岐-(if)\" data-toc-modified-id=\"条件分岐-(if)-6\"><span class=\"toc-item-num\">6&nbsp;&nbsp;</span>条件分岐 (if)</a></span><ul class=\"toc-item\"><li><span><a href=\"#論理型-(boolean)-と比較演算子\" data-toc-modified-id=\"論理型-(boolean)-と比較演算子-6.1\"><span class=\"toc-item-num\">6.1&nbsp;&nbsp;</span>論理型 (boolean) と比較演算子</a></span><ul class=\"toc-item\"><li><span><a href=\"#論理型-(boolean)\" data-toc-modified-id=\"論理型-(boolean)-6.1.1\"><span class=\"toc-item-num\">6.1.1&nbsp;&nbsp;</span>論理型 (boolean)</a></span></li><li><span><a href=\"#比較演算子\" data-toc-modified-id=\"比較演算子-6.1.2\"><span class=\"toc-item-num\">6.1.2&nbsp;&nbsp;</span>比較演算子</a></span></li><li><span><a href=\"#論理演算子\" data-toc-modified-id=\"論理演算子-6.1.3\"><span class=\"toc-item-num\">6.1.3&nbsp;&nbsp;</span>論理演算子</a></span></li></ul></li><li><span><a href=\"#if-文\" data-toc-modified-id=\"if-文-6.2\"><span class=\"toc-item-num\">6.2&nbsp;&nbsp;</span>if 文</a></span></li><li><span><a href=\"#Truthy,-Falsy\" data-toc-modified-id=\"Truthy,-Falsy-6.3\"><span class=\"toc-item-num\">6.3&nbsp;&nbsp;</span>Truthy, Falsy</a></span></li><li><span><a href=\"#短絡評価\" data-toc-modified-id=\"短絡評価-6.4\"><span class=\"toc-item-num\">6.4&nbsp;&nbsp;</span>短絡評価</a></span></li><li><span><a href=\"#練習問題\" data-toc-modified-id=\"練習問題-6.5\"><span class=\"toc-item-num\">6.5&nbsp;&nbsp;</span>練習問題</a></span></li></ul></li><li><span><a href=\"#リスト-(list)-とタプル-(tuple)（と少し文字列）、イテレータ-(iterator)\" data-toc-modified-id=\"リスト-(list)-とタプル-(tuple)（と少し文字列）、イテレータ-(iterator)-7\"><span class=\"toc-item-num\">7&nbsp;&nbsp;</span>リスト (list) とタプル (tuple)（と少し文字列）、イテレータ (iterator)</a></span><ul class=\"toc-item\"><li><span><a href=\"#リスト-(list)\" data-toc-modified-id=\"リスト-(list)-7.1\"><span class=\"toc-item-num\">7.1&nbsp;&nbsp;</span>リスト (list)</a></span><ul class=\"toc-item\"><li><span><a href=\"#添字-(index)\" data-toc-modified-id=\"添字-(index)-7.1.1\"><span class=\"toc-item-num\">7.1.1&nbsp;&nbsp;</span>添字 (index)</a></span></li><li><span><a href=\"#長さを取得する\" data-toc-modified-id=\"長さを取得する-7.1.2\"><span class=\"toc-item-num\">7.1.2&nbsp;&nbsp;</span>長さを取得する</a></span></li><li><span><a href=\"#内容の書き換え\" data-toc-modified-id=\"内容の書き換え-7.1.3\"><span class=\"toc-item-num\">7.1.3&nbsp;&nbsp;</span>内容の書き換え</a></span></li></ul></li><li><span><a href=\"#タプル-(tuple)\" data-toc-modified-id=\"タプル-(tuple)-7.2\"><span class=\"toc-item-num\">7.2&nbsp;&nbsp;</span>タプル (tuple)</a></span><ul class=\"toc-item\"><li><span><a href=\"#要素が-1個のタプル\" data-toc-modified-id=\"要素が-1個のタプル-7.2.1\"><span class=\"toc-item-num\">7.2.1&nbsp;&nbsp;</span>要素が 1個のタプル</a></span></li><li><span><a href=\"#文字列とタプルの共通点\" data-toc-modified-id=\"文字列とタプルの共通点-7.2.2\"><span class=\"toc-item-num\">7.2.2&nbsp;&nbsp;</span>文字列とタプルの共通点</a></span></li></ul></li><li><span><a href=\"#シーケンス-(sequence)-型とスライス-(slice)\" data-toc-modified-id=\"シーケンス-(sequence)-型とスライス-(slice)-7.3\"><span class=\"toc-item-num\">7.3&nbsp;&nbsp;</span>シーケンス (sequence) 型とスライス (slice)</a></span><ul class=\"toc-item\"><li><span><a href=\"#スライス-(slice)\" data-toc-modified-id=\"スライス-(slice)-7.3.1\"><span class=\"toc-item-num\">7.3.1&nbsp;&nbsp;</span>スライス (slice)</a></span></li></ul></li><li><span><a href=\"#リストやタプルに使用可能な演算子\" data-toc-modified-id=\"リストやタプルに使用可能な演算子-7.4\"><span class=\"toc-item-num\">7.4&nbsp;&nbsp;</span>リストやタプルに使用可能な演算子</a></span></li><li><span><a href=\"#型変換\" data-toc-modified-id=\"型変換-7.5\"><span class=\"toc-item-num\">7.5&nbsp;&nbsp;</span>型変換</a></span></li><li><span><a href=\"#リストに対する操作\" data-toc-modified-id=\"リストに対する操作-7.6\"><span class=\"toc-item-num\">7.6&nbsp;&nbsp;</span>リストに対する操作</a></span><ul class=\"toc-item\"><li><span><a href=\"#list.append()\" data-toc-modified-id=\"list.append()-7.6.1\"><span class=\"toc-item-num\">7.6.1&nbsp;&nbsp;</span>list.append()</a></span></li><li><span><a href=\"#list.extend()\" data-toc-modified-id=\"list.extend()-7.6.2\"><span class=\"toc-item-num\">7.6.2&nbsp;&nbsp;</span>list.extend()</a></span></li><li><span><a href=\"#list.pop()\" data-toc-modified-id=\"list.pop()-7.6.3\"><span class=\"toc-item-num\">7.6.3&nbsp;&nbsp;</span>list.pop()</a></span></li><li><span><a href=\"#list.sort()-と-sorted()\" data-toc-modified-id=\"list.sort()-と-sorted()-7.6.4\"><span class=\"toc-item-num\">7.6.4&nbsp;&nbsp;</span>list.sort() と sorted()</a></span></li><li><span><a href=\"#reversed()\" data-toc-modified-id=\"reversed()-7.6.5\"><span class=\"toc-item-num\">7.6.5&nbsp;&nbsp;</span>reversed()</a></span></li></ul></li><li><span><a href=\"#クラス・オブジェクト・メソッドとは\" data-toc-modified-id=\"クラス・オブジェクト・メソッドとは-7.7\"><span class=\"toc-item-num\">7.7&nbsp;&nbsp;</span>クラス・オブジェクト・メソッドとは</a></span></li><li><span><a href=\"#多次元リスト\" data-toc-modified-id=\"多次元リスト-7.8\"><span class=\"toc-item-num\">7.8&nbsp;&nbsp;</span>多次元リスト</a></span></li><li><span><a href=\"#イテレータ-(iterator)-とは\" data-toc-modified-id=\"イテレータ-(iterator)-とは-7.9\"><span class=\"toc-item-num\">7.9&nbsp;&nbsp;</span>イテレータ (iterator) とは</a></span></li><li><span><a href=\"#map()\" data-toc-modified-id=\"map()-7.10\"><span class=\"toc-item-num\">7.10&nbsp;&nbsp;</span>map()</a></span></li></ul></li><li><span><a href=\"#ループ処理-(for)\" data-toc-modified-id=\"ループ処理-(for)-8\"><span class=\"toc-item-num\">8&nbsp;&nbsp;</span>ループ処理 (for)</a></span><ul class=\"toc-item\"><li><span><a href=\"#ループ処理の実践-(sum,-count)\" data-toc-modified-id=\"ループ処理の実践-(sum,-count)-8.1\"><span class=\"toc-item-num\">8.1&nbsp;&nbsp;</span>ループ処理の実践 (sum, count)</a></span><ul class=\"toc-item\"><li><span><a href=\"#ループ処理実践問題1--sum\" data-toc-modified-id=\"ループ処理実践問題1--sum-8.1.1\"><span class=\"toc-item-num\">8.1.1&nbsp;&nbsp;</span>ループ処理実践問題1- sum</a></span></li><li><span><a href=\"#ループ処理実践問題2---count\" data-toc-modified-id=\"ループ処理実践問題2---count-8.1.2\"><span class=\"toc-item-num\">8.1.2&nbsp;&nbsp;</span>ループ処理実践問題2 - count</a></span></li></ul></li><li><span><a href=\"#range(),-enumerate(),-continue,-break\" data-toc-modified-id=\"range(),-enumerate(),-continue,-break-8.2\"><span class=\"toc-item-num\">8.2&nbsp;&nbsp;</span>range(), enumerate(), continue, break</a></span><ul class=\"toc-item\"><li><span><a href=\"#ループ処理実践問題3---index\" data-toc-modified-id=\"ループ処理実践問題3---index-8.2.1\"><span class=\"toc-item-num\">8.2.1&nbsp;&nbsp;</span>ループ処理実践問題3 - index</a></span><ul class=\"toc-item\"><li><span><a href=\"#range()-を用いたループ\" data-toc-modified-id=\"range()-を用いたループ-8.2.1.1\"><span class=\"toc-item-num\">8.2.1.1&nbsp;&nbsp;</span>range() を用いたループ</a></span></li><li><span><a href=\"#enumerate()-を用いたループ\" data-toc-modified-id=\"enumerate()-を用いたループ-8.2.1.2\"><span class=\"toc-item-num\">8.2.1.2&nbsp;&nbsp;</span>enumerate() を用いたループ</a></span></li></ul></li><li><span><a href=\"#continue\" data-toc-modified-id=\"continue-8.2.2\"><span class=\"toc-item-num\">8.2.2&nbsp;&nbsp;</span>continue</a></span></li><li><span><a href=\"#break\" data-toc-modified-id=\"break-8.2.3\"><span class=\"toc-item-num\">8.2.3&nbsp;&nbsp;</span>break</a></span></li><li><span><a href=\"#for-～-else\" data-toc-modified-id=\"for-～-else-8.2.4\"><span class=\"toc-item-num\">8.2.4&nbsp;&nbsp;</span>for ～ else</a></span></li></ul></li><li><span><a href=\"#sum(),-list.count(),-list.index()\" data-toc-modified-id=\"sum(),-list.count(),-list.index()-8.3\"><span class=\"toc-item-num\">8.3&nbsp;&nbsp;</span>sum(), list.count(), list.index()</a></span></li><li><span><a href=\"#min(),-max()\" data-toc-modified-id=\"min(),-max()-8.4\"><span class=\"toc-item-num\">8.4&nbsp;&nbsp;</span>min(), max()</a></span></li><li><span><a href=\"#len()-はリストを走査しない\" data-toc-modified-id=\"len()-はリストを走査しない-8.5\"><span class=\"toc-item-num\">8.5&nbsp;&nbsp;</span>len() はリストを走査しない</a></span></li><li><span><a href=\"#計算量の-O記法\" data-toc-modified-id=\"計算量の-O記法-8.6\"><span class=\"toc-item-num\">8.6&nbsp;&nbsp;</span>計算量の O記法</a></span></li></ul></li><li><span><a href=\"#ループ処理その2-(while)\" data-toc-modified-id=\"ループ処理その2-(while)-9\"><span class=\"toc-item-num\">9&nbsp;&nbsp;</span>ループ処理その2 (while)</a></span><ul class=\"toc-item\"><li><span><a href=\"#練習問題---コラッツ数列\" data-toc-modified-id=\"練習問題---コラッツ数列-9.1\"><span class=\"toc-item-num\">9.1&nbsp;&nbsp;</span>練習問題 - コラッツ数列</a></span><ul class=\"toc-item\"><li><span><a href=\"#*-による引数の展開（アンパック）\" data-toc-modified-id=\"*-による引数の展開（アンパック）-9.1.1\"><span class=\"toc-item-num\">9.1.1&nbsp;&nbsp;</span><code>*</code> による引数の展開（アンパック）</a></span></li></ul></li></ul></li><li><span><a href=\"#関数の定義\" data-toc-modified-id=\"関数の定義-10\"><span class=\"toc-item-num\">10&nbsp;&nbsp;</span>関数の定義</a></span><ul class=\"toc-item\"><li><span><a href=\"#関数の定義の基本\" data-toc-modified-id=\"関数の定義の基本-10.1\"><span class=\"toc-item-num\">10.1&nbsp;&nbsp;</span>関数の定義の基本</a></span></li><li><span><a href=\"#変数のスコープ\" data-toc-modified-id=\"変数のスコープ-10.2\"><span class=\"toc-item-num\">10.2&nbsp;&nbsp;</span>変数のスコープ</a></span></li><li><span><a href=\"#外部の変数の書き換え\" data-toc-modified-id=\"外部の変数の書き換え-10.3\"><span class=\"toc-item-num\">10.3&nbsp;&nbsp;</span>外部の変数の書き換え</a></span></li><li><span><a href=\"#ミュータブルの参照・書き換え\" data-toc-modified-id=\"ミュータブルの参照・書き換え-10.4\"><span class=\"toc-item-num\">10.4&nbsp;&nbsp;</span>ミュータブルの参照・書き換え</a></span></li><li><span><a href=\"#関数内関数\" data-toc-modified-id=\"関数内関数-10.5\"><span class=\"toc-item-num\">10.5&nbsp;&nbsp;</span>関数内関数</a></span></li><li><span><a href=\"#関数の実践---コラッツ数列で遊んで見る\" data-toc-modified-id=\"関数の実践---コラッツ数列で遊んで見る-10.6\"><span class=\"toc-item-num\">10.6&nbsp;&nbsp;</span>関数の実践 - コラッツ数列で遊んで見る</a></span></li><li><span><a href=\"#関数の定義に関するその他\" data-toc-modified-id=\"関数の定義に関するその他-10.7\"><span class=\"toc-item-num\">10.7&nbsp;&nbsp;</span>関数の定義に関するその他</a></span><ul class=\"toc-item\"><li><span><a href=\"#キーワード引数\" data-toc-modified-id=\"キーワード引数-10.7.1\"><span class=\"toc-item-num\">10.7.1&nbsp;&nbsp;</span>キーワード引数</a></span></li><li><span><a href=\"#複数の引数をタプルとして受け取る\" data-toc-modified-id=\"複数の引数をタプルとして受け取る-10.7.2\"><span class=\"toc-item-num\">10.7.2&nbsp;&nbsp;</span>複数の引数をタプルとして受け取る</a></span></li></ul></li></ul></li><li><span><a href=\"#辞書-(dict)-、セット-(set)\" data-toc-modified-id=\"辞書-(dict)-、セット-(set)-11\"><span class=\"toc-item-num\">11&nbsp;&nbsp;</span>辞書 (dict) 、セット (set)</a></span><ul class=\"toc-item\"><li><span><a href=\"#辞書-(dict)-の基本\" data-toc-modified-id=\"辞書-(dict)-の基本-11.1\"><span class=\"toc-item-num\">11.1&nbsp;&nbsp;</span>辞書 (dict) の基本</a></span><ul class=\"toc-item\"><li><span><a href=\"#辞書の作成\" data-toc-modified-id=\"辞書の作成-11.1.1\"><span class=\"toc-item-num\">11.1.1&nbsp;&nbsp;</span>辞書の作成</a></span></li><li><span><a href=\"#辞書の値の呼び出し\" data-toc-modified-id=\"辞書の値の呼び出し-11.1.2\"><span class=\"toc-item-num\">11.1.2&nbsp;&nbsp;</span>辞書の値の呼び出し</a></span></li><li><span><a href=\"#辞書の鍵の存在チェック\" data-toc-modified-id=\"辞書の鍵の存在チェック-11.1.3\"><span class=\"toc-item-num\">11.1.3&nbsp;&nbsp;</span>辞書の鍵の存在チェック</a></span></li><li><span><a href=\"#辞書の-鍵-:-値-のペアの追加・変更・削除\" data-toc-modified-id=\"辞書の-鍵-:-値-のペアの追加・変更・削除-11.1.4\"><span class=\"toc-item-num\">11.1.4&nbsp;&nbsp;</span>辞書の 鍵 : 値 のペアの追加・変更・削除</a></span></li><li><span><a href=\"#鍵や値の集合を取得\" data-toc-modified-id=\"鍵や値の集合を取得-11.1.5\"><span class=\"toc-item-num\">11.1.5&nbsp;&nbsp;</span>鍵や値の集合を取得</a></span></li><li><span><a href=\"#鍵に使用できるもの\" data-toc-modified-id=\"鍵に使用できるもの-11.1.6\"><span class=\"toc-item-num\">11.1.6&nbsp;&nbsp;</span>鍵に使用できるもの</a></span></li></ul></li><li><span><a href=\"#辞書の利点\" data-toc-modified-id=\"辞書の利点-11.2\"><span class=\"toc-item-num\">11.2&nbsp;&nbsp;</span>辞書の利点</a></span></li><li><span><a href=\"#セット-(set)-の基本\" data-toc-modified-id=\"セット-(set)-の基本-11.3\"><span class=\"toc-item-num\">11.3&nbsp;&nbsp;</span>セット (set) の基本</a></span><ul class=\"toc-item\"><li><span><a href=\"#セットの作成\" data-toc-modified-id=\"セットの作成-11.3.1\"><span class=\"toc-item-num\">11.3.1&nbsp;&nbsp;</span>セットの作成</a></span></li><li><span><a href=\"#セットの値の追加・削除\" data-toc-modified-id=\"セットの値の追加・削除-11.3.2\"><span class=\"toc-item-num\">11.3.2&nbsp;&nbsp;</span>セットの値の追加・削除</a></span></li><li><span><a href=\"#値の確認\" data-toc-modified-id=\"値の確認-11.3.3\"><span class=\"toc-item-num\">11.3.3&nbsp;&nbsp;</span>値の確認</a></span></li><li><span><a href=\"#セットの演算\" data-toc-modified-id=\"セットの演算-11.3.4\"><span class=\"toc-item-num\">11.3.4&nbsp;&nbsp;</span>セットの演算</a></span></li></ul></li><li><span><a href=\"#セットのイテラブルとしての利用\" data-toc-modified-id=\"セットのイテラブルとしての利用-11.4\"><span class=\"toc-item-num\">11.4&nbsp;&nbsp;</span>セットのイテラブルとしての利用</a></span></li><li><span><a href=\"#セットの利点\" data-toc-modified-id=\"セットの利点-11.5\"><span class=\"toc-item-num\">11.5&nbsp;&nbsp;</span>セットの利点</a></span></li></ul></li><li><span><a href=\"#その他補足事項\" data-toc-modified-id=\"その他補足事項-12\"><span class=\"toc-item-num\">12&nbsp;&nbsp;</span>その他補足事項</a></span><ul class=\"toc-item\"><li><span><a href=\"#三項演算子\" data-toc-modified-id=\"三項演算子-12.1\"><span class=\"toc-item-num\">12.1&nbsp;&nbsp;</span>三項演算子</a></span></li><li><span><a href=\"#zip()\" data-toc-modified-id=\"zip()-12.2\"><span class=\"toc-item-num\">12.2&nbsp;&nbsp;</span>zip()</a></span></li><li><span><a href=\"#内包表記\" data-toc-modified-id=\"内包表記-12.3\"><span class=\"toc-item-num\">12.3&nbsp;&nbsp;</span>内包表記</a></span><ul class=\"toc-item\"><li><span><a href=\"#例1：ある整数のリストLがあるとき、Lの各要素を自乗した新しいリストを作成する。\" data-toc-modified-id=\"例1：ある整数のリストLがあるとき、Lの各要素を自乗した新しいリストを作成する。-12.3.1\"><span class=\"toc-item-num\">12.3.1&nbsp;&nbsp;</span>例1：ある整数のリストLがあるとき、Lの各要素を自乗した新しいリストを作成する。</a></span></li><li><span><a href=\"#例2：[a,-b]-を複数含むリストが与えられ、[a-+-b,-a-*-b]-を要素とする新しいリストを作成する。\" data-toc-modified-id=\"例2：[a,-b]-を複数含むリストが与えられ、[a-+-b,-a-*-b]-を要素とする新しいリストを作成する。-12.3.2\"><span class=\"toc-item-num\">12.3.2&nbsp;&nbsp;</span>例2：<code>[a, b]</code> を複数含むリストが与えられ、<code>[a + b, a * b]</code> を要素とする新しいリストを作成する。</a></span></li><li><span><a href=\"#例3：[s,-t]-を複数含むリストが与えられ、s-*-t-が10以上20以下のものだけを取り出し、新たな-[s-*-t]-のリストを作成する。\" data-toc-modified-id=\"例3：[s,-t]-を複数含むリストが与えられ、s-*-t-が10以上20以下のものだけを取り出し、新たな-[s-*-t]-のリストを作成する。-12.3.3\"><span class=\"toc-item-num\">12.3.3&nbsp;&nbsp;</span>例3：<code>[s, t]</code> を複数含むリストが与えられ、s * t が10以上20以下のものだけを取り出し、新たな <code>[s * t]</code> のリストを作成する。</a></span></li><li><span><a href=\"#例4：2つのリストが与えられ、それぞれから要素を一つずつ取り出し、それをかけ合わせたもの全てを含むリストを作成する。\" data-toc-modified-id=\"例4：2つのリストが与えられ、それぞれから要素を一つずつ取り出し、それをかけ合わせたもの全てを含むリストを作成する。-12.3.4\"><span class=\"toc-item-num\">12.3.4&nbsp;&nbsp;</span>例4：2つのリストが与えられ、それぞれから要素を一つずつ取り出し、それをかけ合わせたもの全てを含むリストを作成する。</a></span></li><li><span><a href=\"#例5：与えられた2次元リストを、出てきた要素順の1次元のリストにする。\" data-toc-modified-id=\"例5：与えられた2次元リストを、出てきた要素順の1次元のリストにする。-12.3.5\"><span class=\"toc-item-num\">12.3.5&nbsp;&nbsp;</span>例5：与えられた2次元リストを、出てきた要素順の1次元のリストにする。</a></span></li><li><span><a href=\"#例6：リスト[0,-1]を5つ含むリストを作成する。\" data-toc-modified-id=\"例6：リスト[0,-1]を5つ含むリストを作成する。-12.3.6\"><span class=\"toc-item-num\">12.3.6&nbsp;&nbsp;</span>例6：リスト[0, 1]を5つ含むリストを作成する。</a></span></li><li><span><a href=\"#例7：3つの同じ長さのリストが与えられ、それぞれの同じ場所にある数字の積を持つ新たなリストを作成する。\" data-toc-modified-id=\"例7：3つの同じ長さのリストが与えられ、それぞれの同じ場所にある数字の積を持つ新たなリストを作成する。-12.3.7\"><span class=\"toc-item-num\">12.3.7&nbsp;&nbsp;</span>例7：3つの同じ長さのリストが与えられ、それぞれの同じ場所にある数字の積を持つ新たなリストを作成する。</a></span></li><li><span><a href=\"#例8：与えられた二次元リストの行列を入れ替えたものを作成する\" data-toc-modified-id=\"例8：与えられた二次元リストの行列を入れ替えたものを作成する-12.3.8\"><span class=\"toc-item-num\">12.3.8&nbsp;&nbsp;</span>例8：与えられた二次元リストの行列を入れ替えたものを作成する</a></span></li><li><span><a href=\"#例9：リストの各要素を自乗したものを含むセットを作成する。\" data-toc-modified-id=\"例9：リストの各要素を自乗したものを含むセットを作成する。-12.3.9\"><span class=\"toc-item-num\">12.3.9&nbsp;&nbsp;</span>例9：リストの各要素を自乗したものを含むセットを作成する。</a></span></li><li><span><a href=\"#例10：{'A':-1,-'B':-2,-'C':-3,-…-,-'Z':-26}-という内容の辞書、およびそのキーと値が逆の内容の辞書を作成する。\" data-toc-modified-id=\"例10：{'A':-1,-'B':-2,-'C':-3,-…-,-'Z':-26}-という内容の辞書、およびそのキーと値が逆の内容の辞書を作成する。-12.3.10\"><span class=\"toc-item-num\">12.3.10&nbsp;&nbsp;</span>例10：{'A': 1, 'B': 2, 'C': 3, … , 'Z': 26} という内容の辞書、およびそのキーと値が逆の内容の辞書を作成する。</a></span></li><li><span><a href=\"#番外1：sum()などの引数に内包表記を書く時は、外側の括弧を省略できる。\" data-toc-modified-id=\"番外1：sum()などの引数に内包表記を書く時は、外側の括弧を省略できる。-12.3.11\"><span class=\"toc-item-num\">12.3.11&nbsp;&nbsp;</span>番外1：sum()などの引数に内包表記を書く時は、外側の括弧を省略できる。</a></span></li><li><span><a href=\"#番外2：内包表記のifは最後に書く。途中に書かれている場合は三項演算子。\" data-toc-modified-id=\"番外2：内包表記のifは最後に書く。途中に書かれている場合は三項演算子。-12.3.12\"><span class=\"toc-item-num\">12.3.12&nbsp;&nbsp;</span>番外2：内包表記のifは最後に書く。途中に書かれている場合は三項演算子。</a></span></li></ul></li><li><span><a href=\"#ライブラリのインポート法\" data-toc-modified-id=\"ライブラリのインポート法-12.4\"><span class=\"toc-item-num\">12.4&nbsp;&nbsp;</span>ライブラリのインポート法</a></span></li><li><span><a href=\"#リスト・文字列の合成に関する注意\" data-toc-modified-id=\"リスト・文字列の合成に関する注意-12.5\"><span class=\"toc-item-num\">12.5&nbsp;&nbsp;</span>リスト・文字列の合成に関する注意</a></span></li><li><span><a href=\"#str.join()\" data-toc-modified-id=\"str.join()-12.6\"><span class=\"toc-item-num\">12.6&nbsp;&nbsp;</span>str.join()</a></span></li><li><span><a href=\"#入力のまとめ\" data-toc-modified-id=\"入力のまとめ-12.7\"><span class=\"toc-item-num\">12.7&nbsp;&nbsp;</span>入力のまとめ</a></span><ul class=\"toc-item\"><li><span><a href=\"#A～C:-基本の受け取り方\" data-toc-modified-id=\"A～C:-基本の受け取り方-12.7.1\"><span class=\"toc-item-num\">12.7.1&nbsp;&nbsp;</span>A～C: 基本の受け取り方</a></span></li><li><span><a href=\"#D:-最初の行に要素数Nが指定され、次行のスペースで区切られた整数列を受け取る\" data-toc-modified-id=\"D:-最初の行に要素数Nが指定され、次行のスペースで区切られた整数列を受け取る-12.7.2\"><span class=\"toc-item-num\">12.7.2&nbsp;&nbsp;</span>D: 最初の行に要素数Nが指定され、次行のスペースで区切られた整数列を受け取る</a></span></li><li><span><a href=\"#D':-スペースで区切られた2つの整数N,-Mを受け取る\" data-toc-modified-id=\"D':-スペースで区切られた2つの整数N,-Mを受け取る-12.7.3\"><span class=\"toc-item-num\">12.7.3&nbsp;&nbsp;</span>D': スペースで区切られた2つの整数N, Mを受け取る</a></span></li><li><span><a href=\"#E:-最初に要素数Nが指定され、続くN行の整数を受け取る\" data-toc-modified-id=\"E:-最初に要素数Nが指定され、続くN行の整数を受け取る-12.7.4\"><span class=\"toc-item-num\">12.7.4&nbsp;&nbsp;</span>E: 最初に要素数Nが指定され、続くN行の整数を受け取る</a></span></li><li><span><a href=\"#F:-最初に要素数N、行数Mが指定され、続くM行の整数列（要素数N）を受け取る\" data-toc-modified-id=\"F:-最初に要素数N、行数Mが指定され、続くM行の整数列（要素数N）を受け取る-12.7.5\"><span class=\"toc-item-num\">12.7.5&nbsp;&nbsp;</span>F: 最初に要素数N、行数Mが指定され、続くM行の整数列（要素数N）を受け取る</a></span></li></ul></li><li><span><a href=\"#フォーマット済み文字列リテラル-(f-string)\" data-toc-modified-id=\"フォーマット済み文字列リテラル-(f-string)-12.8\"><span class=\"toc-item-num\">12.8&nbsp;&nbsp;</span>フォーマット済み文字列リテラル (f-string)</a></span><ul class=\"toc-item\"><li><span><a href=\"#幅揃え\" data-toc-modified-id=\"幅揃え-12.8.1\"><span class=\"toc-item-num\">12.8.1&nbsp;&nbsp;</span>幅揃え</a></span></li><li><span><a href=\"#ゼロ埋め\" data-toc-modified-id=\"ゼロ埋め-12.8.2\"><span class=\"toc-item-num\">12.8.2&nbsp;&nbsp;</span>ゼロ埋め</a></span></li><li><span><a href=\"#小数の有効桁数\" data-toc-modified-id=\"小数の有効桁数-12.8.3\"><span class=\"toc-item-num\">12.8.3&nbsp;&nbsp;</span>小数の有効桁数</a></span></li></ul></li><li><span><a href=\"#key-を用いたソートと、無名関数-(lambda式)\" data-toc-modified-id=\"key-を用いたソートと、無名関数-(lambda式)-12.9\"><span class=\"toc-item-num\">12.9&nbsp;&nbsp;</span>key を用いたソートと、無名関数 (lambda式)</a></span></li></ul></li></ul></div>"
   ]
  },
  {
   "cell_type": "markdown",
   "metadata": {},
   "source": [
    "# はじめに"
   ]
  },
  {
   "cell_type": "markdown",
   "metadata": {},
   "source": [
    "この文書は、主に、Windows上で、Python を用いて競技プログラミングとやらを始めてみよう、あるいは競技プログラミングをとっかかりに Python とやらを使ってみようと最近思ったが、まだなんの勉強もしていないという、極めてニッチな人々向けに書かれている。\n",
    "\n",
    "前提条件として、Pythonの知識は全く必要ない。が、できれば Python の実行環境と何らかのコードエディターを、手元に用意しておきたい。\n",
    "\n",
    "2021年10月現在では、コードエディターには VSCode (Visual Studio Code) 推奨。\n",
    "\n",
    "とはいえ、近年は[paiza.io](http://paiza.io/ja)などオンラインで書いたコードを実行するサービスなども存在しているので、それを利用するのも悪くないだろう。が、個人的には手元にも実行環境を整備しておくことをオススメする。\n",
    "\n",
    "現在、正直サイト上には Python の初心者向け講座があふれている。さらに、日本の大学でも Python が講義に組み込まれることが増えてきた結果、東京大学や京都大学といった有名大学のサイトでも、非常に分かりやすい初心者向けの入門用文書が無料で配布されている。\n",
    "\n",
    "じゃあこんなの書く必要なくない？となるわけだが、そこは敢えて触れないでおく。\n",
    "\n",
    "前提知識は一切ないことを前提としているので、多少冗長な説明も多くなっている。あるいは、特に最初の方は、始めてプログラミングに触れる人にとってすら、まわりくどい説明が続くように感じるかもしれない。ただ、ある程度厳密な用語の説明と、そして他の言語でも通用するような一般的な知識についても書いているつもりなので、読み込んでもらえればそれなりの知識は身につくと思う。\n",
    "\n",
    "ごく個人的には、細かいところを気にしたまま先に進みたくない性分なので、そういった性格の人には、もしかしたら合っているかも知れない。\n",
    "\n",
    "その代わりに、なぜここでこの説明が……？というように、一般的な入門書とは違う構造になっている。リファレンス的な見方は想定しておらず、最初から順番に見ていくことで、必要と思われる知識を順次獲得していくような構成としている。\n",
    "\n",
    "一方、最低限の知識をまず獲得するという観点からは、競技プログラミングにおいて利用頻度の少ないものについては説明を省いていたりもしている。そのあたりは、各自別の参考書などで補ってもらいたい。\n",
    "\n",
    "本文中には余談や参考事項へのリンクが張られていることがある。そこには、役に立つことや、役に立たないことがいろいろと書いてある。ただし、そこまでの解説に含まれない高度な内容が含まれることもあるので、無理に読む必要はない。興味・疑問が出たときにでも眺めてもらえばいい。"
   ]
  },
  {
   "cell_type": "markdown",
   "metadata": {},
   "source": [
    "# この文書の内容について"
   ]
  },
  {
   "cell_type": "markdown",
   "metadata": {},
   "source": [
    "この文書においては、Python の使い方の基本的なところを学んでいくのを目的としている。\n",
    "\n",
    "実践的なアルゴリズムに関する話などは、この文書に**含まれない**ことに注意してほしい。  \n",
    "それらについては、個々のアルゴリズム、あるいは関連した内容でまとめつつ、別途それぞれの文書を作成していく予定としている。\n",
    "\n",
    "まずは、入力・出力と、関数・変数・型の概念について、短いコードを元にしながら、簡単な理解をしてもらう。ここまでの段階でも、一応ごく基礎的な問題が解けるようになっているはずなので、練習問題を一問はさみつつ、コンテストにおける実際の提出コードがどんな感じのものになるのか、体験してもらうことにする。\n",
    "\n",
    "次に、```if``` による条件分岐と真偽値に関する説明を行い、値の真偽によって別の処理を行う方法を学んでもらう。18歳以上ならエッチな本を買えるが、未満なら買えないとか、そんな感じのものである。これが出来るようになると、解ける問題の幅が広がってくる。\n",
    "\n",
    "```list``` リスト（配列）が次に来る。複数のデータをまとめて保存するためのものである。リストの概念と、その扱い方について説明をする。その後、リストと密接に関係している、```for``` によるループ処理に関する話をすることになる。リストはそれ単体ではふーんという感じだが、ループ処理を組み合わせることで強力な武器になる。ここは必要となる事柄が多く、かなり長い章立てとなっている。\n",
    "\n",
    "最後に、```while``` によるループや、```dict``` 辞書（連想配列）に関する話など、その他必要な最低限の事項について補足していく。ここまでで、基本的な話は終了する。つまり、大抵の初級問題は、書かれた内容の組み合わせで解くことが出来るようになる（はず）、ということでもある。"
   ]
  },
  {
   "cell_type": "markdown",
   "metadata": {},
   "source": [
    "# 入力・出力について"
   ]
  },
  {
   "cell_type": "markdown",
   "metadata": {},
   "source": [
    "## 競技プログラミング的な Hello World をしてみる"
   ]
  },
  {
   "cell_type": "markdown",
   "metadata": {},
   "source": [
    "早速だが、次のコードを打ち込み、実行してもらいたい。"
   ]
  },
  {
   "cell_type": "code",
   "execution_count": 38,
   "metadata": {},
   "outputs": [
    {
     "name": "stdout",
     "output_type": "stream",
     "text": [
      "Hello, World!\n"
     ]
    }
   ],
   "source": [
    "print(\"Hello, World!\")"
   ]
  },
  {
   "cell_type": "markdown",
   "metadata": {},
   "source": [
    "どんなプログラミング言語の入門書でも、なぜか最初に行うことになっている Hello, World である。これを実行すると、画面に ```Hello, World``` と表示される。\n",
    "\n",
    "[余談：Hello, World! について](./hello_protramming_contest_columns.ipynb#helloworld)"
   ]
  },
  {
   "cell_type": "markdown",
   "metadata": {},
   "source": [
    "これを堅苦しく書くと、```print()``` は、```()``` の中の内容を標準出力へと出力する関数である、という言い方になる。とりあえずは、ふーんと思ってもらうだけで大丈夫だ。カッコの中身は、```\"Hello, World!\"``` となっている。ちなみに ```\"～\"``` というダブルクォーテーションで囲っている表現は、```文字列``` であることを表す（詳細は ```型``` の説明のところで述べる）。"
   ]
  },
  {
   "cell_type": "markdown",
   "metadata": {},
   "source": [
    "ところで、競技プログラミングにおいては、一般的に標準入力から問題の内容を受け取り、標準出力へと回答する～みたいな条件のものが多い。従って、上記の ```print()``` によって標準出力へ対して回答をすることは出来ることになる。\n",
    "\n",
    "では問題はどのように受け取るのか。それを行うのが、```input()``` である。\n",
    "\n",
    "次のコードを実行してみてもらいたい。なにやら怪しげなことが書いてあるが、詳細は次の章で説明する。\n",
    "\n",
    "さて、実行すると、途中で一旦実行が停止し、入力を受け付ける状態になる。そこで、（なんでもいいのだが）ここでは ```Hello, World!``` と入力し、```Enter``` キーを押す。"
   ]
  },
  {
   "cell_type": "code",
   "execution_count": 39,
   "metadata": {},
   "outputs": [
    {
     "name": "stdout",
     "output_type": "stream",
     "text": [
      "Hello, World!\n",
      "Hello, World!\n"
     ]
    }
   ],
   "source": [
    "inp = input()\n",
    "print(inp)"
   ]
  },
  {
   "cell_type": "markdown",
   "metadata": {},
   "source": [
    "```input()``` は、標準入力－ここではキーボードの入力から一行読み込むために使用される。上のコードの動作を詳細に書くと、以下のようになる。\n",
    "\n",
    "1. 変数 ```inp``` に、```input()``` によって標準入力の内容一行分を保存する。ここでは標準入力はキーボードからの入力になる。\n",
    "2. ```print(inp)``` によって、```inp``` の内容を標準出力へと出力する。\n",
    "\n",
    "つまり、なんのことはない、キーボードに打ち込んだ内容を、オウム返しにそのまま出力するというわけだ。従って、入力した内容（一行目）と全く同じものが、二行目に表示されているわけである。"
   ]
  },
  {
   "cell_type": "markdown",
   "metadata": {},
   "source": [
    "競技プログラミングでは、標準入力から問題内容を読み込み、なにやら計算・処理を行い、標準出力へと回答することになることが多い。この入口と出口の部分が、上記のコードだと言える。\n",
    "\n",
    "つまり、大げさに言えば、上の二行のコードを理解できれば、競技プログラミングへ参加する準備はほぼ整ったも同然である。\n",
    "\n",
    "ようこそ、競技プログラミングの世界へ。\n",
    "\n",
    "[参考：標準入出力とは](./introduction_to_python_columns.ipynb#stdinout)"
   ]
  },
  {
   "cell_type": "markdown",
   "metadata": {},
   "source": [
    "# 関数・変数・型"
   ]
  },
  {
   "cell_type": "code",
   "execution_count": null,
   "metadata": {},
   "outputs": [],
   "source": [
    "inp = input()\n",
    "print(inp)"
   ]
  },
  {
   "cell_type": "markdown",
   "metadata": {},
   "source": [
    "ここからしばらくは、上記のコードを眺めつつ、プログラミングにおいてもっとも基本的な概念をいくつか学んでいくことにしよう。これらを理解できれば、冗談ではなく、自分だけの力で、競技プログラミングのごく基本的な問題に回答することも出来るようになる。"
   ]
  },
  {
   "cell_type": "markdown",
   "metadata": {},
   "source": [
    "## 関数とは"
   ]
  },
  {
   "cell_type": "code",
   "execution_count": null,
   "metadata": {},
   "outputs": [],
   "source": [
    "inp = input()\n",
    "print(inp)"
   ]
  },
  {
   "cell_type": "markdown",
   "metadata": {},
   "source": [
    "いきなり関数ってなんでガンス？と思った方もいるかもしれないが、上記コードにおける ```input()``` や ```print(inp)``` が関数である。なにから解説するか悩むところだが、まずは関数に関するごく簡単な解説を行うことにする。\n",
    "\n",
    "関数は、次のような書き方で使用される。\n",
    "\n",
    "```関数名(引数1, 引数2, ...)```\n",
    "\n",
    "ちなみに、引数は湯桶読みで「ひきすう」と読む。引数は、```inp = input()``` のように無くても場合もあるし、たくさん取る場合もある。引数を複数使用する場合には、上記のようにカンマ ```,``` で区切って渡してやる。\n",
    "\n",
    "```キーワード引数``` と呼ばれる引数を使用する場合もあるが、これは最後にまとめて書く。例えば、```print()``` は、```sep``` ```end``` ```file``` といったキーワード引数を取ることができる。一例だが、```print(some_list, sep=',')``` のように書く。この ```sep=','``` の部分がキーワード引数であり、キーワードは ```sep``` である。キーワード引数でない引数は、```位置引数``` とも呼ばれる。何番目に書かれるかで意味が変わってくるためだ。\n",
    "\n",
    "なお、この文書では、関数名を書く場合は原則として ```()``` をつけて書くことにする。ついていない場合は、後に説明する「引数としての関数」を取り扱う場合か、もしくは書き忘れである。\n",
    "\n",
    "典型的な関数は、受け取った引数を元になんらかの処理を行い、結果を返すようになっている。この返ってくる結果を、「戻り値」とか「返り値」などと呼ぶ。\n",
    "\n",
    "関数はプログラミングにおいて必要不可欠なもので、様々な機能を持ったものが、あらかじめ多数用意されている。このあらかじめ用意されている関数のことを、組み込み関数と呼ぶこともある。\n",
    "\n",
    "一方、もちろん自分で関数を作ることも出来る。これについては、もうしばらく後の方で解説を行うことにする。\n",
    "\n",
    "ここでは、上記コードに登場する二つの組み込み関数を順番に眺めてみることにしよう。"
   ]
  },
  {
   "cell_type": "markdown",
   "metadata": {},
   "source": [
    "### input()"
   ]
  },
  {
   "cell_type": "markdown",
   "metadata": {},
   "source": [
    "```input()``` は、前述の通り、標準入力から入力を一行受け取るための関数だ。引数は無くてもいいが、何かを一つだけ引数に取ることも出来る。その場合、引数の内容を表示（標準入力へ出力）した後、標準入力を受け取ることになる。\n",
    "\n",
    "競技プログラミングでは引数を渡すことは滅多に無いと思われるが、一般的なプログラムではよく使う。例えば、身長と体重を順番にキーボードから入力してもらいたい時に、"
   ]
  },
  {
   "cell_type": "code",
   "execution_count": null,
   "metadata": {},
   "outputs": [],
   "source": [
    "height = int(input(\"身長を入力してください：\"))\n",
    "weight = int(input(\"体重を入力してください：\"))"
   ]
  },
  {
   "cell_type": "markdown",
   "metadata": {},
   "source": [
    "などといったように書く。ここでは細かいコードの内容は無視して、雰囲気だけ掴んでもらいたい。\n",
    "\n",
    "さて、```input()``` は、（あれば引数の内容を表示して）標準入力から一行読み込みを行う。そして、読み込んだ内容を戻り値として返す。戻り値の内容は常に```文字列``` となっている。\n",
    "\n",
    "二行以上の入力を受け取る場合には、単純に ```input()``` を複数回使用することになる。"
   ]
  },
  {
   "cell_type": "markdown",
   "metadata": {},
   "source": [
    "### print()"
   ]
  },
  {
   "cell_type": "markdown",
   "metadata": {},
   "source": [
    "```print()``` は、引数の内容を標準出力へと出力する関数だ。引数は、0 個以上いくつでも取ることができ、複数の引数を取った場合は、標準では半角スペース区切りで値を並べて出力する。また、引数の内容を出力し終えた後、改行を行う。\n",
    "\n",
    "具体的には、次の例を確認してもらいたい。"
   ]
  },
  {
   "cell_type": "code",
   "execution_count": 41,
   "metadata": {},
   "outputs": [
    {
     "name": "stdout",
     "output_type": "stream",
     "text": [
      "1 2 3\n",
      "\n",
      "4 5 6\n"
     ]
    }
   ],
   "source": [
    "print(1, 2, 3)\n",
    "print()\n",
    "print(4, 5, 6)"
   ]
  },
  {
   "cell_type": "markdown",
   "metadata": {},
   "source": [
    "2行目、```print()``` では空白行が出力されており、他の行では各引数が空白区切りで出力されているのが分かると思う。\n",
    "\n",
    "なお、```print()``` は出力は行うが、戻り値は返さない（正確には ```None``` を返す。これについては後述）関数である。\n",
    "\n",
    "[余談：関数の副作用とは](./introduction_to_python_columns.ipynb#sideeffect)  \n",
    "[参考：print() のキーワード引数](./introduction_to_python_columns.ipynb#keywordargumentsofprint)"
   ]
  },
  {
   "cell_type": "markdown",
   "metadata": {},
   "source": [
    "## 変数とは"
   ]
  },
  {
   "cell_type": "markdown",
   "metadata": {},
   "source": [
    "さて、いよいよ「変数」の話をしよう。変な数、ではない。\n",
    "\n",
    "数学で変数というと、x だとか y だとか、そういったものを思い浮かべるだろう。基本的には、プログラミングにおける変数も、似たようなものである……いや、冷静に考えると割と違うか。\n",
    "\n",
    "プログラミングにおいて、変数とは様々な値を保存しておくための箱のようなものである……なんて説明がされることが多い。とりあえずは、この理解でいいだろう。\n",
    "\n",
    "いちいち保存しておく必要とか無くない？と思われる方も、もしかしたらいるかもしれない。ごく簡単なプログラムにおいてはその通りだし、実際、変数をひとつも使わないまま完結できる場合も無くはない。\n",
    "\n",
    "しかし、少しプログラムが複雑になってくると、前に計算した値を再利用する必要などが出てくる。そのため、分かりやすい名前をつけて値を保存しておくことができるようにしておくと、非常に便利だ。それが変数というわけだ。"
   ]
  },
  {
   "cell_type": "markdown",
   "metadata": {},
   "source": [
    "### 変数の作成と代入"
   ]
  },
  {
   "cell_type": "markdown",
   "metadata": {},
   "source": [
    "変数を作成し、値を保存するには、代入演算子 ```=``` を用いる。具体的には、次のように書く。\n",
    "\n",
    "```変数名 = 保存したい値```\n",
    "\n",
    "ここで、一行目を見てもらいたい。\n",
    "\n",
    "```inp = input()```\n",
    "\n",
    "これは、```inp``` という名前の変数に、```input()``` を保存する、という意味だ。これを代入と呼ぶ。\n",
    "\n",
    "……ちょっと待って、```input()``` って、何かよくわかんないけど、「値」じゃないよね？と思われた方は、なかなか鋭い。実は、```=``` が使用されたときには、まず ```=``` の右辺を内容を計算、あるいは処理してから、左辺の名前の変数に対して代入を行うことになっている。\n",
    "\n",
    "そこで右辺の内容から見てみよう。```input()``` が処理されると、結果として標準入力から一行分読み込みが行われ、その値が返ってくる（きちんとした話は関数の項目で後述）。今回、標準入力はキーボードから行うので、仮に ```Hello, World!``` と入力して Enter したとしよう。すると、右辺は最終的に ```Hello, World!``` という文字列になる。つまり、\n",
    "\n",
    "```inp = \"Hello, World!\"```\n",
    "\n",
    "という式になるわけだ。右辺の処理が完了したので、次にこの式を処理することになる。めでたく、```inp``` という名前の変数に対して、文字列 ```Hello, World!``` が代入される。"
   ]
  },
  {
   "cell_type": "markdown",
   "metadata": {},
   "source": [
    "### 評価と式と文"
   ]
  },
  {
   "cell_type": "markdown",
   "metadata": {},
   "source": [
    "コードが実行されている最中に、変数や関数など、保存されている値、あるいは返り値をもつ要素が現れると、その値を求める作業が優先的に行われる。これを ```評価``` (evaluate) と呼ぶ。要素が評価され、その返ってきた結果の値と置き換えられた上で、続きの処理が行われることになる。\n",
    "\n",
    "また、```評価``` 可能な要素を ```式``` と呼ぶ。変数・関数・演算子による演算などは、全て ```式``` である。\n",
    "\n",
    "一方で、それ以外は ```文``` である。例えば厳密には、```var = 0``` のような代入操作は値を返さないので、```式```ではなく```文``` ということになる。他には、後述する ```if``` ```for``` などの制御文も、```文```である。\n",
    "\n",
    "ちなみに、```文``` とはそもそも実行される手続きの分解単位のことだ。つまり、プログラミング言語そのものは ```文``` の集まりである。となると、実は ```式``` 単体で構成された ```文``` というものが多く存在しているはずだ。こういったものを、```式文``` と呼ぶ。\n",
    "\n",
    "これらの区分は、普段は意識することは少ないだろうが、他の多くの言語と共通する基本的な概念でもあるので、頭の片隅においておくといいだろう。"
   ]
  },
  {
   "cell_type": "markdown",
   "metadata": {},
   "source": [
    "[余談：代入は式じゃない？](./introduction_to_python_columns.ipynb#assignmentexpression)"
   ]
  },
  {
   "cell_type": "markdown",
   "metadata": {},
   "source": [
    "### 変数の名前について"
   ]
  },
  {
   "cell_type": "markdown",
   "metadata": {},
   "source": [
    "変数の名前に使用できる文字は、大文字・小文字のアルファベット、数字、アンダースコア ```_``` となっている。\n",
    "\n",
    "これらを自由に組み合わせて名前をつけることが出来るが、名前の最初に数字を使用することはできない。また、一部の予約語は名前として使用することができない。具体的には、"
   ]
  },
  {
   "cell_type": "code",
   "execution_count": 42,
   "metadata": {},
   "outputs": [
    {
     "name": "stdout",
     "output_type": "stream",
     "text": [
      "['False', 'None', 'True', '__peg_parser__', 'and', 'as', 'assert', 'async', 'await', 'break', 'class', 'continue', 'def', 'del', 'elif', 'else', 'except', 'finally', 'for', 'from', 'global', 'if', 'import', 'in', 'is', 'lambda', 'nonlocal', 'not', 'or', 'pass', 'raise', 'return', 'try', 'while', 'with', 'yield']\n"
     ]
    }
   ],
   "source": [
    "import keyword\n",
    "print(keyword.kwlist)"
   ]
  },
  {
   "cell_type": "markdown",
   "metadata": {},
   "source": [
    "とすることで確認することが出来る。この中にあるものは、使用できない。\n",
    "\n",
    "ただし、この中に無くても、他のよく使う名前などとかぶってしまうものは、つけないほうがいいだろう。ありがちなのは、標準の機能として用意されている ```list``` ```dict``` ```set``` などである。これらを変数名として使用してしまうと、標準の機能が使えなくなってしまう。"
   ]
  },
  {
   "cell_type": "markdown",
   "metadata": {},
   "source": [
    "……さて、これは余談だが、実際のところ、Pythonでは他の文字（全角文字など）を変数名として使用することもできる（事が多い）。\n",
    "\n",
    "下の例では、試しに日本語での変数名 ```邪悪な名前の変数``` を作成している。"
   ]
  },
  {
   "cell_type": "code",
   "execution_count": 44,
   "metadata": {},
   "outputs": [
    {
     "name": "stdout",
     "output_type": "stream",
     "text": [
      "13\n"
     ]
    }
   ],
   "source": [
    "邪悪な名前の変数 = 13\n",
    "print(邪悪な名前の変数)"
   ]
  },
  {
   "cell_type": "markdown",
   "metadata": {},
   "source": [
    "とはいえ、公式の命名規則には従っておくのが吉だろう。"
   ]
  },
  {
   "cell_type": "markdown",
   "metadata": {},
   "source": [
    "[余談：キャメルケースとスネークケース](./introduction_to_python_columns.ipynb#variablenamecases)"
   ]
  },
  {
   "cell_type": "markdown",
   "metadata": {},
   "source": [
    "### 変数の利用について"
   ]
  },
  {
   "cell_type": "markdown",
   "metadata": {},
   "source": [
    "作成した変数は、その名前を書くことで、保存してある値を利用できる。具体的には、前述のコードの二行目だ。\n",
    "\n",
    "```print(inp)```\n",
    "\n",
    "ここでは、```print(inp)``` を評価するにあたり、先にカッコ内の ```inp``` が評価される。これが一行目で作成した変数であり、中身はキーボードから入力された文字列、ここでは ```Hello, World!``` となっている。```inp``` の評価を行われた結果、その文字列が呼び出される。結果として、```inp``` の評価後の全体としては ```print(\"Hello, World!\")``` となる。さらにこれが評価されると、最終的には標準出力に対して文字列 ```Hello, World!``` が出力される。"
   ]
  },
  {
   "cell_type": "markdown",
   "metadata": {},
   "source": [
    "一度作成した変数に対し、後から別の値を代入することも出来る。この場合、値は上書きされる形になり、以前の値は失われるので注意。"
   ]
  },
  {
   "cell_type": "code",
   "execution_count": 45,
   "metadata": {},
   "outputs": [
    {
     "name": "stdout",
     "output_type": "stream",
     "text": [
      "0\n",
      "2\n"
     ]
    }
   ],
   "source": [
    "var = 0\n",
    "print(var)\n",
    "\n",
    "var = 2\n",
    "print(var)"
   ]
  },
  {
   "cell_type": "markdown",
   "metadata": {},
   "source": [
    "## 型とは"
   ]
  },
  {
   "cell_type": "markdown",
   "metadata": {},
   "source": [
    "では、代入によって変数に保存することの出来る様々な値とは、具体的にどのようなものだろうか。Python では、扱うことの出来る様々な種類の値があるが、ここでは、とりあえず次のようにしておく。\n",
    "\n",
    "1. 数値\n",
    "2. 文字列\n",
    "3. None\n",
    "4. その他\n",
    "\n",
    "このような（といっても、今のところ大したことは書いてないが）値の種類のことを、「型」と呼ぶ。差し当たっては、この分類で十分である。その他の型については、後ほど紹介する。\n",
    "\n",
    "よって、まず数値型と文字列型、およびそれぞれに用いることの出来る演算子について軽く説明をしていく。\n",
    "\n",
    "[余談：型とか考える必要あるの？](./introduction_to_python_columns.ipynb#whydatatypesneeded)  \n",
    "[参考：そもそも演算子って何？](./introduction_to_python_columns.ipynb#whatareoperators)"
   ]
  },
  {
   "cell_type": "markdown",
   "metadata": {},
   "source": [
    "### 数値型 (int, float)"
   ]
  },
  {
   "cell_type": "markdown",
   "metadata": {},
   "source": [
    "数値とは、例えば次のようなものである。\n",
    "\n",
    "```\n",
    "0\n",
    "-5\n",
    "1.0\n",
    "3.14\n",
    "```\n",
    "\n",
    "いわゆる、普通の数字である。数値には、大きく分けると二種類ある。すなわち、整数を扱う型と小数を扱う型だ。上記でいうと、最初の2つは整数であり、後の2つは小数ということになる。\n",
    "\n",
    "```1.0``` とか整数みたいなものじゃない？と思った方もいるだろうが、```1``` ではなく ```1.0``` と書いたときには、内部的には小数として扱われる。\n",
    "\n",
    "整数を扱う型のことを、```int``` 型と呼ぶ。整数、つまり Integer からついている名前である。Python では、整数はどんなに桁数の大きな値でも取り扱うことが出来る。ただし、極端に桁の大きな数を取り扱うときには、かなり速度が低下するので注意してほしい。\n",
    "\n",
    "小数を扱う型は、```float``` 型と呼ぶ。小数は、例えば 3.14 は内部的には「314掛ける10の-2乗」のような形で表されている。仮数、つまりは元になる数と、指数、つまりは小数点の場所で表す形になるわけで、小数点が移動するように見える構造から、浮動小数点数と呼ばれる、数値の表現法である。この浮動小数点数、Floating Pointing Number から、名前がついている。```float``` の有効桁数は、概ね16～17桁である。\n",
    "\n",
    "数値同士は、算術演算子を用いて計算を行うことが出来る。\n",
    "\n",
    "- ```+``` で足し算\n",
    "- ```-``` で引き算\n",
    "- ```*``` で掛け算\n",
    "- ```**``` で冪乗\n",
    "\n",
    "となっている。\n",
    "\n",
    "割り算だけは少し特殊で、二種類ある。すなわち、余りの出る切り捨ての除算と、余りのない普通の除算だ。\n",
    "\n",
    "- ```/``` が、単純な割り算の商\n",
    "- ```//``` が、切り捨ての割り算の商\n",
    "- ```%``` が、切り捨ての割り算での余り\n",
    "\n",
    "となっている。ご多分に漏れず、```0``` で割ろうとするとエラーが発生するので注意してほしい。"
   ]
  },
  {
   "cell_type": "markdown",
   "metadata": {},
   "source": [
    "試しにいくつか計算してみよう。"
   ]
  },
  {
   "cell_type": "code",
   "execution_count": 46,
   "metadata": {},
   "outputs": [
    {
     "name": "stdout",
     "output_type": "stream",
     "text": [
      "10 4 21 343 2 1 2.3333333333333335\n"
     ]
    }
   ],
   "source": [
    "print(7 + 3, 7 - 3, 7 * 3, 7 ** 3, 7 // 3, 7 % 3, 7 / 3)"
   ]
  },
  {
   "cell_type": "markdown",
   "metadata": {},
   "source": [
    "ところで、次の例をみてもらいたい。"
   ]
  },
  {
   "cell_type": "code",
   "execution_count": 47,
   "metadata": {},
   "outputs": [
    {
     "name": "stdout",
     "output_type": "stream",
     "text": [
      "2.0\n"
     ]
    }
   ],
   "source": [
    "print(4 / 2)"
   ]
  },
  {
   "cell_type": "markdown",
   "metadata": {},
   "source": [
    "このように、```/``` を使った演算は、たとえ割り切れるものであっても、かならず浮動小数点数で答えが返ってくるので、注意してもらいたい。"
   ]
  },
  {
   "cell_type": "markdown",
   "metadata": {},
   "source": [
    "一般の数式のように、複数の数値と演算を並べて書くことも出来る。"
   ]
  },
  {
   "cell_type": "code",
   "execution_count": 48,
   "metadata": {},
   "outputs": [
    {
     "name": "stdout",
     "output_type": "stream",
     "text": [
      "6 22 2\n"
     ]
    }
   ],
   "source": [
    "print(1 + 2 + 3, 5 * 4 + 2, (3 + 8) % 3)"
   ]
  },
  {
   "cell_type": "markdown",
   "metadata": {},
   "source": [
    "掛け算は足し算より優先などといった感じの演算の優先度が定められてはいるが、上記のように ```()``` で囲えばそちらが優先的に計算される。少しややこしくなるときは、とにかくわかりやすく囲っておく癖をつけておくほうがいいだろう。"
   ]
  },
  {
   "cell_type": "markdown",
   "metadata": {},
   "source": [
    "この場では少し余談に近くなるが、浮動小数点数に関しては初心者～中級者の引っかかる罠が多い。従って、計算を行う際はなるべく整数で行うようにしよう。\n",
    "\n",
    "今の段階では「計算はなるべく整数」と、とりあえず軽く頭の片隅に置いておいてほしい。"
   ]
  },
  {
   "cell_type": "markdown",
   "metadata": {},
   "source": [
    "[余談：巨大な整数の扱い](./introduction_to_python.ipynb#bignumbers)  \n",
    "[参考：他の数値の表し方、無限大](./introduction_to_python.ipynb#numbersappendix)"
   ]
  },
  {
   "cell_type": "markdown",
   "metadata": {},
   "source": [
    "#### var = var + 1 という書き方について"
   ]
  },
  {
   "cell_type": "markdown",
   "metadata": {},
   "source": [
    "この式が意味するところは、結局 var に 1 加算するということなのだが、この書き方が気持ち悪い、馴染めない、意味がわからないという理由で挫折してしまう人もいるらしい。そこで、少し細かく解説する。\n",
    "\n",
    "といっても、上で紹介した原則に沿って考えてもらえれば大丈夫だ。以下、仮に今の変数 ```var``` の中身が、```3``` だとする。\n",
    "\n",
    "1. ここでの ```+``` は代入演算子であり、右辺の内容を左辺の変数へと代入するという意味。\n",
    "2. 代入演算子は、まず右辺 ```var + 1``` を評価した後に、左辺へと代入する。\n",
    "3. ```var + 1``` を評価するが、```var``` は変数なので、まずその評価が行われ、整数値の ```3``` となる。\n",
    "4. よって、右辺は ```3 + 1``` となり、これが評価されて ```4``` になる。\n",
    "5. 最終的に、```var``` に対して ```4``` が代入される。\n",
    "\n",
    "プログラミングが初めての人は違和感を持つ表記だと思うが、たぶんすぐに慣れるので安心して欲しい。ポイントとしては、算数や数学で馴染みのあるイコール ```=``` 記号とは意味が全く違う、ということである。"
   ]
  },
  {
   "cell_type": "markdown",
   "metadata": {},
   "source": [
    "#### 複合代入演算子"
   ]
  },
  {
   "cell_type": "markdown",
   "metadata": {},
   "source": [
    "さて、上記の ```var = var + 1``` をもう少し簡単に ```var += 1``` と書くことができる。\n",
    "\n",
    "これは複合代入演算子と呼ばれるもので、加算の ```+=``` だけでなく、全ての算術演算子に用意されている。すなわち、```-=```, ```*=```, ```/=```, ```//=```, ```%=``` が使用できる。例えば、```var %= 7``` と ```var = var % 7``` は同じことが起こる。\n",
    "\n",
    "ちなみに、複合代入演算子は代入操作のみおこなう、```文``` である。"
   ]
  },
  {
   "cell_type": "markdown",
   "metadata": {},
   "source": [
    "### 文字列型 (str)"
   ]
  },
  {
   "cell_type": "markdown",
   "metadata": {},
   "source": [
    "では、今まで無責任にろくな説明も無く使ってきた、```文字列```についての話をする。\n",
    "\n",
    "文字列は、0 個以上の文字をつなげた一連の塊のことだ。文字列型は、英語の String から、```str``` 型と呼ばれる。  \n",
    "コード中に文字列を表すためには、表したい文字列をダブルクォーテーション ```\"``` 、もしくはシングルクォーテーション ```'``` で囲めばいい。ちなみに、このようにして文字列を表現したものを、```文字列リテラル``` と呼ぶ。これは、文字列を格納している変数ではなく、直接文字列を表すための表現、という意味合いである。\n",
    "\n",
    "上に「0 個以上の一連の文字をつなげたもの」と書いたが、つまり、内容に一文字も含まれない文字列も存在する。すなわち、```\"\"``` もしくは ```''``` である。これも立派な文字列ではあるが、特別に ```空文字列``` と呼ばれたりする。\n",
    "\n",
    "また、一文字だけの場合も、Python においては文字列となる。が、単純に表現として ```文字``` と呼ぶ場合もある。この文書中でもおそらく表現が混在することになると思うが、文字数以上の深い意味はない。"
   ]
  },
  {
   "cell_type": "markdown",
   "metadata": {},
   "source": [
    "[余談：シングル or ダブルクォーテーション？](./introduction_to_python_columns.ipynb#aboutquotations)"
   ]
  },
  {
   "cell_type": "markdown",
   "metadata": {},
   "source": [
    "#### エスケープシーケンス"
   ]
  },
  {
   "cell_type": "markdown",
   "metadata": {},
   "source": [
    "文字列中にダブルクォーテーションを含めたい場合は、シングルクォーテーションで囲って文字列を作成するか、もしくは文字列中のダブルクォーテーションの前に、```\\``` をつけてやる。文字列表現中の ```\\``` は、次の文字とあわせて特殊な文字になりますよということを知らせるための記号で、エスケープ文字と呼ばれる。この場合、```\\``` は次の ```\"``` が文字列の終わりを示すわけでは無く、文字列の要素としての ```\"``` ですよと示す役割になる。\n",
    "\n",
    "例えば、```\"abc\\\"def\\\"ghi\"``` などと表記すれば、文字列中に ```\"``` を含む文字列になる。つまり、中身は ```abc\"def\"ghi``` だ。\n",
    "\n",
    "文字列中に、シングルクォーテーションを含めたい場合も同様である。\n",
    "\n",
    "ちなみに、エスケープ文字を用いた特殊文字を、エスケープシーケンスと呼ぶ。もっとも使用頻度が高いエスケープシーケンスは、```\\n``` だろう。これは、改行を表す仕組みとなっている。新しい行、newline の頭文字で ```\\n``` というわけだ。"
   ]
  },
  {
   "cell_type": "code",
   "execution_count": 49,
   "metadata": {},
   "outputs": [
    {
     "name": "stdout",
     "output_type": "stream",
     "text": [
      "Hello,\n",
      "World!\n"
     ]
    }
   ],
   "source": [
    "print(\"Hello,\\nWorld!\")"
   ]
  },
  {
   "cell_type": "markdown",
   "metadata": {},
   "source": [
    "競技プログラミングにおいて、エスケープシーケンスを使う機会はあまり無い。とりあえず改行の ```\\n``` を覚えておけば十分だろう。"
   ]
  },
  {
   "cell_type": "markdown",
   "metadata": {},
   "source": [
    "今後は、この文書中においては、文字列を ```\"``` 付きで表現する。例えば、文中に ```\"abc\"``` と書いてあったら、それは内容が ```abc``` の三文字からなる文字列、という意味になるので、注意してほしい。"
   ]
  },
  {
   "cell_type": "markdown",
   "metadata": {},
   "source": [
    "文字列に対しても、いくつかの演算子が使用できる。"
   ]
  },
  {
   "cell_type": "code",
   "execution_count": 50,
   "metadata": {},
   "outputs": [
    {
     "name": "stdout",
     "output_type": "stream",
     "text": [
      "abcdef\n"
     ]
    }
   ],
   "source": [
    "print('abc' + 'def')"
   ]
  },
  {
   "cell_type": "code",
   "execution_count": 51,
   "metadata": {},
   "outputs": [
    {
     "name": "stdout",
     "output_type": "stream",
     "text": [
      "abcabcabcabcabc\n"
     ]
    }
   ],
   "source": [
    "print('abc' * 5)"
   ]
  },
  {
   "cell_type": "markdown",
   "metadata": {},
   "source": [
    "ただし、文字列同士の演算は予想外の計算量になることがあるので、あまり使用しないほうがいい。理由も説明する予定ではあるが、後の方になる予定だ。"
   ]
  },
  {
   "cell_type": "markdown",
   "metadata": {},
   "source": [
    "### 型の変換"
   ]
  },
  {
   "cell_type": "markdown",
   "metadata": {},
   "source": [
    "型は、相互に変換することが出来る。Python での型変換は簡単で、```型名()``` という関数に、変換したい値を引数として渡してやればいい。変換可能であれば、いい具合に変換したものを返してくれる。\n",
    "\n",
    "以下は、文字列と数値を相互に変換する例だ。"
   ]
  },
  {
   "cell_type": "code",
   "execution_count": 52,
   "metadata": {},
   "outputs": [
    {
     "name": "stdout",
     "output_type": "stream",
     "text": [
      "4242\n",
      "84\n"
     ]
    }
   ],
   "source": [
    "val = 42\n",
    "\n",
    "str_val = str(val)\n",
    "print(str_val * 2)\n",
    "\n",
    "int_val = int(str_val)\n",
    "print(int_val * 2)"
   ]
  },
  {
   "cell_type": "markdown",
   "metadata": {},
   "source": [
    "変数 ```val``` には、当初 ```int``` 型が入っているが、```str()``` によって文字列型へと変換され、さらにそれが ```int()``` によって整数型へと変換できているのが分かる。"
   ]
  },
  {
   "cell_type": "markdown",
   "metadata": {},
   "source": [
    "### None"
   ]
  },
  {
   "cell_type": "markdown",
   "metadata": {},
   "source": [
    "```None``` は少し特殊な型であると同時に ```None``` という値でもある。意味するところは、何も入っていないということだ。\n",
    "\n",
    "値そのものが存在していないという意味で、例えば数値として 0 を持っている状態とは明確に違う。他の言語においては ```null``` と呼ばれることが多い。"
   ]
  },
  {
   "cell_type": "markdown",
   "metadata": {},
   "source": [
    "```None``` は値の不存在を意味するので、一致判定 ```==``` や ```is``` と不一致判定 ```!=``` や ```is not``` は可能であるが、他の演算はほぼ行えない。なぜなら、存在しない値に演算はできないからだ。\n",
    "\n",
    "```is```、```is not``` についてはここでは深く説明しないが、原則こちらを使用するほうがいい。が、ほとんどの場合は ```==``` ```!=``` でも問題なく動作する。\n",
    "\n",
    "ちなみに、関数の戻り値が ```None``` ということは、何も返していないという意味でもある。"
   ]
  },
  {
   "cell_type": "markdown",
   "metadata": {},
   "source": [
    "[参考：厳密な None 判定は is で行う](./introduction_to_python.ipynb#howtomakesureitsnone)"
   ]
  },
  {
   "cell_type": "markdown",
   "metadata": {},
   "source": [
    "### 型の確認"
   ]
  },
  {
   "cell_type": "markdown",
   "metadata": {},
   "source": [
    "型を確認するには、```type()``` を使用する。"
   ]
  },
  {
   "cell_type": "code",
   "execution_count": 78,
   "metadata": {},
   "outputs": [
    {
     "name": "stdout",
     "output_type": "stream",
     "text": [
      "<class 'float'> <class 'int'> <class 'str'>\n"
     ]
    }
   ],
   "source": [
    "print(type(1.0), type(1), type('abc'))"
   ]
  },
  {
   "cell_type": "markdown",
   "metadata": {},
   "source": [
    "クラスって？と思われた方はするどい。実は正確には、Python において全ての値は ```クラス``` となっている。クラスの概念については後述する。"
   ]
  },
  {
   "cell_type": "markdown",
   "metadata": {},
   "source": [
    "## 練習問題"
   ]
  },
  {
   "cell_type": "markdown",
   "metadata": {},
   "source": [
    "さて、ここまで関数の基礎、数値型と文字列型つまり ```int```, ```float```, ```str``` 、およびある程度の適用可能な演算子について説明をしてきた。そこで、つぎのような問題を解くことを考えてみよう。ちなみにこの問題は、今でっち上げたオリジナルの問題であるが、AtCoder Beginner Contest なら A問題はこれくらいの難易度である。"
   ]
  },
  {
   "cell_type": "markdown",
   "metadata": {},
   "source": [
    "---\n",
    "**問題：**  \n",
    "六面体サイコロの反対の面にある目を合計すると、7 になることが知られています。  \n",
    "えしび君が机の上で六面体サイコロをふたつ振ると、それぞれ上に $N$ の目と $M$ の目が出ました。\n",
    "下の目、つまり机に接している側の目の合計を求め、出力してください。\n",
    "\n",
    "**入力：**  \n",
    "$\n",
    "N \\\\\n",
    "M \\\\\n",
    "$\n",
    "---"
   ]
  },
  {
   "cell_type": "markdown",
   "metadata": {},
   "source": [
    "まず、```N``` と ```M``` を読み込むことから考えよう。変数の名前は、問題に合わせてそれぞれ ```N```, ```M``` とする。\n",
    "\n",
    "標準入力へ行われるとのことなので、```input()``` の出番となる。また、2行に渡って行われるので、```input()``` は二回使用する必要がある。というわけで、次のようなコードで読み込みを行うことになる。"
   ]
  },
  {
   "cell_type": "code",
   "execution_count": null,
   "metadata": {},
   "outputs": [],
   "source": [
    "N = input()\n",
    "M = input()"
   ]
  },
  {
   "cell_type": "markdown",
   "metadata": {},
   "source": [
    "ところが、ここで困ったことが発生する。```input()``` の返り値は ```str``` つまり文字列型となっている。よって、そのままでは数値としての計算ができないのだ。具体的には、入力における ```N``` ```M``` がそれぞれ ```1``` ```6``` だったとしても、上記のコードで読み込みを行うと、```N = \"1\"``` ```M = \"6\"``` という読み込みになる。仮にこれらを ```+``` 演算子でそのまま足してみると、```\"16\"``` になってしまったりする。\n",
    "\n",
    "つまり、まずはこの文字列 ```str``` を整数 ```int``` へと変換してやる必要がある。というわけで、```int()``` を使用しよう。"
   ]
  },
  {
   "cell_type": "code",
   "execution_count": null,
   "metadata": {},
   "outputs": [],
   "source": [
    "N = input()\n",
    "M = input()\n",
    "\n",
    "N = int(N)\n",
    "M = int(M)"
   ]
  },
  {
   "cell_type": "markdown",
   "metadata": {},
   "source": [
    "このように書けば、最終的に ```N``` と ```M``` は、本来必要な整数値 ```int``` へと変換される。実際には、まとめて次のように書いてやると楽だろう。"
   ]
  },
  {
   "cell_type": "markdown",
   "metadata": {},
   "source": [
    "N = int(input())\n",
    "M = int(input())"
   ]
  },
  {
   "cell_type": "markdown",
   "metadata": {},
   "source": [
    "後は、計算して答えを出力してやればいい。丁寧に書けば次のようになる。"
   ]
  },
  {
   "cell_type": "code",
   "execution_count": 54,
   "metadata": {},
   "outputs": [
    {
     "name": "stdout",
     "output_type": "stream",
     "text": [
      "3\n",
      "2\n",
      "9\n"
     ]
    }
   ],
   "source": [
    "N = int(input())\n",
    "M = int(input())\n",
    "\n",
    "answer = (7 - N) + (7 - M)\n",
    "\n",
    "print(answer)"
   ]
  },
  {
   "cell_type": "markdown",
   "metadata": {},
   "source": [
    "慣れてくればもっと短く書くことも出来るだろうが、最初はこんな感じで書ければ十分である。"
   ]
  },
  {
   "cell_type": "markdown",
   "metadata": {},
   "source": [
    "## アンパック代入 (unpacking / multiple assignment)（一行に複数の値がある場合）"
   ]
  },
  {
   "cell_type": "markdown",
   "metadata": {},
   "source": [
    "上記の問題のように一行ずつ入力がある場合は簡単なのだが、例えば一行にまとめて ```N M``` のような形で入力がある場合はどうすればいいのだろうか？\n",
    "\n",
    "少し話を先取りする形になるのだが、次のようなコードで値を取得することが出来る。"
   ]
  },
  {
   "cell_type": "code",
   "execution_count": 55,
   "metadata": {},
   "outputs": [
    {
     "name": "stdout",
     "output_type": "stream",
     "text": [
      "3 2\n",
      "3 2\n"
     ]
    }
   ],
   "source": [
    "N, M = input().split()\n",
    "print(N, M)"
   ]
  },
  {
   "cell_type": "markdown",
   "metadata": {},
   "source": [
    "```input().split()``` という見慣れないコードは、まず標準入力から文字列を一行分取得し、その文字列を空白文字（スペース・タブなど）に応じて分割するという意味になる。実際にこのコードが何を返しているのかを見てみよう。"
   ]
  },
  {
   "cell_type": "code",
   "execution_count": 56,
   "metadata": {},
   "outputs": [
    {
     "name": "stdout",
     "output_type": "stream",
     "text": [
      "50 ways to leave your lover\n",
      "['50', 'ways', 'to', 'leave', 'your', 'lover']\n"
     ]
    }
   ],
   "source": [
    "print(input().split())"
   ]
  },
  {
   "cell_type": "markdown",
   "metadata": {},
   "source": [
    "この角括弧 ```[]``` で囲まれたものを、Python ではリストと呼ぶ。リストについてはしばらく後の章で紹介するので、ここでは適当に眺めておいてほしいのだが、上記の例では入力した ```\"50 ways to leave your lover\"``` という一つの文字列が、```.split()``` により、```\"50\"``` ```\"ways\"``` ```\"to\"``` ```\"leave\"``` ```\"your\"``` ```\"lover\"``` という6つの文字列に分割したリストに変換されているのが分かる。\n",
    "\n",
    "そして、リスト・タプルなど複数の要素を順に返すことができるもの（```イテラブル``` (iterable) 、あるいは反復可能オブジェクトなどと呼ばれる）は、```アンパック代入``` と呼ばれる記法により、複数の変数へと一度に代入することが出来る。ただし、代入元と代入先は個数が一致している必要がある。\n",
    "\n",
    "……などと書くとややこしそうだが、次の例を見てもらえば、直感的に理解できると思う。"
   ]
  },
  {
   "cell_type": "code",
   "execution_count": 57,
   "metadata": {},
   "outputs": [
    {
     "name": "stdout",
     "output_type": "stream",
     "text": [
      "42 foo -3.14\n"
     ]
    }
   ],
   "source": [
    "var1, var2, var3 = [42, 'foo', -3.14]\n",
    "print(var1, var2, var3)"
   ]
  },
  {
   "cell_type": "markdown",
   "metadata": {},
   "source": [
    "この二つを合わせると、```N, M = input().split()``` という書き方になるわけだ。ただし、このままでは ```N``` ```M``` ともに格納しているのは文字列なので注意すること。整数にする場合は、```int()``` してやる必要がある。\n",
    "\n",
    "したがって、この章の練習問題の入力が ```N M``` という形だった場合は、次のような回答になるだろう。"
   ]
  },
  {
   "cell_type": "code",
   "execution_count": 58,
   "metadata": {},
   "outputs": [
    {
     "name": "stdout",
     "output_type": "stream",
     "text": [
      "3 2\n",
      "9\n"
     ]
    }
   ],
   "source": [
    "N, M = input().split()\n",
    "N = int(N)\n",
    "M = int(M)\n",
    "\n",
    "answer = (7 - N) + (7 - M)\n",
    "\n",
    "print(answer)"
   ]
  },
  {
   "cell_type": "markdown",
   "metadata": {},
   "source": [
    "ちなみに、```map()``` を使うことで、より汎用性が高く速い書き方も出来るが、それはもう少し後で紹介する。"
   ]
  },
  {
   "cell_type": "markdown",
   "metadata": {},
   "source": [
    "### 複数代入、値の入れ替え"
   ]
  },
  {
   "cell_type": "markdown",
   "metadata": {},
   "source": [
    "アンパック代入を利用すると、複数の変数への代入や、値の入れ替えを簡単に書くことができる。これは頻繁に利用するので、覚えておくといいだろう。"
   ]
  },
  {
   "cell_type": "code",
   "execution_count": 59,
   "metadata": {},
   "outputs": [
    {
     "name": "stdout",
     "output_type": "stream",
     "text": [
      "1 2\n",
      "2 1\n"
     ]
    }
   ],
   "source": [
    "a, b = 1, 2\n",
    "print(a, b)\n",
    "a, b = b, a\n",
    "print(a, b)"
   ]
  },
  {
   "cell_type": "markdown",
   "metadata": {},
   "source": [
    "[余談：アンパック代入？](./introduction_to_python_columns.ipynb#unpackingassignment)"
   ]
  },
  {
   "cell_type": "markdown",
   "metadata": {},
   "source": [
    "### 連鎖代入 (chained assignment)"
   ]
  },
  {
   "cell_type": "markdown",
   "metadata": {},
   "source": [
    "アンパック代入に絡めて、連鎖代入という書き方もついでに紹介しておこう。連鎖代入とは、次のようなものだ。"
   ]
  },
  {
   "cell_type": "code",
   "execution_count": 60,
   "metadata": {},
   "outputs": [
    {
     "name": "stdout",
     "output_type": "stream",
     "text": [
      "2 2 2\n"
     ]
    }
   ],
   "source": [
    "a = b = c = 2\n",
    "print(a, b, c)"
   ]
  },
  {
   "cell_type": "markdown",
   "metadata": {},
   "source": [
    "見ての通りなので、悩むことはあまり無いと思う。ちなみに、内部的な動作としては、左側の変数から順に代入されていく。"
   ]
  },
  {
   "cell_type": "markdown",
   "metadata": {},
   "source": [
    "# Python でのコードの書き方"
   ]
  },
  {
   "cell_type": "markdown",
   "metadata": {},
   "source": [
    "さて、次の章からは、やや本格的なコードを書いていく。そこで、今さらではあるが、Python でのコードの書き方について、ここで軽く触れておく事にする。"
   ]
  },
  {
   "cell_type": "markdown",
   "metadata": {},
   "source": [
    "## コメント"
   ]
  },
  {
   "cell_type": "markdown",
   "metadata": {},
   "source": [
    "まず、最初に ```コメント``` から話をしよう。コード中に、```#``` があると、そこから行末まではコード実行上は無視される。つまり、好きなことを書ける。これはコメントと呼ばれ、説明・注意書き・メモ書きなどに使用される。"
   ]
  },
  {
   "cell_type": "code",
   "execution_count": null,
   "metadata": {},
   "outputs": [],
   "source": [
    "# コメントの例：\n",
    "var = 0 # 変数 var へ 0 を代入する"
   ]
  },
  {
   "cell_type": "markdown",
   "metadata": {},
   "source": [
    "例えば、上記のコードにおいて一行目の全てと、二行目の ```#``` 以降はコメントである。\n",
    "\n",
    "本文書中でも、今後はコード内にコメントを入れることで説明に替える場合があるので、確認してもらいたい。"
   ]
  },
  {
   "cell_type": "markdown",
   "metadata": {},
   "source": [
    "## 原則"
   ]
  },
  {
   "cell_type": "markdown",
   "metadata": {},
   "source": [
    "コードは原則一行につき一つの文を行頭から書く。要素と要素の間には任意の空白を挟んでもいいが、式や文の途中で改行はできない。"
   ]
  },
  {
   "cell_type": "code",
   "execution_count": null,
   "metadata": {},
   "outputs": [],
   "source": [
    "# 正しい文\n",
    "var = 0\n",
    "var=0\n",
    "var   =   0\n",
    "\n",
    "# 正しい式文\n",
    "print(\"Hello, World!\")\n",
    "\n",
    "# 正しくない文\n",
    "var\n",
    "=0\n",
    "    var = 0\n",
    "p r i n t (\"Hello, World!\")"
   ]
  },
  {
   "cell_type": "markdown",
   "metadata": {},
   "source": [
    "## インデントによるブロック表現"
   ]
  },
  {
   "cell_type": "markdown",
   "metadata": {},
   "source": [
    "ただし、特定の文によってあらたに構成されるひとまとまりのコードを書く際には、適当な文字数の字下げ（インデント）を行う。このひとまとまりのコードをブロックと呼ぶ。ブロック中のインデントは、全て等しい文字数で下げられている必要がある。\n",
    "\n",
    "このルールは、次章から説明する制御文や、関数・クラスの定義などで使用される。例を挙げるので、ここでは雰囲気だけ掴んでおいてほしい。"
   ]
  },
  {
   "cell_type": "code",
   "execution_count": 62,
   "metadata": {},
   "outputs": [
    {
     "name": "stdout",
     "output_type": "stream",
     "text": [
      "24\n",
      "Cheers.\n",
      "Here's looking at you, kid.\n"
     ]
    }
   ],
   "source": [
    "# 行頭から始まるのは、メインブロックになる\n",
    "age = int(input())  # 年齢を入力してもらう\n",
    "\n",
    "# if 文では、条件に応じて異なるブロックの内容が実行される。\n",
    "if age >= 18: # age が 18 以上かどうか確認\n",
    "\n",
    "    # 以下二行は if の条件が真である場合のみ実行されるブロック。\n",
    "    print('Cheers.') \n",
    "    print(\"Here's looking at you, kid.\")\n",
    "\n",
    "else: # 条件が偽である場合\n",
    "\n",
    "    # 以下二行は if の条件が偽である場合のみ実行されるブロック。\n",
    "    print('oops..')\n",
    "    print('Wanna have a glass of milk ?')\n"
   ]
  },
  {
   "cell_type": "markdown",
   "metadata": {},
   "source": [
    "一つの目安としては、インデントを伴う文は必ずコロン ```:``` が最後に付く。上記の例でいうと、``` if age >= 18:``` や ```else:``` がそれである。"
   ]
  },
  {
   "cell_type": "markdown",
   "metadata": {},
   "source": [
    "インデントを行ったブロック内で、さらにインデントが起こることもある。重要なのは、インデントとブロックは必ず対応しているということだ。"
   ]
  },
  {
   "cell_type": "code",
   "execution_count": 63,
   "metadata": {},
   "outputs": [
    {
     "name": "stdout",
     "output_type": "stream",
     "text": [
      "505000\n"
     ]
    }
   ],
   "source": [
    "# 二重ループの書き方の例\n",
    "\n",
    "# メインブロック\n",
    "result = 0\n",
    "\n",
    "# 外側のループ開始\n",
    "for i in range(1, 101):\n",
    "    # ブロック 1 開始\n",
    "    sub_total = 0\n",
    "    \n",
    "    # 内側のループ開始\n",
    "    for j in range(1, 101):\n",
    "        # ブロック 2 開始\n",
    "        sub_total = sub_total + j\n",
    "    \n",
    "    # ブロック 1 の続き\n",
    "    result = result + sub_total\n",
    "\n",
    "# メインブロックの続き\n",
    "print(result)"
   ]
  },
  {
   "cell_type": "markdown",
   "metadata": {},
   "source": [
    "このような構造を ```入れ子構造``` などと呼ぶ。他の多くの言語では、カッコの対応などで入れ子構造を表現するが、Python ではインデントによる見た目で表現する事になっているわけだ。"
   ]
  },
  {
   "cell_type": "markdown",
   "metadata": {},
   "source": [
    "## 途中での改行"
   ]
  },
  {
   "cell_type": "markdown",
   "metadata": {},
   "source": [
    "コードの基本的な規則は以上なのだが、途中で全く改行できないというのも不便だ。なので、改行が許されるケースが二つある。\n",
    "\n",
    "1. 行末に継続文字 ```\\``` がついている場合\n",
    "2. 各種カッコ ```(){}[]``` の途中\n",
    "\n",
    "それぞれの例を見てみよう。"
   ]
  },
  {
   "cell_type": "code",
   "execution_count": 64,
   "metadata": {},
   "outputs": [
    {
     "name": "stdout",
     "output_type": "stream",
     "text": [
      "49\n"
     ]
    }
   ],
   "source": [
    "some_stupid_long_named_variable_1 = 7\n",
    "some_stupid_long_named_variable_2 = 42\n",
    "\n",
    "supercalifragilisticexpialidocious = some_stupid_long_named_variable_1 + \\\n",
    "                                     some_stupid_long_named_variable_2\n",
    "\n",
    "print(supercalifragilisticexpialidocious)"
   ]
  },
  {
   "cell_type": "code",
   "execution_count": 65,
   "metadata": {},
   "outputs": [
    {
     "name": "stdout",
     "output_type": "stream",
     "text": [
      "[[1, 2, 3], [4, 5, 6], [7, 8, 9]]\n"
     ]
    }
   ],
   "source": [
    "matrix = [\n",
    "    [1, 2, 3],\n",
    "    [4, 5, 6],\n",
    "    [7, 8, 9]\n",
    "]\n",
    "print(matrix)"
   ]
  },
  {
   "cell_type": "markdown",
   "metadata": {},
   "source": [
    "前者は長すぎる計算式や文字列を分割したい時によく使われ、後者は多次元配列の表現や、たくさん引数を取る関数の記述の際などによく使われる。これらの改行に伴うインデントは無視されるので、上の例のように見やすい形で書くといいだろう。"
   ]
  },
  {
   "cell_type": "markdown",
   "metadata": {},
   "source": [
    "## 作法（もしくはレギュレーション）"
   ]
  },
  {
   "cell_type": "markdown",
   "metadata": {},
   "source": [
    "### インデントの仕方"
   ]
  },
  {
   "cell_type": "markdown",
   "metadata": {},
   "source": [
    "インデントについては、色々な流儀があるようだが、ここではタブではなく（半角）スペース 4つで統一しておく。\n",
    "\n",
    "実は PEP8 という Python におけるプログラムの書き方の標準規則が存在するのだが、そこではスペース 4つと定められているからだ。もっとも、最近の気の利いたコードエディターでは、Python と見るやいなや自動的にスペース 4つでインデントをしてくれたりもするので、あまり気にする機会はないかも知れない。\n",
    "\n",
    "ただ、**標準は半角スペース 4つ**、ということ自体は知っておく方がいいだろう。"
   ]
  },
  {
   "cell_type": "markdown",
   "metadata": {},
   "source": [
    "### 要素間のスペースの入れ方"
   ]
  },
  {
   "cell_type": "markdown",
   "metadata": {},
   "source": [
    "これも割といろいろ流儀がある。が、基本としては各要素の間にスペースを入れる方が見やすいだろう。\n",
    "\n",
    "つまり、```var=0``` と書くよりは、```var = 0``` と書く、ということである。この文書でも、基本はスペースを入れて表記することにする。\n",
    "\n",
    "ただし、以下の二つのケースには、半角スペースを省いて書くことにする。\n",
    "\n",
    "1. 関数における名前付き引数\n",
    "2. 複雑な演算式における、結びつきの強い要素\n",
    "\n",
    "1 の名前付き引数とは、```function(name=value)``` のように、前に名前を指定するタイプの引数のことだ。これは、実はスペースをを入れずに書くことが推奨されている。\n",
    "\n",
    "2 については、理解しやすさを重視するための、ごく個人的な、つまりいい加減な基準である。"
   ]
  },
  {
   "cell_type": "markdown",
   "metadata": {},
   "source": [
    "# 条件分岐 (if)"
   ]
  },
  {
   "cell_type": "markdown",
   "metadata": {},
   "source": [
    "この章から、いよいよいわゆるプログラムっぽいコードを書いていくことになる。最初に紹介するのは、```if``` 文だ。\n",
    "\n",
    "```if``` 文は、条件に従って処理を分岐させる時に使用する。まずは、その前提として、そもそも「条件」がどのようにコードで表現されるのかというところを話していくことにしよう。"
   ]
  },
  {
   "cell_type": "markdown",
   "metadata": {},
   "source": [
    "## 論理型 (boolean) と比較演算子"
   ]
  },
  {
   "cell_type": "markdown",
   "metadata": {},
   "source": [
    "### 論理型 (boolean)"
   ]
  },
  {
   "cell_type": "markdown",
   "metadata": {},
   "source": [
    "プログラミングには、ある条件を満たしているか満たしていないかを表す、専用の型が存在している。英語では ```boolean``` と呼ぶのだが、日本語の決まった訳は存在しない。よく使われるのは、```論理型``` ```ブーリアン型``` ```ブール型``` あたりだろうか。"
   ]
  },
  {
   "cell_type": "markdown",
   "metadata": {},
   "source": [
    "```int``` ```float``` ```str``` といった今まで紹介してきた型が、その型の範囲内ではあるが、様々な値を格納できたのに対して、```boolean``` は少し変わっていて、二種類の値のどちらかしか格納できない。すなわち、```True``` もしくは ```False``` である。これらは ```論理値``` や、```真偽値``` などと呼ばれることがある。\n",
    "\n",
    "- ```True``` は、論理値が「真」であるとも言う。これは、条件を満たしているという意味になる。\n",
    "- ```False``` は、論理値が「偽」であるとも言う。これは、条件を満たしていないという意味になる。\n",
    "\n",
    "この二つの値に関しては、直感的に理解できると思う。\n",
    "\n",
    "ちなみに、```True``` も ```False``` も、Python では大文字から始まる。論理値を直接コード内で使用する際には、小文字から始めると論理値として扱われないので注意してほしい。\n",
    "\n",
    "また、論理値は数値として扱うことも可能で、その場合 ```True``` は ```1```、```False``` は ```0``` として評価される。"
   ]
  },
  {
   "cell_type": "code",
   "execution_count": 66,
   "metadata": {},
   "outputs": [
    {
     "name": "stdout",
     "output_type": "stream",
     "text": [
      "2\n"
     ]
    }
   ],
   "source": [
    "print(True + True + False)"
   ]
  },
  {
   "cell_type": "markdown",
   "metadata": {},
   "source": [
    "### 比較演算子"
   ]
  },
  {
   "cell_type": "markdown",
   "metadata": {},
   "source": [
    "論理値を得るための演算子が、比較演算子だ。\n",
    "\n",
    "比較演算子は、どれも二項演算子となっている。それほど数も多くなく、どれも似たような感じなので、まずは一通り紹介しよう。下の一覧では、いずれも変数 ```a``` と変数 ```b``` の関係性を示すとする。\n",
    "\n",
    "- ```>``` （大なり）  \n",
    "```a > b``` は、```a``` が ```b``` より大きければ ```True```、そうでなければ ```False``` を返す。\n",
    "\n",
    "\n",
    "- ```>=``` （大なりイコール）  \n",
    "```a >= b``` は、```a``` が ```b``` より大きいか等しければ ```True```、そうでなければ ```False``` を返す。\n",
    "\n",
    "\n",
    "- ```<``` （小なり）  \n",
    "```a < b``` は、```a``` が ```b``` より小さければ ```True```、そうでなければ ```False``` を返す。\n",
    "\n",
    "\n",
    "- ```<=``` （小なりイコール）  \n",
    "```a <= b``` は、```a``` が ```b``` より小さいか等しければ ```True```、そうでなければ ```False``` を返す。\n",
    "\n",
    "\n",
    "- ```==``` （イコール）  \n",
    "```a == b``` は、```a``` が ```b``` と等しければ ```True```、そうでなければ ```False```を返す。\n",
    "\n",
    "\n",
    "- ```!=``` （ノットイコール）  \n",
    "```a != b``` は、```a``` が ```b``` と異なれば ```True```、そうでなければ ```False``` を返す。\n",
    "\n",
    "\n",
    "- ```in```  \n",
    "```a in b``` は、```a``` が ```b``` に含まれていれば ```True```、そうでなければ ```False``` を返す。\n",
    "\n",
    "\n",
    "- ```not in```  \n",
    "```a not in b```は、```a``` が ```b``` に含まれていなければ ```True```、そうでなければ ```False``` を返す。\n",
    "\n",
    "\n",
    "とうわけで、いろいろと動作を確認してみよう。"
   ]
  },
  {
   "cell_type": "code",
   "execution_count": 83,
   "metadata": {},
   "outputs": [
    {
     "name": "stdout",
     "output_type": "stream",
     "text": [
      "True False True False\n"
     ]
    }
   ],
   "source": [
    "print(7 > 3, 2 < 1.9, 1 == 1, 7.0 != 7)"
   ]
  },
  {
   "cell_type": "markdown",
   "metadata": {},
   "source": [
    "数値同士の比較演算は、概ね直感どおりなのではないだろうか。ちなみに、大小関係については ```a < b < c``` のように書くことも出来る。この場合、全ての条件を満たしたときだけ ```True``` が返る。"
   ]
  },
  {
   "cell_type": "code",
   "execution_count": 68,
   "metadata": {},
   "outputs": [
    {
     "name": "stdout",
     "output_type": "stream",
     "text": [
      "True False\n"
     ]
    }
   ],
   "source": [
    "print(3 < 5 > 4, 2 < 5 <= 3)"
   ]
  },
  {
   "cell_type": "markdown",
   "metadata": {},
   "source": [
    "ただし、注意として次のようなケースもある。"
   ]
  },
  {
   "cell_type": "code",
   "execution_count": 69,
   "metadata": {},
   "outputs": [
    {
     "name": "stdout",
     "output_type": "stream",
     "text": [
      "True False\n"
     ]
    }
   ],
   "source": [
    "print(0.1 + 0.1 == 0.2, 0.1 + 0.1 + 0.1 == 0.3)"
   ]
  },
  {
   "cell_type": "markdown",
   "metadata": {},
   "source": [
    "これは、浮動小数点数の計算誤差のためである。0.1 は 2進数においては循環小数、つまり割り切れない数として表現されるため、末尾の桁から誤差が生じてしまうのだ。右辺との兼ね合いにより、たまたま計算が合う場合もあれば、合わない場合もある。\n",
    "\n",
    "このように、```float``` の比較演算を行う際は注意してもらいたい。"
   ]
  },
  {
   "cell_type": "markdown",
   "metadata": {},
   "source": [
    "文字列同士の比較演算においては大文字と小文字は別の文字として処理される。"
   ]
  },
  {
   "cell_type": "code",
   "execution_count": 78,
   "metadata": {},
   "outputs": [
    {
     "name": "stdout",
     "output_type": "stream",
     "text": [
      "False True False True True True\n"
     ]
    }
   ],
   "source": [
    "print('AAA' == 'aaa', 'abc' == 'abc', 'abc' > 'bcd', 'AAA' < 'aaa', 'Z' < 'c', 'cd' in 'abcde')"
   ]
  },
  {
   "cell_type": "markdown",
   "metadata": {},
   "source": [
    "完全に一致した場合のみ、```==``` で ```True``` となる。\n",
    "\n",
    "また、大小の比較については、文字コードの大小で比較されることになる。基本的にはアルファベット順となっていて、```辞書順``` と呼ぶこともある。もっとも、本物の辞書の並びと同じというわけではない。実際に英数字の並びについて確認してみると……"
   ]
  },
  {
   "cell_type": "code",
   "execution_count": 79,
   "metadata": {},
   "outputs": [
    {
     "name": "stdout",
     "output_type": "stream",
     "text": [
      "['0', '1', '2', '3', '4', '5', '6', '7', '8', '9', 'A', 'B', 'C', 'D', 'E', 'F', 'G', 'H', 'I', 'J', 'K', 'L', 'M', 'N', 'O', 'P', 'Q', 'R', 'S', 'T', 'U', 'V', 'W', 'X', 'Y', 'Z', 'a', 'b', 'c', 'd', 'e', 'f', 'g', 'h', 'i', 'j', 'k', 'l', 'm', 'n', 'o', 'p', 'q', 'r', 's', 't', 'u', 'v', 'w', 'x', 'y', 'z']\n"
     ]
    }
   ],
   "source": [
    "# 英数字を小さい順に並び替える\n",
    "print(sorted(c for c in 'abcdefghijklmnopqrstuvwxyzABCDEFGHIJKLMNOPQRSTUVWXYZ0123456789'))"
   ]
  },
  {
   "cell_type": "markdown",
   "metadata": {},
   "source": [
    "ご覧のように、数字 < 大文字 < 小文字 の順となる。"
   ]
  },
  {
   "cell_type": "markdown",
   "metadata": {},
   "source": [
    "また、次のように続けて書くこともできる。"
   ]
  },
  {
   "cell_type": "code",
   "execution_count": 27,
   "metadata": {},
   "outputs": [
    {
     "name": "stdout",
     "output_type": "stream",
     "text": [
      "False True\n"
     ]
    }
   ],
   "source": [
    "print(1 < 3 <= 2, 'abc' == 'abc' != 'def')"
   ]
  },
  {
   "cell_type": "markdown",
   "metadata": {},
   "source": [
    "```in``` や ```not in``` については、文字列や、後述するリスト・タプルなどの複数の値を格納できる型の中身に、ある値が含まれているかどうかを判定する。"
   ]
  },
  {
   "cell_type": "code",
   "execution_count": 80,
   "metadata": {},
   "outputs": [
    {
     "name": "stdout",
     "output_type": "stream",
     "text": [
      "False True\n"
     ]
    }
   ],
   "source": [
    "print(7 in [1, 3, 5], \"bc\" in \"abcde\")"
   ]
  },
  {
   "cell_type": "markdown",
   "metadata": {},
   "source": [
    "なので、数値同士では ```in``` や ```not in``` を使用することはできず、エラーになる。"
   ]
  },
  {
   "cell_type": "code",
   "execution_count": 81,
   "metadata": {},
   "outputs": [
    {
     "ename": "TypeError",
     "evalue": "argument of type 'int' is not iterable",
     "output_type": "error",
     "traceback": [
      "\u001b[1;31m---------------------------------------------------------------------------\u001b[0m",
      "\u001b[1;31mTypeError\u001b[0m                                 Traceback (most recent call last)",
      "\u001b[1;32m<ipython-input-81-04ec3c535eba>\u001b[0m in \u001b[0;36m<module>\u001b[1;34m\u001b[0m\n\u001b[1;32m----> 1\u001b[1;33m \u001b[0mprint\u001b[0m\u001b[1;33m(\u001b[0m\u001b[1;36m1\u001b[0m \u001b[1;32min\u001b[0m \u001b[1;36m3\u001b[0m\u001b[1;33m)\u001b[0m\u001b[1;33m\u001b[0m\u001b[1;33m\u001b[0m\u001b[0m\n\u001b[0m",
      "\u001b[1;31mTypeError\u001b[0m: argument of type 'int' is not iterable"
     ]
    }
   ],
   "source": [
    "print(1 in 3)"
   ]
  },
  {
   "cell_type": "markdown",
   "metadata": {},
   "source": [
    "ちなみに、空文字列はあらゆる文字列に含まれているとみなされる。"
   ]
  },
  {
   "cell_type": "code",
   "execution_count": 82,
   "metadata": {},
   "outputs": [
    {
     "name": "stdout",
     "output_type": "stream",
     "text": [
      "True\n"
     ]
    }
   ],
   "source": [
    "print('' in 'abc')"
   ]
  },
  {
   "cell_type": "markdown",
   "metadata": {},
   "source": [
    "### 論理演算子"
   ]
  },
  {
   "cell_type": "markdown",
   "metadata": {},
   "source": [
    "論理値同士の演算をすることもできる。これにより、複数の条件を組み合わせた条件判定が可能となる。\n",
    "\n",
    "例えば、7歳以上でかつ男性ならば男湯に入らなければならない、みたいな感じの判定である。\n",
    "\n",
    "この論理演算子は三種類ある。\n",
    "\n",
    "- ```and``` （論理積）  \n",
    "```a and b``` は、```a``` と ```b``` の両方が ```True``` の場合のみ ```True``` を返し、それ以外は ```False``` を返す。\n",
    "\n",
    "\n",
    "- ```or``` （論理和）\n",
    "```a or b``` は、```a``` と ```b``` のどちらか、あるいは両方が ```True``` の場合に ```True``` を返し、それ以外は ```False``` を返す。\n",
    "\n",
    "\n",
    "- ```not``` （否定）  \n",
    "```not a``` は、```a``` が ```True``` なら ```False```を返し、```False``` なら ```True``` を返す。\n",
    "\n",
    "見てのとおり、直感通りの動作といえる。```not``` のみ単項演算子となっている。\n",
    "\n",
    "論理演算子を続けて書く場合、```not``` ```and``` ```or``` の順に優先的に処理される。\n",
    "\n",
    "例えば ```a or b and not c or d``` などと書くと、```a or (b and (not c)) or d``` と同様の処理となる。が、ある程度以上ややこしくなるなら、括弧をつけておくべきだろう。"
   ]
  },
  {
   "cell_type": "markdown",
   "metadata": {},
   "source": [
    "## if 文"
   ]
  },
  {
   "cell_type": "markdown",
   "metadata": {},
   "source": [
    "ここまでで、論理値と論理演算の基礎は理解してもらえたと思う。\n",
    "\n",
    "では、いよいよ ```if``` の使い方である。```if``` 文は、次のように書く。"
   ]
  },
  {
   "cell_type": "code",
   "execution_count": null,
   "metadata": {},
   "outputs": [],
   "source": [
    "# if 文による条件分岐\n",
    "# 条件式が True ならブロック1が、Falseならブロック2が実行される。\n",
    "# else: 以下は省略可能。\n",
    "\n",
    "if 条件式:\n",
    "    ブロック1\n",
    "else:\n",
    "    ブロック2"
   ]
  },
  {
   "cell_type": "markdown",
   "metadata": {},
   "source": [
    "論理値のことさえ分かっていれば、拍子抜けするほど簡単だ。\n",
    "\n",
    "if の後に条件式を書き、```:``` をつけ、次の行からはインデントを行って新しいブロックとする。ブロック内には、条件式が ```True``` となったときの処理内容を書く。  \n",
    "条件式が ```False``` の場合に実行したい内容がある場合は、インデントを解除し、```if``` と同じブロックに続けて ```else:``` を書き、インデントを行い、実行したいブロックを書く。"
   ]
  },
  {
   "cell_type": "markdown",
   "metadata": {},
   "source": [
    "ところで、次のようなことをしたい場合はどうだろうか？\n",
    "\n",
    "- 変数 ```var``` があり、整数値を持っている。\n",
    "- var < 0 の時は、\"negative\" を出力する。\n",
    "- 0 <= var < 10 の時は、\"small\" を出力する。\n",
    "- 10 <= var < 100 の時は、\"big\" を出力する。\n",
    "- 100 <= var の時は、\"very big\" を出力する。\n",
    "\n",
    "以下のような感じで書くことも出来る。"
   ]
  },
  {
   "cell_type": "code",
   "execution_count": null,
   "metadata": {},
   "outputs": [],
   "source": [
    "if var < 0:\n",
    "    print(\"negative\")\n",
    "else:\n",
    "    if var < 10:\n",
    "        print(\"small\")\n",
    "    else:\n",
    "        if var < 100:\n",
    "            print(\"big\")\n",
    "        else:\n",
    "            print(\"very big\")"
   ]
  },
  {
   "cell_type": "markdown",
   "metadata": {},
   "source": [
    "が、見てのとおり、インデントがどんどん深くなってしまい、何を書いているのかが分かりにくくなってしまう。\n",
    "\n",
    "このパターンの場合、```else:``` と ```if``` をまとめて ```elif``` として、if と同じブロックに書くことができる。"
   ]
  },
  {
   "cell_type": "code",
   "execution_count": null,
   "metadata": {},
   "outputs": [],
   "source": [
    "if var < 0:\n",
    "    print(\"negative\")\n",
    "elif var < 10:\n",
    "    print(\"small\")\n",
    "elif var < 100:\n",
    "    print(\"big\")\n",
    "else:\n",
    "    print(\"very big\")"
   ]
  },
  {
   "cell_type": "markdown",
   "metadata": {},
   "source": [
    "## Truthy, Falsy"
   ]
  },
  {
   "cell_type": "markdown",
   "metadata": {},
   "source": [
    "```if``` の条件式や、論理演算子に対しては、基本的には ```boolean``` を返す式を利用するのだが、実は ```boolean``` 以外の値でも問題なく動作する。\n",
    "\n",
    "論理型 ```boolean``` ではない他の型の場合、値によって ```True``` 扱いになるか ```False``` 扱いになるかが異なってくる。それらを ```Truthy``` な値、```Falsy``` な値と呼ぶ。定訳はないが、意味するところは「真っぽい」「偽っぽい」値、ということである。\n",
    "\n",
    "具体的には、次のようになる。\n",
    "\n",
    "- 数値型：```0``` になる値なら ```Falsy```、それ以外なら ```True```\n",
    "- 文字列型：```\"\"``` 空文字列なら ```Falsy```、それ以外なら ```True```\n",
    "- その他：```0``` を返す、もしくは中身が空なら ```Falsy```、それ以外なら ```True```\n",
    "\n",
    "大まかだが、概ね上記の理解で大丈夫だ。実際に ```Truthy``` なのか ```Falsy``` なのかは、```bool()``` にて論理値へ型変換をしてみれば分かる。"
   ]
  },
  {
   "cell_type": "code",
   "execution_count": 18,
   "metadata": {},
   "outputs": [
    {
     "name": "stdout",
     "output_type": "stream",
     "text": [
      "True True False False\n"
     ]
    }
   ],
   "source": [
    "print(bool(7), bool(\"abc\"), bool(0.0), bool(\"\"))"
   ]
  },
  {
   "cell_type": "markdown",
   "metadata": {},
   "source": [
    "## 短絡評価"
   ]
  },
  {
   "cell_type": "markdown",
   "metadata": {},
   "source": [
    "次のコードを見てほしい。"
   ]
  },
  {
   "cell_type": "code",
   "execution_count": 19,
   "metadata": {},
   "outputs": [
    {
     "name": "stdout",
     "output_type": "stream",
     "text": [
      "ok\n"
     ]
    }
   ],
   "source": [
    "div = 0\n",
    "num = 1\n",
    "if (div == 0) or (num / div) < 1:\n",
    "    print('ok')"
   ]
  },
  {
   "cell_type": "markdown",
   "metadata": {},
   "source": [
    "すこし面白い点が一つある。```div = 0``` と定義しているにも関わらず、```num / div``` のところでエラーが起きていないということだ。\n",
    "\n",
    "実は、```and``` や ```or``` を用いた際は、順次左側から評価を行っていき、結果が確定した段階で、それ以上の評価は行わず、値を返す仕組みになっている。これを ```短絡評価``` と呼ぶ。要するに、無駄な評価は行われないということだ。\n",
    "\n",
    "試しに、先程の条件を逆に書いてみると……"
   ]
  },
  {
   "cell_type": "code",
   "execution_count": 20,
   "metadata": {},
   "outputs": [
    {
     "ename": "ZeroDivisionError",
     "evalue": "division by zero",
     "output_type": "error",
     "traceback": [
      "\u001b[1;31m---------------------------------------------------------------------------\u001b[0m",
      "\u001b[1;31mZeroDivisionError\u001b[0m                         Traceback (most recent call last)",
      "\u001b[1;32m<ipython-input-20-ac6768634f2d>\u001b[0m in \u001b[0;36m<module>\u001b[1;34m\u001b[0m\n\u001b[0;32m      1\u001b[0m \u001b[0mdiv\u001b[0m \u001b[1;33m=\u001b[0m \u001b[1;36m0\u001b[0m\u001b[1;33m\u001b[0m\u001b[1;33m\u001b[0m\u001b[0m\n\u001b[0;32m      2\u001b[0m \u001b[0mnum\u001b[0m \u001b[1;33m=\u001b[0m \u001b[1;36m1\u001b[0m\u001b[1;33m\u001b[0m\u001b[1;33m\u001b[0m\u001b[0m\n\u001b[1;32m----> 3\u001b[1;33m \u001b[1;32mif\u001b[0m \u001b[1;33m(\u001b[0m\u001b[0mnum\u001b[0m \u001b[1;33m/\u001b[0m \u001b[0mdiv\u001b[0m\u001b[1;33m)\u001b[0m \u001b[1;33m<\u001b[0m \u001b[1;36m1\u001b[0m \u001b[1;32mor\u001b[0m \u001b[1;33m(\u001b[0m\u001b[0mdiv\u001b[0m \u001b[1;33m==\u001b[0m \u001b[1;36m0\u001b[0m\u001b[1;33m)\u001b[0m\u001b[1;33m:\u001b[0m\u001b[1;33m\u001b[0m\u001b[1;33m\u001b[0m\u001b[0m\n\u001b[0m\u001b[0;32m      4\u001b[0m     \u001b[0mprint\u001b[0m\u001b[1;33m(\u001b[0m\u001b[1;34m'ok'\u001b[0m\u001b[1;33m)\u001b[0m\u001b[1;33m\u001b[0m\u001b[1;33m\u001b[0m\u001b[0m\n",
      "\u001b[1;31mZeroDivisionError\u001b[0m: division by zero"
     ]
    }
   ],
   "source": [
    "div = 0\n",
    "num = 1\n",
    "if (num / div) < 1 or (div == 0):\n",
    "    print('ok')"
   ]
  },
  {
   "cell_type": "markdown",
   "metadata": {},
   "source": [
    "見事にゼロ除算エラーが起こっている。\n",
    "\n",
    "コードを書く際にこれを意識しておくと、無駄が減らせる場合があるので覚えておくといいだろう。"
   ]
  },
  {
   "cell_type": "markdown",
   "metadata": {},
   "source": [
    "[余談: and や or が実際に返す値](./introduction_to_python_columns.ipynb#returnvalueofandor)"
   ]
  },
  {
   "cell_type": "markdown",
   "metadata": {},
   "source": [
    "## 練習問題"
   ]
  },
  {
   "cell_type": "markdown",
   "metadata": {},
   "source": [
    "```if``` が使えるようになると、いかにもプログラムっぽいものを書くことができるようになる。次のような問題はどうだろうか？\n",
    "\n",
    "---\n",
    "**問題：**  \n",
    "えしび君は一つ P 円のお気に入りの玩具付きお菓子を、N 個買いにお店へ行きました。えしび君の奥さんは厳しいので、丁度買えるだけのお金しか渡されていません。\n",
    "\n",
    "ところが、いつもなら P 円で売られているお菓子は、今日はなぜか D 円になっていました。\n",
    "\n",
    "えしび君は、持っているお金で買えるだけのお菓子を買いました。N 個買うことはできたでしょうか？\n",
    "\n",
    "もし N 個未満のお菓子しか買えなかった場合は ```bad```、N 個丁度買えた場合は ```good```、N 個より多く買えた場合は ```very good``` と出力してください。\n",
    "\n",
    "**入力：**  \n",
    "$\n",
    "N P D\n",
    "$\n",
    "---\n"
   ]
  },
  {
   "cell_type": "markdown",
   "metadata": {},
   "source": [
    "例えば次のように回答できる。"
   ]
  },
  {
   "cell_type": "code",
   "execution_count": 85,
   "metadata": {},
   "outputs": [
    {
     "name": "stdout",
     "output_type": "stream",
     "text": [
      "5 40 30\n",
      "very good\n"
     ]
    }
   ],
   "source": [
    "# とりあえず入力を受け取り、整数値へ変換\n",
    "N, P, D = input().split()\n",
    "N = int(N)\n",
    "P = int(P)\n",
    "D = int(D)\n",
    "\n",
    "# 手持ちの金額を計算\n",
    "money = P * N\n",
    "\n",
    "# 今日買ったお菓子の数を求める\n",
    "bought = money // D  # 切り捨てで計算してやればいい。\n",
    "\n",
    "# 買う予定だった数 N と比較し、回答を出力\n",
    "if bought < N:\n",
    "    print('bad')\n",
    "elif bought == N:\n",
    "    print('good')\n",
    "else:\n",
    "    print('very good')"
   ]
  },
  {
   "cell_type": "markdown",
   "metadata": {},
   "source": [
    "# リスト (list) とタプル (tuple)（と少し文字列）、イテレータ (iterator)"
   ]
  },
  {
   "cell_type": "markdown",
   "metadata": {},
   "source": [
    "この章では、複数のデータをまとめて取り扱う手法を説明していく。中心となるのはリスト ```list``` と、```for``` によるループ処理だ。また、もちろんそれに付随する事項もいくつか取り扱っていく。"
   ]
  },
  {
   "cell_type": "markdown",
   "metadata": {},
   "source": [
    "## リスト (list)"
   ]
  },
  {
   "cell_type": "markdown",
   "metadata": {},
   "source": [
    "リスト ```list``` とは、複数の値を一つの並びにまとめたものだ。\n",
    "\n",
    "作り方は簡単で、複数の値を ```,``` で区切って並べ、外側を 角括弧 ```[]``` で囲めばいい。"
   ]
  },
  {
   "cell_type": "markdown",
   "metadata": {},
   "source": [
    "- ```[0, 1, 2]```\n",
    "- ```[3.14, 'abc', 42]```\n",
    "- ```[]```"
   ]
  },
  {
   "cell_type": "markdown",
   "metadata": {},
   "source": [
    "上記の全てが、正しいリストとなる。```[]``` については、空リストと呼ばれる。  \n",
    "見ての通り、一つのリストの中に様々な型の値を混ぜても問題ない。\n",
    "\n",
    "リストは ```list``` という型でもあり、もちろんそのまま変数へと代入できる。"
   ]
  },
  {
   "cell_type": "code",
   "execution_count": 21,
   "metadata": {},
   "outputs": [
    {
     "name": "stdout",
     "output_type": "stream",
     "text": [
      "[0, 1, 2, 3]\n"
     ]
    }
   ],
   "source": [
    "var = [0, 1, 2, 3]\n",
    "print(var)"
   ]
  },
  {
   "cell_type": "markdown",
   "metadata": {},
   "source": [
    "### 添字 (index)"
   ]
  },
  {
   "cell_type": "markdown",
   "metadata": {},
   "source": [
    "リストの中から値を一つ取り出すには、```添字```（そえじ）、あるいはインデックスと呼ばれるもので指定する必要がある。添字は、リストに限らず、```タプル``` ```辞書``` あるいは ```文字列``` などでも使用するもので、対象のなかから一つ取り出したいものを指定する働きを持つ。\n",
    "\n",
    "リストの場合は、添字に指定するのは何番目にあるかという数字となっている。ただし、Python など多くの言語では、インデックスは 0 から始まる。ちなみにこのシステムを ```0-indexed``` と呼ぶ。具体的な例を見てみよう。"
   ]
  },
  {
   "cell_type": "code",
   "execution_count": 22,
   "metadata": {},
   "outputs": [
    {
     "name": "stdout",
     "output_type": "stream",
     "text": [
      "1 2 spam\n"
     ]
    }
   ],
   "source": [
    "var = [1, 2, 'spam']\n",
    "print(var[0], var[1], var[2])"
   ]
  },
  {
   "cell_type": "markdown",
   "metadata": {},
   "source": [
    "リストの末尾から -1, -2, ... という風に、負の数字を入れて指定することも出来る。もっとも、末尾を指定する ```[-1]``` 以外はあまり使わない（あるいは、使わないほうが安全）かも知れない。"
   ]
  },
  {
   "cell_type": "code",
   "execution_count": 23,
   "metadata": {},
   "outputs": [
    {
     "name": "stdout",
     "output_type": "stream",
     "text": [
      "spam\n"
     ]
    }
   ],
   "source": [
    "var = [1, 2, 'spam']\n",
    "print(var[-1])"
   ]
  },
  {
   "cell_type": "markdown",
   "metadata": {},
   "source": [
    "ちなみに、添字で、リストに存在しない範囲を指定しようとすると、エラー (IndexError) になる。"
   ]
  },
  {
   "cell_type": "code",
   "execution_count": 24,
   "metadata": {},
   "outputs": [
    {
     "ename": "IndexError",
     "evalue": "list index out of range",
     "output_type": "error",
     "traceback": [
      "\u001b[1;31m---------------------------------------------------------------------------\u001b[0m",
      "\u001b[1;31mIndexError\u001b[0m                                Traceback (most recent call last)",
      "\u001b[1;32m<ipython-input-24-08ca47366222>\u001b[0m in \u001b[0;36m<module>\u001b[1;34m\u001b[0m\n\u001b[0;32m      1\u001b[0m \u001b[0mvar\u001b[0m \u001b[1;33m=\u001b[0m \u001b[1;33m[\u001b[0m\u001b[1;36m1\u001b[0m\u001b[1;33m,\u001b[0m \u001b[1;36m2\u001b[0m\u001b[1;33m]\u001b[0m\u001b[1;33m\u001b[0m\u001b[1;33m\u001b[0m\u001b[0m\n\u001b[1;32m----> 2\u001b[1;33m \u001b[0mprint\u001b[0m\u001b[1;33m(\u001b[0m\u001b[0mvar\u001b[0m\u001b[1;33m[\u001b[0m\u001b[1;36m2\u001b[0m\u001b[1;33m]\u001b[0m\u001b[1;33m)\u001b[0m\u001b[1;33m\u001b[0m\u001b[1;33m\u001b[0m\u001b[0m\n\u001b[0m",
      "\u001b[1;31mIndexError\u001b[0m: list index out of range"
     ]
    }
   ],
   "source": [
    "var = [1, 2]\n",
    "print(var[2])"
   ]
  },
  {
   "cell_type": "markdown",
   "metadata": {},
   "source": [
    "[余談：0-indexedと1-indexed](./introduction_to_python_columns.ipynb#0indexedand1indexed)"
   ]
  },
  {
   "cell_type": "markdown",
   "metadata": {},
   "source": [
    "### 長さを取得する"
   ]
  },
  {
   "cell_type": "markdown",
   "metadata": {},
   "source": [
    "リストの長さは、length の頭文字から取られている ```len()``` という関数を用いることで取得できる。この関数は、```タプル``` ```辞書``` ```文字列``` などでも使用可能。"
   ]
  },
  {
   "cell_type": "code",
   "execution_count": 25,
   "metadata": {
    "scrolled": true
   },
   "outputs": [
    {
     "name": "stdout",
     "output_type": "stream",
     "text": [
      "3\n"
     ]
    }
   ],
   "source": [
    "print(len([1, 2, 3]))"
   ]
  },
  {
   "cell_type": "markdown",
   "metadata": {},
   "source": [
    "### 内容の書き換え"
   ]
  },
  {
   "cell_type": "markdown",
   "metadata": {},
   "source": [
    "リストは、その内容の一部を指定して書き換えることができる。書き方は簡単で、添字をつけた変数を、普通の変数であるかのように扱ってやればいい。"
   ]
  },
  {
   "cell_type": "code",
   "execution_count": 26,
   "metadata": {},
   "outputs": [
    {
     "name": "stdout",
     "output_type": "stream",
     "text": [
      "[0, 7, 0]\n"
     ]
    }
   ],
   "source": [
    "var = [0, 0, 0]\n",
    "var[1] = 7\n",
    "print(var)"
   ]
  },
  {
   "cell_type": "markdown",
   "metadata": {},
   "source": [
    "[余談：リストと呼ばれるもの](./introduction_to_python_columns.ipynb#datacalledlist)"
   ]
  },
  {
   "cell_type": "markdown",
   "metadata": {},
   "source": [
    "## タプル (tuple)"
   ]
  },
  {
   "cell_type": "markdown",
   "metadata": {},
   "source": [
    "タプル ```tuple``` とは、複数の値を一つの並びにまとめたものだ。\n",
    "\n",
    "作り方は簡単で、複数の値を ```,``` で区切って並べ、外側を 丸括弧 ```()``` で囲めばいい。\n",
    "\n",
    "- ```(0, 1, 2)```\n",
    "- ```(3.14, 'abc', 42)```\n",
    "- ```()```\n",
    "\n",
    "……ってちょっと待てよ、括弧の形を除けば、さっき聞いたリストと全く同じじゃない？と思われた方もいるだろう。\n",
    "\n",
    "実際、添字の使い方も、長さの取得も同様にできる。ほぼ同じような使い方が可能だ。"
   ]
  },
  {
   "cell_type": "code",
   "execution_count": 27,
   "metadata": {},
   "outputs": [
    {
     "name": "stdout",
     "output_type": "stream",
     "text": [
      "1 3\n"
     ]
    }
   ],
   "source": [
    "var = (0, 1, 2)\n",
    "print(var[1], len(var))"
   ]
  },
  {
   "cell_type": "markdown",
   "metadata": {},
   "source": [
    "ただし……"
   ]
  },
  {
   "cell_type": "code",
   "execution_count": 28,
   "metadata": {},
   "outputs": [
    {
     "ename": "TypeError",
     "evalue": "'tuple' object does not support item assignment",
     "output_type": "error",
     "traceback": [
      "\u001b[1;31m---------------------------------------------------------------------------\u001b[0m",
      "\u001b[1;31mTypeError\u001b[0m                                 Traceback (most recent call last)",
      "\u001b[1;32m<ipython-input-28-c0c315bf9bdf>\u001b[0m in \u001b[0;36m<module>\u001b[1;34m\u001b[0m\n\u001b[0;32m      1\u001b[0m \u001b[0mvar\u001b[0m \u001b[1;33m=\u001b[0m \u001b[1;33m(\u001b[0m\u001b[1;36m0\u001b[0m\u001b[1;33m,\u001b[0m \u001b[1;36m0\u001b[0m\u001b[1;33m,\u001b[0m \u001b[1;36m0\u001b[0m\u001b[1;33m)\u001b[0m\u001b[1;33m\u001b[0m\u001b[1;33m\u001b[0m\u001b[0m\n\u001b[1;32m----> 2\u001b[1;33m \u001b[0mvar\u001b[0m\u001b[1;33m[\u001b[0m\u001b[1;36m1\u001b[0m\u001b[1;33m]\u001b[0m \u001b[1;33m=\u001b[0m \u001b[1;36m7\u001b[0m\u001b[1;33m\u001b[0m\u001b[1;33m\u001b[0m\u001b[0m\n\u001b[0m\u001b[0;32m      3\u001b[0m \u001b[0mprint\u001b[0m\u001b[1;33m(\u001b[0m\u001b[0mvar\u001b[0m\u001b[1;33m)\u001b[0m\u001b[1;33m\u001b[0m\u001b[1;33m\u001b[0m\u001b[0m\n",
      "\u001b[1;31mTypeError\u001b[0m: 'tuple' object does not support item assignment"
     ]
    }
   ],
   "source": [
    "var = (0, 0, 0)\n",
    "var[1] = 7\n",
    "print(var)"
   ]
  },
  {
   "cell_type": "markdown",
   "metadata": {},
   "source": [
    "このように、タプル内の要素を書き換えようとすると、エラー TypeError が起きる。\n",
    "\n",
    "つまり、タプルの中身は変更不可能なのだ。これを、```イミュータブル``` (immutable) と呼ぶ。ちなみに、リストの中身は変更可能なわけだが、変更可能なものは ```ミュータブル``` (mutable) と呼ぶ。"
   ]
  },
  {
   "cell_type": "markdown",
   "metadata": {},
   "source": [
    "となると、リストのほうが明らかに便利で、タプルとか必要なくない？となるわけだが、タプルはタプルで、きちんとした使いどころがある。それについては、後ほど紹介する。ここでは、とりあえずタプルは変更不可能なリスト、くらいの認識でもいいかもしれない。"
   ]
  },
  {
   "cell_type": "markdown",
   "metadata": {},
   "source": [
    "### 要素が 1個のタプル"
   ]
  },
  {
   "cell_type": "markdown",
   "metadata": {},
   "source": [
    "なんらかの事情で要素が一つだけのタプルを作成したくなった時は、次のようにカンマを入れて書く。"
   ]
  },
  {
   "cell_type": "code",
   "execution_count": 29,
   "metadata": {},
   "outputs": [
    {
     "name": "stdout",
     "output_type": "stream",
     "text": [
      "(0,)\n"
     ]
    }
   ],
   "source": [
    "var = (0,)\n",
    "print(var)"
   ]
  },
  {
   "cell_type": "markdown",
   "metadata": {},
   "source": [
    "というのも、丸括弧 ```()``` だけだと、単純な式と見分けがつかないからだ。もっというと、面白いことに、実はカンマさえ書けば、丸括弧はなくてもタプルとして構成される。"
   ]
  },
  {
   "cell_type": "code",
   "execution_count": 30,
   "metadata": {},
   "outputs": [
    {
     "name": "stdout",
     "output_type": "stream",
     "text": [
      "(1, 2, 3)\n"
     ]
    }
   ],
   "source": [
    "var = 1, 2, 3\n",
    "print(var)"
   ]
  },
  {
   "cell_type": "markdown",
   "metadata": {},
   "source": [
    "とはいえ、明確にタプルであることを示すためにも括弧はつけておくほうがいいかもしれない。"
   ]
  },
  {
   "cell_type": "markdown",
   "metadata": {},
   "source": [
    "### 文字列とタプルの共通点"
   ]
  },
  {
   "cell_type": "markdown",
   "metadata": {},
   "source": [
    "ここで、文字列型 ```str``` について再度話をしよう。文字列も、中に複数の文字を保存している型とみなして、添字が利用できる。\n",
    "\n",
    "そして実は、文字列とタプルは似たところがある。とりあえず、添字と ```len()``` を見てみよう。"
   ]
  },
  {
   "cell_type": "code",
   "execution_count": 31,
   "metadata": {},
   "outputs": [
    {
     "name": "stdout",
     "output_type": "stream",
     "text": [
      "b 5\n"
     ]
    }
   ],
   "source": [
    "var = \"abcde\"\n",
    "print(var[1], len(var))"
   ]
  },
  {
   "cell_type": "markdown",
   "metadata": {},
   "source": [
    "そして、中身を書き換えようとすると……"
   ]
  },
  {
   "cell_type": "code",
   "execution_count": 32,
   "metadata": {},
   "outputs": [
    {
     "ename": "TypeError",
     "evalue": "'str' object does not support item assignment",
     "output_type": "error",
     "traceback": [
      "\u001b[1;31m---------------------------------------------------------------------------\u001b[0m",
      "\u001b[1;31mTypeError\u001b[0m                                 Traceback (most recent call last)",
      "\u001b[1;32m<ipython-input-32-186027eba0d8>\u001b[0m in \u001b[0;36m<module>\u001b[1;34m\u001b[0m\n\u001b[0;32m      1\u001b[0m \u001b[0mvar\u001b[0m \u001b[1;33m=\u001b[0m \u001b[1;34m\"abcde\"\u001b[0m\u001b[1;33m\u001b[0m\u001b[1;33m\u001b[0m\u001b[0m\n\u001b[1;32m----> 2\u001b[1;33m \u001b[0mvar\u001b[0m\u001b[1;33m[\u001b[0m\u001b[1;36m1\u001b[0m\u001b[1;33m]\u001b[0m \u001b[1;33m=\u001b[0m \u001b[1;34m\"f\"\u001b[0m\u001b[1;33m\u001b[0m\u001b[1;33m\u001b[0m\u001b[0m\n\u001b[0m",
      "\u001b[1;31mTypeError\u001b[0m: 'str' object does not support item assignment"
     ]
    }
   ],
   "source": [
    "var = \"abcde\"\n",
    "var[1] = \"f\""
   ]
  },
  {
   "cell_type": "markdown",
   "metadata": {},
   "source": [
    "このように、エラーが起きる。つまり文字列は ```イミュータブル``` である。"
   ]
  },
  {
   "cell_type": "markdown",
   "metadata": {},
   "source": [
    "## シーケンス (sequence) 型とスライス (slice)"
   ]
  },
  {
   "cell_type": "markdown",
   "metadata": {},
   "source": [
    "リスト・タプル・文字列はどれも、独立した複数の値を順番に保持する型であって、整数の添字、つまりインデックスを利用して個々の値を取得することができる。\n",
    "\n",
    "この特徴をもった型をまとめて、シーケンス型と呼ぶことがある。シーケンス型では、スライスと呼ばれる記法により、効率的に中身を分割したり、切り出したりすることができる。"
   ]
  },
  {
   "cell_type": "markdown",
   "metadata": {},
   "source": [
    "### スライス (slice)"
   ]
  },
  {
   "cell_type": "markdown",
   "metadata": {},
   "source": [
    "スライスは添字と同じように、角括弧 ```[]``` で指定する。その際、中に開始地点・終了地点・ステップ数をコロン ```:``` で区切って指定することで、開始地点（含まれる）～終了地点（含まれない）の要素をステップ数ごとに取り出した、新たなシーケンス型を返す。また、開始地点と終了地点は省略することもできる。\n",
    "\n",
    "いくつか例を見てみよう。"
   ]
  },
  {
   "cell_type": "code",
   "execution_count": 50,
   "metadata": {},
   "outputs": [
    {
     "name": "stdout",
     "output_type": "stream",
     "text": [
      "[3, 4, 5, 6, 7]\n",
      "[0, 1, 2, 3, 4, 5, 6, 7, 8, 9, 10]\n",
      "[]\n",
      "\n",
      "[0, 2, 4, 6, 8, 10]\n",
      "[1, 3, 5, 7, 9]\n",
      "[3, 7]\n",
      "[2, 5]\n",
      "\n",
      "[10, 9, 8, 7, 6, 5, 4, 3, 2, 1, 0]\n",
      "[8, 6, 4, 2, 0]\n",
      "[10, 9, 8, 7, 6, 5]\n"
     ]
    }
   ],
   "source": [
    "var = [0, 1, 2, 3, 4, 5, 6, 7, 8, 9, 10]\n",
    "print(var[3:8])   # 基本\n",
    "print(var[:30])   # 範囲外でもエラーは出ない\n",
    "print(var[30:50]) # ない場合は空になる\n",
    "print()\n",
    "print(var[::2])   # 奇数番目の要素\n",
    "print(var[1::2])  # 偶数番目の要素\n",
    "print(var[3::4])  # index3 から 4つごとに\n",
    "print(var[2:8:3]) # index2 ～ 8 を 3つごとに\n",
    "print()\n",
    "print(var[::-1])  # 反転される。頻出。\n",
    "print(var[8::-2]) # index8 から左に向かって 2つごとに\n",
    "print(var[:4:-1]) # ステップが負数なら省略された開始位置は後端とみなしてくれる"
   ]
  },
  {
   "cell_type": "markdown",
   "metadata": {},
   "source": [
    "スライスは文字列処理でも頻繁に利用されるが、インデックス i から n 文字とりだす、みたいな使い方が多いかも知れない。その場合、開始位置を ```i```、終了位置を ```i + n``` にしてやればいい。"
   ]
  },
  {
   "cell_type": "code",
   "execution_count": 68,
   "metadata": {},
   "outputs": [
    {
     "name": "stdout",
     "output_type": "stream",
     "text": [
      "cdefg\n"
     ]
    }
   ],
   "source": [
    "var = \"abcdefghij\"\n",
    "print(var[2:2+5])  # index2 から 5 文字取り出す"
   ]
  },
  {
   "cell_type": "markdown",
   "metadata": {},
   "source": [
    "慣れると非常に便利かつ強力なので、是非いろいろと試してみてもらいたい。"
   ]
  },
  {
   "cell_type": "markdown",
   "metadata": {},
   "source": [
    "[余談：スライスの罠](./introduction_to_python_columns.ipynb#trapofslicing)"
   ]
  },
  {
   "cell_type": "markdown",
   "metadata": {},
   "source": [
    "## リストやタプルに使用可能な演算子"
   ]
  },
  {
   "cell_type": "markdown",
   "metadata": {},
   "source": [
    "リスト同士やタプル同士は加算演算子 ```+``` を用いて連結することができる。前述したように、文字列でもできる。"
   ]
  },
  {
   "cell_type": "code",
   "execution_count": null,
   "metadata": {},
   "outputs": [],
   "source": [
    "l1, l2, l3 = [0, 1, 2], [3], [4, 5]\n",
    "t1, t2, t3 = (0, 1, 2), (3,), (4, 5)\n",
    "print(l1 + l2, l1 + l2 + l3)\n",
    "print(t1 + t2, t1 + t2 + t3)"
   ]
  },
  {
   "cell_type": "markdown",
   "metadata": {},
   "source": [
    "掛け算を用いることもできる。これは一次元リストの初期化の際によく使われる。"
   ]
  },
  {
   "cell_type": "code",
   "execution_count": null,
   "metadata": {},
   "outputs": [],
   "source": [
    "var = [0] * 10\n",
    "print(var)"
   ]
  },
  {
   "cell_type": "markdown",
   "metadata": {},
   "source": [
    "各種比較演算子も使用できる。ただし、同じ型同士としか比較できない。\n",
    "\n",
    "``` == ``` による一致判定は、全ての要素が一致していれば ```True``` が返ってくる。"
   ]
  },
  {
   "cell_type": "code",
   "execution_count": null,
   "metadata": {},
   "outputs": [],
   "source": [
    "print([1, 2, 3] == [1, 2, 3])\n",
    "print([1, 2] == [1, 2, 3])"
   ]
  },
  {
   "cell_type": "markdown",
   "metadata": {},
   "source": [
    "```>``` などによる比較は、前の要素から順番に見ていく。"
   ]
  },
  {
   "cell_type": "code",
   "execution_count": null,
   "metadata": {},
   "outputs": [],
   "source": [
    "print([1, 2, 4] > [1, 2, 3])\n",
    "print([1, 3, 2] <= [1, 2, 3])"
   ]
  },
  {
   "cell_type": "markdown",
   "metadata": {},
   "source": [
    "要素が途中で無くなった場合は、無くなったほうが小さいと判定される。"
   ]
  },
  {
   "cell_type": "code",
   "execution_count": null,
   "metadata": {},
   "outputs": [],
   "source": [
    "print([1, 2] < [1, 2, 3])"
   ]
  },
  {
   "cell_type": "markdown",
   "metadata": {},
   "source": [
    "## 型変換"
   ]
  },
  {
   "cell_type": "markdown",
   "metadata": {},
   "source": [
    "リストとタプルは ```list()``` ```tuple()``` を用いることで相互に変換できる。"
   ]
  },
  {
   "cell_type": "code",
   "execution_count": null,
   "metadata": {},
   "outputs": [],
   "source": [
    "var = [1, 2, 3]\n",
    "var = tuple(var)\n",
    "print(var)\n",
    "var = list(var)\n",
    "print(var)"
   ]
  },
  {
   "cell_type": "markdown",
   "metadata": {},
   "source": [
    "文字列からリストやタプルを作成することもできる。この場合、一文字ずつ切り出される形になる。"
   ]
  },
  {
   "cell_type": "code",
   "execution_count": null,
   "metadata": {},
   "outputs": [],
   "source": [
    "var = \"abc\"\n",
    "print(list(var))\n",
    "print(tuple(var))"
   ]
  },
  {
   "cell_type": "markdown",
   "metadata": {},
   "source": [
    "リストやタプルを ```str()``` で文字列にすることもできるが……"
   ]
  },
  {
   "cell_type": "code",
   "execution_count": null,
   "metadata": {},
   "outputs": [],
   "source": [
    "var = [1, 2, 3]\n",
    "print(str(var))"
   ]
  },
  {
   "cell_type": "markdown",
   "metadata": {},
   "source": [
    "このように、リスト表記そのものの文字列 ```\"[1, 2, 3]\"``` となってしまう。リストの中身を結合した文字列にしたい場合は、```join()``` を使う。具体的な使用例については、後述する。"
   ]
  },
  {
   "cell_type": "markdown",
   "metadata": {},
   "source": [
    "## リストに対する操作"
   ]
  },
  {
   "cell_type": "markdown",
   "metadata": {},
   "source": [
    "競技プログラミングにおいて、もっとも頻繁に使用するデータ構造は、もちろんリストだ。そこで、リストで頻繁に行う操作をいくつか紹介しておく。"
   ]
  },
  {
   "cell_type": "markdown",
   "metadata": {},
   "source": [
    "### list.append()"
   ]
  },
  {
   "cell_type": "markdown",
   "metadata": {},
   "source": [
    "リストの末尾に要素を追加したいときは、```list.append()``` を使用する。ちなみに、```list.append()``` 自体は ```None``` を返す。"
   ]
  },
  {
   "cell_type": "code",
   "execution_count": 1,
   "metadata": {},
   "outputs": [
    {
     "name": "stdout",
     "output_type": "stream",
     "text": [
      "[0, 1, 2]\n"
     ]
    }
   ],
   "source": [
    "var = [0, 1, 2]\n",
    "print(var)"
   ]
  },
  {
   "cell_type": "markdown",
   "metadata": {},
   "source": [
    "### list.extend()"
   ]
  },
  {
   "cell_type": "markdown",
   "metadata": {},
   "source": [
    "リストの末尾にリストを追加したい時は、```list.extend()``` を使用する。戻り値は ```None```。"
   ]
  },
  {
   "cell_type": "code",
   "execution_count": 4,
   "metadata": {},
   "outputs": [
    {
     "name": "stdout",
     "output_type": "stream",
     "text": [
      "[0, 1, 2, 3, 4]\n"
     ]
    }
   ],
   "source": [
    "var = [0, 1, 2]\n",
    "var.extend([3, 4])\n",
    "print(var)"
   ]
  },
  {
   "cell_type": "markdown",
   "metadata": {},
   "source": [
    "### list.pop()"
   ]
  },
  {
   "cell_type": "markdown",
   "metadata": {},
   "source": [
    "リストの末尾から要素を取り除きたい時は、```list.pop()``` を使用する。```list.pop()``` は、削除された値を返す。"
   ]
  },
  {
   "cell_type": "code",
   "execution_count": null,
   "metadata": {},
   "outputs": [],
   "source": [
    "var = [0, 1, 2]\n",
    "print(var.pop())\n",
    "print(var)"
   ]
  },
  {
   "cell_type": "markdown",
   "metadata": {},
   "source": [
    "### list.sort() と sorted()"
   ]
  },
  {
   "cell_type": "markdown",
   "metadata": {},
   "source": [
    "リストをソートしたい、つまり値順に並び替えたい時は、```list.sort()``` を使用する。デフォルトでは昇順に並び替えられる。"
   ]
  },
  {
   "cell_type": "code",
   "execution_count": null,
   "metadata": {},
   "outputs": [],
   "source": [
    "var = [3, 5, 2, 4, 1]\n",
    "var.sort()\n",
    "print(var)"
   ]
  },
  {
   "cell_type": "markdown",
   "metadata": {},
   "source": [
    "上記のように、```list.sort()``` はリストの中身そのものを書き換えてしまう。このような動作を ```破壊的``` と呼ぶ。中身を書き換えたくない場合は、```sorted()``` を使うと、並び替えられたリストを取得できる。"
   ]
  },
  {
   "cell_type": "code",
   "execution_count": null,
   "metadata": {},
   "outputs": [],
   "source": [
    "var = (3, 5, 2, 4, 1)\n",
    "print(sorted(var))\n",
    "print(var)"
   ]
  },
  {
   "cell_type": "markdown",
   "metadata": {},
   "source": [
    "```sorted``` については、破壊的な動作ではない、つまり中身の書き換えを伴わないので、イミュータブルなタプルでも使用できる。ただし、戻り値はリストになる。"
   ]
  },
  {
   "cell_type": "markdown",
   "metadata": {},
   "source": [
    "降順にしたい場合は、キーワード引数 ```reverse=True``` を指定する。これは ```list.sort()``` でも ```sort()``` でも使用できる。"
   ]
  },
  {
   "cell_type": "code",
   "execution_count": null,
   "metadata": {},
   "outputs": [],
   "source": [
    "var = [3, 5, 2, 4, 1]\n",
    "print(sorted(var, reverse=True))\n",
    "\n",
    "var.sort(reverse=True)\n",
    "print(var)"
   ]
  },
  {
   "cell_type": "markdown",
   "metadata": {},
   "source": [
    "また、キーワード引数 ```key``` を使用することで、何を基準に並べ替えるかを指定することもできる。少しややこしくなるので、ここでは、そういうこともできるということだけ紹介しておく。"
   ]
  },
  {
   "cell_type": "code",
   "execution_count": null,
   "metadata": {},
   "outputs": [],
   "source": [
    "# 合計順に並べ替える例：\n",
    "var = [[0, 2], [1, 4], [3, 0], [2, 2]]\n",
    "var.sort(key=sum)   # sum は関数\n",
    "print(var)"
   ]
  },
  {
   "cell_type": "markdown",
   "metadata": {},
   "source": [
    "### reversed()"
   ]
  },
  {
   "cell_type": "markdown",
   "metadata": {},
   "source": [
    "逆順にしたい時は、```reversed()``` を使えば、逆順にできる。ただし、返ってくるのは ```list_reverseiterator オブジェクト``` になるので、中身を確認したい場合は ```list()``` などを行う必要がある。"
   ]
  },
  {
   "cell_type": "code",
   "execution_count": null,
   "metadata": {},
   "outputs": [],
   "source": [
    "print(reversed([1, 2, 3]))\n",
    "print(list(reversed([1, 2, 3])))\n",
    "print(tuple(reversed((1, 2, 3))))\n",
    "print(list(reversed(\"abc\")))"
   ]
  },
  {
   "cell_type": "markdown",
   "metadata": {},
   "source": [
    "## クラス・オブジェクト・メソッドとは"
   ]
  },
  {
   "cell_type": "markdown",
   "metadata": {},
   "source": [
    "上でいきなり ```list.append()``` やら ```オブジェクト``` やらと怪しい表記を出して、なんとなく分かるものの、もやもやとした気分になった人も多いと思われるので、それについて。\n",
    "\n",
    "まず、あるデータ構造と、そのデータ構造に対する操作をひとまとめにしたものを、```クラス``` (class) と呼ぶ。\n",
    "\n",
    "いきなりなんやねんという感じだが、頻繁に登場する用語であり、リストを例に取ると分かりやすいので、ここで説明しておく。\n",
    "\n",
    "さて、リストとは ```複数の値を順に並べた``` データ構造と、```末尾にデータを付け加える``` ```末尾からデータを取り除きつつその値を返す``` といった操作がセットで定義されている ```クラス``` である……と書くと、なんとなく最初に書いた定義が分かるのではないだろうか。\n",
    "\n",
    "クラス自体は雛形に過ぎない。  \n",
    "例えばリストの場合、実際に使用するときには ```[1, 2, 3]``` といった書式で具体的な値が作成されることになる。この作成されたものを、```オブジェクト``` (object) と呼ぶ。オブジェクトには、具体的な値と、クラスによって定義された操作が内包されることになる。\n",
    "\n",
    "さて、クラスの持つ操作は、実際には外部から参照可能な関数として定義される。それらを ```メソッド``` (method) と呼ぶ。メソッドは、該当するクラスのオブジェクトから呼び出すことが可能で、具体的にはオブジェクトの後に ```.``` とメソッド名を続けて書く。\n",
    "\n",
    "この文書では、例えば ```list.append()``` と書いたときには、```list``` クラスのオブジェクトで使用するメソッド、という意味合いとしておく。\n",
    "\n",
    "実は整数や小数といった単純に見える値も、Python においてはクラスである。"
   ]
  },
  {
   "cell_type": "code",
   "execution_count": null,
   "metadata": {},
   "outputs": [],
   "source": [
    "var = 2.1\n",
    "print(var.is_integer())"
   ]
  },
  {
   "cell_type": "markdown",
   "metadata": {},
   "source": [
    "上記は、```float``` のメソッド ```float.is_integer()``` を使用した例となり、整数として扱うことが可能かどうかを判定している。\n",
    "\n",
    "今後メソッドという表記を見た場合は、クラスに付随する機能を指しているということは、頭に入れておいてもらいたい。"
   ]
  },
  {
   "cell_type": "markdown",
   "metadata": {},
   "source": [
    "[参考：メソッドの種類](./introduction_to_python_columns.ipynb#typesofmethods)  \n",
    "[参考：メソッド一覧](./introduction_to_python_columns.ipynb#listofmethods)  \n",
    "[余談：インスタンスとオブジェクト](./introduction_to_python_columns.ipynb#instanceandobject)  \n",
    "[余談：型変換の正体はコンストラクタ](./introduction_to_python_columns.ipynb#constructor)"
   ]
  },
  {
   "cell_type": "markdown",
   "metadata": {},
   "source": [
    "## 多次元リスト"
   ]
  },
  {
   "cell_type": "markdown",
   "metadata": {},
   "source": [
    "リストには、あらゆる値を入れることができる。つまり、リストの中にリストを入れることができる。"
   ]
  },
  {
   "cell_type": "code",
   "execution_count": null,
   "metadata": {},
   "outputs": [],
   "source": [
    "var = [[1, 2, 3], [4, 5, 6], [7, 8, 9]]"
   ]
  },
  {
   "cell_type": "markdown",
   "metadata": {},
   "source": [
    "これは、次のように書くと、分かりやすくなる。"
   ]
  },
  {
   "cell_type": "code",
   "execution_count": null,
   "metadata": {},
   "outputs": [],
   "source": [
    "var = [\n",
    "    [1, 2, 3],\n",
    "    [4, 5, 6],\n",
    "    [7, 8, 9]\n",
    "]"
   ]
  },
  {
   "cell_type": "markdown",
   "metadata": {},
   "source": [
    "これを二次元リストと呼び、グリッド（縦横のマス目）にかかわる問題や、動的計画法 (Dynamic Programming) で頻繁に利用される。\n",
    "\n",
    "個々の値は、添字を二つ続けて書いてやることで取得できる。添字を一つにすれば、もちろんリストが返ってくる。"
   ]
  },
  {
   "cell_type": "code",
   "execution_count": null,
   "metadata": {},
   "outputs": [],
   "source": [
    "var = [[1, 2, 3], [4, 5, 6], [7, 8, 9]]\n",
    "print(var[1])\n",
    "print(var[1][2])"
   ]
  },
  {
   "cell_type": "markdown",
   "metadata": {},
   "source": [
    "もちろんリストの中のリストにリストを入れるような、二次元以上の多次元配列も可能だ。といっても、三次元より多いものはあまり使用しないと思う。"
   ]
  },
  {
   "cell_type": "markdown",
   "metadata": {},
   "source": [
    "## イテレータ (iterator) とは"
   ]
  },
  {
   "cell_type": "markdown",
   "metadata": {},
   "source": [
    "イテレータとは、```list``` や ```tuple``` など、複数の値を順番に出すことができるクラス、つまり ```イテラブル``` から順次値を取得する仕組みのことであり、そのような仕組みをもつオブジェクトのことである。\n",
    "\n",
    "イテラブルの内部では ```__iter__()``` と ```__next__()``` という二つのメソッドが定義されており、イテラブルとしての呼び出しを受けると、自身のもつ値を元にイテレータを作成し、そこから順番に値を返す仕組みになっている。\n",
    "\n",
    "……などと言われてもピンと来ないと思うので、どのように動作するかを、ちょっと確認してみよう。```__iter__()``` と ```__next__()``` は、それぞれ ```iter()``` と ```next()``` を利用することで呼び出すことができる。"
   ]
  },
  {
   "cell_type": "code",
   "execution_count": null,
   "metadata": {},
   "outputs": [],
   "source": [
    "iterator = iter([1, 2, 3])\n",
    "print(iterator)\n",
    "print(next(iterator))\n",
    "print(next(iterator))\n",
    "print(next(iterator))\n",
    "print(next(iterator))"
   ]
  },
  {
   "cell_type": "markdown",
   "metadata": {},
   "source": [
    "最初の ```iter()``` により、イテラブルであるリスト ```[1, 2, 3]``` からイテレータである ```list_iterator オブジェクト``` が作成される。次から ```next()``` によって順番に値が返されていることが分かると思う。値がなくなると、次に ```StopIteration``` エラーが送出され、終わりであることを知らせる。\n",
    "\n",
    "Python で複数の値を保持できるクラスは、同時にイテラブルでもあることが多く、様々な繰り返しを伴う制御文や関数に、共通の書き方で利用することができる仕組みになっている。\n",
    "\n",
    "我々が普段上記の動作を意識することは少ないが、用語と仕組みを知っておくこと自体は重要と考え、一項目を設けることにした。\n",
    "\n",
    "ここまで出てきた中では、```list()``` ```sorted()``` ```reversed()``` などは、イテラブルを引数に取ることができるものである。もちろん、イテレータそのものもイテラブルなので、引数とすることができる。"
   ]
  },
  {
   "cell_type": "markdown",
   "metadata": {},
   "source": [
    "## map()"
   ]
  },
  {
   "cell_type": "markdown",
   "metadata": {},
   "source": [
    "さっそく、イテレータを利用する関数をもう一つ紹介しよう。```map()``` は、イテラブルの各要素に対して、決められた共通の処理をまとめて行う関数で、 ```map(関数, イテラブル)``` の形で使用する。といっても、ここで紹介する使い方は一つだけである。"
   ]
  },
  {
   "cell_type": "code",
   "execution_count": null,
   "metadata": {},
   "outputs": [],
   "source": [
    "mapped = map(int, [\"1\", \"2\", \"3\"])\n",
    "print(mapped)\n",
    "listed_map = list(mapped)\n",
    "print(listed_map)"
   ]
  },
  {
   "cell_type": "markdown",
   "metadata": {},
   "source": [
    "一つ目の出力では、```map()``` で返ってくる ```mapオブジェクト``` がそのまま表示されている。```map オブジェクト```はそのままイテレータとなっており、これを ```list()``` でリストに変換してやると、中身が分かる。見ての通り、```int(\"1\")```, ```int(\"2\")```, ```int(\"3\")``` に相当する値が入っている。\n",
    "\n",
    "これを使うと、一行に複数の値を持つ標準入力を楽に処理できるようになる。これを紹介するために、```map()``` の話をしているというわけだ。"
   ]
  },
  {
   "cell_type": "code",
   "execution_count": null,
   "metadata": {},
   "outputs": [],
   "source": [
    "X, Y, Z = map(int, input().split())\n",
    "print(X + Y+ Z)"
   ]
  },
  {
   "cell_type": "markdown",
   "metadata": {},
   "source": [
    "リストとして取り込む場合は、次のようにすればいい。"
   ]
  },
  {
   "cell_type": "code",
   "execution_count": null,
   "metadata": {},
   "outputs": [],
   "source": [
    "num_list = list(map(int, input().split()))\n",
    "print(num_list)"
   ]
  },
  {
   "cell_type": "markdown",
   "metadata": {},
   "source": [
    "本来 ```map()``` は ```filter()``` と並んで重要かつ強力な関数なのだが、実際には後述する ```内包表記``` と呼ばれる書き方によって、ほぼ同じことがより簡単に書けるため、あまり使用されない。競技プログラミングにおいても、入力以外に使われることはあまり無いように思う。"
   ]
  },
  {
   "cell_type": "code",
   "execution_count": null,
   "metadata": {},
   "outputs": [],
   "source": [
    "# 参考程度に、各要素を二乗したリストを返してみる\n",
    "var = [1, 2, 3, 4, 5]\n",
    "mapping = list(map(lambda x:x**2, var))  # map() + 無名関数(lambda)\n",
    "comprehension = [x**2 for x in var]      # 内包表記\n",
    "print(mapping, comprehension)"
   ]
  },
  {
   "cell_type": "markdown",
   "metadata": {},
   "source": [
    "# ループ処理 (for)"
   ]
  },
  {
   "cell_type": "markdown",
   "metadata": {},
   "source": [
    "リスト（あるいはイテラブル）の話が終わったところで、いよいよお待ちかねの、ループ処理の話である。この章での文中や例は全てリストを前提として語るが、実際にはイテラブル全てで適用可能であることを、頭の片隅に引っ掛けておいてほしい。\n",
    "\n",
    "さて、ループ処理というと、他のプログラミング言語における一般的な入門書では、次のような説明が多いのではないだろうか。\n",
    "\n",
    "> 何回も似たような処理を繰り返し書くのは面倒ですよね？  \n",
    "> こんな時に使えるのが、```for``` によるループです。\n",
    "\n",
    "でもって、最初の例では次のようなコードが示される。\n",
    "\n",
    "> // C 言語の例：  \n",
    "> for (int i = 0; i < 繰り返す回数; i++) {繰り返したい内容}\n",
    "\n",
    "Python におけるループ処理は、上記のような内容とは少し本質的に違うものとなっており、多言語でいうところの ```for each``` を基本としている。\n",
    "\n",
    "構文は以下のようなものだ。"
   ]
  },
  {
   "cell_type": "code",
   "execution_count": null,
   "metadata": {},
   "outputs": [],
   "source": [
    "# for 文の書き方（else 以下は省略可能）\n",
    "for 各要素を代入する変数 in イテラブル:\n",
    "    ループごとの処理ブロック\n",
    "else:\n",
    "    ループが正常終了した時の処理ブロック"
   ]
  },
  {
   "cell_type": "markdown",
   "metadata": {},
   "source": [
    "……と書くだけではピンとこないと思うので、実践しつつ具体的な使い方を見ていくことにしよう。"
   ]
  },
  {
   "cell_type": "markdown",
   "metadata": {},
   "source": [
    "## ループ処理の実践 (sum, count)"
   ]
  },
  {
   "cell_type": "markdown",
   "metadata": {},
   "source": [
    "まずは、いくつかの整数値を受け取り、その合計を求めるという問題を設定し、それをループ処理を用いて行うことを考えていく。このコードの具体的な動作を見ることで、```for``` の動きがふんわりと理解できるかと思う。"
   ]
  },
  {
   "cell_type": "markdown",
   "metadata": {},
   "source": [
    "### ループ処理実践問題1- sum  "
   ]
  },
  {
   "cell_type": "markdown",
   "metadata": {},
   "source": [
    "---\n",
    "**問題：**  \n",
    "$N$個の整数からできた数列$A: A_{1}, A_{2}, A_{3}, ... , A_{N}$ が与えられます。数列中の各数の合計を求め、出力してください。\n",
    "\n",
    "**入力：**  \n",
    "$\n",
    "N\\\\\n",
    "A_{1}, A_{2}, A_{3}, ... , A_{N}\n",
    "$\n",
    "---"
   ]
  },
  {
   "cell_type": "markdown",
   "metadata": {},
   "source": [
    "一問目なので、丁寧に解説を行っていく。\n",
    "\n",
    "まずは、なにはともあれ入力を受け取ろう。\n",
    "\n",
    "競技プログラミングにおいては、この問題のように、まずは要素数が渡されることが多い。が、実はこの問題については、Python では特に要素数を必要としない。\n",
    "\n",
    "とはいえ、受け取らないわけにも行かないので、とりあえず ```N``` へ入れておくことにしよう。\n",
    "続けて、 ```num_list``` という変数へ、リストとして一連の数値を取り込んでおく。"
   ]
  },
  {
   "cell_type": "code",
   "execution_count": null,
   "metadata": {},
   "outputs": [],
   "source": [
    "N = int(input())\n",
    "num_list = list(map(int, input().split()))"
   ]
  },
  {
   "cell_type": "markdown",
   "metadata": {},
   "source": [
    "最終的な答えを格納する変数を用意しておく。リストが空の時は答えは 0 なので、初期値は 0 としておく。"
   ]
  },
  {
   "cell_type": "code",
   "execution_count": null,
   "metadata": {},
   "outputs": [],
   "source": [
    "answer = 0"
   ]
  },
  {
   "cell_type": "markdown",
   "metadata": {},
   "source": [
    "準備が整ったので、いよいよ ```for``` の出番である。\n",
    "\n",
    "```num_list``` の各要素を、次々に ```answer``` に足していきたいわけだが、各要素を代入する変数名は、とりあえず ```num``` とする。  \n",
    "これを for 文で書き下すと、"
   ]
  },
  {
   "cell_type": "code",
   "execution_count": null,
   "metadata": {},
   "outputs": [],
   "source": [
    "for num in num_list:\n",
    "    answer += num"
   ]
  },
  {
   "cell_type": "markdown",
   "metadata": {},
   "source": [
    "という具合になる。あとは、答えを出力してやればいい。\n",
    "\n",
    "全体としては、以下のようになる。"
   ]
  },
  {
   "cell_type": "code",
   "execution_count": null,
   "metadata": {},
   "outputs": [],
   "source": [
    "N = int(input())   # 受け取るだけで使用しない\n",
    "num_list = list(map(int, input().split()))  # 数列をリストとして保存\n",
    "\n",
    "answer = 0   # 答えの初期値\n",
    "\n",
    "for num in num_list:   # num_list の各要素を順に num に入れて、ブロック内の処理を行うのを繰り返す\n",
    "    answer += num   # 答えに num を加える\n",
    "\n",
    "print(answer)   # 回答を出力"
   ]
  },
  {
   "cell_type": "markdown",
   "metadata": {},
   "source": [
    "### ループ処理実践問題2 - count"
   ]
  },
  {
   "cell_type": "markdown",
   "metadata": {},
   "source": [
    "---\n",
    "**問題：**  \n",
    "$N$個の整数からできた数列$A: A_{1}, A_{2}, A_{3}, ... , A_{N}$と、整数値$P$が与えられます。数列中にある$P$の数を求め、出力してください。\n",
    "\n",
    "**入力：**  \n",
    "$\n",
    "N\\\\\n",
    "A_{1}, A_{2}, A_{3}, ... , A_{N}\\\\\n",
    "P\n",
    "$\n",
    "---"
   ]
  },
  {
   "cell_type": "markdown",
   "metadata": {},
   "source": [
    "では、順番に考えていこう。まずは先程と同様に、数列を読み込んでやる。"
   ]
  },
  {
   "cell_type": "code",
   "execution_count": null,
   "metadata": {},
   "outputs": [],
   "source": [
    "N = int(input())\n",
    "num_list = list(map(int, input().split()))"
   ]
  },
  {
   "cell_type": "markdown",
   "metadata": {},
   "source": [
    "今回の問題ではもう一つ、数える対象の ```P``` を読み込まなければならない。それも読み込んでおこう。"
   ]
  },
  {
   "cell_type": "code",
   "execution_count": null,
   "metadata": {},
   "outputs": [],
   "source": [
    "P = int(input())"
   ]
  },
  {
   "cell_type": "markdown",
   "metadata": {},
   "source": [
    "では、回答を初期化してループ処理を書いていこう。"
   ]
  },
  {
   "cell_type": "code",
   "execution_count": null,
   "metadata": {},
   "outputs": [],
   "source": [
    "answer = 0\n",
    "\n",
    "for num in num_list:\n",
    "    if num == P:\n",
    "        answer += 1"
   ]
  },
  {
   "cell_type": "markdown",
   "metadata": {},
   "source": [
    "今回は、ループ処理内に ```if``` による分岐が入る形になる。探しているものがあれば、答えに 1を足していく感じになる。後は答えを出力するだけなので、これまでの分も含めてまとめておく。"
   ]
  },
  {
   "cell_type": "code",
   "execution_count": null,
   "metadata": {},
   "outputs": [],
   "source": [
    "N = int(input())\n",
    "num_list = list(map(int, input().split()))\n",
    "P = int(input())\n",
    "\n",
    "answer = 0\n",
    "\n",
    "for num in num_list:\n",
    "    if num == P:\n",
    "        answer += 1\n",
    "\n",
    "print(answer)"
   ]
  },
  {
   "cell_type": "markdown",
   "metadata": {},
   "source": [
    "## range(), enumerate(), continue, break "
   ]
  },
  {
   "cell_type": "markdown",
   "metadata": {},
   "source": [
    "次に、もう一つ実践問題を解きながら ```range()``` ```enumerate()``` の使い方、および ```continue``` ```break``` ```else``` の使い方を見てもらうことにする。"
   ]
  },
  {
   "cell_type": "markdown",
   "metadata": {},
   "source": [
    "### ループ処理実践問題3 - index"
   ]
  },
  {
   "cell_type": "markdown",
   "metadata": {},
   "source": [
    "---\n",
    "**問題：**  \n",
    "$N$個の整数からできた数列$A: A_{1}, A_{2}, A_{3}, ... , A_{N}$と、整数値$P$が与えられます。$P$が数列中に $A_{i}$ として初めて現れるとしたとき、$i-1$を出力してください。ただし、$A$中に$P$が存在しない場合は、```not found``` と出力してください。\n",
    "\n",
    "**入力：**  \n",
    "$\n",
    "N\\\\\n",
    "A_{1}, A_{2}, A_{3}, ... , A_{N}\\\\\n",
    "P\n",
    "$\n",
    "---"
   ]
  },
  {
   "cell_type": "markdown",
   "metadata": {},
   "source": [
    "さて、今までと同様 ```N``` ```num_list``` ```P``` を受け取ったとして、```for``` の部分をどうすればいいだろうか。"
   ]
  },
  {
   "cell_type": "markdown",
   "metadata": {},
   "source": [
    "まず、```answer``` には見つかった段階で正しい値を代入するので、初期値としては答えであり得ない数値を設定しておくとよい。$i$番目の時の $i-1$ とは、つまりはインデックスのことである。そこで、$-1$ あたりを設定しておくといいだろう。"
   ]
  },
  {
   "cell_type": "code",
   "execution_count": 51,
   "metadata": {},
   "outputs": [],
   "source": [
    "answer = -1"
   ]
  },
  {
   "cell_type": "markdown",
   "metadata": {},
   "source": [
    "さて、困ったことに、ここまでの知識ではこの問題をスマートに解くのが難しい。上で用いた ```for num in num_list:``` のループ処理自体は、今何番目という情報を持っていないからだ。\n",
    "\n",
    "一つの方法としては、いま何番目なのかを数える変数 ```counter``` を用意して、```for``` のブロックが終わったら 1 加算してやるという方法がある。"
   ]
  },
  {
   "cell_type": "code",
   "execution_count": 52,
   "metadata": {},
   "outputs": [],
   "source": [
    "counter = 0\n",
    "for num in num_list:\n",
    "    # なにか処理を行い、最後にカウンターを進める\n",
    "    counter += 1"
   ]
  },
  {
   "cell_type": "markdown",
   "metadata": {},
   "source": [
    "こうすれば、ループごとにインデックスが ```counter``` の ```num``` について処理、という感じになる。"
   ]
  },
  {
   "cell_type": "markdown",
   "metadata": {},
   "source": [
    "#### range() を用いたループ"
   ]
  },
  {
   "cell_type": "markdown",
   "metadata": {},
   "source": [
    "もう一つのやり方は、```range()``` を使って ```num_list``` の要素をループさせるのではなく、```num_list``` の ```添字``` をループさせるというものだ。\n",
    "\n",
    "```range()``` は数列を返してくれる関数で、```range(int 初期値, int 終了値, int ステップ)``` の形で使用する。初期値とステップについては省略すると、それぞれ ```0```, ```1``` になる。下記の例をみてもらいたい。\n",
    "\n",
    "作成される数列は、初項が初期値、公差がステップと等しい等差数列で、終了値を含まないものになる。"
   ]
  },
  {
   "cell_type": "code",
   "execution_count": null,
   "metadata": {},
   "outputs": [],
   "source": [
    "print(range(10))"
   ]
  },
  {
   "cell_type": "markdown",
   "metadata": {},
   "source": [
    "見ての通り、実際に ```range()``` が返すのは ```イテレータ``` である。そこで、中身を ```list()``` で確認してみよう。"
   ]
  },
  {
   "cell_type": "code",
   "execution_count": 12,
   "metadata": {},
   "outputs": [
    {
     "name": "stdout",
     "output_type": "stream",
     "text": [
      "[0, 1, 2, 3, 4, 5, 6, 7, 8, 9]\n",
      "[11, 12, 13, 14, 15, 16, 17, 18, 19, 20]\n",
      "[1, 3, 5, 7, 9]\n",
      "[12, 9, 6, 3, 0]\n",
      "[]\n"
     ]
    }
   ],
   "source": [
    "print(list(range(10))) # range(0, 10, 1) と等しい\n",
    "print(list(range(11, 21))) # 引数が二つの時は、ステップが省略されたとみなす\n",
    "print(list(range(1, 10, 2)))\n",
    "print(list(range(12, -1, -3))) # ステップは負数でもOK\n",
    "print(list(range(3, 0))) # 空イテレータになることもある"
   ]
  },
  {
   "cell_type": "markdown",
   "metadata": {},
   "source": [
    "見事に等差数列が出来上がっているのが分かる。\n",
    "\n",
    "そこで、次のように書く。"
   ]
  },
  {
   "cell_type": "code",
   "execution_count": null,
   "metadata": {},
   "outputs": [],
   "source": [
    "for i in range(N):\n",
    "    num = num_list[i]\n",
    "    if num == P:\n",
    "        answer = i"
   ]
  },
  {
   "cell_type": "markdown",
   "metadata": {},
   "source": [
    "```i``` は、ループするに従って 0, 1, 2, ... , N-1 と値が変化するので、 ```num_list[i]``` は結果的に ```num_list``` の各要素を順に取り出していくことになる。そして、今見ている数が何番目なのかもすぐ分かる。0-indexed なので、答えにはそのまま入れればいい。\n",
    "\n",
    "この添字でのループが、他の言語を書くこともある人にとっては、もっとも自然なループだろう。\n",
    "\n",
    "ちなみに、指定された回数の処理を繰り返したいときなども、この書き方を使用する。\n",
    "\n",
    "すなわち、```for i in range(N):``` と書けば N 回繰り返すことになる。"
   ]
  },
  {
   "cell_type": "markdown",
   "metadata": {},
   "source": [
    "[余談：range() はシーケンス型](./introduction_to_python_columns.ipynb#rangeissequence)"
   ]
  },
  {
   "cell_type": "markdown",
   "metadata": {},
   "source": [
    "#### enumerate() を用いたループ"
   ]
  },
  {
   "cell_type": "markdown",
   "metadata": {},
   "source": [
    "ところが、実はある程度 Python に慣れた人は、リストの中身を処理するときには特に、あまり上記のようなループの書き方をしない。じゃあどうすんねんというところで、```enumerate()``` の出番がくる。\n",
    "\n",
    "この関数は、```enumerate(イテラブル)``` のような形で使用すると、添字を用いたループでいうところの ```(i, num)``` を返してくるイテレータを作成してくれる。動作は以下を見てもらうのが早いかも知れない。"
   ]
  },
  {
   "cell_type": "code",
   "execution_count": 36,
   "metadata": {},
   "outputs": [
    {
     "name": "stdout",
     "output_type": "stream",
     "text": [
      "<enumerate object at 0x00000195F6DD95C0>\n",
      "[(0, 10), (1, 20), (2, 30), (3, 40), (4, 50)]\n"
     ]
    }
   ],
   "source": [
    "num_list = [10, 20, 30, 40, 50]\n",
    "print(enumerate(num_list))\n",
    "print(list(enumerate(num_list)))"
   ]
  },
  {
   "cell_type": "markdown",
   "metadata": {},
   "source": [
    "キーワード引数 ```start``` を利用することで、始まりの数字を変更することもできる。1-indexed で処理したいときなどに使用できる。"
   ]
  },
  {
   "cell_type": "code",
   "execution_count": 37,
   "metadata": {},
   "outputs": [
    {
     "name": "stdout",
     "output_type": "stream",
     "text": [
      "[(1, 10), (2, 20), (3, 30), (4, 40), (5, 50)]\n"
     ]
    }
   ],
   "source": [
    "num_list = [10, 20, 30, 40, 50]\n",
    "print(list(enumerate(num_list, start=1)))"
   ]
  },
  {
   "cell_type": "markdown",
   "metadata": {},
   "source": [
    "これを使うと、次のように書ける。"
   ]
  },
  {
   "cell_type": "code",
   "execution_count": null,
   "metadata": {},
   "outputs": [],
   "source": [
    "for i, num in enumerate(num_list): # 今回は 0-indexed でいいので、start を指定しない\n",
    "    # 続きを書く"
   ]
  },
  {
   "cell_type": "markdown",
   "metadata": {},
   "source": [
    "さて、いろいろなループの書き方を紹介してきたが、以下は ```enumerate()``` を用いたケースで説明をしていくことにする。"
   ]
  },
  {
   "cell_type": "markdown",
   "metadata": {},
   "source": [
    "### continue"
   ]
  },
  {
   "cell_type": "markdown",
   "metadata": {},
   "source": [
    "では、続きを考えていこう。"
   ]
  },
  {
   "cell_type": "code",
   "execution_count": null,
   "metadata": {},
   "outputs": [],
   "source": [
    "answer = -1\n",
    "for i, num in enumerate(num_list):\n",
    "    if num == P:\n",
    "        answer = i"
   ]
  },
  {
   "cell_type": "markdown",
   "metadata": {},
   "source": [
    "ここまではいい。しかし、このままだと、```P``` が数列内に複数存在している時、あとの方の ```P``` のところで答えが上書きされてしまうことになる。\n",
    "\n",
    "ひとつのやり方は、```answer``` が 0 以外の数字になっていれば、すでに答えが求まっているということなので、それ以上書き換えないという手がある。こういった時に使用できるのが、```continue``` である。\n",
    "\n",
    "```for``` ループのブロック中に ```continue``` が実行されると、そのループはそこで終了し、即座に次のループが開始される。"
   ]
  },
  {
   "cell_type": "code",
   "execution_count": null,
   "metadata": {},
   "outputs": [],
   "source": [
    "answer = -1\n",
    "for i, num in enumerate(num_list):\n",
    "    if answer != -1:\n",
    "        continue  # answer != 0 なら、ここから下は実行されずに次のループへ行く\n",
    "\n",
    "    if num == P:\n",
    "        answer = i"
   ]
  },
  {
   "cell_type": "markdown",
   "metadata": {},
   "source": [
    "```continue``` は、実際には ```if``` による分岐のみで実現することが可能な機能ではある。しかし、これを使用することですっきりと書くことができることも多いので、覚えておくといいだろう。"
   ]
  },
  {
   "cell_type": "markdown",
   "metadata": {},
   "source": [
    "### break"
   ]
  },
  {
   "cell_type": "markdown",
   "metadata": {},
   "source": [
    "さて、今回のケースでは、すぐ上の ```continue``` を利用したループは無駄が多いことに気づかれていると思う。というのも、実際のところ答えが見つかった場合、それ以降のループはそもそも行う必要がないはずだからだ。\n",
    "\n",
    "そのようなときには、```break``` を使う。```break``` が実行されると、その回のループが終了するのみならず、以降のループもまるごと行われなくなる。これをループから ```脱出``` するなどということもある。\n",
    "\n",
    "今回は、最初に答えが見つかった時点で ```break``` してやればいいだろう。具体的には、次のように書ける。"
   ]
  },
  {
   "cell_type": "code",
   "execution_count": null,
   "metadata": {},
   "outputs": [],
   "source": [
    "answer = -1\n",
    "for i, num in enumerate(num_list):\n",
    "    if num == P:\n",
    "        answer = i\n",
    "        break  # 答えを格納した後、ループから脱出する"
   ]
  },
  {
   "cell_type": "markdown",
   "metadata": {},
   "source": [
    "ここまでできれば、問題は解けたも同然だろう。最初から一通り書いてみると、以下のような感じになるだろうか。"
   ]
  },
  {
   "cell_type": "code",
   "execution_count": 54,
   "metadata": {},
   "outputs": [
    {
     "name": "stdout",
     "output_type": "stream",
     "text": [
      "10\n",
      "4 9 3 42 71 14 66 42 12 7\n",
      "42\n",
      "3\n"
     ]
    }
   ],
   "source": [
    "# 入力の受け取り\n",
    "N = int(input())\n",
    "num_list = list(map(int, input().split()))\n",
    "P = int(input())\n",
    "\n",
    "# 答えの初期化\n",
    "answer = -1  # 答えとしてはあり得ない数値\n",
    "\n",
    "# ループ処理\n",
    "for i, num in enumerate(num_list):\n",
    "    if num == P:\n",
    "        answer = i\n",
    "        break  # 答えが見つかればループを脱出する\n",
    "\n",
    "# answerが書き換えられているかどうか ＝ P が存在していたかどうかで分岐\n",
    "if answer != -1:\n",
    "    print(i)\n",
    "else:\n",
    "    print('not found')"
   ]
  },
  {
   "cell_type": "markdown",
   "metadata": {},
   "source": [
    "### for ～ else"
   ]
  },
  {
   "cell_type": "markdown",
   "metadata": {},
   "source": [
    "ここまででも十分きちんとした回答になっているのだが、最後に ```for``` ～ ```else``` を紹介しておきたい。これは少し変わった仕組みになっていて、```for``` のループ処理が中断されず正常に終了したときのみ ```else``` 以下が実行されるようになっている。\n",
    "\n",
    "ループが中断されず正常に終了するとは、すなわち ```break``` されずに最後まで実行される、という意味だ。（```continue``` は中断とみなされない）\n",
    "\n",
    "上で作成した回答では、答えが見つかった時は必ず ```break``` が行われる。そこで、答えが見つかったかどうかという分岐を、```else``` で行うことができる。\n",
    "\n",
    "これを利用すれば、以下のような感じで書ける。"
   ]
  },
  {
   "cell_type": "code",
   "execution_count": 15,
   "metadata": {},
   "outputs": [
    {
     "name": "stdout",
     "output_type": "stream",
     "text": [
      "10\n",
      "4 3 8 42 12 64 0 77 9 64\n",
      "7\n",
      "not found\n"
     ]
    }
   ],
   "source": [
    "# 入力の受け取り\n",
    "N = int(input())\n",
    "num_list = list(map(int, input().split()))\n",
    "P = int(input())\n",
    "\n",
    "# 答えの初期化もしない\n",
    "\n",
    "# ループ処理\n",
    "for i, num in enumerate(num_list):\n",
    "    if num == P:\n",
    "        print(i)  # P が見つかり次第、答えを出力して break\n",
    "        break\n",
    "else:  # ここは break が無かった ＝ P が見つからなかったときだけ実行される\n",
    "    print('not found')"
   ]
  },
  {
   "cell_type": "markdown",
   "metadata": {},
   "source": [
    "```else:``` は好みが分かれる文のようで、ほとんど使わない人もいれば、よく使う人もいる。使わない場合は、事前に判定用の変数（フラグ）を用意しておけばいいだけではある。\n",
    "\n",
    "が、いずれにしてもこういう書き方があるということは知っておくほうがいいだろう。"
   ]
  },
  {
   "cell_type": "markdown",
   "metadata": {},
   "source": [
    "[参考：for ～ else による多重ループ脱出](./introduction_to_python_columns.ipynb#multipleloopbreakbyforelse)"
   ]
  },
  {
   "cell_type": "markdown",
   "metadata": {},
   "source": [
    "## sum(), list.count(), list.index()"
   ]
  },
  {
   "cell_type": "markdown",
   "metadata": {},
   "source": [
    "以上で、```for``` によるループ処理の説明は終わりとなるが、実は上で解いた 3つの問題は、組み込み関数にその機能が存在している。最後にこれを紹介しておこう。\n",
    "\n",
    "まず、```sum()``` は数値を格納したイテラブルを引数に取り、その合計を返してくれる。数値以外が入っているとエラーになるので注意してほしい。"
   ]
  },
  {
   "cell_type": "code",
   "execution_count": 59,
   "metadata": {},
   "outputs": [
    {
     "name": "stdout",
     "output_type": "stream",
     "text": [
      "[0, 1, 2, 3, 4, 5, 6, 7, 8, 9]\n",
      "45\n"
     ]
    }
   ],
   "source": [
    "var = list(range(10))\n",
    "print(var)\n",
    "print(sum(var))"
   ]
  },
  {
   "cell_type": "markdown",
   "metadata": {},
   "source": [
    "```list.count()``` はリスト内の引数と一致する要素を数え、数を返してくれる。\n",
    "\n",
    "```list.index()``` はリスト中で引数と一致する要素が初めて現れるインデックスを返してくれる。ただし、一致する要素がない場合は ```ValueError``` が返ってくる。\n",
    "\n",
    "これらのメソッドは、```tuple``` や ```str``` でも使用できる。"
   ]
  },
  {
   "cell_type": "code",
   "execution_count": 64,
   "metadata": {},
   "outputs": [
    {
     "name": "stdout",
     "output_type": "stream",
     "text": [
      "3\n",
      "6\n"
     ]
    }
   ],
   "source": [
    "var = [1, 2, 2, 3, 3, 3, 4, 4, 4, 4]\n",
    "print(var.count(3))\n",
    "print(var.index(4))"
   ]
  },
  {
   "cell_type": "code",
   "execution_count": 65,
   "metadata": {},
   "outputs": [
    {
     "ename": "ValueError",
     "evalue": "5 is not in list",
     "output_type": "error",
     "traceback": [
      "\u001b[1;31m---------------------------------------------------------------------------\u001b[0m",
      "\u001b[1;31mValueError\u001b[0m                                Traceback (most recent call last)",
      "\u001b[1;32m<ipython-input-65-886b11e8dc53>\u001b[0m in \u001b[0;36m<module>\u001b[1;34m\u001b[0m\n\u001b[1;32m----> 1\u001b[1;33m \u001b[0mprint\u001b[0m\u001b[1;33m(\u001b[0m\u001b[1;33m[\u001b[0m\u001b[1;36m0\u001b[0m\u001b[1;33m,\u001b[0m \u001b[1;36m1\u001b[0m\u001b[1;33m,\u001b[0m \u001b[1;36m2\u001b[0m\u001b[1;33m,\u001b[0m \u001b[1;36m3\u001b[0m\u001b[1;33m,\u001b[0m \u001b[1;36m4\u001b[0m\u001b[1;33m]\u001b[0m\u001b[1;33m.\u001b[0m\u001b[0mindex\u001b[0m\u001b[1;33m(\u001b[0m\u001b[1;36m5\u001b[0m\u001b[1;33m)\u001b[0m\u001b[1;33m)\u001b[0m\u001b[1;33m\u001b[0m\u001b[1;33m\u001b[0m\u001b[0m\n\u001b[0m",
      "\u001b[1;31mValueError\u001b[0m: 5 is not in list"
     ]
    }
   ],
   "source": [
    "print([0, 1, 2, 3, 4].index(5))"
   ]
  },
  {
   "cell_type": "code",
   "execution_count": 63,
   "metadata": {},
   "outputs": [
    {
     "name": "stdout",
     "output_type": "stream",
     "text": [
      "2\n",
      "1\n"
     ]
    }
   ],
   "source": [
    "var = 'abcdeabcab'\n",
    "print(var.count('bc'))\n",
    "\n",
    "print(var.index('bc'))"
   ]
  },
  {
   "cell_type": "markdown",
   "metadata": {},
   "source": [
    "わざわざループ処理の演習問題に組み込んだ理由のひとつとしては、これらの関数・メソッドは、内部的にはループ処理と同じことをしているということを知っておいて欲しかった、というのもある。特に ```sum()``` などは頻繁に利用することになるが、その都度引数のイテラブルを走査することになるので、思わぬ計算量になってしまうことがある。注意して活用してほしい。"
   ]
  },
  {
   "cell_type": "markdown",
   "metadata": {},
   "source": [
    "## min(), max()"
   ]
  },
  {
   "cell_type": "markdown",
   "metadata": {},
   "source": [
    "同様にイテラブルの中を走査する組み込み関数で、もう一組頻繁に使うものを紹介しておこう。それが ```min()``` と ```max()``` だ。名前から想像がつくと思うが、それぞれ最小値 (minimum) と最大値 (maximum) を求めるためのものだ。"
   ]
  },
  {
   "cell_type": "code",
   "execution_count": 2,
   "metadata": {},
   "outputs": [
    {
     "name": "stdout",
     "output_type": "stream",
     "text": [
      "-12 42\n"
     ]
    }
   ],
   "source": [
    "var = [3, 5, 9, 42, -5, -12]\n",
    "print(min(var), max(var))"
   ]
  },
  {
   "cell_type": "markdown",
   "metadata": {},
   "source": [
    "## len() はリストを走査しない"
   ]
  },
  {
   "cell_type": "markdown",
   "metadata": {},
   "source": [
    "となると、```len()``` もいちいちイテラブルを走査しているのだろうか……と思うかも知れないが、こちらは内部的に長さを保持していて、要素が追加・削除されるたびに更新される仕組みになっている。つまり、いちいち数え直したりはしない。"
   ]
  },
  {
   "cell_type": "markdown",
   "metadata": {},
   "source": [
    "## 計算量の O記法"
   ]
  },
  {
   "cell_type": "markdown",
   "metadata": {},
   "source": [
    "競技プログラミングの解説などで、～の計算量は $O(N)$ となります、みたいな表記をしばしば見かける。\n",
    "\n",
    "これは、計算対象となる、十分大きな要素数に応じて、どの程度の計算回数が必要になるのかをあらわす記法で、ランダウ記法、あるいは O-記法などと呼ばれるものだ。計算量のオーダーなどと呼ばれることもあるが、この ```O``` は実は Order ではなくドイツ語の Ordnung の頭文字らしい。まあ、英訳すると Order なのだけど。\n",
    "\n",
    "十分に大きな要素数に対して、要素数が変化した時に計算量がどのように倍化するかをざっくりと測るための記法というのが正確な表現に近いだろうか。\n",
    "\n",
    "例えば、今厳密な計算量が $aN^2 + bN + c$ であるケースを考える。このとき、$N$ が十分に大きければ、$aN^2$ の変化がかなりの割合を占めるため、結果的に $bN + c$ の部分は無視できるのが分かると思う。\n",
    "\n",
    "また、$N$ が $2N$ へと変化した場合、計算量は $aN^2$ から $4aN^2$ へと変化するように、変化という側面からは係数の $a$ もそれほど重要ではない。$N^2$ さえ分かっていればいいことになる。\n",
    "\n",
    "というわけで、この計算量は $O(N^2)$ と表記されることになる。\n",
    "\n",
    "さて、この表記を用いると、```sum()``` ```list.count()``` ```list.index()``` ```min()``` ```max()```は全て $O(N)$ と書ける。  \n",
    "一方、```len()``` は $O(1)$ となる。これは、要素数に関係なく毎回同じ計算量で実行できる、という意味になる。\n",
    "\n",
    "簡単なところでは、リストの中から二つの組み合わせを全て拾い出す……みたいなものだと $O(N^2)$ ということになる。\n",
    "\n",
    "また、```sort()``` など一般的な並び替えの計算量は、$O(N logN)$ である。  \n",
    "$logN$ の部分が感覚的に掴みにくいかもしれないが、アルゴリズムでよく用いられる二分木に応じて、底数を 2 で考えると分かりやすいだろう。すなわち、$N = 1024 \\fallingdotseq 10^3$ のとき $10$ 程度なら、$N = 1048576 \\fallingdotseq 10^6$ のときでも $20$ 程度にしかならない。  \n",
    "これを踏まえると、$O(N logN)$ は $O(N^2)$ よりも遥かに小さい計算量となる。\n",
    "\n",
    "また、上記のときに無視された係数 ```a``` の部分のことを、定数倍と呼ぶことがある。同じアルゴリズムを使用していても書き方によって速さは定数倍違う、定数倍の改善を頑張る、などといった風に使うことが多いようだ。\n",
    "\n",
    "考え方が分かれば便利な記法・用語なので、慣れておくことをおすすめする。"
   ]
  },
  {
   "cell_type": "markdown",
   "metadata": {},
   "source": [
    "# ループ処理その2 (while)"
   ]
  },
  {
   "cell_type": "markdown",
   "metadata": {},
   "source": [
    "コラッツの問題というのをご存知だろうか？\n",
    "\n",
    "ある正整数 N があるとき、次の操作を繰り返す。\n",
    "\n",
    "- N が偶数なら、2で割る\n",
    "- N が奇数なら、3倍して 1を加える\n",
    "\n",
    "この操作を繰り返すと、どんな N でも最後には 1 になる……のだろうか？という問題だ。ちなみに、十分に大きな数までは 1 になることが知られているので、ここでは最終的に 1 になるとしておく。"
   ]
  },
  {
   "cell_type": "markdown",
   "metadata": {},
   "source": [
    "この問題をコンピュータ上で考えてみることにしよう。といっても、数学的な難しい問題を解くのではなく、入力された数値に上記の操作を適用していき、1 になるまでの推移と、手数を出力することにする。"
   ]
  },
  {
   "cell_type": "markdown",
   "metadata": {},
   "source": [
    "## 練習問題 - コラッツ数列\n",
    "\n",
    "ある正の整数 $N$ が与えられます。$N$ に対して以下の操作を繰り返します。\n",
    "\n",
    "- $N$ が偶数なら、2 で割る\n",
    "- $N$ が奇数なら、3 を掛けた後 1 を加える\n",
    "\n",
    "$N$ が最終的に $1$ になるまでに行う操作の回数と、数の推移を出力してください。\n",
    "\n",
    "**入力：**  \n",
    "$\n",
    "N\n",
    "$\n",
    "\n",
    "**出力：**\n",
    "$\n",
    "T\\\\\n",
    "C_{1}, C_{2}, ... , C_{T+1}\n",
    "$\n",
    "\n",
    "ただし、$T$ は操作の回数、数列$C$は上記の操作で得られる数字を$N$から$1$まで並べたものとします。\n",
    "\n",
    "---"
   ]
  },
  {
   "cell_type": "markdown",
   "metadata": {},
   "source": [
    "と、今までの知識では解きづらいことに気づくだろう。何回操作が繰り返されるかが不明だからだ。\n",
    "\n",
    "実際には ```for i in range(1000):``` など十分に大きな上限回数を取って繰り返し、途中で ```break``` してやるといった手段を取ることもできるが、直感的ではない。\n",
    "\n",
    "こういう時に使えるのが、```while``` によるループ処理である。"
   ]
  },
  {
   "cell_type": "code",
   "execution_count": null,
   "metadata": {},
   "outputs": [],
   "source": [
    "# while 文の書き方（else 以下は省略可能）\n",
    "while 条件式:\n",
    "    ループごとの処理ブロック\n",
    "else:\n",
    "    ループが正常終了した時の処理ブロック"
   ]
  },
  {
   "cell_type": "markdown",
   "metadata": {},
   "source": [
    "見てのとおり、```条件式``` というのが入っている。これが ```True``` の間ずっとループが繰り返されることになる。\n",
    "\n",
    "また、```for``` と同様に ```continue``` や ```break``` を使用することも出来る。\n",
    "\n",
    "```条件式``` が ```False``` になるとループ処理が終了し、```else``` 以下が実行される（省略可能）。もちろん、```break``` で終了した時は ```else``` 以下は実行されない。"
   ]
  },
  {
   "cell_type": "markdown",
   "metadata": {},
   "source": [
    "これを利用すれば、かなり直感的に問題を解くことが出来る。\n",
    "\n",
    "数が 1 になるまで操作を繰り返したいわけであるから、条件式の部分は ```N != 1``` でいいだろう。そして処理ブロック中には、具体的な操作を入れてやる。つまりは、"
   ]
  },
  {
   "cell_type": "code",
   "execution_count": null,
   "metadata": {},
   "outputs": [],
   "source": [
    "while N != 1:\n",
    "    if N % 2 == 0:\n",
    "        N = N // 2\n",
    "    else:\n",
    "        N = N * 3 + 1"
   ]
  },
  {
   "cell_type": "markdown",
   "metadata": {},
   "source": [
    "という感じになる。\n",
    "\n",
    "改めて、順番に考えていくことにしよう。"
   ]
  },
  {
   "cell_type": "markdown",
   "metadata": {},
   "source": [
    "まずは入力を受け取る必要がある。"
   ]
  },
  {
   "cell_type": "code",
   "execution_count": null,
   "metadata": {},
   "outputs": [],
   "source": [
    "N = int(input())"
   ]
  },
  {
   "cell_type": "markdown",
   "metadata": {},
   "source": [
    "次に、答えとして数列を出力する必要があるので、それを保持しておくための変数が必要になる。ここでは ```collatz``` としておこう。\n",
    "\n",
    "操作回数を保持する必要もある……ように見えるが、これは ```collatz``` の長さから求めることができるので、特に必要はない。もちろん、別に用意しておいてループごとに 1 足していってやっても、間違いではない。ここでは使用しないことにする。\n",
    "\n",
    "ループごとに ```collatz``` には要素を追加していくことになる。ここでは、操作後に要素を加えることにする。となると、最初の要素はあらかじめ数列に入れておいてやる必要がある。"
   ]
  },
  {
   "cell_type": "code",
   "execution_count": null,
   "metadata": {},
   "outputs": [],
   "source": [
    "collatz = [N]"
   ]
  },
  {
   "cell_type": "markdown",
   "metadata": {},
   "source": [
    "もちろん、操作**前**に要素を加えることにしてもよい。その場合は、最後に ```1``` を追加してやる必要があるだろう。今回は、操作後に追加をおこなうことにする。"
   ]
  },
  {
   "cell_type": "markdown",
   "metadata": {},
   "source": [
    "では、```while``` の中身を考えていく。上記で考えた操作に加えて、数列に得られた値を追加する処理も行う必要がある。"
   ]
  },
  {
   "cell_type": "code",
   "execution_count": null,
   "metadata": {},
   "outputs": [],
   "source": [
    "while N != 1:\n",
    "    if N % 2 == 0:\n",
    "        N = N // 2\n",
    "    else:\n",
    "        N = N * 3 + 1\n",
    "    collatz.append(N)"
   ]
  },
  {
   "cell_type": "markdown",
   "metadata": {},
   "source": [
    "### ```*``` による引数の展開（アンパック）"
   ]
  },
  {
   "cell_type": "markdown",
   "metadata": {},
   "source": [
    "最後に答えを出力してやろう。操作回数は、```len(collatz) - 1``` となる。\n",
    "\n",
    "ところで、数列はどのように出力してやればいいだろうか。実は次のように書ける。"
   ]
  },
  {
   "cell_type": "code",
   "execution_count": null,
   "metadata": {},
   "outputs": [],
   "source": [
    "print(len(collatz) - 1)\n",
    "print(*collatz)"
   ]
  },
  {
   "cell_type": "markdown",
   "metadata": {},
   "source": [
    "このように、```print()``` の引数の ```collatz``` の前に、```*``` を付けるだけでいい。\n",
    "\n",
    "この ```*``` は、つけられた変数がアンパックされることを示す。つまり、中に入っている複数の要素を、複数の要素として関数へと引き渡したのと同じ内容になる。例えば ```collatz``` が今 ```[5, 16, 8, 4, 2, 1]``` とした場合、```print(*collatz)``` とすると ```print(5, 16, 8, 4, 2, 1)``` と同じ内容になる。"
   ]
  },
  {
   "cell_type": "code",
   "execution_count": 70,
   "metadata": {},
   "outputs": [
    {
     "name": "stdout",
     "output_type": "stream",
     "text": [
      "[5, 16, 8, 4, 2, 1]\n",
      "5 16 8 4 2 1\n"
     ]
    }
   ],
   "source": [
    "collatz = [5, 16, 8, 4, 2, 1]\n",
    "print(collatz)\n",
    "print(*collatz)"
   ]
  },
  {
   "cell_type": "markdown",
   "metadata": {},
   "source": [
    "これは複数の引数を取る関数・メソッド全てで使用することができるが、要素数が一致しない場合はエラーが起こるので注意してもらいたい。"
   ]
  },
  {
   "cell_type": "markdown",
   "metadata": {},
   "source": [
    "では、最後に今回の回答例……といっても上記の内容をつなげたものを書いておこう。"
   ]
  },
  {
   "cell_type": "code",
   "execution_count": 71,
   "metadata": {},
   "outputs": [
    {
     "name": "stdout",
     "output_type": "stream",
     "text": [
      "7\n",
      "16\n",
      "7 22 11 34 17 52 26 13 40 20 10 5 16 8 4 2 1\n"
     ]
    }
   ],
   "source": [
    "N = int(input())  # 入力の受け取り\n",
    "\n",
    "collatz = [N]  # 回答用のリストの用意\n",
    "\n",
    "while N != 1:\n",
    "    if N % 2 == 0:\n",
    "        N = N // 2\n",
    "    else:\n",
    "        N = N * 3 + 1\n",
    "    collatz.append(N)\n",
    "\n",
    "# 回答の出力\n",
    "print(len(collatz) - 1)\n",
    "print(*collatz)"
   ]
  },
  {
   "cell_type": "markdown",
   "metadata": {},
   "source": [
    "```while``` を用いるループに関する説明は、以上である。```break``` ```continue``` ```else``` に関しては実例を取り上げなかったが、 ```for``` と同じなので特に難しいところは無いかと思う。\n",
    "\n",
    "ここまでの知識で、例えば AtCoder Beginner Contest の A問題であれはほぼ全てを、B問題でもかなりの割合を解くことができるようになっているはずだ。是非チャレンジしてみてほしい。"
   ]
  },
  {
   "cell_type": "markdown",
   "metadata": {},
   "source": [
    "[余談：do while](./introduction_to_python_columns.ipynb#dowhile)"
   ]
  },
  {
   "cell_type": "markdown",
   "metadata": {},
   "source": [
    "# 関数の定義"
   ]
  },
  {
   "cell_type": "markdown",
   "metadata": {},
   "source": [
    "この章では、いよいよ自作の関数をどのように定義するかを紹介する。\n",
    "\n",
    "また、関数の定義とは切っても切れない、いわゆる変数のスコープについても簡単に説明をする。"
   ]
  },
  {
   "cell_type": "markdown",
   "metadata": {},
   "source": [
    "## 関数の定義の基本"
   ]
  },
  {
   "cell_type": "markdown",
   "metadata": {},
   "source": [
    "まずは、ありがちではあるが二つの数値を引数として受け取り、その合計を返す関数を作成してみるところから始めよう。\n",
    "\n",
    "関数の定義は以下の書式で行う。"
   ]
  },
  {
   "cell_type": "code",
   "execution_count": 35,
   "metadata": {},
   "outputs": [],
   "source": [
    "# 関数の定義の仕方\n",
    "def 関数の名前(引数):\n",
    "    関数での処理ブロック"
   ]
  },
  {
   "cell_type": "markdown",
   "metadata": {},
   "source": [
    "では、実際のコードを書いてみよう。今回は、二つの数値を足して返す関数なので、```add_two_nums``` という名前にしておこう。また、引数についてはそれぞれ ```num1``` ```num2``` という名前にする。\n",
    "\n",
    "中で二つの数値を足せばいいのだが、戻り値として返すためには、```return``` を使用する。全体では、以下のような感じだろうか。"
   ]
  },
  {
   "cell_type": "code",
   "execution_count": 74,
   "metadata": {},
   "outputs": [],
   "source": [
    "def add_two_nums(num1, num2):\n",
    "    return num1 + num2"
   ]
  },
  {
   "cell_type": "markdown",
   "metadata": {},
   "source": [
    "実に簡単だ。ちゃんと動作するかどうか、確認もしてみよう。定義した関数は、定義した場所よりも後ろ側で、組み込み関数と同様に使用することができる。"
   ]
  },
  {
   "cell_type": "code",
   "execution_count": 81,
   "metadata": {},
   "outputs": [
    {
     "name": "stdout",
     "output_type": "stream",
     "text": [
      "42\n"
     ]
    }
   ],
   "source": [
    "def add_two_nums(num1, num2):\n",
    "    return num1 + num2\n",
    "\n",
    "print(add_two_nums(7, 35))"
   ]
  },
  {
   "cell_type": "markdown",
   "metadata": {},
   "source": [
    "ちなみに内部で ```return``` を使用しなかった場合は、自動的に ```None``` が戻り値として返る仕組みになっている。"
   ]
  },
  {
   "cell_type": "markdown",
   "metadata": {},
   "source": [
    "[参考：仮引数と実引数](./introduction_to_python_columns.ipynb#parametersandarguments)"
   ]
  },
  {
   "cell_type": "markdown",
   "metadata": {},
   "source": [
    "## 変数のスコープ"
   ]
  },
  {
   "cell_type": "markdown",
   "metadata": {},
   "source": [
    "変数が関数の内部と外部でどのように扱えるかという範囲のことを、スコープと呼ぶ。\n",
    "\n",
    "まず、変数の値の参照について。\n",
    "\n",
    "関数内部の変数の名前が、関数の外側と重複してしまった場合、まず関数内部で定義されているかどうかが確認される。  \n",
    "関数内部で定義済み（ローカル変数と呼ばれる）であればそちらが使用される。関数内部で定義が行われていない場合は、外部のものが使用される。\n",
    "\n",
    "次の例を確認してみてほしい。"
   ]
  },
  {
   "cell_type": "code",
   "execution_count": 96,
   "metadata": {},
   "outputs": [
    {
     "name": "stdout",
     "output_type": "stream",
     "text": [
      "20 42\n",
      "7 42\n"
     ]
    }
   ],
   "source": [
    "var1, var2 = 7, 42\n",
    "def func():\n",
    "    var1 = 20\n",
    "    print(var1, var2)\n",
    "func()\n",
    "print(var1, var2)  # var1 は書き換えられない"
   ]
  },
  {
   "cell_type": "markdown",
   "metadata": {},
   "source": [
    "## 外部の変数の書き換え"
   ]
  },
  {
   "cell_type": "markdown",
   "metadata": {},
   "source": [
    "原則として、外部の変数については参照はできるが書き換えはできない。これは、関数の動作をあくまでも関数内のローカルな影響に留めることで、不用意な値の書き換えを防ぐためである。"
   ]
  },
  {
   "cell_type": "code",
   "execution_count": 88,
   "metadata": {},
   "outputs": [
    {
     "ename": "UnboundLocalError",
     "evalue": "local variable 'var2' referenced before assignment",
     "output_type": "error",
     "traceback": [
      "\u001b[1;31m---------------------------------------------------------------------------\u001b[0m",
      "\u001b[1;31mUnboundLocalError\u001b[0m                         Traceback (most recent call last)",
      "\u001b[1;32m<ipython-input-88-dbc0a6be2547>\u001b[0m in \u001b[0;36m<module>\u001b[1;34m\u001b[0m\n\u001b[0;32m      3\u001b[0m     \u001b[0mvar1\u001b[0m \u001b[1;33m=\u001b[0m \u001b[1;36m20\u001b[0m  \u001b[1;31m# これは新たに定義された関数内のローカル変数になる\u001b[0m\u001b[1;33m\u001b[0m\u001b[1;33m\u001b[0m\u001b[0m\n\u001b[0;32m      4\u001b[0m     \u001b[0mvar2\u001b[0m \u001b[1;33m+=\u001b[0m \u001b[1;36m5\u001b[0m  \u001b[1;31m# エラーになる\u001b[0m\u001b[1;33m\u001b[0m\u001b[1;33m\u001b[0m\u001b[0m\n\u001b[1;32m----> 5\u001b[1;33m \u001b[0mfunc\u001b[0m\u001b[1;33m(\u001b[0m\u001b[1;33m)\u001b[0m\u001b[1;33m\u001b[0m\u001b[1;33m\u001b[0m\u001b[0m\n\u001b[0m",
      "\u001b[1;32m<ipython-input-88-dbc0a6be2547>\u001b[0m in \u001b[0;36mfunc\u001b[1;34m()\u001b[0m\n\u001b[0;32m      2\u001b[0m \u001b[1;32mdef\u001b[0m \u001b[0mfunc\u001b[0m\u001b[1;33m(\u001b[0m\u001b[1;33m)\u001b[0m\u001b[1;33m:\u001b[0m\u001b[1;33m\u001b[0m\u001b[1;33m\u001b[0m\u001b[0m\n\u001b[0;32m      3\u001b[0m     \u001b[0mvar1\u001b[0m \u001b[1;33m=\u001b[0m \u001b[1;36m20\u001b[0m  \u001b[1;31m# これは新たに定義された関数内のローカル変数になる\u001b[0m\u001b[1;33m\u001b[0m\u001b[1;33m\u001b[0m\u001b[0m\n\u001b[1;32m----> 4\u001b[1;33m     \u001b[0mvar2\u001b[0m \u001b[1;33m+=\u001b[0m \u001b[1;36m5\u001b[0m  \u001b[1;31m# エラーになる\u001b[0m\u001b[1;33m\u001b[0m\u001b[1;33m\u001b[0m\u001b[0m\n\u001b[0m\u001b[0;32m      5\u001b[0m \u001b[0mfunc\u001b[0m\u001b[1;33m(\u001b[0m\u001b[1;33m)\u001b[0m\u001b[1;33m\u001b[0m\u001b[1;33m\u001b[0m\u001b[0m\n",
      "\u001b[1;31mUnboundLocalError\u001b[0m: local variable 'var2' referenced before assignment"
     ]
    }
   ],
   "source": [
    "var1, var2 = 7, 42\n",
    "def func():\n",
    "    var1 = 20  # これは新たに定義された関数内のローカル変数になる\n",
    "    var2 += 5  # エラーになる\n",
    "    print(var1, var2)\n",
    "func()"
   ]
  },
  {
   "cell_type": "markdown",
   "metadata": {},
   "source": [
    "どうしてもやりたい時は、```nonlocal``` を使用して、あらかじめ外部変数の使用を宣言すればできる。が、非推奨としておく。"
   ]
  },
  {
   "cell_type": "code",
   "execution_count": 97,
   "metadata": {},
   "outputs": [
    {
     "name": "stdout",
     "output_type": "stream",
     "text": [
      "20 47\n",
      "7 47\n"
     ]
    }
   ],
   "source": [
    "var1, var2 = 7, 42\n",
    "def func():\n",
    "    global var2  # 外部の変数を利用しますよ宣言\n",
    "    var1 = 20  # これは新たに定義された関数内のローカル変数になる\n",
    "    var2 += 5\n",
    "    print(var1, var2)\n",
    "func()\n",
    "print(var1, var2)  # 変数 var2 は書き換えられている"
   ]
  },
  {
   "cell_type": "markdown",
   "metadata": {},
   "source": [
    "## ミュータブルの参照・書き換え"
   ]
  },
  {
   "cell_type": "markdown",
   "metadata": {},
   "source": [
    "しかし、ミュータブルなオブジェクトについては少し事情が違ってくる。ミュータブルの代表である、リストについて話をしよう。\n",
    "\n",
    "リストを変数に保存している時、実際に変数に格納されているのは、そのリストの識別値 (id) と呼ばれるものであって、リストの中身を保存しているわけではない。そして、```list.append()``` などのメソッドは、リストの内容を変更するのだが、識別値そのものは変更されない。したがって、変数の中身自体は実は変更されないのだ。"
   ]
  },
  {
   "cell_type": "markdown",
   "metadata": {},
   "source": [
    "結果として、ある関数の内部から、特に宣言など必要なく外部のリストの中身を書き換えることができる。"
   ]
  },
  {
   "cell_type": "code",
   "execution_count": 100,
   "metadata": {},
   "outputs": [
    {
     "name": "stdout",
     "output_type": "stream",
     "text": [
      "[0, 1, 2]\n",
      "[0, 1, 42]\n"
     ]
    }
   ],
   "source": [
    "var = [0, 1, 2]\n",
    "def func():\n",
    "    var[2] = 42\n",
    "print(var)\n",
    "func()\n",
    "print(var)"
   ]
  },
  {
   "cell_type": "markdown",
   "metadata": {},
   "source": [
    "このリストの書き換えに関しては、特に競技プログラミングにおいては、効率の問題から当たり前のように行われるので、注意してほしい。あくまでもミュータブルなものなので書き換えが可能になっているに過ぎない。\n",
    "\n",
    "大原則としては、外部の書き換えは宣言なしには不可能となっており、理想としては、戻り値で返してやって関数の呼び出し元で処理を続行すべきである。\n",
    "\n",
    "ミュータブル、つまり「変更可能」という言葉の意味は、こういうところにも現れているといえる。"
   ]
  },
  {
   "cell_type": "markdown",
   "metadata": {},
   "source": [
    "[参考：ミュータブルとイミュータブルと識別値](./introduction_to_python.ipynb#mutableimmutableandid)"
   ]
  },
  {
   "cell_type": "markdown",
   "metadata": {},
   "source": [
    "## 関数内関数"
   ]
  },
  {
   "cell_type": "markdown",
   "metadata": {},
   "source": [
    "関数の内部で、あらたな関数を作成することも可能である。わざわざ関数内関数にするメリットはそんなに無いが、関数のまとまりを強調するためには有用だと思うので、個人的にはよく使用している。"
   ]
  },
  {
   "cell_type": "code",
   "execution_count": 1,
   "metadata": {},
   "outputs": [
    {
     "name": "stdout",
     "output_type": "stream",
     "text": [
      "14\n"
     ]
    },
    {
     "ename": "NameError",
     "evalue": "name 'func2' is not defined",
     "output_type": "error",
     "traceback": [
      "\u001b[1;31m---------------------------------------------------------------------------\u001b[0m",
      "\u001b[1;31mNameError\u001b[0m                                 Traceback (most recent call last)",
      "\u001b[1;32m<ipython-input-1-d228af8e8150>\u001b[0m in \u001b[0;36m<module>\u001b[1;34m\u001b[0m\n\u001b[0;32m      5\u001b[0m     \u001b[1;32mreturn\u001b[0m \u001b[0mfunc2\u001b[0m\u001b[1;33m(\u001b[0m\u001b[1;33m)\u001b[0m\u001b[1;33m\u001b[0m\u001b[1;33m\u001b[0m\u001b[0m\n\u001b[0;32m      6\u001b[0m \u001b[0mprint\u001b[0m\u001b[1;33m(\u001b[0m\u001b[0mfunc1\u001b[0m\u001b[1;33m(\u001b[0m\u001b[1;33m)\u001b[0m\u001b[1;33m)\u001b[0m\u001b[1;33m\u001b[0m\u001b[1;33m\u001b[0m\u001b[0m\n\u001b[1;32m----> 7\u001b[1;33m \u001b[0mprint\u001b[0m\u001b[1;33m(\u001b[0m\u001b[0mfunc2\u001b[0m\u001b[1;33m(\u001b[0m\u001b[1;33m)\u001b[0m\u001b[1;33m)\u001b[0m \u001b[1;31m# 関数内関数は、さらに外側からは参照できない → エラーになる\u001b[0m\u001b[1;33m\u001b[0m\u001b[1;33m\u001b[0m\u001b[0m\n\u001b[0m",
      "\u001b[1;31mNameError\u001b[0m: name 'func2' is not defined"
     ]
    }
   ],
   "source": [
    "var1 = 7\n",
    "def func1():\n",
    "    def func2():\n",
    "        return var1 * 2 # 外側ならどこまでも参照できる\n",
    "    return func2()\n",
    "print(func1())\n",
    "print(func2()) # 関数内関数は、さらに外側からは参照できない → エラーになる"
   ]
  },
  {
   "cell_type": "markdown",
   "metadata": {},
   "source": [
    "## 関数の実践 - コラッツ数列で遊んで見る"
   ]
  },
  {
   "cell_type": "markdown",
   "metadata": {},
   "source": [
    "では、```while``` のところで紹介したコラッツの問題で、もう少し遊んでみよう。実際のところ、コラッツ数列はどのくらいの長さになるのだろうか？1000\n",
    "程度を上限にすれば実は足りていたのだろうか？\n",
    "\n",
    "せっかくなので、コラッツ数列を求める部分を関数化してから、試しに 1 ～ N までの中で最長のコラッツ数列を生成するものを確認してみよう。となると、元の数字を引数として受け取り、生成される数列を戻り値とするような関数を作成すればよさそうだ。\n",
    "\n",
    "関数部のコード自体は、さっき組んだものとほぼ同じになる。"
   ]
  },
  {
   "cell_type": "code",
   "execution_count": 26,
   "metadata": {},
   "outputs": [],
   "source": [
    "def get_collatz_list(num):  # 関数名は get_collatz_list とする\n",
    "    result = [num]\n",
    "    while num != 1:\n",
    "        if num % 2 == 0:\n",
    "            num = num // 2\n",
    "        else:\n",
    "            num = num * 3 + 1\n",
    "        result.append(num)\n",
    "    return result"
   ]
  },
  {
   "cell_type": "markdown",
   "metadata": {},
   "source": [
    "あとは、この ```collatz()``` を利用してループを作成すればいい。せっかくなので、こちらも関数にしてみよう。引数は上限値の N として、1 ～ N までの中で最長のコラッツ数列を返すようにする。"
   ]
  },
  {
   "cell_type": "code",
   "execution_count": 27,
   "metadata": {},
   "outputs": [],
   "source": [
    "def get_longest_collatz_list(N):\n",
    "    # 最長の長さを持つリストを保持するようにする\n",
    "    longest_list = []\n",
    "\n",
    "    for num in range(1, N+1):  # range(1, N+1) で 1 ～ N の数値がループされる\n",
    "        collatz_list = get_collatz_list(num)  # とりあえず数列を取得\n",
    "\n",
    "        # 現在の最長リストよりも長いものが見つかれば、それを保持するようにする\n",
    "        if len(collatz_list) > len(longest_list):\n",
    "            longest_list = collatz_list\n",
    "    \n",
    "    return longest_list"
   ]
  },
  {
   "cell_type": "code",
   "execution_count": 33,
   "metadata": {},
   "outputs": [
    {
     "name": "stdout",
     "output_type": "stream",
     "text": [
      "1000\n",
      "871 2614 1307 3922 1961 5884 2942 1471 4414 2207 6622 3311 9934 4967 14902 7451 22354 11177 33532 16766 8383 25150 12575 37726 18863 56590 28295 84886 42443 127330 63665 190996 95498 47749 143248 71624 35812 17906 8953 26860 13430 6715 20146 10073 30220 15110 7555 22666 11333 34000 17000 8500 4250 2125 6376 3188 1594 797 2392 1196 598 299 898 449 1348 674 337 1012 506 253 760 380 190 95 286 143 430 215 646 323 970 485 1456 728 364 182 91 274 137 412 206 103 310 155 466 233 700 350 175 526 263 790 395 1186 593 1780 890 445 1336 668 334 167 502 251 754 377 1132 566 283 850 425 1276 638 319 958 479 1438 719 2158 1079 3238 1619 4858 2429 7288 3644 1822 911 2734 1367 4102 2051 6154 3077 9232 4616 2308 1154 577 1732 866 433 1300 650 325 976 488 244 122 61 184 92 46 23 70 35 106 53 160 80 40 20 10 5 16 8 4 2 1\n",
      "length: 179\n"
     ]
    }
   ],
   "source": [
    "N = int(input())\n",
    "longest = get_longest_collatz_list(N)\n",
    "print(*longest)\n",
    "print('length:', len(longest))"
   ]
  },
  {
   "cell_type": "markdown",
   "metadata": {},
   "source": [
    "上限を 1000 にとれば、871 を初期値とする長さ 179 の数列が最長であることが分かる。\n",
    "\n",
    "実は今回のやり方だと、同じ部分数列を何度も求めることになってしまうため計算に無駄が多く、上限 $10^6$ 程度でも数秒以上掛かる。しかし、基礎的な練習問題としては手頃だったのではないだろうか。"
   ]
  },
  {
   "cell_type": "markdown",
   "metadata": {},
   "source": [
    "## 関数の定義に関するその他"
   ]
  },
  {
   "cell_type": "markdown",
   "metadata": {},
   "source": [
    "### キーワード引数"
   ]
  },
  {
   "cell_type": "markdown",
   "metadata": {},
   "source": [
    "関数の引数が複数あるとき、基本的には順番に応じて引き渡されるのだが、キーワード引数を作成することで、引数の意味をより明確にできる。\n",
    "\n",
    "ただし、関数の紹介のところでもちらっと書いたように、キーワード引数は位置変数よりも後にまとめて書く必要があり、また、必ず既定値（デフォルト値）を設定しておかなければならない。書き方は簡単で、```キーワード=既定値``` と書くだけである。\n",
    "\n",
    "実務上は、引数を大量に持つが一部しか変更しないことが多い関数などに使われることが多い。例えば、機械学習のモデル作成用関数などはキーワード引数が大量にあったりする。"
   ]
  },
  {
   "cell_type": "code",
   "execution_count": 56,
   "metadata": {},
   "outputs": [
    {
     "name": "stdout",
     "output_type": "stream",
     "text": [
      "1 2 7 42\n",
      "1 2 9 16\n",
      "1 2 7 100\n"
     ]
    }
   ],
   "source": [
    "# キーワード引数がどのように取り込まれるかの例\n",
    "def func(pos1, pos2, kw1=7, kw2=42):\n",
    "    print(pos1, pos2, kw1, kw2)\n",
    "    \n",
    "func(1, 2)  # 指定が無い時は既定値が使用される\n",
    "func(1, 2, 9, 16) # 順番があっていれば、位置引数っぽくも書ける\n",
    "func(1, 2, kw2=100)  # もちろん飛ばして書ける"
   ]
  },
  {
   "cell_type": "markdown",
   "metadata": {},
   "source": [
    "### 複数の引数をタプルとして受け取る"
   ]
  },
  {
   "cell_type": "markdown",
   "metadata": {},
   "source": [
    "引数の数が可変である（可変長引数という）ような関数を書きたい時は、引数をまとめてリストとして受け取ることも出来る。この場合、位置引数の最後の部分をまとめて取る、といった感じになる。\n",
    "\n",
    "書き方としては、引数の前に ```*``` をつけてやる。引数内のリストのアンパックを行うときと同じだ。"
   ]
  },
  {
   "cell_type": "code",
   "execution_count": 52,
   "metadata": {},
   "outputs": [
    {
     "name": "stdout",
     "output_type": "stream",
     "text": [
      "1 2 () 42\n",
      "1 2 (3, 4, 5) 42\n",
      "1 2 (3, 4) 7\n"
     ]
    }
   ],
   "source": [
    "# 可変長引数＋キーワード引数の場合\n",
    "def func(pos1, pos2, *others, kw=42):\n",
    "    print(pos1, pos2, others, kw)\n",
    "\n",
    "func(1,2)\n",
    "func(1, 2, 3, 4, 5)\n",
    "func(1, 2, 3, 4, kw=7)"
   ]
  },
  {
   "cell_type": "markdown",
   "metadata": {},
   "source": [
    "# 辞書 (dict) 、セット (set)"
   ]
  },
  {
   "cell_type": "markdown",
   "metadata": {},
   "source": [
    "この章で紹介するのは、ちょっと特殊な型であるところの、```辞書``` (dict) と、```セット``` (set) である。\n",
    "\n",
    "どちらも他の値（オブジェクト）を保管するためのもので、そういったものを総称して ```コンテナ型``` と呼んだりもする。もちろん、```list``` ```tuple``` ```str``` など、全てコンテナ型の範疇と言える。\n",
    "\n",
    "辞書は、大抵の言語で組み込み型として用意されているコンテナ型ではあるが、言語によって呼び方が様々だ。が、一般的には ```連想配列``` という名前で知られている。"
   ]
  },
  {
   "cell_type": "markdown",
   "metadata": {},
   "source": [
    "## 辞書 (dict) の基本"
   ]
  },
  {
   "cell_type": "markdown",
   "metadata": {},
   "source": [
    "さて、リストにおいては、特定の値を呼び出すためには、何番目にあるかという、その「場所」が必要となる。場所を指定するためには、添字として場所を表す数字、すなわちインデックスを用いることになる。"
   ]
  },
  {
   "cell_type": "markdown",
   "metadata": {},
   "source": [
    "一方、```辞書``` において特定の値を呼び出すためには、```鍵``` (key) と呼ばれる、また別の値を使用する。つまり、```鍵``` と ```値``` をセットで保存しておき、渡された ```鍵``` に応じた ```値``` を呼び出すことができる型、ということになる。文字通りの辞書を想像してほしい。見出し語を引くことによって、その内容を調べることができる。あの要領である。"
   ]
  },
  {
   "cell_type": "markdown",
   "metadata": {},
   "source": [
    "### 辞書の作成"
   ]
  },
  {
   "cell_type": "markdown",
   "metadata": {},
   "source": [
    "いい具合に混乱してきたと思うが、具体例を見ると分かりやすい。実際に辞書を作ってみよう。"
   ]
  },
  {
   "cell_type": "code",
   "execution_count": 79,
   "metadata": {},
   "outputs": [],
   "source": [
    "ratings = {\n",
    "    'Alice': 2500,\n",
    "    'Bob': 2200,\n",
    "    'scrblbug': 1500\n",
    "}"
   ]
  },
  {
   "cell_type": "markdown",
   "metadata": {},
   "source": [
    "分かりやすいように改行を加えて構築してある。まず波括弧 ```{}``` で全体が囲われ、鍵と値のセットは、カンマ ```,``` で区切られる。さらに個々の ```鍵``` と ```値``` は コロン ```:``` で区切られているのが分かると思う。\n",
    "\n",
    "また、```dict()``` を用いても作成できる。この場合、引数には ```鍵```, ```値``` を返すイテラブルを入れてやる形になる。"
   ]
  },
  {
   "cell_type": "code",
   "execution_count": 72,
   "metadata": {},
   "outputs": [],
   "source": [
    "ratings = dict([['Alice', 2500], ['Bob', 2200], ['scrblbug', 1500]])"
   ]
  },
  {
   "cell_type": "markdown",
   "metadata": {},
   "source": [
    "### 辞書の値の呼び出し"
   ]
  },
  {
   "cell_type": "markdown",
   "metadata": {},
   "source": [
    "値を呼び出す際には、リストの添字などと同様に角括弧 ```[]``` を後に続けて、中に ```鍵``` を入れる。ただし、存在しない鍵を指定すると、```KeyError``` となる。"
   ]
  },
  {
   "cell_type": "code",
   "execution_count": 69,
   "metadata": {},
   "outputs": [
    {
     "name": "stdout",
     "output_type": "stream",
     "text": [
      "1500\n"
     ]
    }
   ],
   "source": [
    "print(ratings['scrblbug'])"
   ]
  },
  {
   "cell_type": "code",
   "execution_count": 70,
   "metadata": {},
   "outputs": [
    {
     "ename": "KeyError",
     "evalue": "'Charlie'",
     "output_type": "error",
     "traceback": [
      "\u001b[1;31m---------------------------------------------------------------------------\u001b[0m",
      "\u001b[1;31mKeyError\u001b[0m                                  Traceback (most recent call last)",
      "\u001b[1;32m<ipython-input-70-8d9417520bbb>\u001b[0m in \u001b[0;36m<module>\u001b[1;34m\u001b[0m\n\u001b[1;32m----> 1\u001b[1;33m \u001b[0mprint\u001b[0m\u001b[1;33m(\u001b[0m\u001b[0mratings\u001b[0m\u001b[1;33m[\u001b[0m\u001b[1;34m'Charlie'\u001b[0m\u001b[1;33m]\u001b[0m\u001b[1;33m)\u001b[0m\u001b[1;33m\u001b[0m\u001b[1;33m\u001b[0m\u001b[0m\n\u001b[0m",
      "\u001b[1;31mKeyError\u001b[0m: 'Charlie'"
     ]
    }
   ],
   "source": [
    "print(ratings['Charlie'])"
   ]
  },
  {
   "cell_type": "markdown",
   "metadata": {},
   "source": [
    "### 辞書の鍵の存在チェック"
   ]
  },
  {
   "cell_type": "markdown",
   "metadata": {},
   "source": [
    "鍵が辞書の中に存在しているかどうか調べる時は、演算子 ```in``` を用いる。もちろん、無いかどうかを確認する時は ```not in``` を使う。```値``` ではなく ```鍵``` なので注意してほしい。"
   ]
  },
  {
   "cell_type": "code",
   "execution_count": 19,
   "metadata": {},
   "outputs": [
    {
     "name": "stdout",
     "output_type": "stream",
     "text": [
      "True True\n"
     ]
    }
   ],
   "source": [
    "ratings = dict([['Alice', 2500], ['Bob', 2200], ['scrblbug', 1500]])\n",
    "print('Alice' in ratings, 'Charlie' not in ratings)"
   ]
  },
  {
   "cell_type": "markdown",
   "metadata": {},
   "source": [
    "### 辞書の 鍵 : 値 のペアの追加・変更・削除"
   ]
  },
  {
   "cell_type": "markdown",
   "metadata": {},
   "source": [
    "新たな鍵と値のペアを追加するには、そのまま代入操作を行えばいい。自動的に追加される。"
   ]
  },
  {
   "cell_type": "code",
   "execution_count": 76,
   "metadata": {},
   "outputs": [
    {
     "name": "stdout",
     "output_type": "stream",
     "text": [
      "2000\n"
     ]
    }
   ],
   "source": [
    "ratings = dict([['Alice', 2500], ['Bob', 2200], ['scrblbug', 1500]])\n",
    "ratings['Charlie'] = 2000\n",
    "print(ratings['Charlie'])"
   ]
  },
  {
   "cell_type": "markdown",
   "metadata": {},
   "source": [
    "すでに存在する鍵に対応した値を変更するときも、そのまま代入操作を行えば上書きされる。"
   ]
  },
  {
   "cell_type": "code",
   "execution_count": 26,
   "metadata": {},
   "outputs": [
    {
     "name": "stdout",
     "output_type": "stream",
     "text": [
      "2000\n"
     ]
    }
   ],
   "source": [
    "ratings = dict([['Alice', 2500], ['Bob', 2200], ['scrblbug', 1500]])\n",
    "ratings['scrblbug'] = 2000\n",
    "print(ratings['scrblbug'])"
   ]
  },
  {
   "cell_type": "markdown",
   "metadata": {},
   "source": [
    "削除したいときには、```del``` 文を使用する。"
   ]
  },
  {
   "cell_type": "code",
   "execution_count": 78,
   "metadata": {},
   "outputs": [
    {
     "name": "stdout",
     "output_type": "stream",
     "text": [
      "False\n"
     ]
    }
   ],
   "source": [
    "ratings = dict([['Alice', 2500], ['Bob', 2200], ['scrblbug', 1500]])\n",
    "\n",
    "del ratings['scrblbug']\n",
    "\n",
    "print('scrblbug' in ratings)"
   ]
  },
  {
   "cell_type": "markdown",
   "metadata": {},
   "source": [
    "### 鍵や値の集合を取得"
   ]
  },
  {
   "cell_type": "markdown",
   "metadata": {},
   "source": [
    "鍵のみの集合を取得したい時は ```dict.keys()```、値のみの集合を取得したい時は ```dict.values()```、両方のセットを取得したい時は ```dict.items()``` を使用する。それぞれリストに近い専用のイテラブルを返してくる（リストそのものではないので注意）。"
   ]
  },
  {
   "cell_type": "code",
   "execution_count": 6,
   "metadata": {},
   "outputs": [
    {
     "name": "stdout",
     "output_type": "stream",
     "text": [
      "dict_keys(['Alice', 'Bob', 'scrblbug']) dict_values([2500, 2200, 1500])\n",
      "dict_items([('Alice', 2500), ('Bob', 2200), ('scrblbug', 1500)])\n"
     ]
    }
   ],
   "source": [
    "ratings = dict([['Alice', 2500], ['Bob', 2200], ['scrblbug', 1500]])\n",
    "print(ratings.keys(), ratings.values())\n",
    "print(ratings.items())"
   ]
  },
  {
   "cell_type": "markdown",
   "metadata": {},
   "source": [
    "ちなみに、辞書そのものをイテラブルとして使用した場合は、```鍵``` を取得する。なので、セットで取得する場合は上記の ```dict.items()``` を利用すること。"
   ]
  },
  {
   "cell_type": "code",
   "execution_count": 8,
   "metadata": {},
   "outputs": [
    {
     "name": "stdout",
     "output_type": "stream",
     "text": [
      "Alice\n",
      "Bob\n",
      "scrblbug\n",
      "\n",
      "Alice 2500\n",
      "Bob 2200\n",
      "scrblbug 1500\n"
     ]
    }
   ],
   "source": [
    "ratings = dict([['Alice', 2500], ['Bob', 2200], ['scrblbug', 1500]])\n",
    "for k in ratings:\n",
    "    print(k)\n",
    "print()\n",
    "for k, v in ratings.items():\n",
    "    print(k, v)"
   ]
  },
  {
   "cell_type": "markdown",
   "metadata": {},
   "source": [
    "### 鍵に使用できるもの"
   ]
  },
  {
   "cell_type": "markdown",
   "metadata": {},
   "source": [
    "注意点として、辞書は全ての型を鍵として使用できるわけではない。厳密には ```ハッシュ化可能``` なものだけである。……という言い方だと分かりにくいが、基本的には ```イミュータブル``` なものが使用できると思えばいい。\n",
    "\n",
    "つまり、**リストは鍵に使用できないが、タプルは使用できる**。競技プログラミングにおいてタプルを使用する理由の一つは、これである。"
   ]
  },
  {
   "cell_type": "markdown",
   "metadata": {},
   "source": [
    "## 辞書の利点"
   ]
  },
  {
   "cell_type": "markdown",
   "metadata": {},
   "source": [
    "辞書の使い方は以上でいいとして、実際どのようなときに使うのだろうか？\n",
    "\n",
    "リストの添字がうまく構成できない時に利用する、というのが簡単な答えだろう。例えば ```文字列``` と数字を対応させたい場合などは典型だ。\n",
    "\n",
    "ひとつの発想としては、```文字列``` を数値に変換してリストで管理するという手段がある。しかし、あり得る文字列全てに関して添字を用意するとなると、とんでもない長さのリストをあらかじめ確保しておかねばならない。しかも、そのうちほとんどは実際には使用されないのだ。\n",
    "\n",
    "逆に言うと、これを裏でうまい具合にやってくれるのが ```辞書``` の仕組みでもある。\n",
    "\n",
    "仕組みを単純化して説明すると、辞書は、あらかじめ専用の配列を裏で用意している。そして、与えられた鍵を ```ハッシュ化``` と呼ばれるある仕組みに従って数値化する。その数値を添字として配列に場所を用意し、値を保存しているのだ。\n",
    "\n",
    "よって、ハッシュ計算の分は定数倍遅くなるものの、辞書の値の呼び出しと書き込みは $O(1)$ で行われる。\n",
    "\n",
    "……ということは、少し見方を変えると ```鍵``` の検索を $O(1)$ で行うことができるということでもあり、この性質も頻繁に利用される。実は、その典型例が、次に紹介する ```セット``` (set) だ。"
   ]
  },
  {
   "cell_type": "markdown",
   "metadata": {},
   "source": [
    "## セット (set) の基本"
   ]
  },
  {
   "cell_type": "markdown",
   "metadata": {},
   "source": [
    "セット (set) は、一言でいうと ```重複なし集合``` を管理するコンテナ型だ。\n",
    "\n",
    "内部的には ```辞書``` を用いて実装されている。つまり、保存できる値は ```イミュータブル``` に限られる。しかし、値の追加・削除・確認を全て $O(1)$ で行うことができるという利点がある。\n",
    "\n",
    "では、使い方を見ていこう。"
   ]
  },
  {
   "cell_type": "markdown",
   "metadata": {},
   "source": [
    "### セットの作成"
   ]
  },
  {
   "cell_type": "markdown",
   "metadata": {},
   "source": [
    "セットは、辞書と同様に波括弧 ```{}``` を用いて作成できる。辞書の時は ```鍵:値``` という書き方をしていたが、セットの時は単純に保存したい値を感まで区切ってやればいい。"
   ]
  },
  {
   "cell_type": "code",
   "execution_count": 9,
   "metadata": {},
   "outputs": [
    {
     "name": "stdout",
     "output_type": "stream",
     "text": [
      "{'Bravo', 'Alpha', 'Delta', 'Charlie'}\n"
     ]
    }
   ],
   "source": [
    "members = {'Alpha', 'Bravo', 'Charlie', 'Delta'}\n",
    "print(members)"
   ]
  },
  {
   "cell_type": "markdown",
   "metadata": {},
   "source": [
    "ただし、空のセットを作成する時は ```{}``` を使用すると、空の辞書とみなされてしまうため、```set()``` を利用する。"
   ]
  },
  {
   "cell_type": "code",
   "execution_count": 11,
   "metadata": {},
   "outputs": [
    {
     "name": "stdout",
     "output_type": "stream",
     "text": [
      "<class 'dict'> <class 'set'>\n"
     ]
    }
   ],
   "source": [
    "var1 = {}\n",
    "var2 = set()\n",
    "print(type(var1), type(var2))"
   ]
  },
  {
   "cell_type": "markdown",
   "metadata": {},
   "source": [
    "もちろん、```set()``` にイテラブルを渡してやって作成することもできる。"
   ]
  },
  {
   "cell_type": "code",
   "execution_count": 12,
   "metadata": {},
   "outputs": [
    {
     "name": "stdout",
     "output_type": "stream",
     "text": [
      "{'Bravo', 'Alpha', 'Delta', 'Charlie'}\n"
     ]
    }
   ],
   "source": [
    "members = ['Alpha', 'Bravo', 'Charlie', 'Delta']\n",
    "members_set = set(members)\n",
    "print(members_set)"
   ]
  },
  {
   "cell_type": "markdown",
   "metadata": {},
   "source": [
    "セットの作成時に、重複している値があると自動的に削除される。"
   ]
  },
  {
   "cell_type": "code",
   "execution_count": 13,
   "metadata": {},
   "outputs": [
    {
     "name": "stdout",
     "output_type": "stream",
     "text": [
      "{1, 2, 3, 4}\n"
     ]
    }
   ],
   "source": [
    "nums = [1, 2, 3, 4, 3, 2, 1]\n",
    "nums_set = set(nums)\n",
    "print(nums_set)"
   ]
  },
  {
   "cell_type": "markdown",
   "metadata": {},
   "source": [
    "### セットの値の追加・削除"
   ]
  },
  {
   "cell_type": "markdown",
   "metadata": {},
   "source": [
    "セットへの値の追加は、```set.add()``` を用いる。また、値の削除は ```set.remove()``` を用いる。"
   ]
  },
  {
   "cell_type": "code",
   "execution_count": 14,
   "metadata": {},
   "outputs": [
    {
     "name": "stdout",
     "output_type": "stream",
     "text": [
      "{1, 2, 3, 4}\n",
      "{1, 3, 4}\n"
     ]
    }
   ],
   "source": [
    "num_set = {1, 2, 3}\n",
    "num_set.add(4)\n",
    "print(num_set)\n",
    "num_set.remove(2)\n",
    "print(num_set)"
   ]
  },
  {
   "cell_type": "markdown",
   "metadata": {},
   "source": [
    "もともとセットに入っている値を追加しても、変化しない。"
   ]
  },
  {
   "cell_type": "code",
   "execution_count": 16,
   "metadata": {},
   "outputs": [
    {
     "name": "stdout",
     "output_type": "stream",
     "text": [
      "{1, 2, 3}\n"
     ]
    }
   ],
   "source": [
    "num_set = {1, 2, 3}\n",
    "num_set.add(3)\n",
    "print(num_set)"
   ]
  },
  {
   "cell_type": "markdown",
   "metadata": {},
   "source": [
    "しかし、無い値を削除しようとすると、```KeyError``` が起きる。"
   ]
  },
  {
   "cell_type": "code",
   "execution_count": 17,
   "metadata": {},
   "outputs": [
    {
     "ename": "KeyError",
     "evalue": "4",
     "output_type": "error",
     "traceback": [
      "\u001b[1;31m---------------------------------------------------------------------------\u001b[0m",
      "\u001b[1;31mKeyError\u001b[0m                                  Traceback (most recent call last)",
      "\u001b[1;32m<ipython-input-17-e9ca73c460d6>\u001b[0m in \u001b[0;36m<module>\u001b[1;34m\u001b[0m\n\u001b[0;32m      1\u001b[0m \u001b[0mnum_set\u001b[0m \u001b[1;33m=\u001b[0m \u001b[1;33m{\u001b[0m\u001b[1;36m1\u001b[0m\u001b[1;33m,\u001b[0m \u001b[1;36m2\u001b[0m\u001b[1;33m,\u001b[0m \u001b[1;36m3\u001b[0m\u001b[1;33m}\u001b[0m\u001b[1;33m\u001b[0m\u001b[1;33m\u001b[0m\u001b[0m\n\u001b[1;32m----> 2\u001b[1;33m \u001b[0mnum_set\u001b[0m\u001b[1;33m.\u001b[0m\u001b[0mremove\u001b[0m\u001b[1;33m(\u001b[0m\u001b[1;36m4\u001b[0m\u001b[1;33m)\u001b[0m\u001b[1;33m\u001b[0m\u001b[1;33m\u001b[0m\u001b[0m\n\u001b[0m\u001b[0;32m      3\u001b[0m \u001b[0mprint\u001b[0m\u001b[1;33m(\u001b[0m\u001b[0mnum_set\u001b[0m\u001b[1;33m)\u001b[0m\u001b[1;33m\u001b[0m\u001b[1;33m\u001b[0m\u001b[0m\n",
      "\u001b[1;31mKeyError\u001b[0m: 4"
     ]
    }
   ],
   "source": [
    "num_set = {1, 2, 3}\n",
    "num_set.remove(4)\n",
    "print(num_set)"
   ]
  },
  {
   "cell_type": "markdown",
   "metadata": {},
   "source": [
    "### 値の確認"
   ]
  },
  {
   "cell_type": "markdown",
   "metadata": {},
   "source": [
    "ある値がセットに含まれているかどうかを調べるには、演算子 ```in``` を使用する。含まれていないかどうかは、```not in``` を使う。"
   ]
  },
  {
   "cell_type": "code",
   "execution_count": 24,
   "metadata": {},
   "outputs": [
    {
     "name": "stdout",
     "output_type": "stream",
     "text": [
      "False True\n"
     ]
    }
   ],
   "source": [
    "num_set = {1, 2, 3}\n",
    "print(42 in num_set, 42 not in num_set)"
   ]
  },
  {
   "cell_type": "markdown",
   "metadata": {},
   "source": [
    "### セットの演算"
   ]
  },
  {
   "cell_type": "markdown",
   "metadata": {},
   "source": [
    "セットは、```|``` ```&``` ```-``` ```^``` ```>=``` ```<=``` などの演算子での集合演算が利用できる。競技プログラミングを始めたてのうちはあまり利用しないと思うが、一応簡単に例だけ紹介しておく。"
   ]
  },
  {
   "cell_type": "code",
   "execution_count": 35,
   "metadata": {},
   "outputs": [
    {
     "name": "stdout",
     "output_type": "stream",
     "text": [
      "{1, 2, 3, 4, 5}\n",
      "{3}\n",
      "{1, 2}\n",
      "{1, 2, 4, 5}\n"
     ]
    }
   ],
   "source": [
    "set1 = {1, 2, 3}\n",
    "set2 = {3, 4, 5}\n",
    "\n",
    "print(set1 | set2) # 和集合\n",
    "print(set1 & set2) # 積集合\n",
    "print(set1 - set2) # 差分集合\n",
    "print(set1 ^ set2) # 対称差集合"
   ]
  },
  {
   "cell_type": "code",
   "execution_count": 36,
   "metadata": {},
   "outputs": [
    {
     "name": "stdout",
     "output_type": "stream",
     "text": [
      "True False\n"
     ]
    }
   ],
   "source": [
    "set1 = {1, 2, 3, 4, 5}\n",
    "set2 = {2, 3, 4}\n",
    "set3 = {4, 5, 6}\n",
    "\n",
    "# 部分集合の判定\n",
    "print(set1 >= set2, set3 <= set1)"
   ]
  },
  {
   "cell_type": "markdown",
   "metadata": {},
   "source": [
    "## セットのイテラブルとしての利用"
   ]
  },
  {
   "cell_type": "markdown",
   "metadata": {},
   "source": [
    "セットもイテラブルとして使えるが、取り出しの順序については保証されないので注意。一方、辞書では順序が保証される。"
   ]
  },
  {
   "cell_type": "markdown",
   "metadata": {},
   "source": [
    "## セットの利点"
   ]
  },
  {
   "cell_type": "markdown",
   "metadata": {},
   "source": [
    "セットの利点は、やはり $O(1)$ で行われる、その値検索の速さにある。\n",
    "\n",
    "例えば同じことをリストで ```値 in list``` とやると、その計算量は $O(N)$ となる。ここをセットで行うようにするだけで、劇的にスピードが変わるケースも多い。\n",
    "\n",
    "値の重複を削除する時にもしばしば利用される。"
   ]
  },
  {
   "cell_type": "code",
   "execution_count": 38,
   "metadata": {},
   "outputs": [
    {
     "name": "stdout",
     "output_type": "stream",
     "text": [
      "[2, 3, 5, 7, 42, 16]\n"
     ]
    }
   ],
   "source": [
    "var = [2, 3, 5, 42, 7, 5, 16, 2, 5]\n",
    "var = list(set(var))\n",
    "print(var)"
   ]
  },
  {
   "cell_type": "markdown",
   "metadata": {},
   "source": [
    "辞書と同様、リストはセットに入れることはできないが、**タプルは入れることができる**ことを覚えておくといいだろう。たとえば座標など、値の組み合わせが問題になる際は、タプルで構成してやれば、セットを用いて簡単に検索や重複の削除を行うことができる。"
   ]
  },
  {
   "cell_type": "markdown",
   "metadata": {},
   "source": [
    "# その他補足事項"
   ]
  },
  {
   "cell_type": "markdown",
   "metadata": {},
   "source": [
    "Python の基本については、大まかに以上で終了である。\n",
    "\n",
    "ここから先は、基本では紹介しきれなかった事項について、いくつか補足する。"
   ]
  },
  {
   "cell_type": "markdown",
   "metadata": {},
   "source": [
    "## 三項演算子"
   ]
  },
  {
   "cell_type": "markdown",
   "metadata": {},
   "source": [
    "個人的には便利なのでよく使うのだが、宗教的理由や好みの問題から嫌われることも多いのが、三項演算子 ```～ if ～ else ～ ``` である。\n",
    "\n",
    "三項演算子は、条件式の結果から、二つの値のうち片方を用いるようにするための演算子で、```値1 if 条件式 else 値2``` のように使用する。もちろん、条件式が Truthy なら ```値1``` が返り、Falsy なら ```値2``` が返る。\n",
    "\n",
    "具体例を見てみよう。"
   ]
  },
  {
   "cell_type": "code",
   "execution_count": 64,
   "metadata": {},
   "outputs": [
    {
     "name": "stdout",
     "output_type": "stream",
     "text": [
      "pass\n"
     ]
    }
   ],
   "source": [
    "score = 70\n",
    "\n",
    "result = 'pass' if score >= 60 else 'failure'\n",
    "\n",
    "print(result)"
   ]
  },
  {
   "cell_type": "markdown",
   "metadata": {},
   "source": [
    "上記コードの、```'pass' if score >= 60 else 'failure'``` のところが三項演算子となっている。この式が評価される際、条件式 ```score >= 60``` ならば最初の値、つまり ```\"pass\"``` が、そうでなければ最後の値 ```\"failure\"``` が返される。今回は 70点だったので合格、という寸法である。"
   ]
  },
  {
   "cell_type": "markdown",
   "metadata": {},
   "source": [
    "## zip()"
   ]
  },
  {
   "cell_type": "markdown",
   "metadata": {},
   "source": [
    "```zip()``` は、複数のリストをまとめて処理を行う際に使用される、少し面白い関数だ。\n",
    "\n",
    "引数として複数のイテラブルを取り、それぞれの1番目の要素、2番目の要素……をまとめたタプルを返すイテレータを作成する。"
   ]
  },
  {
   "cell_type": "code",
   "execution_count": 69,
   "metadata": {},
   "outputs": [
    {
     "name": "stdout",
     "output_type": "stream",
     "text": [
      "<zip object at 0x0000022C3717E340>\n",
      "[(1, 'a', [3, 1]), (2, 'b', [3, 2]), (3, 'c', [3, 3])]\n"
     ]
    }
   ],
   "source": [
    "list1 = range(1, 5)\n",
    "list2 = ('a', 'b', 'c')\n",
    "list3 = [[3, 1], [3, 2], [3, 3], [3, 4]]\n",
    "\n",
    "zipped = zip(list1, list2, list3)\n",
    "\n",
    "print(zipped)\n",
    "print(list(zipped))"
   ]
  },
  {
   "cell_type": "markdown",
   "metadata": {},
   "source": [
    "上記の例で試したように、各イテラブルの長さが違う場合、一番短いものに合わせられるので、注意してほしい。\n",
    "\n",
    "最初はとっつき悪く感じるが、慣れると非常に便利な関数である。\n",
    "\n",
    "例えばの話だが、学籍番号だけのリスト、名前だけのリスト、点数だけのリストがそれぞれ与えられ、それに対して処理を行う……といった時。あるいは逆に、```[学籍番号, 名前, 点数]``` の二次元リストが与えられ、この点数だけをまとめて処理したいときなどに、簡単に書くことができる。"
   ]
  },
  {
   "cell_type": "markdown",
   "metadata": {},
   "source": [
    "## 内包表記"
   ]
  },
  {
   "cell_type": "markdown",
   "metadata": {},
   "source": [
    "内包表記(Comprehension)とは、あるリスト（などのイテラブル）から別のリスト（あるいはセットや辞書）を作成するような処理を行うときに、それを簡便に書くことができる記法だ。ちなみに、内包表記で書くと、普通に書き下すより動作も速くなることが多い。\n",
    "\n",
    "競技プログラミングで他の人のソースを見たとき、中級者以上ならば、必ず使っているはずだ。\n",
    "\n",
    "どのような感じなのか見てもらうために、さっそくだが、簡単な例を挙げてみる。"
   ]
  },
  {
   "cell_type": "markdown",
   "metadata": {},
   "source": [
    "### 例1：ある整数のリストLがあるとき、Lの各要素を自乗した新しいリストを作成する。"
   ]
  },
  {
   "cell_type": "markdown",
   "metadata": {},
   "source": [
    "forによるループを用いて書くと、だいたい次のような感じだろうか。"
   ]
  },
  {
   "cell_type": "code",
   "execution_count": 46,
   "metadata": {},
   "outputs": [
    {
     "name": "stdout",
     "output_type": "stream",
     "text": [
      "[1, 4, 9, 16, 25]\n"
     ]
    }
   ],
   "source": [
    "L = [1, 2, 3, 4, 5]\n",
    "\n",
    "new_list = []\n",
    "for i in L:\n",
    "    new_list.append(i * i)\n",
    "\n",
    "print(new_list)"
   ]
  },
  {
   "cell_type": "markdown",
   "metadata": {},
   "source": [
    "これを、リスト内包表記を用いて書いてみると……"
   ]
  },
  {
   "cell_type": "code",
   "execution_count": 47,
   "metadata": {},
   "outputs": [
    {
     "name": "stdout",
     "output_type": "stream",
     "text": [
      "[1, 4, 9, 16, 25]\n"
     ]
    }
   ],
   "source": [
    "L = [1, 2, 3, 4, 5]\n",
    "\n",
    "new_list = [i * i for i in L]\n",
    "\n",
    "print(new_list)"
   ]
  },
  {
   "cell_type": "markdown",
   "metadata": {},
   "source": [
    "と、かなりスッキリした書き方になる。\n",
    "\n",
    "ここで、内包表記のごく基本的な書き方を一般化すると、以下のような感じになる。"
   ]
  },
  {
   "cell_type": "code",
   "execution_count": null,
   "metadata": {},
   "outputs": [],
   "source": [
    "# 普通の書き方\n",
    "new_list = []\n",
    "for ＜元の各要素の一時代入先＞ in ＜元の要素を含むイテラブル＞:\n",
    "    new_list.append(＜新たなリストの要素＞)\n",
    "\n",
    "# 上記の書き方に対応するリスト内包表記\n",
    "new_list = [＜新たなリストの要素＞ for ＜元の各要素の一時代入先＞ in ＜元の要素を含むイテラブル＞]"
   ]
  },
  {
   "cell_type": "markdown",
   "metadata": {},
   "source": [
    "慣れないうちは、一度通常通り書いてみた後、内包表記に変換してみるというのを試してみると、分かりやすいかもしれない。基本的には、```for ～ in ～``` のループが回るとともに、要素が一つずつ確定・追加されていくので、通常のループによるリストの作成と動きは同じだ。\n",
    "\n",
    "以下、さらに具体的な例を挙げつつ、もう少しこみいった内容を順次説明していこうと思う。\n",
    "\n",
    "まず、アンパック代入を用いて複数の要素を代入に使用したり、新たなリストの要素をリストやタプルにすることもできる。"
   ]
  },
  {
   "cell_type": "markdown",
   "metadata": {},
   "source": [
    "### 例2：```[a, b]``` を複数含むリストが与えられ、```[a + b, a * b]``` を要素とする新しいリストを作成する。"
   ]
  },
  {
   "cell_type": "code",
   "execution_count": 48,
   "metadata": {},
   "outputs": [
    {
     "name": "stdout",
     "output_type": "stream",
     "text": [
      "[[3, 2], [7, 12], [11, 30]]\n"
     ]
    }
   ],
   "source": [
    "L = [[1, 2], [3, 4], [5, 6]]\n",
    "\n",
    "new_list = [[a + b, a * b] for a, b in L]\n",
    "\n",
    "print(new_list)"
   ]
  },
  {
   "cell_type": "markdown",
   "metadata": {},
   "source": [
    "そして、実はさらに、条件に合うものだけを取り出すことができる。その場合、末尾に ```if ＜条件文＞``` を追加する。"
   ]
  },
  {
   "cell_type": "markdown",
   "metadata": {},
   "source": [
    "### 例3：```[s, t]``` を複数含むリストが与えられ、s * t が10以上20以下のものだけを取り出し、新たな ```[s * t]``` のリストを作成する。"
   ]
  },
  {
   "cell_type": "code",
   "execution_count": 45,
   "metadata": {},
   "outputs": [
    {
     "name": "stdout",
     "output_type": "stream",
     "text": [
      "[12, 20]\n"
     ]
    }
   ],
   "source": [
    "L = [[1, 2], [2, 3], [3, 4], [4, 5], [5, 6]]\n",
    "new_list = [a * b for a, b in L if 10 <= a * b <= 20]\n",
    "print(new_list)"
   ]
  },
  {
   "cell_type": "markdown",
   "metadata": {},
   "source": [
    "この文書の前の方でちらっと書いたが、内包表記は ```map()``` と ```filter()``` を合わせた感じの動作を、一度に書ける表記ともいえる。\n",
    "\n",
    "for ～ in ～ を重ねることもできる。この場合、普通にforを書いたときのように、後の方が先にループされる形になる。下の例では、それぞれのイテラブルの直積（全ての組み合わせ）を扱う形になる。"
   ]
  },
  {
   "cell_type": "markdown",
   "metadata": {},
   "source": [
    "### 例4：2つのリストが与えられ、それぞれから要素を一つずつ取り出し、それをかけ合わせたもの全てを含むリストを作成する。"
   ]
  },
  {
   "cell_type": "code",
   "execution_count": 49,
   "metadata": {},
   "outputs": [
    {
     "name": "stdout",
     "output_type": "stream",
     "text": [
      "[1, 10, 100, 2, 20, 200, 3, 30, 300]\n"
     ]
    }
   ],
   "source": [
    "L1 = [1, 2, 3]\n",
    "L2 = [1, 10, 100]\n",
    "\n",
    "new_list = [a * b for a in L1 for b in L2]\n",
    "\n",
    "print(new_list)"
   ]
  },
  {
   "cell_type": "markdown",
   "metadata": {},
   "source": [
    "あるいは、前のforで取り出した要素を、後のforで回すこともできる。"
   ]
  },
  {
   "cell_type": "markdown",
   "metadata": {},
   "source": [
    "### 例5：与えられた2次元リストを、出てきた要素順の1次元のリストにする。"
   ]
  },
  {
   "cell_type": "code",
   "execution_count": 50,
   "metadata": {},
   "outputs": [
    {
     "name": "stdout",
     "output_type": "stream",
     "text": [
      "[1, 2, 3, 4, 5, 6]\n"
     ]
    }
   ],
   "source": [
    "L = [[1, 2], [3, 4, 5], [6]]\n",
    "\n",
    "new_list = [n for items in L for n in items]\n",
    "\n",
    "print(new_list)"
   ]
  },
  {
   "cell_type": "markdown",
   "metadata": {},
   "source": [
    "なんだこれ？と混乱した人は、次の書き方と見比べてみると、分かりやすいかもしれない。"
   ]
  },
  {
   "cell_type": "code",
   "execution_count": 51,
   "metadata": {},
   "outputs": [
    {
     "name": "stdout",
     "output_type": "stream",
     "text": [
      "[1, 2, 3, 4, 5, 6]\n"
     ]
    }
   ],
   "source": [
    "L = [[1, 2], [3, 4, 5], [6]]\n",
    "\n",
    "new_list = []\n",
    "for items in L:\n",
    "    for n in items:\n",
    "        new_list.append(n)\n",
    "\n",
    "print(new_list)"
   ]
  },
  {
   "cell_type": "markdown",
   "metadata": {},
   "source": [
    "また、よくあるパターンとして、単純なループの代わりに使用することもある。"
   ]
  },
  {
   "cell_type": "markdown",
   "metadata": {},
   "source": [
    "### 例6：リスト[0, 1]を5つ含むリストを作成する。"
   ]
  },
  {
   "cell_type": "code",
   "execution_count": 52,
   "metadata": {},
   "outputs": [
    {
     "name": "stdout",
     "output_type": "stream",
     "text": [
      "[[0, 1], [0, 1], [0, 1], [0, 1], [0, 1]]\n"
     ]
    }
   ],
   "source": [
    "new_list = [[0, 1] for i in range(5)]\n",
    "\n",
    "print(new_list)"
   ]
  },
  {
   "cell_type": "markdown",
   "metadata": {},
   "source": [
    "この場合は、iには0, 1, 2, 3, 4が順番に代入されるが、その数値自体は新たなリストには使用されず、単純にループカウントとして用いられる形になる。一般的な回数制御のループで使う、```for i in range(N):``` と同じ形だ。\n",
    "\n",
    "ちなみに、これを ```new_list = [[0, 1]] * 5``` と書くと、後で予想外の動作をすることになるので注意。具体的には、次のようなことになる。"
   ]
  },
  {
   "cell_type": "code",
   "execution_count": 53,
   "metadata": {},
   "outputs": [
    {
     "name": "stdout",
     "output_type": "stream",
     "text": [
      "[[0, 1], [0, 1], [0, 1], [0, 1], [0, 1]]\n",
      "[[2, 1], [2, 1], [2, 1], [2, 1], [2, 1]]\n"
     ]
    }
   ],
   "source": [
    "new_list = [[0, 1]] * 5\n",
    "print(new_list)\n",
    "\n",
    "new_list[0][0] = 2\n",
    "print(new_list)"
   ]
  },
  {
   "cell_type": "markdown",
   "metadata": {},
   "source": [
    "これは、リスト ```[0, 1]``` が一度しか作成されないため、結果的に ```new_list``` が同一識別値のリストを 5つ並べただけになってしまうためだ。\n",
    "\n",
    "最初のように、内包表記でループを回す形にすれば、その都度新しいオブジェクト（全て異なる識別値の ```[0, 1]```）が作成されるので、上記のような問題は起こらない。"
   ]
  },
  {
   "cell_type": "markdown",
   "metadata": {},
   "source": [
    "少し凝ったテクニックとして、複数のリストが与えられる時は、zip()と組み合わせるとリスト内包表記を使いやすい。"
   ]
  },
  {
   "cell_type": "markdown",
   "metadata": {},
   "source": [
    "### 例7：3つの同じ長さのリストが与えられ、それぞれの同じ場所にある数字の積を持つ新たなリストを作成する。"
   ]
  },
  {
   "cell_type": "code",
   "execution_count": 56,
   "metadata": {},
   "outputs": [
    {
     "name": "stdout",
     "output_type": "stream",
     "text": [
      "[66, 168, 312, 504, 750]\n"
     ]
    }
   ],
   "source": [
    "L1 = [1, 2, 3, 4, 5]\n",
    "L2 = [6, 7, 8, 9 , 10]\n",
    "L3 = [11, 12, 13, 14, 15]\n",
    "\n",
    "new_list = [a * b * c for a, b, c in zip(L1, L2, L3)]\n",
    "\n",
    "print(new_list)"
   ]
  },
  {
   "cell_type": "markdown",
   "metadata": {},
   "source": [
    "同様に、二次元配列の行列を入れ替えたものも簡単に作成できる。これは、```zip()``` の引数にリストを展開して渡してやる形になる。"
   ]
  },
  {
   "cell_type": "markdown",
   "metadata": {},
   "source": [
    "### 例8：与えられた二次元リストの行列を入れ替えたものを作成する"
   ]
  },
  {
   "cell_type": "code",
   "execution_count": 59,
   "metadata": {},
   "outputs": [
    {
     "name": "stdout",
     "output_type": "stream",
     "text": [
      "[[1, 5, 9], [2, 6, 10], [3, 7, 11], [4, 8, 12]]\n"
     ]
    }
   ],
   "source": [
    "L = [\n",
    "    [1, 2, 3, 4],\n",
    "    [5, 6, 7, 8],\n",
    "    [9, 10, 11, 12]\n",
    "]\n",
    "\n",
    "new_list = [list(row) for row in zip(*L)]\n",
    "\n",
    "print(new_list)"
   ]
  },
  {
   "cell_type": "markdown",
   "metadata": {},
   "source": [
    "さて、内包表記の一番外側の角括弧 ```[]``` を、波括弧 ```{}``` にするとセット(set)を、丸括弧 ```()``` にするとジェネレータ (generator) を作成することもできる。ジェネレータについては、この文書では扱わないが、次の値を呼ばれた都度計算する、イテラブルの一種である。内包表記で直接タプルを作成することはできない（中の要素をタプルにすることは可能）ので、リストで作成してからタプルに変換するとよい。"
   ]
  },
  {
   "cell_type": "markdown",
   "metadata": {},
   "source": [
    "### 例9：リストの各要素を自乗したものを含むセットを作成する。"
   ]
  },
  {
   "cell_type": "code",
   "execution_count": 57,
   "metadata": {},
   "outputs": [
    {
     "name": "stdout",
     "output_type": "stream",
     "text": [
      "{0, 1, 4}\n"
     ]
    }
   ],
   "source": [
    "L = [-2, -1, 0, 1, 2]\n",
    "\n",
    "new_set = {n * n for n in L}\n",
    "\n",
    "print(new_set)"
   ]
  },
  {
   "cell_type": "markdown",
   "metadata": {},
   "source": [
    "辞書については、波括弧 ```{}``` を使用しつつ、新しい要素は ```キー:値``` の形で指定する必要がある。  特に、キーのリストと値のリストを別に保持しておき、```zip()``` でまとめつつ内包表記で辞書に変換するのは、常套手段なので知っておくといいだろう。"
   ]
  },
  {
   "cell_type": "markdown",
   "metadata": {},
   "source": [
    "### 例10：{'A': 1, 'B': 2, 'C': 3, … , 'Z': 26} という内容の辞書、およびそのキーと値が逆の内容の辞書を作成する。"
   ]
  },
  {
   "cell_type": "code",
   "execution_count": 60,
   "metadata": {},
   "outputs": [
    {
     "name": "stdout",
     "output_type": "stream",
     "text": [
      "{'A': 1, 'B': 2, 'C': 3, 'D': 4, 'E': 5, 'F': 6, 'G': 7, 'H': 8, 'I': 9, 'J': 10, 'K': 11, 'L': 12, 'M': 13, 'N': 14, 'O': 15, 'P': 16, 'Q': 17, 'R': 18, 'S': 19, 'T': 20, 'U': 21, 'V': 22, 'W': 23, 'X': 24, 'Y': 25, 'Z': 26}\n",
      "{1: 'A', 2: 'B', 3: 'C', 4: 'D', 5: 'E', 6: 'F', 7: 'G', 8: 'H', 9: 'I', 10: 'J', 11: 'K', 12: 'L', 13: 'M', 14: 'N', 15: 'O', 16: 'P', 17: 'Q', 18: 'R', 19: 'S', 20: 'T', 21: 'U', 22: 'V', 23: 'W', 24: 'X', 25: 'Y', 26: 'Z'}\n"
     ]
    }
   ],
   "source": [
    "chars = \"ABCDEFGHIJKLMNOPQRSTUVWXYZ\"\n",
    "nums = range(1, 27) # [1, 2, 3, ... , 26]\n",
    "\n",
    "char_to_num = {key: value for key, value in zip(chars, nums)}\n",
    "num_to_char = {k: v for v, k in char_to_num.items()}\n",
    "\n",
    "print(char_to_num)\n",
    "print(num_to_char)"
   ]
  },
  {
   "cell_type": "markdown",
   "metadata": {},
   "source": [
    "上記のパターンを理解できれば、大抵の内包表記は読んだり書いたりできるようになると思う。後は慣れの問題だろう。\n",
    "\n",
    "最後に、少し引っかかりやすい点を2つほど挙げておく。他の人のコードを読むときのためにも、知っておくと嬉しいかもしれない。"
   ]
  },
  {
   "cell_type": "markdown",
   "metadata": {},
   "source": [
    "### 番外1：sum()などの引数に内包表記を書く時は、外側の括弧を省略できる。"
   ]
  },
  {
   "cell_type": "code",
   "execution_count": 62,
   "metadata": {},
   "outputs": [
    {
     "name": "stdout",
     "output_type": "stream",
     "text": [
      "9\n"
     ]
    }
   ],
   "source": [
    "L = [-1, 3, 2, -5, 4]\n",
    "result = sum(n for n in L if n > 0)\n",
    "print(result)"
   ]
  },
  {
   "cell_type": "markdown",
   "metadata": {},
   "source": [
    "### 番外2：内包表記のifは最後に書く。途中に書かれている場合は三項演算子。"
   ]
  },
  {
   "cell_type": "code",
   "execution_count": 63,
   "metadata": {},
   "outputs": [
    {
     "name": "stdout",
     "output_type": "stream",
     "text": [
      "['neg', 'pos', 'pos', 'neg', 'pos']\n"
     ]
    }
   ],
   "source": [
    "L = [-1, 3, 2, -5, 4]\n",
    "\n",
    "pos_neg = ['pos' if n >= 0 else 'neg' for n in L]\n",
    "# 上記の 'pos' if n >= 0 else 'neg' は三項演算子の if ～ else ～。\n",
    "\n",
    "print(pos_neg)"
   ]
  },
  {
   "cell_type": "markdown",
   "metadata": {},
   "source": [
    "## ライブラリのインポート法"
   ]
  },
  {
   "cell_type": "markdown",
   "metadata": {},
   "source": [
    "この文書では紹介しなかったが、外部、あるいは内部のライブラリを読み込む必要があるとき、使う前に宣言をしてやる必要がある。これを ```インポート``` と呼ぶ。\n",
    "\n",
    "例えば、競技プログラミングで良く使われる両端キュー ```deque``` を使用したい場合、標準では使用することができず、あらかじめ ```collections``` ライブラリを読み込んでおく必要がある。"
   ]
  },
  {
   "cell_type": "code",
   "execution_count": 72,
   "metadata": {},
   "outputs": [],
   "source": [
    "import collections\n",
    "dq = collections.deque()"
   ]
  },
  {
   "cell_type": "markdown",
   "metadata": {},
   "source": [
    "実際にそのクラス・関数を利用する際には、上記のように ```ライブラリ名.クラス名``` の形で使用する必要がある。\n",
    "\n",
    "使用するクラスが限られ、いちいちライブラリ名を入力するのが面倒くさいなら、クラスを直接インポートすることも出来る。その場合は、```from ライブラリ名 import クラス名``` と書く。"
   ]
  },
  {
   "cell_type": "code",
   "execution_count": 6,
   "metadata": {},
   "outputs": [],
   "source": [
    "from collections import deque\n",
    "dq = deque()"
   ]
  },
  {
   "cell_type": "markdown",
   "metadata": {},
   "source": [
    "また、名前をつけつつインポートすることも可能。その場合は ```as 名前``` と書く。よく使われる例として ```pandas``` は ```pd``` 、```numpy``` は ```np``` という名前でインポートされることが多い。"
   ]
  },
  {
   "cell_type": "code",
   "execution_count": 7,
   "metadata": {},
   "outputs": [],
   "source": [
    "import numpy as np\n",
    "import pandas as pd"
   ]
  },
  {
   "cell_type": "markdown",
   "metadata": {},
   "source": [
    "## リスト・文字列の合成に関する注意"
   ]
  },
  {
   "cell_type": "markdown",
   "metadata": {},
   "source": [
    "```list.extend()``` の代わりに、つぎのように書くことも出来る。"
   ]
  },
  {
   "cell_type": "code",
   "execution_count": 8,
   "metadata": {},
   "outputs": [
    {
     "name": "stdout",
     "output_type": "stream",
     "text": [
      "[0, 1, 2, 3, 4]\n"
     ]
    }
   ],
   "source": [
    "var = [0, 1, 2]\n",
    "var += [3, 4]\n",
    "print(var)"
   ]
  },
  {
   "cell_type": "markdown",
   "metadata": {},
   "source": [
    "この書き方は、実は ```list.extend()``` と同じ動作になるのだが、これを"
   ]
  },
  {
   "cell_type": "code",
   "execution_count": 9,
   "metadata": {},
   "outputs": [
    {
     "name": "stdout",
     "output_type": "stream",
     "text": [
      "[0, 1, 2, 3, 4]\n"
     ]
    }
   ],
   "source": [
    "var = [0, 1, 2]\n",
    "var = var + [3, 4]\n",
    "print(var)"
   ]
  },
  {
   "cell_type": "markdown",
   "metadata": {},
   "source": [
    "こう書いてしまうと、一旦 ```var + [3, 4]``` という新たなオブジェクトを作成してしまうため、遅くなってしまう。\n",
    "\n",
    "これは、複合代入演算子と、代入演算子＋算術演算子が違う動作をするケースのひとつである。実際に時間を確認してみよう。"
   ]
  },
  {
   "cell_type": "code",
   "execution_count": 10,
   "metadata": {},
   "outputs": [
    {
     "name": "stdout",
     "output_type": "stream",
     "text": [
      "0.016999483108520508 second\n",
      "20.251002550125122 second\n"
     ]
    }
   ],
   "source": [
    "import time\n",
    "start = time.time()\n",
    "var = []\n",
    "for i in range(10**5):\n",
    "    var += [i]\n",
    "print(time.time() - start, \"second\")\n",
    "\n",
    "import time\n",
    "start = time.time()\n",
    "var = []\n",
    "for i in range(10**5):\n",
    "    var = var + [i]\n",
    "print(time.time() - start, \"second\")"
   ]
  },
  {
   "cell_type": "markdown",
   "metadata": {},
   "source": [
    "前者と後者で驚くほど時間が違うのが分かると思う。\n",
    "\n",
    "というのも、新たなオブジェクトを作成するためには、そのオブジェクトとおなじ長さの時間が必要になってしまうため、前者は $O(N)$ なのに対して、後者は $O(N^2)$ となるからだ。\n",
    "\n",
    "この手のことをしたいときは、今あるリストの伸長であることを明示するために、```list.extend()``` を使用するほうが無難かも知れない。"
   ]
  },
  {
   "cell_type": "markdown",
   "metadata": {},
   "source": [
    "さて、文字列の場合はどうか。文字列は ```イミュータブル``` なので、上記のどちらの書き方でも、かならず新しいオブジェクトが作成されるため、遅くなってしまう。どうしても文字列で同じようなことをしたい場合は、ひとまず一文字ごとのリストとして管理し、最後に ```str.join()``` で結合してやるといいだろう。"
   ]
  },
  {
   "cell_type": "markdown",
   "metadata": {},
   "source": [
    "## str.join()"
   ]
  },
  {
   "cell_type": "markdown",
   "metadata": {},
   "source": [
    "```str.join()``` は少し変わったメソッドで、やや直感に反する書き方をする。おそらくだが、文字列のメソッドであることを重要視した結果だと思われる。\n",
    "\n",
    "その書き方は、```間に入る文字列.join(文字列のイテラブル)``` となっている。具体例は以下の通り。"
   ]
  },
  {
   "cell_type": "code",
   "execution_count": 13,
   "metadata": {},
   "outputs": [
    {
     "name": "stdout",
     "output_type": "stream",
     "text": [
      "abc|def|ghi\n"
     ]
    }
   ],
   "source": [
    "print('|'.join(['abc', 'def', 'ghi']))"
   ]
  },
  {
   "cell_type": "markdown",
   "metadata": {},
   "source": [
    "もちろん、```''.join()``` と空文字列を使用すれば、単純な結合になる。"
   ]
  },
  {
   "cell_type": "code",
   "execution_count": 14,
   "metadata": {},
   "outputs": [
    {
     "name": "stdout",
     "output_type": "stream",
     "text": [
      "jklmnopqr\n"
     ]
    }
   ],
   "source": [
    "print(''.join(['jkl', 'mno', 'pqr']))"
   ]
  },
  {
   "cell_type": "markdown",
   "metadata": {},
   "source": [
    "前項で説明した、個々の文字をリストとして管理しておいて最後に結合する場合や、カンマ区切りでデータを出力したい場合などに利用できる。"
   ]
  },
  {
   "cell_type": "markdown",
   "metadata": {},
   "source": [
    "## 入力のまとめ"
   ]
  },
  {
   "cell_type": "markdown",
   "metadata": {},
   "source": [
    "重複する内容も含むが、一通りまとめてみる。"
   ]
  },
  {
   "cell_type": "code",
   "execution_count": null,
   "metadata": {},
   "outputs": [],
   "source": [
    "# A: 一行の文字列を受け取る\n",
    "# abcde\n",
    "string = input()\n",
    "\n",
    "# B: 一行の整数を受け取る\n",
    "# 12345\n",
    "integer = int(input())\n",
    "\n",
    "# C: 一行の小数を受け取る\n",
    "# 1.2345\n",
    "float_number = float(input())\n",
    "\n",
    "# D: 最初の行に要素数Nが指定され、次行のスペースで区切られた整数列を受け取る\n",
    "# 5\n",
    "# 1 2 3 4 5\n",
    "N = int(input())\n",
    "integer_list = list(map(int, input().split()))\n",
    "\n",
    "# D': スペースで区切られた2つの整数N, Mを受け取る\n",
    "# 3 4\n",
    "N, M = map(int, input().spilt())\n",
    "\n",
    "# E: 最初に要素数Nが指定され、続くN行の整数を受け取る\n",
    "# 3\n",
    "# 1\n",
    "# 2\n",
    "# 3\n",
    "N = int(input())\n",
    "integer_list = [int(input()) for _ in range(N)]\n",
    "\n",
    "# F: 最初に要素数N、行数Mが指定され、続くM行の整数列（要素数N）を受け取る\n",
    "# 2 3\n",
    "# 1 2\n",
    "# 3 4\n",
    "# 5 6\n",
    "N, M = map(int, input().split())\n",
    "integer_matrix = [list(map(int, input().split())) for _ in range(M)]"
   ]
  },
  {
   "cell_type": "markdown",
   "metadata": {},
   "source": [
    "### A～C: 基本の受け取り方"
   ]
  },
  {
   "cell_type": "markdown",
   "metadata": {},
   "source": [
    "Pythonでは、とりあえず ```input()``` を使用することで標準入力を「文字列として」一行分受け取ることができる。実に簡単だ。\n",
    "\n",
    "文字列ならばそのまま受け取ればいいし、整数なら ```int(input())```、小数なら ```float(input())``` と型変換をしてやればいい。（例A～C）"
   ]
  },
  {
   "cell_type": "markdown",
   "metadata": {},
   "source": [
    "### D: 最初の行に要素数Nが指定され、次行のスペースで区切られた整数列を受け取る"
   ]
  },
  {
   "cell_type": "code",
   "execution_count": null,
   "metadata": {},
   "outputs": [],
   "source": [
    "# 5\n",
    "# 1 2 3 4 5\n",
    "N = int(input())\n",
    "integer_list = list(map(int, input().split()))"
   ]
  },
  {
   "cell_type": "markdown",
   "metadata": {},
   "source": [
    "例Dは、細かく書いていくと次のような処理を行っている。一行目で要素数を受け取りはするが、この中では使用されない。"
   ]
  },
  {
   "cell_type": "code",
   "execution_count": null,
   "metadata": {},
   "outputs": [],
   "source": [
    "N = int(input())\n",
    "input_string = input() # \"1 2 3 4 5\"\n",
    "splitted_string = input_string.split() # [\"1\", \"2\", \"3\", \"4\", \"5\"]\n",
    "map_object = map(int, splitted_string) # map_object(1, 2, 3, 4, 5)\n",
    "integer_list = list(map_object) # [1, 2, 3, 4, 5]"
   ]
  },
  {
   "cell_type": "markdown",
   "metadata": {},
   "source": [
    "```map()``` は関数とイテラブルを引数に取る少し特殊な関数で、大まかにいうと次のような感じの処理を行ってくれる。"
   ]
  },
  {
   "cell_type": "code",
   "execution_count": null,
   "metadata": {},
   "outputs": [],
   "source": [
    "# map(function, list)とした場合\n",
    "result = []\n",
    "for i in range(len(list1, list2, ...)):\n",
    "    result.append(function(list1[i], list2[i], ...))\n",
    "return result"
   ]
  },
  {
   "cell_type": "markdown",
   "metadata": {},
   "source": [
    "今回の例でいうと、リストの各要素（文字列）に ```int()``` を適用し、整数に変換してくれたものを取得できるということだ。```[a, b, c]```→```[int(a), int(b), int(c)]```といったイメージである。\n",
    "\n",
    "ただし、```map()``` の返り値は実はリストそのものではなく、```map object``` というちょっと特殊なイテラブルのため、そのままでは扱いにくい（特に、インデックスが使えない）。そこで、最後に ```list()``` を用いてリストに変換してやるようにする。"
   ]
  },
  {
   "cell_type": "markdown",
   "metadata": {},
   "source": [
    "### D': スペースで区切られた2つの整数N, Mを受け取る"
   ]
  },
  {
   "cell_type": "code",
   "execution_count": null,
   "metadata": {},
   "outputs": [],
   "source": [
    "# 3 4\n",
    "N, M = map(int, input().spilt())"
   ]
  },
  {
   "cell_type": "markdown",
   "metadata": {},
   "source": [
    "対して、複数の変数に一度に代入を行っている（アンパック代入と呼ばれる）例D'では、右辺の map object は自動的に展開（アンパック）されるため、```list()``` を使用する必要はない。もちろんリストに変換しても動作する。が、わずかに無駄な書き方ではある。"
   ]
  },
  {
   "cell_type": "markdown",
   "metadata": {},
   "source": [
    "### E: 最初に要素数Nが指定され、続くN行の整数を受け取る"
   ]
  },
  {
   "cell_type": "code",
   "execution_count": null,
   "metadata": {},
   "outputs": [],
   "source": [
    "# 3\n",
    "# 1\n",
    "# 2\n",
    "# 3\n",
    "N = int(input())\n",
    "integer_list = [int(input()) for _ in range(N)]"
   ]
  },
  {
   "cell_type": "markdown",
   "metadata": {},
   "source": [
    "例Eでは、リスト内包表記を使用している。この部分を、forを用いて分かりやすい形に書き下すと、次のようなものになる。"
   ]
  },
  {
   "cell_type": "code",
   "execution_count": null,
   "metadata": {},
   "outputs": [],
   "source": [
    "integer_list = []\n",
    "for i in range(M):\n",
    "    n = int(input())\n",
    "    integer_list.append(n)"
   ]
  },
  {
   "cell_type": "markdown",
   "metadata": {},
   "source": [
    "リスト内包表記は非常に強力で、また、慣れると書くのも早いので、是非覚えておきたい。"
   ]
  },
  {
   "cell_type": "markdown",
   "metadata": {},
   "source": [
    "### F: 最初に要素数N、行数Mが指定され、続くM行の整数列（要素数N）を受け取る"
   ]
  },
  {
   "cell_type": "code",
   "execution_count": null,
   "metadata": {},
   "outputs": [],
   "source": [
    "# 2 3\n",
    "# 1 2\n",
    "# 3 4\n",
    "# 5 6\n",
    "N, M = map(int, input().split())\n",
    "integer_matrix = [list(map(int, input().split())) for _ in range(M)]"
   ]
  },
  {
   "cell_type": "markdown",
   "metadata": {},
   "source": [
    "二次元リストを読み込む時は、この書き方が楽で早い。"
   ]
  },
  {
   "cell_type": "markdown",
   "metadata": {},
   "source": [
    "以上のパターンが理解できれば、これらを組み合わせることで、基本的な入力については問題なく取り扱えるだろう。"
   ]
  },
  {
   "cell_type": "markdown",
   "metadata": {},
   "source": [
    "[参考：名前の最初や最後にアンダースコア](./introduction_to_python_columns.ipynb#underscoreinnames)"
   ]
  },
  {
   "cell_type": "markdown",
   "metadata": {},
   "source": [
    "## フォーマット済み文字列リテラル (f-string)"
   ]
  },
  {
   "cell_type": "markdown",
   "metadata": {},
   "source": [
    "競技プログラミングではあまりないのだが、文字列の間に値を埋め込みたい時は、フォーマット済み文字列リテラルを利用する。 ```str.format()``` を利用する方法もあるのだが、同じことをするわりに、個人的にはこちらの方が圧倒的に分かりやすいので、紹介しない。\n",
    "\n",
    "文字列を作成する際に、最初のクォーテーションの前に ```f``` をつけるとフォーマット済み文字列リテラルとなり、文字列中に波括弧 ```{}``` で囲まれた式が現れると、それを評価し、中に埋め込んだ文字列を作成してくれる。"
   ]
  },
  {
   "cell_type": "code",
   "execution_count": 32,
   "metadata": {},
   "outputs": [
    {
     "name": "stdout",
     "output_type": "stream",
     "text": [
      "luckey number = 7, answer = 42\n"
     ]
    }
   ],
   "source": [
    "var1, var2 = 7, 42\n",
    "print(f'luckey number = {var1}, answer = {var2}')"
   ]
  },
  {
   "cell_type": "markdown",
   "metadata": {},
   "source": [
    "また、変数のあとに ```:``` から始まるフォーマット指定子を足すと、桁数揃えなどを行うことも出来る。競技プログラミングで使いそうなものをいくつか紹介しておく。"
   ]
  },
  {
   "cell_type": "markdown",
   "metadata": {},
   "source": [
    "### 幅揃え\n",
    "```:幅``` で、全体の幅を指定できる。足りない分はスペースで埋められるが、余っても切られたりはせず、普通に表示される。"
   ]
  },
  {
   "cell_type": "code",
   "execution_count": 33,
   "metadata": {},
   "outputs": [
    {
     "name": "stdout",
     "output_type": "stream",
     "text": [
      "|  10| 100|1000|10000|\n"
     ]
    }
   ],
   "source": [
    "v1, v2, v3, v4 = 10, 100, 1000, 10000\n",
    "\n",
    "print(f'|{v1:4}|{v2:4}|{v3:4}|{v4:4}|')"
   ]
  },
  {
   "cell_type": "markdown",
   "metadata": {},
   "source": [
    "### ゼロ埋め"
   ]
  },
  {
   "cell_type": "markdown",
   "metadata": {},
   "source": [
    "空いたスペースを ```0``` で埋めたい時は、幅指定の前に ```0``` を入れる。"
   ]
  },
  {
   "cell_type": "code",
   "execution_count": 34,
   "metadata": {},
   "outputs": [
    {
     "name": "stdout",
     "output_type": "stream",
     "text": [
      "|0010|0100|1000|10000|\n"
     ]
    }
   ],
   "source": [
    "v1, v2, v3, v4 = 10, 100, 1000, 10000\n",
    "\n",
    "print(f'|{v1:04}|{v2:04}|{v3:04}|{v4:04}|')"
   ]
  },
  {
   "cell_type": "markdown",
   "metadata": {},
   "source": [
    "### 小数の有効桁数"
   ]
  },
  {
   "cell_type": "markdown",
   "metadata": {},
   "source": [
    "小数で桁数を指定したい場合は、```.桁数f``` と書く。ちなみに、```.桁数e``` だと指数表示になる。幅指定と組み合わせることも出来る。"
   ]
  },
  {
   "cell_type": "code",
   "execution_count": 30,
   "metadata": {},
   "outputs": [
    {
     "name": "stdout",
     "output_type": "stream",
     "text": [
      "|  1.100| 22.220|333.333|4444.444|\n",
      "|1.100e+00|2.222e+01|3.333e+02|4.444e+03|\n"
     ]
    }
   ],
   "source": [
    "v1, v2, v3, v4 = 1.1, 22.22, 333.333, 4444.4444\n",
    "\n",
    "print(f'|{v1:7.3f}|{v2:7.3f}|{v3:7.3f}|{v4:7.3f}|')\n",
    "print(f'|{v1:7.3e}|{v2:7.3e}|{v3:7.3e}|{v4:7.3e}|')"
   ]
  },
  {
   "cell_type": "markdown",
   "metadata": {},
   "source": [
    "## key を用いたソートと、無名関数 (lambda式)"
   ]
  },
  {
   "cell_type": "markdown",
   "metadata": {},
   "source": [
    "```sort()``` は、キーワード引数 ```key``` を用いることで、より柔軟なソートを行うことができる。\n",
    "\n",
    "```key``` を指定すると、イテラブルの各値に対して指定された関数を適用した後、その適用後の値を元にソートを行う。少し ```map()``` に似た働きということもできる。\n",
    "\n",
    "具体的な例を見てみよう。\n",
    "\n",
    "いま、数値のペアのリストがあるとする。次のようなものだ。"
   ]
  },
  {
   "cell_type": "code",
   "execution_count": 5,
   "metadata": {},
   "outputs": [],
   "source": [
    "pair_list = [(2, 5), (1, 3), (8, -1), (4, 4), (0, 42)]"
   ]
  },
  {
   "cell_type": "markdown",
   "metadata": {},
   "source": [
    "これを、ペアの合計の数字でソートしたいときには、次のように書ける。"
   ]
  },
  {
   "cell_type": "code",
   "execution_count": 6,
   "metadata": {},
   "outputs": [
    {
     "name": "stdout",
     "output_type": "stream",
     "text": [
      "[(1, 3), (2, 5), (8, -1), (4, 4), (0, 42)]\n"
     ]
    }
   ],
   "source": [
    "pair_list.sort(key=sum)\n",
    "\n",
    "print(pair_list)"
   ]
  },
  {
   "cell_type": "markdown",
   "metadata": {},
   "source": [
    "これは、キーワード引数として ```sum``` を渡したことで、各要素に ```sum()``` が適用された結果だ。キーワード引数に渡すのは関数名であって、括弧がつかないことに注意してほしい。"
   ]
  },
  {
   "cell_type": "markdown",
   "metadata": {},
   "source": [
    "さて、もう少し複雑なことをしてみよう。\n",
    "\n",
    "今 タプル ```(商品名, 単価, 個数)``` を複数保存しているリストがあるとする。つまり、次のような購入履歴だ。"
   ]
  },
  {
   "cell_type": "code",
   "execution_count": 7,
   "metadata": {},
   "outputs": [],
   "source": [
    "bought = [('egg', 150, 5), ('spam', 500, 2), ('apple', 80, 6), ('rootbeer', 120, 8)]"
   ]
  },
  {
   "cell_type": "markdown",
   "metadata": {},
   "source": [
    "この購入履歴を、品目ごとの合計金額で高い順にソートしたい。つまり、単価と個数を掛けてやる必要がある。\n",
    "\n",
    "この場合、次のように自作の関数を作ってから、```sort()``` に引き渡してやることができる。"
   ]
  },
  {
   "cell_type": "code",
   "execution_count": 8,
   "metadata": {},
   "outputs": [
    {
     "name": "stdout",
     "output_type": "stream",
     "text": [
      "[('spam', 500, 2), ('rootbeer', 120, 8), ('egg', 150, 5), ('apple', 80, 6)]\n"
     ]
    }
   ],
   "source": [
    "def get_total(info):\n",
    "    price, num = info[1], info[2]\n",
    "    return price * num\n",
    "\n",
    "print(sorted(bought, key=get_total, reverse=True))"
   ]
  },
  {
   "cell_type": "markdown",
   "metadata": {},
   "source": [
    "もちろんこれでもいいのだが、このためだけに関数をわざわざ宣言するのは、少し面倒で野暮ったい。\n",
    "\n",
    "こういうときに、```無名関数 (lambda式)``` を用いると、すっきりと書くことができる。その名の通り、名前をつけないまま関数を記述する方法で、```lambda 引数: 戻り値``` のように書くことで、関数そのものを戻り値として返す。\n",
    "\n",
    "先程の例を、lambda を用いて書いてみよう。"
   ]
  },
  {
   "cell_type": "code",
   "execution_count": 15,
   "metadata": {},
   "outputs": [
    {
     "name": "stdout",
     "output_type": "stream",
     "text": [
      "[('spam', 500, 2), ('rootbeer', 120, 8), ('egg', 150, 5), ('apple', 80, 6)]\n"
     ]
    }
   ],
   "source": [
    "print(sorted(bought, key=lambda x: x[1] * x[2], reverse=True))"
   ]
  },
  {
   "cell_type": "markdown",
   "metadata": {},
   "source": [
    "引数を複数持たせたいときは、カンマで区切ればいい。 ```lambda x, y, z: x * y + z``` のような感じで書ける。\n",
    "\n",
    "```lambda``` で作られるのは、もちろん関数そのものなので、変数に代入すれば、その変数を関数として使用できる。つまり、ちょっとした関数を宣言したい時の代わりに使ったりもできる。"
   ]
  },
  {
   "cell_type": "code",
   "execution_count": 16,
   "metadata": {},
   "outputs": [
    {
     "name": "stdout",
     "output_type": "stream",
     "text": [
      "17\n"
     ]
    }
   ],
   "source": [
    "func = lambda x, y, z: x * y + z\n",
    "\n",
    "print(func(3, 5, 2))"
   ]
  },
  {
   "cell_type": "markdown",
   "metadata": {},
   "source": [
    "あるいは、そのまま関数として使用もできるが、この場合は明示的に括弧で囲ってやる。"
   ]
  },
  {
   "cell_type": "code",
   "execution_count": 17,
   "metadata": {},
   "outputs": [
    {
     "data": {
      "text/plain": [
       "17"
      ]
     },
     "execution_count": 17,
     "metadata": {},
     "output_type": "execute_result"
    }
   ],
   "source": [
    "(lambda x, y, z: x * y + z)(3, 5, 2)"
   ]
  },
  {
   "cell_type": "markdown",
   "metadata": {},
   "source": [
    "これを利用すると、例えば入力を (文字列, 数値) にバラしたい時に"
   ]
  },
  {
   "cell_type": "code",
   "execution_count": 22,
   "metadata": {},
   "outputs": [
    {
     "name": "stdout",
     "output_type": "stream",
     "text": [
      "3\n",
      "abc 1\n",
      "def 2\n",
      "ghi 3\n",
      "[('abc', 1), ('def', 2), ('ghi', 3)]\n"
     ]
    }
   ],
   "source": [
    "N = int(input())\n",
    "queries = [(lambda x:(x[0], int(x[1])))(input().split()) for _ in range(N)]\n",
    "\n",
    "print(queries)"
   ]
  },
  {
   "cell_type": "markdown",
   "metadata": {},
   "source": [
    "のように書けなくもない。が、さすがにやや分かりにくいかもしれない。"
   ]
  }
 ],
 "metadata": {
  "interpreter": {
   "hash": "9f9ba7b161bccba771f540edba679ac98f5aec5d74a22b4e92851bab405cc1b6"
  },
  "kernelspec": {
   "display_name": "Python 3",
   "language": "python",
   "name": "python3"
  },
  "language_info": {
   "codemirror_mode": {
    "name": "ipython",
    "version": 3
   },
   "file_extension": ".py",
   "mimetype": "text/x-python",
   "name": "python",
   "nbconvert_exporter": "python",
   "pygments_lexer": "ipython3",
   "version": "3.9.1"
  },
  "toc": {
   "base_numbering": 1,
   "nav_menu": {},
   "number_sections": true,
   "sideBar": true,
   "skip_h1_title": false,
   "title_cell": "Table of Contents",
   "title_sidebar": "Contents",
   "toc_cell": true,
   "toc_position": {},
   "toc_section_display": true,
   "toc_window_display": true
  }
 },
 "nbformat": 4,
 "nbformat_minor": 2
}
