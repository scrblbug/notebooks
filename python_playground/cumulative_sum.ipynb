{
 "cells": [
  {
   "cell_type": "markdown",
   "id": "veterinary-reality",
   "metadata": {},
   "source": [
    "# 累積和とその周辺"
   ]
  },
  {
   "cell_type": "markdown",
   "id": "fewer-establishment",
   "metadata": {},
   "source": [
    "# はじめに"
   ]
  },
  {
   "cell_type": "markdown",
   "id": "latest-museum",
   "metadata": {},
   "source": [
    "この文書では、累積和、及びその周辺のアルゴリズム・データ構造について解説を行う。\n",
    "\n",
    "累積和は、その内容自体は非常に簡単なものだが、非常に様々な問題においてあちらこちらに顔を出すので、重要なものでもある。\n",
    "\n",
    "まずは累積和の基本的な考え方、実際の構築の仕方と利用方法から話を始め、ちょうど累積和の逆ともいえる通称「いもす法」、座標圧縮との組み合わせ、二次元累積和などに話を広げていく予定となっている。"
   ]
  },
  {
   "cell_type": "markdown",
   "id": "understanding-canal",
   "metadata": {},
   "source": [
    "# 累積和の基本"
   ]
  },
  {
   "cell_type": "markdown",
   "id": "pressing-smell",
   "metadata": {},
   "source": [
    "## なぜ累積和を使うのか？"
   ]
  },
  {
   "cell_type": "markdown",
   "id": "indonesian-forestry",
   "metadata": {},
   "source": [
    "ある $N$ 個の整数の要素を持つ数列 $A: A_1, A_2, ... , A_N$ が存在する。例えば、具体的には次のようなものだ。"
   ]
  },
  {
   "cell_type": "markdown",
   "id": "simple-debate",
   "metadata": {},
   "source": [
    "$\n",
    "2, -5, 42, 9, -38, 24, 19, -57, 88, 67\n",
    "$"
   ]
  },
  {
   "cell_type": "markdown",
   "id": "designing-understanding",
   "metadata": {},
   "source": [
    "こういった感じの数列中の、連続した一部の合計を求めることを考える。具体的に、```sum_part()``` の形で関数を作成することにしよう。ややこしくならないように、0-indexedの半開放で定義しておく。すなわち、```sum_part(a, b)``` のとき、返ってくる値は部分和 $A_{a-1} + A_{a} + ... + A_{b-2} + A_{b-2}$ となる。\n",
    "\n",
    "また、あらかじめ $A$ はリストとして ```A``` に保存されているとする。"
   ]
  },
  {
   "cell_type": "code",
   "execution_count": 8,
   "id": "hearing-guitar",
   "metadata": {},
   "outputs": [],
   "source": [
    "A = [2, -5, 42, 9, -38, 24, 19, -57, 88, 67]"
   ]
  },
  {
   "cell_type": "markdown",
   "id": "veterinary-preference",
   "metadata": {},
   "source": [
    "さて、単純に要素を足し合わせるだけなので、もちろん次のように書ける。"
   ]
  },
  {
   "cell_type": "code",
   "execution_count": 9,
   "id": "suspended-louis",
   "metadata": {},
   "outputs": [
    {
     "name": "stdout",
     "output_type": "stream",
     "text": [
      "-5\n"
     ]
    }
   ],
   "source": [
    "def sum_part(a, b):\n",
    "    return sum(A[a:b])\n",
    "\n",
    "print(sum_part(3, 6))  # = 9 - 38 + 24"
   ]
  },
  {
   "cell_type": "markdown",
   "id": "neither-apple",
   "metadata": {},
   "source": [
    "一回こっきり部分和を計算するだけならば、この方法でなんの問題もない。ただ、何度もおなじ計算を要求されるようなケースでは、関数ごとに計算量が $O(N)$ となるこの方法では、問題がある。\n",
    "\n",
    "例えば、回答として $A_1, A_1+A_2, A_1+A_2+A_3 ... $ を全て求めよ、などと言われた場合はどうだろうか？上記のやり方だと計算量は $O(N^2)$ となり、$N \\le 10^4$ あたりから間に合わなくなってくる。\n",
    "\n",
    "いや、その場合は前から順番に足していって、その都度答えを出力すればいいだけじゃない？と思ったことだろう。まさに、それこそが累積和の本質でもある。"
   ]
  },
  {
   "cell_type": "markdown",
   "id": "mineral-motel",
   "metadata": {},
   "source": [
    "## 累積和を求める"
   ]
  },
  {
   "cell_type": "markdown",
   "id": "exceptional-senator",
   "metadata": {},
   "source": [
    "というわけで、さっそく累積和を使ってみよう。\n",
    "\n",
    "累積和自体は広い概念を指す言葉だが、競技プログラミングにおいて累積和を用いるというとき、多くの場合は、連続部分和を計算するために事前計算を行うことを指す。つまり、最初に次のようなものを計算する。"
   ]
  },
  {
   "cell_type": "markdown",
   "id": "miniature-tutorial",
   "metadata": {},
   "source": [
    "$\n",
    "[0, A_1, A_1+A_2, A_1+A_2+A_3, ... , \\sum_{i=1}^{N}A_i]\n",
    "$"
   ]
  },
  {
   "cell_type": "markdown",
   "id": "collect-tunnel",
   "metadata": {},
   "source": [
    "最初に 0 を入れているのは、後々都合がいいからだ。さっそく計算させてみよう。"
   ]
  },
  {
   "cell_type": "code",
   "execution_count": 12,
   "id": "studied-lindsay",
   "metadata": {},
   "outputs": [
    {
     "name": "stdout",
     "output_type": "stream",
     "text": [
      "[0, 2, -3, 39, 48, 10, 34, 53, -4, 84, 151]\n"
     ]
    }
   ],
   "source": [
    "N = len(A)\n",
    "cum_sum = [0] * (N+1)\n",
    "tmp = 0\n",
    "for i in range(N):\n",
    "    tmp += A[i]\n",
    "    cum_sum[i+1] = tmp\n",
    "\n",
    "print(cum_sum)"
   ]
  },
  {
   "cell_type": "markdown",
   "id": "increased-contemporary",
   "metadata": {},
   "source": []
  }
 ],
 "metadata": {
  "kernelspec": {
   "display_name": "Python 3",
   "language": "python",
   "name": "python3"
  },
  "language_info": {
   "codemirror_mode": {
    "name": "ipython",
    "version": 3
   },
   "file_extension": ".py",
   "mimetype": "text/x-python",
   "name": "python",
   "nbconvert_exporter": "python",
   "pygments_lexer": "ipython3",
   "version": "3.9.1"
  },
  "toc": {
   "base_numbering": 1,
   "nav_menu": {},
   "number_sections": true,
   "sideBar": true,
   "skip_h1_title": false,
   "title_cell": "Table of Contents",
   "title_sidebar": "Contents",
   "toc_cell": false,
   "toc_position": {},
   "toc_section_display": true,
   "toc_window_display": false
  }
 },
 "nbformat": 4,
 "nbformat_minor": 5
}
