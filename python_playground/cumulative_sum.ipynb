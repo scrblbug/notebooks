{
 "cells": [
  {
   "cell_type": "markdown",
   "id": "veterinary-reality",
   "metadata": {},
   "source": [
    "# 累積和とその周辺"
   ]
  },
  {
   "cell_type": "markdown",
   "id": "fewer-establishment",
   "metadata": {},
   "source": [
    "# はじめに"
   ]
  },
  {
   "cell_type": "markdown",
   "id": "latest-museum",
   "metadata": {},
   "source": [
    "この文書では、累積和、及びその周辺のアルゴリズム・データ構造について解説を行う。\n",
    "\n",
    "累積和は、その内容自体は非常に簡単なものだが、非常に様々な問題においてあちらこちらに顔を出すので、重要なものでもある。\n",
    "\n",
    "まずは累積和の基本的な考え方、実際の構築の仕方と利用方法から話を始め、ちょうど累積和の逆ともいえる通称「いもす法」、座標圧縮との組み合わせ、二次元累積和などに話を広げていく予定となっている。"
   ]
  },
  {
   "cell_type": "markdown",
   "id": "understanding-canal",
   "metadata": {},
   "source": [
    "# 累積和の基本"
   ]
  },
  {
   "cell_type": "markdown",
   "id": "pressing-smell",
   "metadata": {},
   "source": [
    "## なぜ累積和を使うのか？"
   ]
  },
  {
   "cell_type": "markdown",
   "id": "indonesian-forestry",
   "metadata": {},
   "source": [
    "ある $N$ 個の整数の要素を持つ数列 $A: A_1, A_2, ... , A_N$ があるとする。例えば、具体的には次のようなものだ。"
   ]
  },
  {
   "cell_type": "markdown",
   "id": "simple-debate",
   "metadata": {},
   "source": [
    "$\n",
    "2, -5, 42, 9, -38, 24, 19, -57, 88, 67\n",
    "$"
   ]
  },
  {
   "cell_type": "markdown",
   "id": "designing-understanding",
   "metadata": {},
   "source": [
    "こういった感じの数列中の、連続した一部の合計、つまり連続部分和を求めることを考える。具体的に、```sum_part()``` の形で関数を作成することにしよう。ややこしくならないように、0-indexedの半開放で定義しておく。すなわち、```sum_part(a, b)``` のとき、返ってくる値は部分和 $A_{a-1} + A_{a} + ... + A_{b-2} + A_{b-2}$ とする。\n",
    "\n",
    "また、あらかじめ $A$ はリストとして ```A``` に保存されているものとする。"
   ]
  },
  {
   "cell_type": "code",
   "execution_count": 1,
   "id": "hearing-guitar",
   "metadata": {},
   "outputs": [],
   "source": [
    "A = [2, -5, 42, 9, -38, 24, 19, -57, 88, 67]"
   ]
  },
  {
   "cell_type": "markdown",
   "id": "veterinary-preference",
   "metadata": {},
   "source": [
    "さて、単純に要素を足し合わせるだけなので、もちろん次のように書ける。"
   ]
  },
  {
   "cell_type": "code",
   "execution_count": 2,
   "id": "suspended-louis",
   "metadata": {},
   "outputs": [
    {
     "name": "stdout",
     "output_type": "stream",
     "text": [
      "-5\n"
     ]
    }
   ],
   "source": [
    "def sum_part(a, b):\n",
    "    return sum(A[a:b])\n",
    "\n",
    "print(sum_part(3, 6))  # = 9 - 38 + 24"
   ]
  },
  {
   "cell_type": "markdown",
   "id": "neither-apple",
   "metadata": {},
   "source": [
    "一回こっきり部分和を計算するだけならば、この方法でなんの問題もない。ただ、何度もおなじ計算を要求されるようなケースでは、関数ごとに計算量が $O(N)$ となるこの方法では、問題がある。\n",
    "\n",
    "例えば、回答として $A_1, A_1+A_2, A_1+A_2+A_3 ... $ を全て求めよ、などと言われた場合はどうだろうか？上記のやり方だと計算量は $O(N^2)$ となり、$N \\le 10^4$ あたりから間に合わなくなってくる。\n",
    "\n",
    "……いや、でも、その場合は前から順番に足していって、その都度答えを出力すればいいだけじゃない？と思ったことだろう。  \n",
    "まさに、それこそが累積和である。"
   ]
  },
  {
   "cell_type": "markdown",
   "id": "mineral-motel",
   "metadata": {},
   "source": [
    "## 累積和を求める"
   ]
  },
  {
   "cell_type": "markdown",
   "id": "exceptional-senator",
   "metadata": {},
   "source": [
    "というわけで、さっそく累積和を使ってみよう。\n",
    "\n",
    "累積和自体は広い概念を指す言葉だが、競技プログラミングにおいて累積和を用いるというとき、多くの場合は、連続部分和を計算するために事前計算を行うことを指す。つまり、最初に次のようなものを計算する。"
   ]
  },
  {
   "cell_type": "markdown",
   "id": "miniature-tutorial",
   "metadata": {},
   "source": [
    "$\n",
    "[0, A_1, A_1+A_2, A_1+A_2+A_3, ... , \\sum_{i=1}^{N}A_i]\n",
    "$"
   ]
  },
  {
   "cell_type": "markdown",
   "id": "collect-tunnel",
   "metadata": {},
   "source": [
    "最初に 0 を入れているのは、後で都合がいいからだ。さっそく計算させてみよう。"
   ]
  },
  {
   "cell_type": "code",
   "execution_count": 7,
   "id": "studied-lindsay",
   "metadata": {},
   "outputs": [
    {
     "name": "stdout",
     "output_type": "stream",
     "text": [
      "[0, 2, -3, 39, 48, 10, 34, 53, -4, 84, 151]\n"
     ]
    }
   ],
   "source": [
    "N = len(A)\n",
    "cum_sum = [0] * (N+1)  # 累積和を保存していく\n",
    "\n",
    "tmp = 0  # 現在の累積和を管理\n",
    "\n",
    "for i in range(N):\n",
    "    tmp += A[i]\n",
    "    cum_sum[i+1] = tmp\n",
    "\n",
    "print(cum_sum)"
   ]
  },
  {
   "cell_type": "markdown",
   "id": "increased-contemporary",
   "metadata": {},
   "source": [
    "ちなみに、実は Python には累積和を自動的に求めてくれる ```itertools``` ライブラリの関数 ```accumulate``` が存在している。使用するためには、もちろんインポートする必要がある。\n",
    "\n",
    "```itertools.accumulate``` は、キーワード引数 ```func``` で行う計算を柔軟に変更したり、```initial``` で初期値を設定したりもできる便利な関数だ。さっきの例なら、こう書ける。"
   ]
  },
  {
   "cell_type": "code",
   "execution_count": 6,
   "id": "practical-wagon",
   "metadata": {},
   "outputs": [
    {
     "name": "stdout",
     "output_type": "stream",
     "text": [
      "<itertools.accumulate object at 0x0000018A60D252C0>\n",
      "[0, 2, -3, 39, 48, 10, 34, 53, -4, 84, 151]\n"
     ]
    }
   ],
   "source": [
    "from itertools import accumulate\n",
    "N = len(A)\n",
    "cum_sum = accumulate(A, initial=0)\n",
    "print(cum_sum)\n",
    "print(list(cum_sum))"
   ]
  },
  {
   "cell_type": "markdown",
   "id": "massive-behavior",
   "metadata": {},
   "source": [
    "見ての通り返ってくるのはイテレータなので、添字を利用するならリストに変換する必要がある。\n",
    "\n",
    "こちらを使用するほうが便利なのだが、個人的には自分で書くことが多い。"
   ]
  },
  {
   "cell_type": "markdown",
   "id": "accessory-telling",
   "metadata": {},
   "source": [
    "さて、いずれにせよ、こうして得られた数列がなぜ便利なのかというと、連続部分和を素早く計算できるからだ。\n",
    "\n",
    "例えば、$A_3+A_4+A_5$ を計算したいとする。これは、$A_1+A_2+A_3+A_4+A_5$ から、$A_1+A_2$ を引いたものに等しくなる。この計算を一般化することにより、あらゆる連続部分和を $O(1)$ で計算できるようになる。\n",
    "\n",
    "というわけで、最初に書いた ```sum_part()``` を書き直してみよう。"
   ]
  },
  {
   "cell_type": "code",
   "execution_count": 9,
   "id": "infectious-appliance",
   "metadata": {},
   "outputs": [
    {
     "data": {
      "text/plain": [
       "-5"
      ]
     },
     "execution_count": 9,
     "metadata": {},
     "output_type": "execute_result"
    }
   ],
   "source": [
    "csum_A = [0] * (N+1)\n",
    "tmp = 0\n",
    "for i in range(N):\n",
    "    tmp += A[i]\n",
    "    csum_A[i+1] = tmp\n",
    "\n",
    "def sum_part(a, b):\n",
    "    return csum_A[b] - csum_A[a]\n",
    "\n",
    "sum_part(3, 6)"
   ]
  },
  {
   "cell_type": "markdown",
   "id": "casual-milwaukee",
   "metadata": {},
   "source": [
    "# いもす法"
   ]
  },
  {
   "cell_type": "markdown",
   "id": "tamil-minister",
   "metadata": {},
   "source": []
  }
 ],
 "metadata": {
  "kernelspec": {
   "display_name": "Python 3",
   "language": "python",
   "name": "python3"
  },
  "language_info": {
   "codemirror_mode": {
    "name": "ipython",
    "version": 3
   },
   "file_extension": ".py",
   "mimetype": "text/x-python",
   "name": "python",
   "nbconvert_exporter": "python",
   "pygments_lexer": "ipython3",
   "version": "3.9.1"
  },
  "toc": {
   "base_numbering": 1,
   "nav_menu": {},
   "number_sections": true,
   "sideBar": true,
   "skip_h1_title": false,
   "title_cell": "Table of Contents",
   "title_sidebar": "Contents",
   "toc_cell": false,
   "toc_position": {},
   "toc_section_display": true,
   "toc_window_display": true
  }
 },
 "nbformat": 4,
 "nbformat_minor": 5
}
