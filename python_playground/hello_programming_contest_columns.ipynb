{
 "cells": [
  {
   "cell_type": "markdown",
   "source": [
    "# 余談・補足事項"
   ],
   "metadata": {}
  },
  {
   "cell_type": "markdown",
   "source": [
    "ここには、本文中に含めるほどではない余談や、本文中に含めるには煩雑になりすぎる説明、各種用語の簡易な説明などを含めてある。\r\n",
    "\r\n",
    "無駄な豆知識だったり、後日もう少し高度な内容を学習することになった際の基礎的な知識として役立ててもらいたい。"
   ],
   "metadata": {}
  },
  {
   "cell_type": "markdown",
   "source": [
    "## 目次"
   ],
   "metadata": {}
  },
  {
   "cell_type": "markdown",
   "source": [
    "<a id=\"helloworld\"></a>\r\n",
    "#### Hello, World! について"
   ],
   "metadata": {}
  },
  {
   "cell_type": "markdown",
   "source": [
    "\"Hello, World!\" と出力するのがプログラミングの第一歩とか、誰が決めたの？とか思ってしまうが、おそらく Brian Kernigham （ブライアン・カーニハン）だと言われている。彼が書いた1972年の \"A Tutorial Introduction to the Language B\" の中にその原型があるらしい。\r\n",
    "\r\n",
    "もっとも、世界中に広まったきっかけは、そのもう少し後の、1978年に出版された \"The C Programming Language\"（邦題「プログラミング言語C」）だろう。\r\n",
    "\r\n",
    "C言語の開発者 Dennis MacAlistair Ritchie （デニス・リッチー）と Brian Kernigham の共著によるこの超有名な本は、2人の頭文字をとって \"K&R\" とも呼称される。\r\n",
    "\r\n",
    "厳密には、Hello World はプログラミング学習の第一歩というわけではなく、「あるプログラミング言語がシステム上で正しく動作するかどうかを確認する」第一歩といえる。\r\n",
    "\r\n",
    "書かれた内容の解析をし、それを標準出力へと出力する背後には、見た目の内容よりも遥かに多くの内部処理が関わっている。それらが正常に動作しているかどうかを確認する作業というわけだ。"
   ],
   "metadata": {}
  },
  {
   "cell_type": "markdown",
   "source": [
    "<a id=\"stdinout\"></a>\r\n",
    "#### 標準入出力とは"
   ],
   "metadata": {}
  },
  {
   "cell_type": "markdown",
   "source": [
    "標準入力はキーボードからの入力で、標準出力はモニターへの表示……みたいに説明されることが多い。が、現在言うところの標準入出力は、もう少し抽象的な概念となっている。\r\n",
    "\r\n",
    "プログラミングが実行される時、システムにあらかじめ用意された、一般的に使用される入出力は \"3つ\" ある。それらが標準入力、標準出力、標準エラー出力だ。これらをまとめて標準入出力とよび、そして、なにも指定が無い場合、標準入力はキーボードからの入力を受け付け、標準出力と標準エラー出力はモニターへの出力を行う……という仕組みになっている。\r\n",
    "\r\n",
    "我々が普段実行エラーなどで怒られている時、画面上にいろいろと内容が出るわけだが、あれは標準出力ではなく、実は標準エラー出力が表示されているのである。\r\n",
    "\r\n",
    "さて、ではキーボードや画面の他に、どうやって標準入出力を利用するねん、という話になるわけだが、簡単なところでは、パイプやリダイレクトと呼ばれる機能を用いて行うことが出来る。\r\n",
    "\r\n",
    "例えば Windows であれば、\r\n",
    "\r\n",
    "```type ./input.txt | python ./main.py > ./output.txt 2> error.log```\r\n",
    "\r\n",
    "といった形で利用できる。このコマンドが実行される流れは、以下のようになる。\r\n",
    "\r\n",
    "1. まず ```type ./input.txt``` により、現在いるところ（```./``` で表され、カレントディレクトリと呼ばれる）にある input.txt の内容が、標準出力へと出力される。\r\n",
    "2. その標準出力（```input.txt``` の内容）は、次にある ```|``` によって、```python ./main.py``` へと引き渡される。これをパイプと呼ぶ。\r\n",
    "3. ```python ./main.py``` によって ```main.py``` が Python として実行される。その際には前述の ```input.txt``` の内容が標準入力に入る。\r\n",
    "4. ```main.py``` の実行による標準出力は、次にある ```>``` によって、モニターへは表示されず、ファイル ```output.txt``` へ書き込まれる。これをリダイレクトと呼ぶ。\r\n",
    "5. ```2>``` の指定は、標準エラー出力のリダイレクトを表す。つまり、標準エラー出力があれば、```error.log``` への書き込みを行う。\r\n",
    "\r\n",
    "以上のように、標準入出力を利用して、入出力を次々につなげた処理を行うことが出来るというわけだ。\r\n",
    "\r\n",
    "ちなみに、Python においては、\r\n",
    "\r\n",
    "```print(\"foobar\", file=sys.stderr)```\r\n",
    "\r\n",
    "と書くことで標準エラー出力へ出力することが出来る。"
   ],
   "metadata": {}
  },
  {
   "cell_type": "markdown",
   "source": [
    "<a id=\"sideeffect\"></a>\r\n",
    "関数の副作用とは"
   ],
   "metadata": {}
  },
  {
   "cell_type": "markdown",
   "source": [
    "関数を単純にいうならば、引数を入力として受け取り、戻り値を出力として返すブラックボックスのようなものだと言える。\r\n",
    "\r\n",
    "しかし、関数の中には、戻り値を返す以外にほかの影響を及ぼすものがある。そうした他の影響のことを、関数の副作用、と呼ぶ。例えば、print() は標準出力へと出力を行うが、これは副作用である。\r\n",
    "\r\n",
    "副作用という用語は、Python にとどまらない、プログラミング全般における広い概念の言葉であり、しばしばその是非そのものが議論されたりもする。副作用を可能な限り廃したプログラミングの手法として、関数的プログラミングがある。"
   ],
   "metadata": {}
  },
  {
   "cell_type": "markdown",
   "source": [
    "<a id=\"whydatatypesneeded\"></a>\r\n",
    "#### 型とか考える必要あるの？"
   ],
   "metadata": {}
  },
  {
   "cell_type": "markdown",
   "source": [
    "答えとしては、型を考える必要は、ある。それは、ある値に演算を行う際に、型を分かっていないと、意図した演算にならないことがあるためだ。極端な例を出そう。次の足し算 3種類を見てほしい。"
   ],
   "metadata": {}
  },
  {
   "cell_type": "code",
   "execution_count": 1,
   "source": [
    "print(1 + 2)"
   ],
   "outputs": [
    {
     "output_type": "stream",
     "name": "stdout",
     "text": [
      "3\n"
     ]
    }
   ],
   "metadata": {}
  },
  {
   "cell_type": "code",
   "execution_count": 2,
   "source": [
    "print(\"1\" + \"2\")"
   ],
   "outputs": [
    {
     "output_type": "stream",
     "name": "stdout",
     "text": [
      "12\n"
     ]
    }
   ],
   "metadata": {}
  },
  {
   "cell_type": "code",
   "execution_count": 3,
   "source": [
    "print(1 + \"2\")"
   ],
   "outputs": [
    {
     "output_type": "error",
     "ename": "TypeError",
     "evalue": "unsupported operand type(s) for +: 'int' and 'str'",
     "traceback": [
      "\u001b[1;31m---------------------------------------------------------------------------\u001b[0m",
      "\u001b[1;31mTypeError\u001b[0m                                 Traceback (most recent call last)",
      "\u001b[1;32m<ipython-input-3-f5a1f3a83b1d>\u001b[0m in \u001b[0;36m<module>\u001b[1;34m\u001b[0m\n\u001b[1;32m----> 1\u001b[1;33m \u001b[0mprint\u001b[0m\u001b[1;33m(\u001b[0m\u001b[1;36m1\u001b[0m \u001b[1;33m+\u001b[0m \u001b[1;34m\"2\"\u001b[0m\u001b[1;33m)\u001b[0m\u001b[1;33m\u001b[0m\u001b[1;33m\u001b[0m\u001b[0m\n\u001b[0m",
      "\u001b[1;31mTypeError\u001b[0m: unsupported operand type(s) for +: 'int' and 'str'"
     ]
    }
   ],
   "metadata": {}
  },
  {
   "cell_type": "markdown",
   "source": [
    "1.は数値同士の足し算なので、```3``` になる。2.は文字列同士の足し算なので、```\"12\"``` になる。3.は足し算のできない型の組み合わせなので、エラーが出ている。\r\n",
    "\r\n",
    "このような挙動を理解するためには、やはり必要最低限の理解は必要なのではないだろうか。"
   ],
   "metadata": {}
  },
  {
   "cell_type": "markdown",
   "source": [],
   "metadata": {}
  }
 ],
 "metadata": {
  "orig_nbformat": 4,
  "language_info": {
   "name": "python",
   "version": "3.9.1",
   "mimetype": "text/x-python",
   "codemirror_mode": {
    "name": "ipython",
    "version": 3
   },
   "pygments_lexer": "ipython3",
   "nbconvert_exporter": "python",
   "file_extension": ".py"
  },
  "kernelspec": {
   "name": "python3",
   "display_name": "Python 3.9.1 64-bit"
  },
  "interpreter": {
   "hash": "9f9ba7b161bccba771f540edba679ac98f5aec5d74a22b4e92851bab405cc1b6"
  }
 },
 "nbformat": 4,
 "nbformat_minor": 2
}