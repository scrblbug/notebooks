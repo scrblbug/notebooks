{
 "cells": [
  {
   "cell_type": "markdown",
   "id": "placed-excitement",
   "metadata": {
    "toc": true
   },
   "source": [
    "<h1>Table of Contents<span class=\"tocSkip\"></span></h1>\n",
    "<div class=\"toc\"><ul class=\"toc-item\"><li><span><a href=\"#ビット演算及び-bit全探索\" data-toc-modified-id=\"ビット演算及び-bit全探索-0\"><span class=\"toc-item-num\">0&nbsp;&nbsp;</span>ビット演算及び bit全探索</a></span></li><li><span><a href=\"#はじめに\" data-toc-modified-id=\"はじめに-1\"><span class=\"toc-item-num\">1&nbsp;&nbsp;</span>はじめに</a></span></li><li><span><a href=\"#ビット演算\" data-toc-modified-id=\"ビット演算-2\"><span class=\"toc-item-num\">2&nbsp;&nbsp;</span>ビット演算</a></span><ul class=\"toc-item\"><li><span><a href=\"#そもそもビットって何？\" data-toc-modified-id=\"そもそもビットって何？-2.1\"><span class=\"toc-item-num\">2.1&nbsp;&nbsp;</span>そもそもビットって何？</a></span></li><li><span><a href=\"#プログラム上のビット表現\" data-toc-modified-id=\"プログラム上のビット表現-2.2\"><span class=\"toc-item-num\">2.2&nbsp;&nbsp;</span>プログラム上のビット表現</a></span></li><li><span><a href=\"#ビット演算とは\" data-toc-modified-id=\"ビット演算とは-2.3\"><span class=\"toc-item-num\">2.3&nbsp;&nbsp;</span>ビット演算とは</a></span><ul class=\"toc-item\"><li><span><a href=\"#&amp;-(and)-、|-(or)-、^-(xor)\" data-toc-modified-id=\"&amp;-(and)-、|-(or)-、^-(xor)-2.3.1\"><span class=\"toc-item-num\">2.3.1&nbsp;&nbsp;</span>&amp; (and) 、| (or) 、^ (xor)</a></span></li><li><span><a href=\"#~-(not)\" data-toc-modified-id=\"~-(not)-2.3.2\"><span class=\"toc-item-num\">2.3.2&nbsp;&nbsp;</span>~ (not)</a></span></li><li><span><a href=\"#<<（左シフト）、>>（右シフト）\" data-toc-modified-id=\"<<（左シフト）、>>（右シフト）-2.3.3\"><span class=\"toc-item-num\">2.3.3&nbsp;&nbsp;</span>&lt;&lt;（左シフト）、&gt;&gt;（右シフト）</a></span></li></ul></li><li><span><a href=\"#ビット演算の例\" data-toc-modified-id=\"ビット演算の例-2.4\"><span class=\"toc-item-num\">2.4&nbsp;&nbsp;</span>ビット演算の例</a></span><ul class=\"toc-item\"><li><span><a href=\"#var-&amp;-1\" data-toc-modified-id=\"var-&amp;-1-2.4.1\"><span class=\"toc-item-num\">2.4.1&nbsp;&nbsp;</span>var &amp; 1</a></span></li><li><span><a href=\"#var->>-n-&amp;-1-もしくは-var-&amp;-1-<<-n\" data-toc-modified-id=\"var->>-n-&amp;-1-もしくは-var-&amp;-1-<<-n-2.4.2\"><span class=\"toc-item-num\">2.4.2&nbsp;&nbsp;</span>var &gt;&gt; n &amp; 1 もしくは var &amp; 1 &lt;&lt; n</a></span></li><li><span><a href=\"#var-^-1-<<-n\" data-toc-modified-id=\"var-^-1-<<-n-2.4.3\"><span class=\"toc-item-num\">2.4.3&nbsp;&nbsp;</span>var ^ 1 &lt;&lt; n</a></span></li><li><span><a href=\"#var-|-1-<<-n\" data-toc-modified-id=\"var-|-1-<<-n-2.4.4\"><span class=\"toc-item-num\">2.4.4&nbsp;&nbsp;</span>var | 1 &lt;&lt; n</a></span></li><li><span><a href=\"#var-&amp;-~(1-<<-n)\" data-toc-modified-id=\"var-&amp;-~(1-<<-n)-2.4.5\"><span class=\"toc-item-num\">2.4.5&nbsp;&nbsp;</span>var &amp; ~(1 &lt;&lt; n)</a></span></li><li><span><a href=\"#cond-&amp;-var-==-cond\" data-toc-modified-id=\"cond-&amp;-var-==-cond-2.4.6\"><span class=\"toc-item-num\">2.4.6&nbsp;&nbsp;</span>cond &amp; var == cond</a></span></li><li><span><a href=\"#var-&amp;--var\" data-toc-modified-id=\"var-&amp;--var-2.4.7\"><span class=\"toc-item-num\">2.4.7&nbsp;&nbsp;</span>var &amp; -var</a></span></li><li><span><a href=\"#bit_length()\" data-toc-modified-id=\"bit_length()-2.4.8\"><span class=\"toc-item-num\">2.4.8&nbsp;&nbsp;</span>bit_length()</a></span></li><li><span><a href=\"#popcount-について\" data-toc-modified-id=\"popcount-について-2.4.9\"><span class=\"toc-item-num\">2.4.9&nbsp;&nbsp;</span>popcount について</a></span></li></ul></li></ul></li><li><span><a href=\"#bit全探索\" data-toc-modified-id=\"bit全探索-3\"><span class=\"toc-item-num\">3&nbsp;&nbsp;</span>bit全探索</a></span><ul class=\"toc-item\"><li><span><a href=\"#bit全探索とは\" data-toc-modified-id=\"bit全探索とは-3.1\"><span class=\"toc-item-num\">3.1&nbsp;&nbsp;</span>bit全探索とは</a></span></li><li><span><a href=\"#他の手法では？\" data-toc-modified-id=\"他の手法では？-3.2\"><span class=\"toc-item-num\">3.2&nbsp;&nbsp;</span>他の手法では？</a></span></li><li><span><a href=\"#bit全探索の手法\" data-toc-modified-id=\"bit全探索の手法-3.3\"><span class=\"toc-item-num\">3.3&nbsp;&nbsp;</span>bit全探索の手法</a></span></li></ul></li><li><span><a href=\"#bit全探索を用いる問題\" data-toc-modified-id=\"bit全探索を用いる問題-4\"><span class=\"toc-item-num\">4&nbsp;&nbsp;</span>bit全探索を用いる問題</a></span></li></ul></div>"
   ]
  },
  {
   "cell_type": "markdown",
   "id": "broken-tucson",
   "metadata": {},
   "source": [
    "# ビット演算及び bit全探索"
   ]
  },
  {
   "cell_type": "markdown",
   "id": "unavailable-anime",
   "metadata": {},
   "source": [
    "# はじめに"
   ]
  },
  {
   "cell_type": "markdown",
   "id": "identified-battle",
   "metadata": {},
   "source": [
    "この文書では、基本的なビット演算と、bit全探索 (brute force with bitmask) と呼ばれる手法について解説する。\n",
    "\n",
    "ビット演算というと身構えてしまうが、その内容自体は非常に簡単なものだ。もっとも、簡単といっても、その利用法は非常に奥深い。考えてみれば、コンピュータ内の演算は、全てこのビット演算を元にしているわけでもあるから、奥深いのは当たり前ではある。\n",
    "\n",
    "とはいえ、競技プログラミング、特に初級においてはそこまで難しいものは必要ない。ごく基礎的な話と、よく使う演算をいくつか紹介するに留める。\n",
    "\n",
    "ビット演算の基礎が終わったところで、次に bit全探索と呼ばれる全探索の手法を説明する。この手法は、必須というわけではないが、知っていると非常に楽に書ける。初めて見る人にとっては何が起こってるかよく分からないと思うので、なるべく順を追って平易に書いてみようと思う。"
   ]
  },
  {
   "cell_type": "markdown",
   "id": "moral-halloween",
   "metadata": {},
   "source": [
    "# ビット演算"
   ]
  },
  {
   "cell_type": "markdown",
   "id": "exterior-instrumentation",
   "metadata": {},
   "source": [
    "## そもそもビットって何？"
   ]
  },
  {
   "cell_type": "markdown",
   "id": "cognitive-nickname",
   "metadata": {},
   "source": [
    "コンピュータが、内部的には 0 と 1 で全てを表しているという話は、どこかで聞いたことがあるだろう。その最小単位、つまり 0 もしくは 1 となる一つ分の場所のことを、```ビット``` (bit) と呼ぶ。また、このビットの並びのことを ```ビット列``` と呼ぶ。\n",
    "\n",
    "1ビットで表すことができる状態は、当然 1 or 0 の二通りである。2ビットになると 00, 01, 10, 11 の四通りの状態を表せる。  \n",
    "このように、一般的に $n$ビットのビット列が表すことができるのは、$2^n$ 通りの状態ということになる。\n",
    "\n",
    "ビットの情報を書き起こすときには、いちいち 1001101 ……などと書くのが面倒なので、通常は 4ビット、あるいは8ビットごとにまとめて書くことが多い。4 ビットの情報では、$2^4=16$ 通りの状態を表すことができる。そこで用いられるのが、16進数というわけだ。\n",
    "\n",
    "4ビットの情報を、順に書くと 0000 / 0001 / 0010 / 0011 / 0100 / 0101 / 0110 / 0111 / 1000 / 1001 / 1010 / 1011 / 1100 / 1101 / 1110 / 1111 の16種類だ。これを二進数としてみた時、それぞれの（十進数としての）値は 0 ～ 15 となる。16進数表記では、10 ～ 15 の数は A ～ F のアルファベットとして表される。つまり、それぞれ 16進数なら 0 ～ F となる。\n",
    "\n",
    "仮に 8ビット分の情報が 11111111 だとしたとき、これは十進数としての解釈は 255 であり、16進数なら FF ということになる。\n",
    "\n",
    "これらの数値の混同を避けるため、一般的に二進数なら頭に ```0b``` 、16進数なら頭に ```0x``` とつけて数値を書く。2021年現在、僕のTwitterプロフィールには「0x20代」と書いてあるが、これは十進数でいうところの「32～47歳」の意味になる。自分で書いてて少し虚しくなってきた。\n",
    "\n",
    "ちなみに、8ビットのことを 1バイト (byte) と呼ぶ。メモリ容量などで使われる単位は、ここから来ている。"
   ]
  },
  {
   "cell_type": "markdown",
   "id": "banner-continent",
   "metadata": {},
   "source": [
    "## プログラム上のビット表現"
   ]
  },
  {
   "cell_type": "markdown",
   "id": "valued-measurement",
   "metadata": {},
   "source": [
    "プログラム上は、ビット列は整数によって表現する。例えば数値で 42 と書けば、これは二進数では 0b101010 となるので、```101010``` というビット列と同じとみなされる。もっと言うと、プログラム上ではビット列と整数とは同値であり、基本的には区別されない。\n",
    "\n",
    "整数からビット列を確認するためには、```bin()``` を用いるのが簡単だろう。```bin()``` は、与えられた整数を二進数表現にした文字列を返す関数だ。"
   ]
  },
  {
   "cell_type": "code",
   "execution_count": 2,
   "id": "critical-arena",
   "metadata": {},
   "outputs": [
    {
     "name": "stdout",
     "output_type": "stream",
     "text": [
      "0b101010\n"
     ]
    }
   ],
   "source": [
    "print(bin(42))"
   ]
  },
  {
   "cell_type": "markdown",
   "id": "demographic-caution",
   "metadata": {},
   "source": [
    "逆にビット列から整数を得るには、頭に ```0b``` をつけた数値表現を使用するか、```int()``` の引数に二進数の文字列を引き渡し、2つ目の引数（何進数なのかを指定できる）に ```2``` を指定してやるといい。与えられた文字列を二進数として解釈して、数値を戻してくれる。"
   ]
  },
  {
   "cell_type": "code",
   "execution_count": 4,
   "id": "sustainable-removal",
   "metadata": {},
   "outputs": [
    {
     "name": "stdout",
     "output_type": "stream",
     "text": [
      "42\n",
      "42\n"
     ]
    }
   ],
   "source": [
    "print(0b101010)\n",
    "print(int('101010', 2))"
   ]
  },
  {
   "cell_type": "markdown",
   "id": "forbidden-buddy",
   "metadata": {},
   "source": [
    "少しややこしいというか、Pythonにおいて独特の表現になっているのが、負数の表現である。\n",
    "\n",
    "これには、まずは C / C++ などにおける、つまり一般的な負数の表現方法を知る必要がある。\n",
    "\n",
    "一般的には、整数の値を保持するときには、まずその保存するサイズを決めることになる。現在では多くが 32ビット、もしくは 64ビットとなっている。ここでは、書くのが面倒くさいので小さめにし、仮に 8ビットとしておく。\n",
    "\n",
    "8ビットの表現は、00000000 ～ 11111111 の256通りとなる。\n",
    "\n",
    "さて、ここで少し考えてみてほしいのだが、十進数の 0 は、```00000000``` となるわけだが、-1 はどのように表現すればいいだろうか？  \n",
    "実は、一般的には ```11111111``` と表現される。つまり、存在しない桁の数字 ```100000000``` から引くようなイメージである。これは $2^n$ から引いた残りの数（補数）になるわけで、「2の補数表現」とも呼ばれる。\n",
    "\n",
    "そして -2 は 11111110、-3 は 11111101 という具合に減っていくのだが、どこかに正負の数の境目を作る必要がある。これを、一番上の桁のビットで表すことになっている。一番最初のビットが 1 なら負数、0 なら正数の扱いというわけだ。\n",
    "\n",
    "よって、8ビット整数の表現範囲は、実際には 10000000 (-128) ～ 01111111 (127) ということになる。\n",
    "\n",
    "ちなみに、これはいわゆる符号付き整数 (signed int) と呼ばれる表現であって、符号なし整数 (unsigned int) と呼ばれる表現もある。これは負数を表すことはできない整数で、8ビット符号なし整数の範囲なら 00000000 (0) ～ 11111111 (255) となる。\n",
    "\n",
    "以上を踏まえると、負数をビット表現に変換した場合は、最初の方のビットが 1 で埋まった表現となる……のだが、Python においては少し勝手が違う。\n",
    "\n",
    "なぜなら、Python の整数は標準で上限が定まっていない（上限が存在しない）からだ。厳密には、内部的な上限は存在はしているのだが、演算結果に応じて動的に上限を変化させる仕組みとなっている。よって、長さが決まっていない以上、正確な負数のビット表現を行えない。実際に負数を ```bin()``` で見てみよう。"
   ]
  },
  {
   "cell_type": "code",
   "execution_count": 7,
   "id": "marked-fabric",
   "metadata": {},
   "outputs": [
    {
     "name": "stdout",
     "output_type": "stream",
     "text": [
      "-0b101010\n"
     ]
    }
   ],
   "source": [
    "print(bin(-42))"
   ]
  },
  {
   "cell_type": "markdown",
   "id": "useful-short",
   "metadata": {},
   "source": [
    "と、このように正数の表現の前に ```-``` がついたような表現となる。ただ、これは上記理由から生じる便宜的なものであって、実際に演算で使用されるビット列は、2の補数表現となる。内部的な表現を、16ビット上限として確認してみると、以下のようになる。"
   ]
  },
  {
   "cell_type": "code",
   "execution_count": 1,
   "id": "colonial-claim",
   "metadata": {},
   "outputs": [
    {
     "name": "stdout",
     "output_type": "stream",
     "text": [
      "0b1111111111010110\n"
     ]
    }
   ],
   "source": [
    "print(bin(0xFFFF & -42))"
   ]
  },
  {
   "cell_type": "markdown",
   "id": "satisfied-concept",
   "metadata": {},
   "source": [
    "この ```0xFFFF``` は 16進数表現で、二進数なら 0b1111111111111111 のことである。  \n",
    "```0xFFFF``` と ```-42``` が二項演算子 ```&``` で演算された結果、共通で 1 を持っている部分だけが取り出される。その結果が、ご覧の表現というわけだ。上位の桁に 1 がずらっと並んでいるのが分かると思う。理屈の上では、この 1 は無限に並んでいる扱いとなるので、上限を定めたときだけ確認できるようになるわけだ。\n",
    "\n",
    "……分かるような分からないような……？\n",
    "ここでは、とりあえず負数も内部的には C / C++ と同じような 2の補数表現を勝手にサイズを合わせて使ってくれている、とだけ理解しておけばOKだ。\n",
    "\n",
    "では、改めてこの ```&``` も含めた、ビット演算の話を始めよう。"
   ]
  },
  {
   "cell_type": "markdown",
   "id": "abandoned-medicine",
   "metadata": {},
   "source": [
    "## ビット演算とは"
   ]
  },
  {
   "cell_type": "markdown",
   "id": "pursuant-welsh",
   "metadata": {},
   "source": [
    "ビット演算とは、ビット列同士の演算のことである。\n",
    "\n",
    "少し上の方で、プログラム上は整数値とビット列とは区別されないと述べた。よって、ビット列をビット列として演算を行う時は、専用の演算子を用いることで、それを示すことになる。\n",
    "\n",
    "ビット演算子は以下の 6種類ある。\n",
    "\n",
    "- ```&``` 論理積 (and)\n",
    "- ```|``` 論理和 (or)\n",
    "- ```^``` 排他的論理和 (xor)\n",
    "- ```~``` 否定 (not)\n",
    "- ```>>``` 右シフト\n",
    "- ```<<``` 左シフト"
   ]
  },
  {
   "cell_type": "markdown",
   "id": "stable-logging",
   "metadata": {},
   "source": [
    "### & (and) 、| (or) 、^ (xor)"
   ]
  },
  {
   "cell_type": "markdown",
   "id": "reflected-brave",
   "metadata": {},
   "source": [
    "最初の三つ、```&``` ```|``` ```^``` については二項演算子なので、実際に動作を確認してみよう。  \n",
    "以下、ビット列 ```0011``` と ```0101``` に対して演算した結果を示すプログラムを実行してみた。"
   ]
  },
  {
   "cell_type": "code",
   "execution_count": 8,
   "id": "affiliated-essence",
   "metadata": {},
   "outputs": [
    {
     "name": "stdout",
     "output_type": "stream",
     "text": [
      "0011 : a\n",
      "0101 : b\n",
      "\n",
      "0001 : a & b (and)\n",
      "0111 : a | b (or)\n",
      "0110 : a ^ b (xor)\n"
     ]
    }
   ],
   "source": [
    "a = 0b0011\n",
    "b = 0b0101\n",
    "# :04b により、二進数 4桁 0埋め で出力\n",
    "print(f'{a:04b} : a')\n",
    "print(f'{b:04b} : b')\n",
    "print()\n",
    "print(f'{a & b:04b} : a & b (and)')\n",
    "print(f'{a | b:04b} : a | b (or)')\n",
    "print(f'{a ^ b:04b} : a ^ b (xor)')"
   ]
  },
  {
   "cell_type": "markdown",
   "id": "adjusted-chile",
   "metadata": {},
   "source": [
    "ビット演算において最も重要なのは、**各桁独立で演算が行われる**ということだ。繰り上がりや繰り下がりなど、隣の桁に影響が及ぶことは無い。  \n",
    "従って、縦方向に見てもらうと、下の桁からそれぞれ (1, 1), (1, 0), (0, 1), (0, 0) の演算となっている。\n",
    "\n",
    "```&``` (and) と ```|``` (or) については、論理演算と同じ動きなので、直感的に分かりやすい。\n",
    "\n",
    "初心者が混乱しがちなのが ```^``` (xor) の動作だ。(1, 0) もしくは (0, 1) の場合のみ、1となる。\n",
    "\n",
    "xor については、1 を xor すると元のビットを反転する、と理解すると分かりやすい。次の例を見てもらいたい。"
   ]
  },
  {
   "cell_type": "code",
   "execution_count": 10,
   "id": "greek-sterling",
   "metadata": {},
   "outputs": [
    {
     "name": "stdout",
     "output_type": "stream",
     "text": [
      "11111111 : a\n",
      "01100110 : b\n",
      "10011001 - a ^ b (xor)\n",
      "\n",
      "00000000 : a\n",
      "01100110 : b\n",
      "01100110 : a ^ b (xor)\n"
     ]
    }
   ],
   "source": [
    "a = 0b11111111\n",
    "b = 0b01100110\n",
    "print(f'{a:08b} : a')\n",
    "print(f'{b:08b} : b')\n",
    "print(f'{a ^ b:08b} - a ^ b (xor)')\n",
    "\n",
    "print()\n",
    "\n",
    "a = 0b00000000\n",
    "b = 0b01100110\n",
    "print(f'{a:08b} : a')\n",
    "print(f'{b:08b} : b')\n",
    "print(f'{a ^ b:08b} : a ^ b (xor)')"
   ]
  },
  {
   "cell_type": "markdown",
   "id": "infrared-niger",
   "metadata": {},
   "source": [
    "と、```b``` においてビットが 1 になっている部分だけが反転しているのが分かると思う。これが xor の演算である。"
   ]
  },
  {
   "cell_type": "markdown",
   "id": "eight-battery",
   "metadata": {},
   "source": [
    "### ~ (not)"
   ]
  },
  {
   "cell_type": "markdown",
   "id": "catholic-revolution",
   "metadata": {},
   "source": [
    "```~``` (not) は単項演算子となっており、対象のビット列の全てのビットを反転する。正の数の場合、本来は上位の桁に 0 が並んでいるわけなので、それも全て 1 になる。ということは……"
   ]
  },
  {
   "cell_type": "code",
   "execution_count": 1,
   "id": "private-shuttle",
   "metadata": {},
   "outputs": [
    {
     "name": "stdout",
     "output_type": "stream",
     "text": [
      "-1\n"
     ]
    }
   ],
   "source": [
    "print(~0)"
   ]
  },
  {
   "cell_type": "markdown",
   "id": "comparative-rendering",
   "metadata": {},
   "source": [
    "0 は 本来は ....0000 と 0 が並び続けるビット列なので、これを反転すると ....1111 と 1 が並び続けるビット列になる。つまり、```-1``` となる。"
   ]
  },
  {
   "cell_type": "code",
   "execution_count": 2,
   "id": "traditional-lodging",
   "metadata": {},
   "outputs": [
    {
     "name": "stdout",
     "output_type": "stream",
     "text": [
      "-6\n",
      "-7\n"
     ]
    }
   ],
   "source": [
    "print(~5)\n",
    "print(~6)"
   ]
  },
  {
   "cell_type": "markdown",
   "id": "accepting-bangladesh",
   "metadata": {},
   "source": [
    "というわけで、このように負数が 2の補数で表現される関係で、0 以上の数 $N$ を ```~``` すると、必ず $-(N+1)$ になる。当然ではあるが、二回 ```~``` すると、反転の反転で元の数に戻る。上記の動作を、上位 8 ビットに限定しつつ確認してみよう。"
   ]
  },
  {
   "cell_type": "code",
   "execution_count": 13,
   "id": "direct-agriculture",
   "metadata": {},
   "outputs": [
    {
     "name": "stdout",
     "output_type": "stream",
     "text": [
      "00000101 : 5\n",
      "11111010 : ~5\n",
      "00000110 : 6\n",
      "11111001 : ~6\n"
     ]
    }
   ],
   "source": [
    "print(f'{5:08b} : 5')\n",
    "print(f'{~5 & 0xFF:08b} : ~5')\n",
    "print(f'{6:08b} : 6')\n",
    "print(f'{~6 & 0xFF:08b} : ~6')"
   ]
  },
  {
   "cell_type": "markdown",
   "id": "educated-universal",
   "metadata": {},
   "source": [
    "全ての桁のビットが反転しているのを、分かりやすく確認できる。"
   ]
  },
  {
   "cell_type": "markdown",
   "id": "unavailable-singapore",
   "metadata": {},
   "source": [
    "### <<（左シフト）、>>（右シフト）"
   ]
  },
  {
   "cell_type": "markdown",
   "id": "distinct-mortgage",
   "metadata": {},
   "source": [
    "```<<``` と ```>>``` は、それぞれ左シフトと右シフトと呼ばれ、ビット列を左、もしくは右方向にずらす働きを持つ。\n",
    "\n",
    "実際の動きをみてみると分かりやすい。"
   ]
  },
  {
   "cell_type": "code",
   "execution_count": 16,
   "id": "conceptual-conditions",
   "metadata": {},
   "outputs": [
    {
     "name": "stdout",
     "output_type": "stream",
     "text": [
      "00011110 : a\n",
      "00111100 : a << 1\n",
      "01111000 : a << 2\n",
      "00001111 : a >> 1\n",
      "00000111 : a >> 1\n"
     ]
    }
   ],
   "source": [
    "a = 0b00011110\n",
    "a_left1 = a << 1\n",
    "a_left2 = a << 2\n",
    "a_right1 = a >> 1\n",
    "a_right2 = a >> 2\n",
    "print(f'{a:08b} : a')\n",
    "print(f'{a_left1:08b} : a << 1')\n",
    "print(f'{a_left2:08b} : a << 2')\n",
    "print(f'{a_right1:08b} : a >> 1')\n",
    "print(f'{a_right2:08b} : a >> 2')"
   ]
  },
  {
   "cell_type": "markdown",
   "id": "adapted-granny",
   "metadata": {},
   "source": [
    "見てのとおり、```変数 >> ずらす桁数``` もしくは ```変数 << ずらす桁数``` で指定する。また、あふれてしまった桁については無視される。\n",
    "\n",
    "勘の良い方は気づいたと思うのだが、実は ```var << 1``` は ```var *= 2``` と等しく、```var >> 1``` は ```var //= 2``` と等しい動作になる。二進数の桁をずらす動作なので、当たり前ではある。"
   ]
  },
  {
   "cell_type": "markdown",
   "id": "smaller-memorial",
   "metadata": {},
   "source": [
    "## ビット演算の例"
   ]
  },
  {
   "cell_type": "markdown",
   "id": "invalid-garbage",
   "metadata": {},
   "source": [
    "ところで、なんでわざわざビット演算とかやるの？と疑問を持った方もいるだろう。\n",
    "\n",
    "答えは単純で、演算が速いからである。なぜ演算が速いのかと言うと、ビット演算はCPUにおける基礎演算だからだ。つまり、今の一般的なPC環境であれば 64ビット分の演算は一命令で即座に行われる。\n",
    "\n",
    "また、必要最低限の情報しか持たないため、メモリ使用量でも無駄が少ない。速くて小さい。いいことづくめである。\n",
    "\n",
    "しかし、行うことのできる演算は限られる。先人たちの苦労により、様々なビット演算のテクニックが生まれてきたが、高度になるにつれ、何をしているかさっぱり分からないなんてのもザラである。"
   ]
  },
  {
   "cell_type": "markdown",
   "id": "recent-buddy",
   "metadata": {},
   "source": [
    "### var & 1"
   ]
  },
  {
   "cell_type": "markdown",
   "id": "professional-suffering",
   "metadata": {},
   "source": [
    "ある変数 ```var``` が偶数か奇数かを判定するときに、```var & 1``` と書かれることがある。\n",
    "\n",
    "奇数なら最下位のビットが 1 なので ```1``` が返り、偶数なら最下位のビットは 0 なので、```0``` が返るという仕組みである。"
   ]
  },
  {
   "cell_type": "code",
   "execution_count": 19,
   "id": "private-spyware",
   "metadata": {},
   "outputs": [
    {
     "name": "stdout",
     "output_type": "stream",
     "text": [
      "42\n",
      "Even\n"
     ]
    }
   ],
   "source": [
    "# 余談に近いが、典型的な、ビット演算を用いた一見意味不明のコード\n",
    "# 偶数を入力すると \"Even\" と出力、奇数を入力すると \"Odd\" と出力する。\n",
    "print([\"Even\", \"Odd\"][int(input()) & 1])"
   ]
  },
  {
   "cell_type": "markdown",
   "id": "republican-reflection",
   "metadata": {},
   "source": [
    "### var >> n & 1 もしくは var & 1 << n"
   ]
  },
  {
   "cell_type": "markdown",
   "id": "identical-cabin",
   "metadata": {},
   "source": [
    "ビット列 ```var``` の下から (n+1) 桁目のビットが 1 かどうかを確認するコード。var を右シフトする流儀と 1 を左シフトする流儀があるが、どちらもすることは同じで、n 桁ずらして比較しているだけだ。\n",
    "\n",
    "```var >> n & 1``` なら ```0``` もしくは ```1``` が、```var & 1 << n``` の書き方なら ```0``` もしくは ```1 << n``` が返ってくることになる。いずれにせよ Falsy / Truthy として使うことができるので、条件式として用いられることが多い。"
   ]
  },
  {
   "cell_type": "code",
   "execution_count": 30,
   "id": "toxic-issue",
   "metadata": {},
   "outputs": [
    {
     "name": "stdout",
     "output_type": "stream",
     "text": [
      "1th bit's value is 0\n",
      "2th bit's value is 1\n",
      "3th bit's value is 0\n",
      "4th bit's value is 1\n",
      "5th bit's value is 1\n",
      "6th bit's value is 0\n",
      "7th bit's value is 1\n",
      "8th bit's value is 0\n"
     ]
    }
   ],
   "source": [
    "# ループで各ビットの状態を確認する\n",
    "var = 0b01011010\n",
    "for i in range(8):  # 判定したいビット列の長さ分ループさせる\n",
    "    if var & 1 << i:\n",
    "        bit_value = 1\n",
    "    else:\n",
    "        bit_value = 0\n",
    "    print(f\"{i+1}th bit's value is {bit_value}\")  # 1th 2th 3th は変だけどとりあえず"
   ]
  },
  {
   "cell_type": "markdown",
   "id": "judicial-spencer",
   "metadata": {},
   "source": [
    "上記演算は、この文書のもう一つの主題、bit全探索でも用いることになる。"
   ]
  },
  {
   "cell_type": "markdown",
   "id": "employed-progressive",
   "metadata": {},
   "source": [
    "### var ^ 1 << n"
   ]
  },
  {
   "cell_type": "markdown",
   "id": "realistic-amplifier",
   "metadata": {},
   "source": [
    "ビット列 ```var``` の下から (n+1) 桁目のビットを反転する。"
   ]
  },
  {
   "cell_type": "markdown",
   "id": "living-phone",
   "metadata": {},
   "source": [
    "### var | 1 << n"
   ]
  },
  {
   "cell_type": "markdown",
   "id": "negative-graph",
   "metadata": {},
   "source": [
    "ビット列 ```var``` の下から (n+1) 桁目のビットを 1 にする。"
   ]
  },
  {
   "cell_type": "markdown",
   "id": "starting-robertson",
   "metadata": {},
   "source": [
    "### var & ~(1 << n)"
   ]
  },
  {
   "cell_type": "markdown",
   "id": "demographic-patio",
   "metadata": {},
   "source": [
    "ビット列 ```var``` の下から (n+1) 桁目のビットを 0 にする。これだけちょっとややこしいが、順を追って考えてもらえば分かると思う。  \n",
    "~(1 << n) は、...11110111 のように一箇所だけ 0 のあるビット列となるので、動作する。"
   ]
  },
  {
   "cell_type": "markdown",
   "id": "based-prerequisite",
   "metadata": {},
   "source": [
    "### cond & var == cond"
   ]
  },
  {
   "cell_type": "markdown",
   "id": "crude-country",
   "metadata": {},
   "source": [
    "あるビット列 ```cond``` において 1 となっているビットが、ビット列 ```var``` においても全て 1 となっているかどうかを判定する。\n",
    "\n",
    "完全一致なら、もちろん ```cond == var``` とすればいいのだが、一種の包含関係にあるかどうかを判定したいときは、一度 ```&``` を取ることで、余分な情報を無視することができる。"
   ]
  },
  {
   "cell_type": "markdown",
   "id": "checked-contribution",
   "metadata": {},
   "source": [
    "### var & -var"
   ]
  },
  {
   "cell_type": "markdown",
   "id": "wrapped-edinburgh",
   "metadata": {},
   "source": [
    "少し変わった演算。まず例を見てもらいたい。"
   ]
  },
  {
   "cell_type": "code",
   "execution_count": 33,
   "id": "worst-murder",
   "metadata": {},
   "outputs": [
    {
     "name": "stdout",
     "output_type": "stream",
     "text": [
      "var:00001100  -var:11110100  var & -var:00000100\n",
      "var:00001101  -var:11110011  var & -var:00000001\n",
      "var:00101010  -var:11010110  var & -var:00000010\n"
     ]
    }
   ],
   "source": [
    "var_list = [12, 13, 42]\n",
    "for var in var_list:\n",
    "    print(f'var:{var:08b}  -var:{-var&0xFF:08b}  var & -var:{var&-var:08b}')\n"
   ]
  },
  {
   "cell_type": "markdown",
   "id": "executed-absence",
   "metadata": {},
   "source": [
    "この演算では、実はビット列の最下位のビットのみが取り出されることになる。```-var``` で得られるビット列が、```~(var-1)``` で得られるビット列と等しくなることが分かれば、理解しやすいかも知れない。\n",
    "\n",
    "これを使い、以下のような感じでビット列を分解することができる。"
   ]
  },
  {
   "cell_type": "code",
   "execution_count": 4,
   "id": "hidden-trigger",
   "metadata": {},
   "outputs": [
    {
     "name": "stdout",
     "output_type": "stream",
     "text": [
      "00000010\n",
      "00000100\n",
      "00010000\n",
      "00100000\n",
      "10000000\n"
     ]
    }
   ],
   "source": [
    "var = 0b10110110\n",
    "\n",
    "while var:\n",
    "    tmp = var & -var\n",
    "    print(f'{tmp:08b}')\n",
    "    var -= tmp"
   ]
  },
  {
   "cell_type": "markdown",
   "id": "identical-decade",
   "metadata": {},
   "source": [
    "定数倍の改善や、フェニック木 (Binary Indexed Tree) の構築の際に用いられる。"
   ]
  },
  {
   "cell_type": "markdown",
   "id": "assumed-yugoslavia",
   "metadata": {},
   "source": [
    "### bit_length()"
   ]
  },
  {
   "cell_type": "markdown",
   "id": "little-acoustic",
   "metadata": {},
   "source": [
    "ビット列の長さについては、```int.bit_length()``` で取得できる。"
   ]
  },
  {
   "cell_type": "code",
   "execution_count": 2,
   "id": "celtic-brave",
   "metadata": {},
   "outputs": [
    {
     "name": "stdout",
     "output_type": "stream",
     "text": [
      "00000000 bit_length(): 0\n",
      "00000001 bit_length(): 1\n",
      "00000010 bit_length(): 2\n",
      "00000011 bit_length(): 2\n",
      "00000100 bit_length(): 3\n",
      "00000101 bit_length(): 3\n",
      "00000110 bit_length(): 3\n",
      "00000111 bit_length(): 3\n",
      "00001000 bit_length(): 4\n",
      "00001001 bit_length(): 4\n"
     ]
    }
   ],
   "source": [
    "for a in range(10):\n",
    "    print(f'{a:08b} bit_length(): {a.bit_length()}')"
   ]
  },
  {
   "cell_type": "markdown",
   "id": "naval-prison",
   "metadata": {},
   "source": [
    "見てのとおり、最初の 1 が現れた以降の長さとなっている。また、負数の場合は符号は無視され、絶対値の長さとなる。"
   ]
  },
  {
   "cell_type": "markdown",
   "id": "satisfactory-marking",
   "metadata": {},
   "source": [
    "### popcount について"
   ]
  },
  {
   "cell_type": "markdown",
   "id": "outdoor-cooking",
   "metadata": {},
   "source": [
    "ビット列中の 1 の個数を数えることがしばしばあり、これを popcount (population count) と呼ぶ。\n",
    "\n",
    "Python 3.10 以降では標準の ```int.bit_count()``` というメソッドが用意された。それ以前の環境では、```bin(int).count('1')``` という、二進数に変換して \"1\" を数えるという単純な方法が使用でき、意外と遅くはない（速くもない）。これより速い方法は、もちろんあるのだが、今回の主題から外れるのでここでは紹介しない。3.10 の対応を待とう。"
   ]
  },
  {
   "cell_type": "markdown",
   "id": "quantitative-florida",
   "metadata": {},
   "source": [
    "# bit全探索"
   ]
  },
  {
   "cell_type": "markdown",
   "id": "exclusive-appearance",
   "metadata": {},
   "source": [
    "## bit全探索とは"
   ]
  },
  {
   "cell_type": "markdown",
   "id": "bridal-graphics",
   "metadata": {},
   "source": [
    "ではお待ちかね、bit全探索について。\n",
    "\n",
    "bit全探索とは、一言でいうと、二値的な状態の組み合わせを全探索する際の、簡単な実装方法である。\n",
    "\n",
    "二値的な状態とは、スイッチが入っている / 入っていない、ある要素間が区切られている / 区切られていない、グループ A になる / グループ B になる、などなど、状態が二種類に区分されることを言う。\n",
    "\n",
    "例えば、スイッチが 10 個並んでおり、それぞれのスイッチは、ON もしくは OFF の二種類しか状態を持っていないとする。  \n",
    "このとき、スイッチの状態の組み合わせは全部で $2^{10} = 1024$ 通りあることになるわけだが、その一通りずつについて何らかの処理を行いたいとする。そういったときには、bit全探索を用いると、比較的簡単に実装できる。\n",
    "\n",
    "逆に言うと、それぞれの状態を列挙するのは、別に必ず bit全探索でなければならないわけではない。単純にBFSなりDFSなり、他のアルゴリズムを用いて、状態を順次作成していくこともできる。ただ、bit全探索のやり方を知っていると、そういった構築アルゴリズムに悩むこともなく、書くのが楽になると、それだけのことではある。\n",
    "\n",
    "ここでは、全組み合わせの列挙をどのように行うかに絞って解説を行う。列挙ができれば、あとはそれを用いて、状況に応じた処理を書けばいいということになるからだ。"
   ]
  },
  {
   "cell_type": "markdown",
   "id": "formal-search",
   "metadata": {},
   "source": [
    "## 他の手法では？"
   ]
  },
  {
   "cell_type": "markdown",
   "id": "dutch-providence",
   "metadata": {},
   "source": [
    "じゃあ、一体どれくらい楽になるの？と思うところだろう。\n",
    "\n",
    "そこで、まずは、先程の例と同じような感じでスイッチが 3つの場合を考えつつ、実際に他の手法で実装してみよう。出力は、スイッチが ON の状態を Truthy な値とし、OFF の状態を Falsy な値として、なんらかの形で全状態を列挙するものとする。\n",
    "\n",
    "BFS とか DFS って何？という人も、安心して欲しい。それが必要なくなるのが bit全探索である。ただここでは、雰囲気だけつかんでもらえばいい。\n",
    "\n",
    "まずは、BFS 的に。"
   ]
  },
  {
   "cell_type": "code",
   "execution_count": 44,
   "id": "extreme-aluminum",
   "metadata": {},
   "outputs": [
    {
     "name": "stdout",
     "output_type": "stream",
     "text": [
      "[[0, 0, 0], [0, 0, 1], [0, 1, 0], [0, 1, 1], [1, 0, 0], [1, 0, 1], [1, 1, 0], [1, 1, 1]]\n"
     ]
    }
   ],
   "source": [
    "N = 3  # 要素数\n",
    "result = [[]]\n",
    "for _ in range(N):\n",
    "    new = []\n",
    "    for now in result:\n",
    "        for nxt in [0, 1]:\n",
    "            new.append(now + [nxt])\n",
    "    result = new\n",
    "print(result)\n"
   ]
  },
  {
   "cell_type": "markdown",
   "id": "major-exclusive",
   "metadata": {},
   "source": [
    "いちいち ```now + [nxt]``` でオブジェクトを作成していくのは効率が悪くないかって？……ごもっとも。  \n",
    "では次に、DFS的に再帰を用いて、リストを使いまわしつつやってみよう。"
   ]
  },
  {
   "cell_type": "code",
   "execution_count": 45,
   "id": "temporal-presence",
   "metadata": {},
   "outputs": [
    {
     "name": "stdout",
     "output_type": "stream",
     "text": [
      "[[0, 0, 0], [0, 0, 1], [0, 1, 0], [0, 1, 1], [1, 0, 0], [1, 0, 1], [1, 1, 0], [1, 1, 1]]\n"
     ]
    }
   ],
   "source": [
    "N = 3\n",
    "result = []\n",
    "\n",
    "def dfs(now):\n",
    "    if len(now) == 3:\n",
    "        result.append(now.copy())  # list.copy() はリストの（浅い）コピーを返す\n",
    "        return\n",
    "    for nxt in [0, 1]:\n",
    "        now.append(nxt)\n",
    "        dfs(now)\n",
    "        now.pop()\n",
    "dfs([])\n",
    "print(result)"
   ]
  },
  {
   "cell_type": "markdown",
   "id": "provincial-chrome",
   "metadata": {},
   "source": [
    "……と、ふたつほど実装をしてみたが、実は Python には比較的簡単に同様の動作をできるライブラリが存在している。それが、```itertools.product()``` だ。"
   ]
  },
  {
   "cell_type": "code",
   "execution_count": 52,
   "id": "convenient-phrase",
   "metadata": {},
   "outputs": [
    {
     "name": "stdout",
     "output_type": "stream",
     "text": [
      "[(0, 0, 0), (0, 0, 1), (0, 1, 0), (0, 1, 1), (1, 0, 0), (1, 0, 1), (1, 1, 0), (1, 1, 1)]\n"
     ]
    }
   ],
   "source": [
    "from itertools import product\n",
    "N = 3\n",
    "result = list(product([0, 1], repeat=N))\n",
    "print(result)"
   ]
  },
  {
   "cell_type": "markdown",
   "id": "normal-investment",
   "metadata": {},
   "source": [
    "```itertools.product()``` は非常に便利な関数で、```itertools.product(*イテラブル)``` で、複数のイテラブルからひとつずつ選んだ全ての組み合わせを出力してくれるイテレータを返してくれる。ちなみに、そのような組み合わせを直積 (product) と呼ぶ。"
   ]
  },
  {
   "cell_type": "code",
   "execution_count": 51,
   "id": "cellular-choir",
   "metadata": {},
   "outputs": [
    {
     "name": "stdout",
     "output_type": "stream",
     "text": [
      "[('a', 'd', 'g'), ('a', 'd', 'h'), ('a', 'e', 'g'), ('a', 'e', 'h'), ('a', 'f', 'g'), ('a', 'f', 'h'), ('b', 'd', 'g'), ('b', 'd', 'h'), ('b', 'e', 'g'), ('b', 'e', 'h'), ('b', 'f', 'g'), ('b', 'f', 'h'), ('c', 'd', 'g'), ('c', 'd', 'h'), ('c', 'e', 'g'), ('c', 'e', 'h'), ('c', 'f', 'g'), ('c', 'f', 'h')]\n"
     ]
    }
   ],
   "source": [
    "print(list(product('abc', 'def', 'gh')))"
   ]
  },
  {
   "cell_type": "markdown",
   "id": "statutory-trigger",
   "metadata": {},
   "source": [
    "また、キーワード引数 ```repeat``` を指定すると、あるイテラブルを複数回用いたものを返してくれる。つまり、```product([0, 1], repeat=3)``` は、```product([0, 1], [0, 1], [0, 1])``` と同じ動作となる。\n",
    "\n",
    "実際のところ、この ```itertools.product``` を知っていれば、無理に bit全探索を使用する必要はない。しかも、二値的な状態でないような、もっと柔軟な組み合わせの作成も自在にできる。とりあえず知っておいて損のない関数である。"
   ]
  },
  {
   "cell_type": "markdown",
   "id": "desperate-union",
   "metadata": {},
   "source": [
    "## bit全探索の手法"
   ]
  },
  {
   "cell_type": "markdown",
   "id": "environmental-masters",
   "metadata": {},
   "source": [
    "とはいえ、二値的なものの組み合わせに限って言えば、bit全探索は実に簡潔である。同様に、状態を全列挙してみよう。"
   ]
  },
  {
   "cell_type": "code",
   "execution_count": 54,
   "id": "hundred-formation",
   "metadata": {},
   "outputs": [
    {
     "name": "stdout",
     "output_type": "stream",
     "text": [
      "[0, 1, 2, 3, 4, 5, 6, 7]\n"
     ]
    }
   ],
   "source": [
    "N = 3\n",
    "result = list(range(1<<N))\n",
    "print(result)"
   ]
  },
  {
   "cell_type": "markdown",
   "id": "charged-cricket",
   "metadata": {},
   "source": [
    "いきなり意味不明になったかのように見えるが、これが bit全探索の本質と言える。\n",
    "\n",
    "もっとも、「ちょっと待って、全然状態の全列挙になってなくない？」と感じるのも当然ではある。0 ～ 7 まで 8つの数字を順番に並べただけだからだ。\n",
    "\n",
    "そこで、もう少し分かりやすく ```result``` の内容を加工してみよう。具体的には、3桁 0埋めの二進数表記にしてみる。"
   ]
  },
  {
   "cell_type": "code",
   "execution_count": 57,
   "id": "aerial-banana",
   "metadata": {},
   "outputs": [
    {
     "name": "stdout",
     "output_type": "stream",
     "text": [
      "['000', '001', '010', '011', '100', '101', '110', '111']\n"
     ]
    }
   ],
   "source": [
    "N = 3\n",
    "result = list(range(1<<N))\n",
    "result = [f'{v:03b}' for v in result]\n",
    "print(result)"
   ]
  },
  {
   "cell_type": "markdown",
   "id": "direct-bracket",
   "metadata": {},
   "source": [
    "このように、0 ～ 7 の数値は、実はビット列として各数字を見た場合、二値的な状態をもつ 3つの要素の組合わせの全列挙となっているのだ。\n",
    "\n",
    "これは二進数の性質を考えてみれば当たり前でもある。3桁未満の二進数を全列挙すれば、それは $0$ ～ $2^3-1$ の数値になるからだ。この仕組みが理解できれば、```range(1<<N)``` の部分も見えてくる。これは 1 を N 桁左シフトするということだから、つまりは ```range(0b1000)``` あるいは ```range(2**3)``` を表しているに過ぎない。取りうる組み合わせ数、と言い換えても同じである。"
   ]
  },
  {
   "cell_type": "markdown",
   "id": "psychological-connection",
   "metadata": {},
   "source": [
    "しかし、である。このビット列から、個々の要素の状態はどのように取り出せばいいのだろうか？\n",
    "\n",
    "そこで、前章で紹介したビット演算を用いることになる。\n",
    "\n",
    "では、すでにビット列に内在している情報を、わざわざリスト化して取り出してみるコードを書いてみよう。"
   ]
  },
  {
   "cell_type": "code",
   "execution_count": 60,
   "id": "devoted-improvement",
   "metadata": {},
   "outputs": [
    {
     "name": "stdout",
     "output_type": "stream",
     "text": [
      "[[0, 0, 0], [1, 0, 0], [0, 1, 0], [1, 1, 0], [0, 0, 1], [1, 0, 1], [0, 1, 1], [1, 1, 1]]\n"
     ]
    }
   ],
   "source": [
    "N = 3\n",
    "\n",
    "result = []\n",
    "for status in range(1<<N):  # status は各状態の組み合わせのビット列となる\n",
    "    tmp = []\n",
    "    for i in range(N):  # 下の桁から順に情報を取り出していく\n",
    "        if status >> i & 1:  # status の下から (i+1) 桁目のビットが 1 かどうか\n",
    "            tmp.append(1)\n",
    "        else:\n",
    "            tmp.append(0)\n",
    "    result.append(tmp)\n",
    "\n",
    "print(result)"
   ]
  },
  {
   "cell_type": "markdown",
   "id": "plastic-atmosphere",
   "metadata": {},
   "source": [
    "ビット列内のループについては、ここでは下の桁から回している（一般的にはそう書くことが多い）ので、それぞれのリストは反転していることに注意してもらいたい。ただ、いずれにしても全組み合わせが列挙されていることに違いはない。\n",
    "\n",
    "実際の問題を解く際には、この**個々のビットを確認するところで、それぞれの場合の具体的な処理を行う**ことになる。\n",
    "\n",
    "余談に近くなるが、ビット演算の章で紹介したような、個々のビットの状態を確認・変更する演算のことを、ビットマスク (bitmask) と呼ぶ。bit全探索のことを、英語では bitmask brute force、あるいは brute force with bitmask と呼ぶのはここから来ている。\n",
    "\n",
    "そういう意味では、情報を取り出す部分こそが bit全探索の肝であるというイメージのネーミングなのだろう。\n",
    "\n",
    "bit全探索の手法に関する説明は、以上となる。あとは、実際の問題で、どのように実装されるのかを確認してみてほしい。上記内容さえ踏まえておけば、そんな簡単な話だったのか……となる、はずだ。"
   ]
  },
  {
   "cell_type": "markdown",
   "id": "valuable-branch",
   "metadata": {},
   "source": [
    "# bit全探索を用いる問題"
   ]
  },
  {
   "cell_type": "markdown",
   "id": "silver-limit",
   "metadata": {},
   "source": [
    "[AtCoder](https://atcoder.jp) では、例えば以下の問題で bit全探索を用いることができる。diff800～1200の問題については、miaoued.net内でちょっとした解説を掲載してあるので、参考にしてみてほしい。\n",
    "\n",
    "- [AtCoder Beginner Contest 045 C - たくさんの数式](https://atcoder.jp/contests/abc045/tasks/arc061_a) - [[miaoued.net内参考解説]](https://miaoued.net/archives/2046)\n",
    "- [AtCoder Beginner Contest 080 C - Shopping Street](https://atcoder.jp/contests/abc080/tasks/abc080_c) - [[miaoued.net内参考解説]](https://miaoued.net/archives/2108)\n",
    "- [AtCoder Beginner Contest 128 C - Switches](https://atcoder.jp/contests/abc128/tasks/abc128_c) - [[miaoued.net内参考解説]](https://miaoued.net/archives/1554)\n",
    "- [AtCoder Beginner Contest 147 C - HonestOrUnkind2](https://atcoder.jp/contests/abc147/tasks/abc147_c) - [[miaoued.net内参考解説]](https://miaoued.net/archives/1916)\n",
    "- [AtCoder Beginner Contest 197 C - ORXOR](https://atcoder.jp/contests/abc197/tasks/abc197_c) - [[miaoued.net内参考解説]](https://miaoued.net/archives/1664)\n",
    "- [AtCoder Regular Contest 114 A - Not coprime](https://atcoder.jp/contests/arc114/tasks/arc114_a)"
   ]
  }
 ],
 "metadata": {
  "kernelspec": {
   "display_name": "Python 3",
   "language": "python",
   "name": "python3"
  },
  "language_info": {
   "codemirror_mode": {
    "name": "ipython",
    "version": 3
   },
   "file_extension": ".py",
   "mimetype": "text/x-python",
   "name": "python",
   "nbconvert_exporter": "python",
   "pygments_lexer": "ipython3",
   "version": "3.9.1"
  },
  "toc": {
   "base_numbering": "0",
   "nav_menu": {},
   "number_sections": true,
   "sideBar": true,
   "skip_h1_title": false,
   "title_cell": "Table of Contents",
   "title_sidebar": "Contents",
   "toc_cell": true,
   "toc_position": {},
   "toc_section_display": true,
   "toc_window_display": true
  }
 },
 "nbformat": 4,
 "nbformat_minor": 5
}
